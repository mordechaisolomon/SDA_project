{
 "cells": [
  {
   "cell_type": "markdown",
   "metadata": {},
   "source": [
    "# Project goal"
   ]
  },
  {
   "cell_type": "markdown",
   "metadata": {},
   "source": [
    " in this analysist we will studdy the 2 pre-paid programs and the customer behavior and try to determind on what program to put more time and money for enlarging the revnaue. we will start with openning the datasets and checking issues on them like missing values or duplicates. then we will marge tables to one that it will be easiwer ti analyze. then we will studdy them and visual them and we will check our hypothesis and make our conclusions. good louck to us."
   ]
  },
  {
   "cell_type": "markdown",
   "metadata": {},
   "source": [
    "#stage 1# "
   ]
  },
  {
   "cell_type": "code",
   "execution_count": 2,
   "metadata": {},
   "outputs": [],
   "source": [
    "import pandas as pd\n",
    "import numpy as np\n",
    "import matplotlib.pyplot as plt\n",
    "import math as math\n",
    "from functools import reduce\n",
    "from scipy import stats as st"
   ]
  },
  {
   "cell_type": "code",
   "execution_count": 3,
   "metadata": {},
   "outputs": [],
   "source": [
    "df_users = pd.read_csv('/datasets/megaline_users.csv')\n",
    "df_plans = pd.read_csv('/datasets/megaline_plans.csv')\n",
    "df_messages = pd.read_csv('/datasets/megaline_messages.csv')\n",
    "df_calls = pd.read_csv('/datasets/megaline_calls.csv')\n",
    "df_internet = pd.read_csv('/datasets/megaline_internet.csv')\n"
   ]
  },
  {
   "cell_type": "markdown",
   "metadata": {},
   "source": [
    "we imported liberies that we can work and downloaded datasets of the project. now  we check the datasets are here to read and work."
   ]
  },
  {
   "cell_type": "markdown",
   "metadata": {},
   "source": [
    "#stage 2#"
   ]
  },
  {
   "cell_type": "code",
   "execution_count": 4,
   "metadata": {},
   "outputs": [
    {
     "data": {
      "text/html": [
       "<div>\n",
       "<style scoped>\n",
       "    .dataframe tbody tr th:only-of-type {\n",
       "        vertical-align: middle;\n",
       "    }\n",
       "\n",
       "    .dataframe tbody tr th {\n",
       "        vertical-align: top;\n",
       "    }\n",
       "\n",
       "    .dataframe thead th {\n",
       "        text-align: right;\n",
       "    }\n",
       "</style>\n",
       "<table border=\"1\" class=\"dataframe\">\n",
       "  <thead>\n",
       "    <tr style=\"text-align: right;\">\n",
       "      <th></th>\n",
       "      <th>user_id</th>\n",
       "      <th>first_name</th>\n",
       "      <th>last_name</th>\n",
       "      <th>age</th>\n",
       "      <th>city</th>\n",
       "      <th>reg_date</th>\n",
       "      <th>plan</th>\n",
       "      <th>churn_date</th>\n",
       "    </tr>\n",
       "  </thead>\n",
       "  <tbody>\n",
       "    <tr>\n",
       "      <td>0</td>\n",
       "      <td>1000</td>\n",
       "      <td>Anamaria</td>\n",
       "      <td>Bauer</td>\n",
       "      <td>45</td>\n",
       "      <td>Atlanta-Sandy Springs-Roswell, GA MSA</td>\n",
       "      <td>2018-12-24</td>\n",
       "      <td>ultimate</td>\n",
       "      <td>NaN</td>\n",
       "    </tr>\n",
       "    <tr>\n",
       "      <td>1</td>\n",
       "      <td>1001</td>\n",
       "      <td>Mickey</td>\n",
       "      <td>Wilkerson</td>\n",
       "      <td>28</td>\n",
       "      <td>Seattle-Tacoma-Bellevue, WA MSA</td>\n",
       "      <td>2018-08-13</td>\n",
       "      <td>surf</td>\n",
       "      <td>NaN</td>\n",
       "    </tr>\n",
       "    <tr>\n",
       "      <td>2</td>\n",
       "      <td>1002</td>\n",
       "      <td>Carlee</td>\n",
       "      <td>Hoffman</td>\n",
       "      <td>36</td>\n",
       "      <td>Las Vegas-Henderson-Paradise, NV MSA</td>\n",
       "      <td>2018-10-21</td>\n",
       "      <td>surf</td>\n",
       "      <td>NaN</td>\n",
       "    </tr>\n",
       "    <tr>\n",
       "      <td>3</td>\n",
       "      <td>1003</td>\n",
       "      <td>Reynaldo</td>\n",
       "      <td>Jenkins</td>\n",
       "      <td>52</td>\n",
       "      <td>Tulsa, OK MSA</td>\n",
       "      <td>2018-01-28</td>\n",
       "      <td>surf</td>\n",
       "      <td>NaN</td>\n",
       "    </tr>\n",
       "    <tr>\n",
       "      <td>4</td>\n",
       "      <td>1004</td>\n",
       "      <td>Leonila</td>\n",
       "      <td>Thompson</td>\n",
       "      <td>40</td>\n",
       "      <td>Seattle-Tacoma-Bellevue, WA MSA</td>\n",
       "      <td>2018-05-23</td>\n",
       "      <td>surf</td>\n",
       "      <td>NaN</td>\n",
       "    </tr>\n",
       "  </tbody>\n",
       "</table>\n",
       "</div>"
      ],
      "text/plain": [
       "   user_id first_name  last_name  age                                   city  \\\n",
       "0     1000   Anamaria      Bauer   45  Atlanta-Sandy Springs-Roswell, GA MSA   \n",
       "1     1001     Mickey  Wilkerson   28        Seattle-Tacoma-Bellevue, WA MSA   \n",
       "2     1002     Carlee    Hoffman   36   Las Vegas-Henderson-Paradise, NV MSA   \n",
       "3     1003   Reynaldo    Jenkins   52                          Tulsa, OK MSA   \n",
       "4     1004    Leonila   Thompson   40        Seattle-Tacoma-Bellevue, WA MSA   \n",
       "\n",
       "     reg_date      plan churn_date  \n",
       "0  2018-12-24  ultimate        NaN  \n",
       "1  2018-08-13      surf        NaN  \n",
       "2  2018-10-21      surf        NaN  \n",
       "3  2018-01-28      surf        NaN  \n",
       "4  2018-05-23      surf        NaN  "
      ]
     },
     "metadata": {},
     "output_type": "display_data"
    }
   ],
   "source": [
    "display(df_users.head())"
   ]
  },
  {
   "cell_type": "code",
   "execution_count": 5,
   "metadata": {},
   "outputs": [
    {
     "data": {
      "text/html": [
       "<div>\n",
       "<style scoped>\n",
       "    .dataframe tbody tr th:only-of-type {\n",
       "        vertical-align: middle;\n",
       "    }\n",
       "\n",
       "    .dataframe tbody tr th {\n",
       "        vertical-align: top;\n",
       "    }\n",
       "\n",
       "    .dataframe thead th {\n",
       "        text-align: right;\n",
       "    }\n",
       "</style>\n",
       "<table border=\"1\" class=\"dataframe\">\n",
       "  <thead>\n",
       "    <tr style=\"text-align: right;\">\n",
       "      <th></th>\n",
       "      <th>id</th>\n",
       "      <th>user_id</th>\n",
       "      <th>call_date</th>\n",
       "      <th>duration</th>\n",
       "    </tr>\n",
       "  </thead>\n",
       "  <tbody>\n",
       "    <tr>\n",
       "      <td>0</td>\n",
       "      <td>1000_93</td>\n",
       "      <td>1000</td>\n",
       "      <td>2018-12-27</td>\n",
       "      <td>8.52</td>\n",
       "    </tr>\n",
       "    <tr>\n",
       "      <td>1</td>\n",
       "      <td>1000_145</td>\n",
       "      <td>1000</td>\n",
       "      <td>2018-12-27</td>\n",
       "      <td>13.66</td>\n",
       "    </tr>\n",
       "    <tr>\n",
       "      <td>2</td>\n",
       "      <td>1000_247</td>\n",
       "      <td>1000</td>\n",
       "      <td>2018-12-27</td>\n",
       "      <td>14.48</td>\n",
       "    </tr>\n",
       "    <tr>\n",
       "      <td>3</td>\n",
       "      <td>1000_309</td>\n",
       "      <td>1000</td>\n",
       "      <td>2018-12-28</td>\n",
       "      <td>5.76</td>\n",
       "    </tr>\n",
       "    <tr>\n",
       "      <td>4</td>\n",
       "      <td>1000_380</td>\n",
       "      <td>1000</td>\n",
       "      <td>2018-12-30</td>\n",
       "      <td>4.22</td>\n",
       "    </tr>\n",
       "  </tbody>\n",
       "</table>\n",
       "</div>"
      ],
      "text/plain": [
       "         id  user_id   call_date  duration\n",
       "0   1000_93     1000  2018-12-27      8.52\n",
       "1  1000_145     1000  2018-12-27     13.66\n",
       "2  1000_247     1000  2018-12-27     14.48\n",
       "3  1000_309     1000  2018-12-28      5.76\n",
       "4  1000_380     1000  2018-12-30      4.22"
      ]
     },
     "metadata": {},
     "output_type": "display_data"
    }
   ],
   "source": [
    "display(df_calls.head())"
   ]
  },
  {
   "cell_type": "code",
   "execution_count": 6,
   "metadata": {},
   "outputs": [
    {
     "data": {
      "text/html": [
       "<div>\n",
       "<style scoped>\n",
       "    .dataframe tbody tr th:only-of-type {\n",
       "        vertical-align: middle;\n",
       "    }\n",
       "\n",
       "    .dataframe tbody tr th {\n",
       "        vertical-align: top;\n",
       "    }\n",
       "\n",
       "    .dataframe thead th {\n",
       "        text-align: right;\n",
       "    }\n",
       "</style>\n",
       "<table border=\"1\" class=\"dataframe\">\n",
       "  <thead>\n",
       "    <tr style=\"text-align: right;\">\n",
       "      <th></th>\n",
       "      <th>id</th>\n",
       "      <th>user_id</th>\n",
       "      <th>message_date</th>\n",
       "    </tr>\n",
       "  </thead>\n",
       "  <tbody>\n",
       "    <tr>\n",
       "      <td>0</td>\n",
       "      <td>1000_125</td>\n",
       "      <td>1000</td>\n",
       "      <td>2018-12-27</td>\n",
       "    </tr>\n",
       "    <tr>\n",
       "      <td>1</td>\n",
       "      <td>1000_160</td>\n",
       "      <td>1000</td>\n",
       "      <td>2018-12-31</td>\n",
       "    </tr>\n",
       "    <tr>\n",
       "      <td>2</td>\n",
       "      <td>1000_223</td>\n",
       "      <td>1000</td>\n",
       "      <td>2018-12-31</td>\n",
       "    </tr>\n",
       "    <tr>\n",
       "      <td>3</td>\n",
       "      <td>1000_251</td>\n",
       "      <td>1000</td>\n",
       "      <td>2018-12-27</td>\n",
       "    </tr>\n",
       "    <tr>\n",
       "      <td>4</td>\n",
       "      <td>1000_255</td>\n",
       "      <td>1000</td>\n",
       "      <td>2018-12-26</td>\n",
       "    </tr>\n",
       "  </tbody>\n",
       "</table>\n",
       "</div>"
      ],
      "text/plain": [
       "         id  user_id message_date\n",
       "0  1000_125     1000   2018-12-27\n",
       "1  1000_160     1000   2018-12-31\n",
       "2  1000_223     1000   2018-12-31\n",
       "3  1000_251     1000   2018-12-27\n",
       "4  1000_255     1000   2018-12-26"
      ]
     },
     "metadata": {},
     "output_type": "display_data"
    }
   ],
   "source": [
    "display(df_messages.head())"
   ]
  },
  {
   "cell_type": "code",
   "execution_count": 7,
   "metadata": {
    "scrolled": true
   },
   "outputs": [
    {
     "data": {
      "text/html": [
       "<div>\n",
       "<style scoped>\n",
       "    .dataframe tbody tr th:only-of-type {\n",
       "        vertical-align: middle;\n",
       "    }\n",
       "\n",
       "    .dataframe tbody tr th {\n",
       "        vertical-align: top;\n",
       "    }\n",
       "\n",
       "    .dataframe thead th {\n",
       "        text-align: right;\n",
       "    }\n",
       "</style>\n",
       "<table border=\"1\" class=\"dataframe\">\n",
       "  <thead>\n",
       "    <tr style=\"text-align: right;\">\n",
       "      <th></th>\n",
       "      <th>messages_included</th>\n",
       "      <th>mb_per_month_included</th>\n",
       "      <th>minutes_included</th>\n",
       "      <th>usd_monthly_pay</th>\n",
       "      <th>usd_per_gb</th>\n",
       "      <th>usd_per_message</th>\n",
       "      <th>usd_per_minute</th>\n",
       "      <th>plan_name</th>\n",
       "    </tr>\n",
       "  </thead>\n",
       "  <tbody>\n",
       "    <tr>\n",
       "      <td>0</td>\n",
       "      <td>50</td>\n",
       "      <td>15360</td>\n",
       "      <td>500</td>\n",
       "      <td>20</td>\n",
       "      <td>10</td>\n",
       "      <td>0.03</td>\n",
       "      <td>0.03</td>\n",
       "      <td>surf</td>\n",
       "    </tr>\n",
       "    <tr>\n",
       "      <td>1</td>\n",
       "      <td>1000</td>\n",
       "      <td>30720</td>\n",
       "      <td>3000</td>\n",
       "      <td>70</td>\n",
       "      <td>7</td>\n",
       "      <td>0.01</td>\n",
       "      <td>0.01</td>\n",
       "      <td>ultimate</td>\n",
       "    </tr>\n",
       "  </tbody>\n",
       "</table>\n",
       "</div>"
      ],
      "text/plain": [
       "   messages_included  mb_per_month_included  minutes_included  \\\n",
       "0                 50                  15360               500   \n",
       "1               1000                  30720              3000   \n",
       "\n",
       "   usd_monthly_pay  usd_per_gb  usd_per_message  usd_per_minute plan_name  \n",
       "0               20          10             0.03            0.03      surf  \n",
       "1               70           7             0.01            0.01  ultimate  "
      ]
     },
     "metadata": {},
     "output_type": "display_data"
    }
   ],
   "source": [
    "display(df_plans.head())"
   ]
  },
  {
   "cell_type": "code",
   "execution_count": 8,
   "metadata": {},
   "outputs": [
    {
     "data": {
      "text/html": [
       "<div>\n",
       "<style scoped>\n",
       "    .dataframe tbody tr th:only-of-type {\n",
       "        vertical-align: middle;\n",
       "    }\n",
       "\n",
       "    .dataframe tbody tr th {\n",
       "        vertical-align: top;\n",
       "    }\n",
       "\n",
       "    .dataframe thead th {\n",
       "        text-align: right;\n",
       "    }\n",
       "</style>\n",
       "<table border=\"1\" class=\"dataframe\">\n",
       "  <thead>\n",
       "    <tr style=\"text-align: right;\">\n",
       "      <th></th>\n",
       "      <th>id</th>\n",
       "      <th>user_id</th>\n",
       "      <th>session_date</th>\n",
       "      <th>mb_used</th>\n",
       "    </tr>\n",
       "  </thead>\n",
       "  <tbody>\n",
       "    <tr>\n",
       "      <td>0</td>\n",
       "      <td>1000_13</td>\n",
       "      <td>1000</td>\n",
       "      <td>2018-12-29</td>\n",
       "      <td>89.86</td>\n",
       "    </tr>\n",
       "    <tr>\n",
       "      <td>1</td>\n",
       "      <td>1000_204</td>\n",
       "      <td>1000</td>\n",
       "      <td>2018-12-31</td>\n",
       "      <td>0.00</td>\n",
       "    </tr>\n",
       "    <tr>\n",
       "      <td>2</td>\n",
       "      <td>1000_379</td>\n",
       "      <td>1000</td>\n",
       "      <td>2018-12-28</td>\n",
       "      <td>660.40</td>\n",
       "    </tr>\n",
       "    <tr>\n",
       "      <td>3</td>\n",
       "      <td>1000_413</td>\n",
       "      <td>1000</td>\n",
       "      <td>2018-12-26</td>\n",
       "      <td>270.99</td>\n",
       "    </tr>\n",
       "    <tr>\n",
       "      <td>4</td>\n",
       "      <td>1000_442</td>\n",
       "      <td>1000</td>\n",
       "      <td>2018-12-27</td>\n",
       "      <td>880.22</td>\n",
       "    </tr>\n",
       "  </tbody>\n",
       "</table>\n",
       "</div>"
      ],
      "text/plain": [
       "         id  user_id session_date  mb_used\n",
       "0   1000_13     1000   2018-12-29    89.86\n",
       "1  1000_204     1000   2018-12-31     0.00\n",
       "2  1000_379     1000   2018-12-28   660.40\n",
       "3  1000_413     1000   2018-12-26   270.99\n",
       "4  1000_442     1000   2018-12-27   880.22"
      ]
     },
     "metadata": {},
     "output_type": "display_data"
    }
   ],
   "source": [
    "display(df_internet.head())"
   ]
  },
  {
   "cell_type": "markdown",
   "metadata": {},
   "source": [
    "now we will learn and work on every table separately"
   ]
  },
  {
   "cell_type": "markdown",
   "metadata": {},
   "source": [
    "## table 1 - plans"
   ]
  },
  {
   "cell_type": "code",
   "execution_count": 9,
   "metadata": {},
   "outputs": [
    {
     "name": "stdout",
     "output_type": "stream",
     "text": [
      "<class 'pandas.core.frame.DataFrame'>\n",
      "RangeIndex: 2 entries, 0 to 1\n",
      "Data columns (total 8 columns):\n",
      "messages_included        2 non-null int64\n",
      "mb_per_month_included    2 non-null int64\n",
      "minutes_included         2 non-null int64\n",
      "usd_monthly_pay          2 non-null int64\n",
      "usd_per_gb               2 non-null int64\n",
      "usd_per_message          2 non-null float64\n",
      "usd_per_minute           2 non-null float64\n",
      "plan_name                2 non-null object\n",
      "dtypes: float64(2), int64(5), object(1)\n",
      "memory usage: 256.0+ bytes\n"
     ]
    }
   ],
   "source": [
    "df_plans.info()"
   ]
  },
  {
   "cell_type": "code",
   "execution_count": 10,
   "metadata": {},
   "outputs": [
    {
     "data": {
      "text/html": [
       "<div>\n",
       "<style scoped>\n",
       "    .dataframe tbody tr th:only-of-type {\n",
       "        vertical-align: middle;\n",
       "    }\n",
       "\n",
       "    .dataframe tbody tr th {\n",
       "        vertical-align: top;\n",
       "    }\n",
       "\n",
       "    .dataframe thead th {\n",
       "        text-align: right;\n",
       "    }\n",
       "</style>\n",
       "<table border=\"1\" class=\"dataframe\">\n",
       "  <thead>\n",
       "    <tr style=\"text-align: right;\">\n",
       "      <th></th>\n",
       "      <th>messages_included</th>\n",
       "      <th>mb_per_month_included</th>\n",
       "      <th>minutes_included</th>\n",
       "      <th>usd_monthly_pay</th>\n",
       "      <th>usd_per_gb</th>\n",
       "      <th>usd_per_message</th>\n",
       "      <th>usd_per_minute</th>\n",
       "    </tr>\n",
       "  </thead>\n",
       "  <tbody>\n",
       "    <tr>\n",
       "      <td>count</td>\n",
       "      <td>2.000000</td>\n",
       "      <td>2.000000</td>\n",
       "      <td>2.000000</td>\n",
       "      <td>2.000000</td>\n",
       "      <td>2.00000</td>\n",
       "      <td>2.000000</td>\n",
       "      <td>2.000000</td>\n",
       "    </tr>\n",
       "    <tr>\n",
       "      <td>mean</td>\n",
       "      <td>525.000000</td>\n",
       "      <td>23040.000000</td>\n",
       "      <td>1750.000000</td>\n",
       "      <td>45.000000</td>\n",
       "      <td>8.50000</td>\n",
       "      <td>0.020000</td>\n",
       "      <td>0.020000</td>\n",
       "    </tr>\n",
       "    <tr>\n",
       "      <td>std</td>\n",
       "      <td>671.751442</td>\n",
       "      <td>10861.160159</td>\n",
       "      <td>1767.766953</td>\n",
       "      <td>35.355339</td>\n",
       "      <td>2.12132</td>\n",
       "      <td>0.014142</td>\n",
       "      <td>0.014142</td>\n",
       "    </tr>\n",
       "    <tr>\n",
       "      <td>min</td>\n",
       "      <td>50.000000</td>\n",
       "      <td>15360.000000</td>\n",
       "      <td>500.000000</td>\n",
       "      <td>20.000000</td>\n",
       "      <td>7.00000</td>\n",
       "      <td>0.010000</td>\n",
       "      <td>0.010000</td>\n",
       "    </tr>\n",
       "    <tr>\n",
       "      <td>25%</td>\n",
       "      <td>287.500000</td>\n",
       "      <td>19200.000000</td>\n",
       "      <td>1125.000000</td>\n",
       "      <td>32.500000</td>\n",
       "      <td>7.75000</td>\n",
       "      <td>0.015000</td>\n",
       "      <td>0.015000</td>\n",
       "    </tr>\n",
       "    <tr>\n",
       "      <td>50%</td>\n",
       "      <td>525.000000</td>\n",
       "      <td>23040.000000</td>\n",
       "      <td>1750.000000</td>\n",
       "      <td>45.000000</td>\n",
       "      <td>8.50000</td>\n",
       "      <td>0.020000</td>\n",
       "      <td>0.020000</td>\n",
       "    </tr>\n",
       "    <tr>\n",
       "      <td>75%</td>\n",
       "      <td>762.500000</td>\n",
       "      <td>26880.000000</td>\n",
       "      <td>2375.000000</td>\n",
       "      <td>57.500000</td>\n",
       "      <td>9.25000</td>\n",
       "      <td>0.025000</td>\n",
       "      <td>0.025000</td>\n",
       "    </tr>\n",
       "    <tr>\n",
       "      <td>max</td>\n",
       "      <td>1000.000000</td>\n",
       "      <td>30720.000000</td>\n",
       "      <td>3000.000000</td>\n",
       "      <td>70.000000</td>\n",
       "      <td>10.00000</td>\n",
       "      <td>0.030000</td>\n",
       "      <td>0.030000</td>\n",
       "    </tr>\n",
       "  </tbody>\n",
       "</table>\n",
       "</div>"
      ],
      "text/plain": [
       "       messages_included  mb_per_month_included  minutes_included  \\\n",
       "count           2.000000               2.000000          2.000000   \n",
       "mean          525.000000           23040.000000       1750.000000   \n",
       "std           671.751442           10861.160159       1767.766953   \n",
       "min            50.000000           15360.000000        500.000000   \n",
       "25%           287.500000           19200.000000       1125.000000   \n",
       "50%           525.000000           23040.000000       1750.000000   \n",
       "75%           762.500000           26880.000000       2375.000000   \n",
       "max          1000.000000           30720.000000       3000.000000   \n",
       "\n",
       "       usd_monthly_pay  usd_per_gb  usd_per_message  usd_per_minute  \n",
       "count         2.000000     2.00000         2.000000        2.000000  \n",
       "mean         45.000000     8.50000         0.020000        0.020000  \n",
       "std          35.355339     2.12132         0.014142        0.014142  \n",
       "min          20.000000     7.00000         0.010000        0.010000  \n",
       "25%          32.500000     7.75000         0.015000        0.015000  \n",
       "50%          45.000000     8.50000         0.020000        0.020000  \n",
       "75%          57.500000     9.25000         0.025000        0.025000  \n",
       "max          70.000000    10.00000         0.030000        0.030000  "
      ]
     },
     "execution_count": 10,
     "metadata": {},
     "output_type": "execute_result"
    }
   ],
   "source": [
    "df_plans.describe()"
   ]
  },
  {
   "cell_type": "code",
   "execution_count": 11,
   "metadata": {},
   "outputs": [
    {
     "data": {
      "text/html": [
       "<div>\n",
       "<style scoped>\n",
       "    .dataframe tbody tr th:only-of-type {\n",
       "        vertical-align: middle;\n",
       "    }\n",
       "\n",
       "    .dataframe tbody tr th {\n",
       "        vertical-align: top;\n",
       "    }\n",
       "\n",
       "    .dataframe thead th {\n",
       "        text-align: right;\n",
       "    }\n",
       "</style>\n",
       "<table border=\"1\" class=\"dataframe\">\n",
       "  <thead>\n",
       "    <tr style=\"text-align: right;\">\n",
       "      <th></th>\n",
       "      <th>messages_included</th>\n",
       "      <th>mb_per_month_included</th>\n",
       "      <th>minutes_included</th>\n",
       "      <th>usd_monthly_pay</th>\n",
       "      <th>usd_per_gb</th>\n",
       "      <th>usd_per_message</th>\n",
       "      <th>usd_per_minute</th>\n",
       "      <th>plan_name</th>\n",
       "    </tr>\n",
       "  </thead>\n",
       "  <tbody>\n",
       "    <tr>\n",
       "      <td>0</td>\n",
       "      <td>False</td>\n",
       "      <td>False</td>\n",
       "      <td>False</td>\n",
       "      <td>False</td>\n",
       "      <td>False</td>\n",
       "      <td>False</td>\n",
       "      <td>False</td>\n",
       "      <td>False</td>\n",
       "    </tr>\n",
       "    <tr>\n",
       "      <td>1</td>\n",
       "      <td>False</td>\n",
       "      <td>False</td>\n",
       "      <td>False</td>\n",
       "      <td>False</td>\n",
       "      <td>False</td>\n",
       "      <td>False</td>\n",
       "      <td>False</td>\n",
       "      <td>False</td>\n",
       "    </tr>\n",
       "  </tbody>\n",
       "</table>\n",
       "</div>"
      ],
      "text/plain": [
       "   messages_included  mb_per_month_included  minutes_included  \\\n",
       "0              False                  False             False   \n",
       "1              False                  False             False   \n",
       "\n",
       "   usd_monthly_pay  usd_per_gb  usd_per_message  usd_per_minute  plan_name  \n",
       "0            False       False            False           False      False  \n",
       "1            False       False            False           False      False  "
      ]
     },
     "execution_count": 11,
     "metadata": {},
     "output_type": "execute_result"
    }
   ],
   "source": [
    "df_plans.isnull()"
   ]
  },
  {
   "cell_type": "markdown",
   "metadata": {},
   "source": [
    "this firsrt table of plans looks fine and clean"
   ]
  },
  {
   "cell_type": "markdown",
   "metadata": {},
   "source": [
    "## table 2- users"
   ]
  },
  {
   "cell_type": "code",
   "execution_count": 12,
   "metadata": {},
   "outputs": [
    {
     "name": "stdout",
     "output_type": "stream",
     "text": [
      "<class 'pandas.core.frame.DataFrame'>\n",
      "RangeIndex: 500 entries, 0 to 499\n",
      "Data columns (total 8 columns):\n",
      "user_id       500 non-null int64\n",
      "first_name    500 non-null object\n",
      "last_name     500 non-null object\n",
      "age           500 non-null int64\n",
      "city          500 non-null object\n",
      "reg_date      500 non-null object\n",
      "plan          500 non-null object\n",
      "churn_date    34 non-null object\n",
      "dtypes: int64(2), object(6)\n",
      "memory usage: 31.4+ KB\n"
     ]
    }
   ],
   "source": [
    "df_users.info()"
   ]
  },
  {
   "cell_type": "markdown",
   "metadata": {},
   "source": [
    "we see a lot of missing entries in churn_date and that churn_date and reg_date are objects insted of dates"
   ]
  },
  {
   "cell_type": "code",
   "execution_count": 13,
   "metadata": {},
   "outputs": [
    {
     "data": {
      "text/html": [
       "<div>\n",
       "<style scoped>\n",
       "    .dataframe tbody tr th:only-of-type {\n",
       "        vertical-align: middle;\n",
       "    }\n",
       "\n",
       "    .dataframe tbody tr th {\n",
       "        vertical-align: top;\n",
       "    }\n",
       "\n",
       "    .dataframe thead th {\n",
       "        text-align: right;\n",
       "    }\n",
       "</style>\n",
       "<table border=\"1\" class=\"dataframe\">\n",
       "  <thead>\n",
       "    <tr style=\"text-align: right;\">\n",
       "      <th></th>\n",
       "      <th>user_id</th>\n",
       "      <th>age</th>\n",
       "    </tr>\n",
       "  </thead>\n",
       "  <tbody>\n",
       "    <tr>\n",
       "      <td>count</td>\n",
       "      <td>500.000000</td>\n",
       "      <td>500.000000</td>\n",
       "    </tr>\n",
       "    <tr>\n",
       "      <td>mean</td>\n",
       "      <td>1249.500000</td>\n",
       "      <td>45.486000</td>\n",
       "    </tr>\n",
       "    <tr>\n",
       "      <td>std</td>\n",
       "      <td>144.481833</td>\n",
       "      <td>16.972269</td>\n",
       "    </tr>\n",
       "    <tr>\n",
       "      <td>min</td>\n",
       "      <td>1000.000000</td>\n",
       "      <td>18.000000</td>\n",
       "    </tr>\n",
       "    <tr>\n",
       "      <td>25%</td>\n",
       "      <td>1124.750000</td>\n",
       "      <td>30.000000</td>\n",
       "    </tr>\n",
       "    <tr>\n",
       "      <td>50%</td>\n",
       "      <td>1249.500000</td>\n",
       "      <td>46.000000</td>\n",
       "    </tr>\n",
       "    <tr>\n",
       "      <td>75%</td>\n",
       "      <td>1374.250000</td>\n",
       "      <td>61.000000</td>\n",
       "    </tr>\n",
       "    <tr>\n",
       "      <td>max</td>\n",
       "      <td>1499.000000</td>\n",
       "      <td>75.000000</td>\n",
       "    </tr>\n",
       "  </tbody>\n",
       "</table>\n",
       "</div>"
      ],
      "text/plain": [
       "           user_id         age\n",
       "count   500.000000  500.000000\n",
       "mean   1249.500000   45.486000\n",
       "std     144.481833   16.972269\n",
       "min    1000.000000   18.000000\n",
       "25%    1124.750000   30.000000\n",
       "50%    1249.500000   46.000000\n",
       "75%    1374.250000   61.000000\n",
       "max    1499.000000   75.000000"
      ]
     },
     "execution_count": 13,
     "metadata": {},
     "output_type": "execute_result"
    }
   ],
   "source": [
    "df_users.describe()"
   ]
  },
  {
   "cell_type": "code",
   "execution_count": 14,
   "metadata": {},
   "outputs": [
    {
     "data": {
      "text/plain": [
       "user_id         0\n",
       "first_name      0\n",
       "last_name       0\n",
       "age             0\n",
       "city            0\n",
       "reg_date        0\n",
       "plan            0\n",
       "churn_date    466\n",
       "dtype: int64"
      ]
     },
     "execution_count": 14,
     "metadata": {},
     "output_type": "execute_result"
    }
   ],
   "source": [
    "df_users.isnull().sum()"
   ]
  },
  {
   "cell_type": "markdown",
   "metadata": {},
   "source": [
    "from looking and learnning the tables data we can see a few issus. the churn_date has 466 out of 500 nan's. reg_date and churn_date are objects and need to be changed to date."
   ]
  },
  {
   "cell_type": "code",
   "execution_count": 15,
   "metadata": {},
   "outputs": [
    {
     "data": {
      "text/plain": [
       "0      False\n",
       "1      False\n",
       "2      False\n",
       "3      False\n",
       "4      False\n",
       "       ...  \n",
       "495    False\n",
       "496    False\n",
       "497    False\n",
       "498    False\n",
       "499    False\n",
       "Length: 500, dtype: bool"
      ]
     },
     "execution_count": 15,
     "metadata": {},
     "output_type": "execute_result"
    }
   ],
   "source": [
    "df_users.duplicated(keep=False)"
   ]
  },
  {
   "cell_type": "code",
   "execution_count": 16,
   "metadata": {},
   "outputs": [],
   "source": [
    "df_users['first_name']= df_users['first_name'].str.lower()\n",
    "df_users['last_name'] = df_users['last_name'].str.lower()\n",
    "df_users['city'] = df_users['city'].str.lower()\n",
    "df_users['plan'] = df_users['plan'].str.lower()"
   ]
  },
  {
   "cell_type": "code",
   "execution_count": 17,
   "metadata": {},
   "outputs": [
    {
     "data": {
      "text/plain": [
       "0"
      ]
     },
     "execution_count": 17,
     "metadata": {},
     "output_type": "execute_result"
    }
   ],
   "source": [
    "df_users.duplicated().sum()"
   ]
  },
  {
   "cell_type": "markdown",
   "metadata": {},
   "source": [
    "we see that there are no duplication issues"
   ]
  },
  {
   "cell_type": "code",
   "execution_count": 18,
   "metadata": {},
   "outputs": [
    {
     "data": {
      "text/html": [
       "<div>\n",
       "<style scoped>\n",
       "    .dataframe tbody tr th:only-of-type {\n",
       "        vertical-align: middle;\n",
       "    }\n",
       "\n",
       "    .dataframe tbody tr th {\n",
       "        vertical-align: top;\n",
       "    }\n",
       "\n",
       "    .dataframe thead th {\n",
       "        text-align: right;\n",
       "    }\n",
       "</style>\n",
       "<table border=\"1\" class=\"dataframe\">\n",
       "  <thead>\n",
       "    <tr style=\"text-align: right;\">\n",
       "      <th></th>\n",
       "      <th>user_id</th>\n",
       "      <th>first_name</th>\n",
       "      <th>last_name</th>\n",
       "      <th>age</th>\n",
       "      <th>city</th>\n",
       "      <th>reg_date</th>\n",
       "      <th>plan</th>\n",
       "      <th>churn_date</th>\n",
       "    </tr>\n",
       "  </thead>\n",
       "  <tbody>\n",
       "    <tr>\n",
       "      <td>0</td>\n",
       "      <td>1000</td>\n",
       "      <td>anamaria</td>\n",
       "      <td>bauer</td>\n",
       "      <td>45</td>\n",
       "      <td>atlanta-sandy springs-roswell, ga msa</td>\n",
       "      <td>2018-12-24</td>\n",
       "      <td>ultimate</td>\n",
       "      <td>NaN</td>\n",
       "    </tr>\n",
       "    <tr>\n",
       "      <td>1</td>\n",
       "      <td>1001</td>\n",
       "      <td>mickey</td>\n",
       "      <td>wilkerson</td>\n",
       "      <td>28</td>\n",
       "      <td>seattle-tacoma-bellevue, wa msa</td>\n",
       "      <td>2018-08-13</td>\n",
       "      <td>surf</td>\n",
       "      <td>NaN</td>\n",
       "    </tr>\n",
       "    <tr>\n",
       "      <td>2</td>\n",
       "      <td>1002</td>\n",
       "      <td>carlee</td>\n",
       "      <td>hoffman</td>\n",
       "      <td>36</td>\n",
       "      <td>las vegas-henderson-paradise, nv msa</td>\n",
       "      <td>2018-10-21</td>\n",
       "      <td>surf</td>\n",
       "      <td>NaN</td>\n",
       "    </tr>\n",
       "    <tr>\n",
       "      <td>3</td>\n",
       "      <td>1003</td>\n",
       "      <td>reynaldo</td>\n",
       "      <td>jenkins</td>\n",
       "      <td>52</td>\n",
       "      <td>tulsa, ok msa</td>\n",
       "      <td>2018-01-28</td>\n",
       "      <td>surf</td>\n",
       "      <td>NaN</td>\n",
       "    </tr>\n",
       "    <tr>\n",
       "      <td>4</td>\n",
       "      <td>1004</td>\n",
       "      <td>leonila</td>\n",
       "      <td>thompson</td>\n",
       "      <td>40</td>\n",
       "      <td>seattle-tacoma-bellevue, wa msa</td>\n",
       "      <td>2018-05-23</td>\n",
       "      <td>surf</td>\n",
       "      <td>NaN</td>\n",
       "    </tr>\n",
       "    <tr>\n",
       "      <td>5</td>\n",
       "      <td>1005</td>\n",
       "      <td>livia</td>\n",
       "      <td>shields</td>\n",
       "      <td>31</td>\n",
       "      <td>dallas-fort worth-arlington, tx msa</td>\n",
       "      <td>2018-11-29</td>\n",
       "      <td>surf</td>\n",
       "      <td>NaN</td>\n",
       "    </tr>\n",
       "    <tr>\n",
       "      <td>6</td>\n",
       "      <td>1006</td>\n",
       "      <td>jesusa</td>\n",
       "      <td>bradford</td>\n",
       "      <td>73</td>\n",
       "      <td>san francisco-oakland-berkeley, ca msa</td>\n",
       "      <td>2018-11-27</td>\n",
       "      <td>ultimate</td>\n",
       "      <td>2018-12-18</td>\n",
       "    </tr>\n",
       "    <tr>\n",
       "      <td>7</td>\n",
       "      <td>1007</td>\n",
       "      <td>eusebio</td>\n",
       "      <td>welch</td>\n",
       "      <td>42</td>\n",
       "      <td>grand rapids-kentwood, mi msa</td>\n",
       "      <td>2018-07-11</td>\n",
       "      <td>surf</td>\n",
       "      <td>NaN</td>\n",
       "    </tr>\n",
       "    <tr>\n",
       "      <td>8</td>\n",
       "      <td>1008</td>\n",
       "      <td>emely</td>\n",
       "      <td>hoffman</td>\n",
       "      <td>53</td>\n",
       "      <td>orlando-kissimmee-sanford, fl msa</td>\n",
       "      <td>2018-08-03</td>\n",
       "      <td>ultimate</td>\n",
       "      <td>NaN</td>\n",
       "    </tr>\n",
       "    <tr>\n",
       "      <td>9</td>\n",
       "      <td>1009</td>\n",
       "      <td>gerry</td>\n",
       "      <td>little</td>\n",
       "      <td>19</td>\n",
       "      <td>san jose-sunnyvale-santa clara, ca msa</td>\n",
       "      <td>2018-04-22</td>\n",
       "      <td>surf</td>\n",
       "      <td>NaN</td>\n",
       "    </tr>\n",
       "    <tr>\n",
       "      <td>10</td>\n",
       "      <td>1010</td>\n",
       "      <td>wilber</td>\n",
       "      <td>blair</td>\n",
       "      <td>52</td>\n",
       "      <td>dallas-fort worth-arlington, tx msa</td>\n",
       "      <td>2018-03-09</td>\n",
       "      <td>surf</td>\n",
       "      <td>NaN</td>\n",
       "    </tr>\n",
       "    <tr>\n",
       "      <td>11</td>\n",
       "      <td>1011</td>\n",
       "      <td>halina</td>\n",
       "      <td>henry</td>\n",
       "      <td>73</td>\n",
       "      <td>cleveland-elyria, oh msa</td>\n",
       "      <td>2018-01-18</td>\n",
       "      <td>ultimate</td>\n",
       "      <td>NaN</td>\n",
       "    </tr>\n",
       "    <tr>\n",
       "      <td>12</td>\n",
       "      <td>1012</td>\n",
       "      <td>jonelle</td>\n",
       "      <td>mcbride</td>\n",
       "      <td>59</td>\n",
       "      <td>chicago-naperville-elgin, il-in-wi msa</td>\n",
       "      <td>2018-06-28</td>\n",
       "      <td>surf</td>\n",
       "      <td>2018-11-16</td>\n",
       "    </tr>\n",
       "    <tr>\n",
       "      <td>13</td>\n",
       "      <td>1013</td>\n",
       "      <td>nicolas</td>\n",
       "      <td>snider</td>\n",
       "      <td>50</td>\n",
       "      <td>knoxville, tn msa</td>\n",
       "      <td>2018-12-01</td>\n",
       "      <td>ultimate</td>\n",
       "      <td>NaN</td>\n",
       "    </tr>\n",
       "    <tr>\n",
       "      <td>14</td>\n",
       "      <td>1014</td>\n",
       "      <td>edmundo</td>\n",
       "      <td>simon</td>\n",
       "      <td>61</td>\n",
       "      <td>new york-newark-jersey city, ny-nj-pa msa</td>\n",
       "      <td>2018-11-25</td>\n",
       "      <td>surf</td>\n",
       "      <td>NaN</td>\n",
       "    </tr>\n",
       "    <tr>\n",
       "      <td>15</td>\n",
       "      <td>1015</td>\n",
       "      <td>beata</td>\n",
       "      <td>carpenter</td>\n",
       "      <td>26</td>\n",
       "      <td>pittsburgh, pa msa</td>\n",
       "      <td>2018-12-05</td>\n",
       "      <td>surf</td>\n",
       "      <td>NaN</td>\n",
       "    </tr>\n",
       "    <tr>\n",
       "      <td>16</td>\n",
       "      <td>1016</td>\n",
       "      <td>jann</td>\n",
       "      <td>salinas</td>\n",
       "      <td>30</td>\n",
       "      <td>fresno, ca msa</td>\n",
       "      <td>2018-10-25</td>\n",
       "      <td>surf</td>\n",
       "      <td>NaN</td>\n",
       "    </tr>\n",
       "    <tr>\n",
       "      <td>17</td>\n",
       "      <td>1017</td>\n",
       "      <td>boris</td>\n",
       "      <td>gates</td>\n",
       "      <td>61</td>\n",
       "      <td>washington-arlington-alexandria, dc-va-md-wv msa</td>\n",
       "      <td>2018-08-26</td>\n",
       "      <td>surf</td>\n",
       "      <td>NaN</td>\n",
       "    </tr>\n",
       "    <tr>\n",
       "      <td>18</td>\n",
       "      <td>1018</td>\n",
       "      <td>dennis</td>\n",
       "      <td>grimes</td>\n",
       "      <td>70</td>\n",
       "      <td>indianapolis-carmel-anderson, in msa</td>\n",
       "      <td>2018-10-17</td>\n",
       "      <td>surf</td>\n",
       "      <td>NaN</td>\n",
       "    </tr>\n",
       "    <tr>\n",
       "      <td>19</td>\n",
       "      <td>1019</td>\n",
       "      <td>shizue</td>\n",
       "      <td>landry</td>\n",
       "      <td>34</td>\n",
       "      <td>jacksonville, fl msa</td>\n",
       "      <td>2018-01-16</td>\n",
       "      <td>surf</td>\n",
       "      <td>NaN</td>\n",
       "    </tr>\n",
       "    <tr>\n",
       "      <td>20</td>\n",
       "      <td>1020</td>\n",
       "      <td>rutha</td>\n",
       "      <td>bell</td>\n",
       "      <td>56</td>\n",
       "      <td>dallas-fort worth-arlington, tx msa</td>\n",
       "      <td>2018-11-08</td>\n",
       "      <td>surf</td>\n",
       "      <td>NaN</td>\n",
       "    </tr>\n",
       "    <tr>\n",
       "      <td>21</td>\n",
       "      <td>1021</td>\n",
       "      <td>ricarda</td>\n",
       "      <td>booker</td>\n",
       "      <td>37</td>\n",
       "      <td>los angeles-long beach-anaheim, ca msa</td>\n",
       "      <td>2018-12-21</td>\n",
       "      <td>surf</td>\n",
       "      <td>NaN</td>\n",
       "    </tr>\n",
       "    <tr>\n",
       "      <td>22</td>\n",
       "      <td>1022</td>\n",
       "      <td>bo</td>\n",
       "      <td>snow</td>\n",
       "      <td>73</td>\n",
       "      <td>new york-newark-jersey city, ny-nj-pa msa</td>\n",
       "      <td>2018-04-20</td>\n",
       "      <td>surf</td>\n",
       "      <td>2018-09-07</td>\n",
       "    </tr>\n",
       "    <tr>\n",
       "      <td>23</td>\n",
       "      <td>1023</td>\n",
       "      <td>jack</td>\n",
       "      <td>delaney</td>\n",
       "      <td>70</td>\n",
       "      <td>omaha-council bluffs, ne-ia msa</td>\n",
       "      <td>2018-07-06</td>\n",
       "      <td>surf</td>\n",
       "      <td>NaN</td>\n",
       "    </tr>\n",
       "    <tr>\n",
       "      <td>24</td>\n",
       "      <td>1024</td>\n",
       "      <td>yuki</td>\n",
       "      <td>tyson</td>\n",
       "      <td>74</td>\n",
       "      <td>new york-newark-jersey city, ny-nj-pa msa</td>\n",
       "      <td>2018-08-21</td>\n",
       "      <td>surf</td>\n",
       "      <td>NaN</td>\n",
       "    </tr>\n",
       "  </tbody>\n",
       "</table>\n",
       "</div>"
      ],
      "text/plain": [
       "    user_id first_name  last_name  age  \\\n",
       "0      1000   anamaria      bauer   45   \n",
       "1      1001     mickey  wilkerson   28   \n",
       "2      1002     carlee    hoffman   36   \n",
       "3      1003   reynaldo    jenkins   52   \n",
       "4      1004    leonila   thompson   40   \n",
       "5      1005      livia    shields   31   \n",
       "6      1006     jesusa   bradford   73   \n",
       "7      1007    eusebio      welch   42   \n",
       "8      1008      emely    hoffman   53   \n",
       "9      1009      gerry     little   19   \n",
       "10     1010     wilber      blair   52   \n",
       "11     1011     halina      henry   73   \n",
       "12     1012    jonelle    mcbride   59   \n",
       "13     1013    nicolas     snider   50   \n",
       "14     1014    edmundo      simon   61   \n",
       "15     1015      beata  carpenter   26   \n",
       "16     1016       jann    salinas   30   \n",
       "17     1017      boris      gates   61   \n",
       "18     1018     dennis     grimes   70   \n",
       "19     1019     shizue     landry   34   \n",
       "20     1020      rutha       bell   56   \n",
       "21     1021    ricarda     booker   37   \n",
       "22     1022         bo       snow   73   \n",
       "23     1023       jack    delaney   70   \n",
       "24     1024       yuki      tyson   74   \n",
       "\n",
       "                                                city    reg_date      plan  \\\n",
       "0              atlanta-sandy springs-roswell, ga msa  2018-12-24  ultimate   \n",
       "1                    seattle-tacoma-bellevue, wa msa  2018-08-13      surf   \n",
       "2               las vegas-henderson-paradise, nv msa  2018-10-21      surf   \n",
       "3                                      tulsa, ok msa  2018-01-28      surf   \n",
       "4                    seattle-tacoma-bellevue, wa msa  2018-05-23      surf   \n",
       "5                dallas-fort worth-arlington, tx msa  2018-11-29      surf   \n",
       "6             san francisco-oakland-berkeley, ca msa  2018-11-27  ultimate   \n",
       "7                      grand rapids-kentwood, mi msa  2018-07-11      surf   \n",
       "8                  orlando-kissimmee-sanford, fl msa  2018-08-03  ultimate   \n",
       "9             san jose-sunnyvale-santa clara, ca msa  2018-04-22      surf   \n",
       "10               dallas-fort worth-arlington, tx msa  2018-03-09      surf   \n",
       "11                          cleveland-elyria, oh msa  2018-01-18  ultimate   \n",
       "12            chicago-naperville-elgin, il-in-wi msa  2018-06-28      surf   \n",
       "13                                 knoxville, tn msa  2018-12-01  ultimate   \n",
       "14         new york-newark-jersey city, ny-nj-pa msa  2018-11-25      surf   \n",
       "15                                pittsburgh, pa msa  2018-12-05      surf   \n",
       "16                                    fresno, ca msa  2018-10-25      surf   \n",
       "17  washington-arlington-alexandria, dc-va-md-wv msa  2018-08-26      surf   \n",
       "18              indianapolis-carmel-anderson, in msa  2018-10-17      surf   \n",
       "19                              jacksonville, fl msa  2018-01-16      surf   \n",
       "20               dallas-fort worth-arlington, tx msa  2018-11-08      surf   \n",
       "21            los angeles-long beach-anaheim, ca msa  2018-12-21      surf   \n",
       "22         new york-newark-jersey city, ny-nj-pa msa  2018-04-20      surf   \n",
       "23                   omaha-council bluffs, ne-ia msa  2018-07-06      surf   \n",
       "24         new york-newark-jersey city, ny-nj-pa msa  2018-08-21      surf   \n",
       "\n",
       "    churn_date  \n",
       "0          NaN  \n",
       "1          NaN  \n",
       "2          NaN  \n",
       "3          NaN  \n",
       "4          NaN  \n",
       "5          NaN  \n",
       "6   2018-12-18  \n",
       "7          NaN  \n",
       "8          NaN  \n",
       "9          NaN  \n",
       "10         NaN  \n",
       "11         NaN  \n",
       "12  2018-11-16  \n",
       "13         NaN  \n",
       "14         NaN  \n",
       "15         NaN  \n",
       "16         NaN  \n",
       "17         NaN  \n",
       "18         NaN  \n",
       "19         NaN  \n",
       "20         NaN  \n",
       "21         NaN  \n",
       "22  2018-09-07  \n",
       "23         NaN  \n",
       "24         NaN  "
      ]
     },
     "metadata": {},
     "output_type": "display_data"
    }
   ],
   "source": [
    "display(df_users.head(25))"
   ]
  },
  {
   "cell_type": "code",
   "execution_count": 19,
   "metadata": {},
   "outputs": [],
   "source": [
    "df_users['reg_date'] = pd.to_datetime(df_users['reg_date'], format='%Y-%m-%d')"
   ]
  },
  {
   "cell_type": "code",
   "execution_count": 20,
   "metadata": {},
   "outputs": [],
   "source": [
    "df_users['churn_date'] = pd.to_datetime(df_users['churn_date'], format='%Y-%m-%d')"
   ]
  },
  {
   "cell_type": "code",
   "execution_count": 21,
   "metadata": {
    "scrolled": true
   },
   "outputs": [
    {
     "name": "stdout",
     "output_type": "stream",
     "text": [
      "<class 'pandas.core.frame.DataFrame'>\n",
      "RangeIndex: 500 entries, 0 to 499\n",
      "Data columns (total 8 columns):\n",
      "user_id       500 non-null int64\n",
      "first_name    500 non-null object\n",
      "last_name     500 non-null object\n",
      "age           500 non-null int64\n",
      "city          500 non-null object\n",
      "reg_date      500 non-null datetime64[ns]\n",
      "plan          500 non-null object\n",
      "churn_date    34 non-null datetime64[ns]\n",
      "dtypes: datetime64[ns](2), int64(2), object(4)\n",
      "memory usage: 31.4+ KB\n"
     ]
    }
   ],
   "source": [
    "df_users.info()"
   ]
  },
  {
   "cell_type": "markdown",
   "metadata": {},
   "source": [
    "we change the object type to date and check in info that it worked"
   ]
  },
  {
   "cell_type": "code",
   "execution_count": 22,
   "metadata": {},
   "outputs": [
    {
     "data": {
      "text/plain": [
       "Timestamp('2018-01-01 00:00:00')"
      ]
     },
     "execution_count": 22,
     "metadata": {},
     "output_type": "execute_result"
    }
   ],
   "source": [
    "df_users['reg_date'].min()"
   ]
  },
  {
   "cell_type": "code",
   "execution_count": 23,
   "metadata": {},
   "outputs": [
    {
     "data": {
      "text/plain": [
       "Timestamp('2018-12-31 00:00:00')"
      ]
     },
     "execution_count": 23,
     "metadata": {},
     "output_type": "execute_result"
    }
   ],
   "source": [
    "df_users['reg_date'].max()"
   ]
  },
  {
   "cell_type": "markdown",
   "metadata": {},
   "source": [
    "we checkd the min and max dates on the data for later on adding a month column so we made sure we are in one year and not more because then we will have truble withe duplicated month since we get them 1-12"
   ]
  },
  {
   "cell_type": "code",
   "execution_count": 24,
   "metadata": {},
   "outputs": [
    {
     "data": {
      "text/plain": [
       "Timestamp('2018-07-31 00:00:00')"
      ]
     },
     "execution_count": 24,
     "metadata": {},
     "output_type": "execute_result"
    }
   ],
   "source": [
    "df_users['churn_date'].min()"
   ]
  },
  {
   "cell_type": "code",
   "execution_count": 25,
   "metadata": {},
   "outputs": [
    {
     "data": {
      "text/plain": [
       "Timestamp('2018-12-31 00:00:00')"
      ]
     },
     "execution_count": 25,
     "metadata": {},
     "output_type": "execute_result"
    }
   ],
   "source": [
    "df_users['churn_date'].max()"
   ]
  },
  {
   "cell_type": "markdown",
   "metadata": {},
   "source": [
    "we did the same checking for the last date that the client is in the program"
   ]
  },
  {
   "cell_type": "code",
   "execution_count": 26,
   "metadata": {},
   "outputs": [
    {
     "data": {
      "text/plain": [
       "0      2018-12-31\n",
       "1      2018-12-31\n",
       "2      2018-12-31\n",
       "3      2018-12-31\n",
       "4      2018-12-31\n",
       "          ...    \n",
       "495    2018-12-31\n",
       "496    2018-12-31\n",
       "497    2018-12-31\n",
       "498    2018-12-31\n",
       "499    2018-12-31\n",
       "Name: churn_date, Length: 500, dtype: object"
      ]
     },
     "execution_count": 26,
     "metadata": {},
     "output_type": "execute_result"
    }
   ],
   "source": [
    "df_users['churn_date'].fillna('2018-12-31')"
   ]
  },
  {
   "cell_type": "code",
   "execution_count": 27,
   "metadata": {},
   "outputs": [
    {
     "data": {
      "text/plain": [
       "user_id         0\n",
       "first_name      0\n",
       "last_name       0\n",
       "age             0\n",
       "city            0\n",
       "reg_date        0\n",
       "plan            0\n",
       "churn_date    466\n",
       "dtype: int64"
      ]
     },
     "execution_count": 27,
     "metadata": {},
     "output_type": "execute_result"
    }
   ],
   "source": [
    "df_users.isnull().sum()"
   ]
  },
  {
   "cell_type": "markdown",
   "metadata": {},
   "source": [
    "we had a lot of nan's in the churn column and we know that if it is a nan very much could be that it meens that the client is stil in the program so we filled it in with the last day of the year "
   ]
  },
  {
   "cell_type": "markdown",
   "metadata": {},
   "source": [
    "i still think it is better to change then having nans but i will take it in mind"
   ]
  },
  {
   "cell_type": "code",
   "execution_count": 28,
   "metadata": {},
   "outputs": [
    {
     "data": {
      "text/plain": [
       "surf        339\n",
       "ultimate    161\n",
       "Name: plan, dtype: int64"
      ]
     },
     "execution_count": 28,
     "metadata": {},
     "output_type": "execute_result"
    }
   ],
   "source": [
    "df_users['plan'].value_counts()"
   ]
  },
  {
   "cell_type": "markdown",
   "metadata": {},
   "source": [
    "checkig distribution of plans.here we can see that users prefer the surf plan a lot more then ultimate"
   ]
  },
  {
   "cell_type": "markdown",
   "metadata": {},
   "source": [
    "now the table looks good and readable that we can use it for our studdy"
   ]
  },
  {
   "cell_type": "markdown",
   "metadata": {},
   "source": [
    "## table 3- calls"
   ]
  },
  {
   "cell_type": "code",
   "execution_count": 29,
   "metadata": {},
   "outputs": [
    {
     "data": {
      "text/html": [
       "<div>\n",
       "<style scoped>\n",
       "    .dataframe tbody tr th:only-of-type {\n",
       "        vertical-align: middle;\n",
       "    }\n",
       "\n",
       "    .dataframe tbody tr th {\n",
       "        vertical-align: top;\n",
       "    }\n",
       "\n",
       "    .dataframe thead th {\n",
       "        text-align: right;\n",
       "    }\n",
       "</style>\n",
       "<table border=\"1\" class=\"dataframe\">\n",
       "  <thead>\n",
       "    <tr style=\"text-align: right;\">\n",
       "      <th></th>\n",
       "      <th>id</th>\n",
       "      <th>user_id</th>\n",
       "      <th>call_date</th>\n",
       "      <th>duration</th>\n",
       "    </tr>\n",
       "  </thead>\n",
       "  <tbody>\n",
       "    <tr>\n",
       "      <td>0</td>\n",
       "      <td>1000_93</td>\n",
       "      <td>1000</td>\n",
       "      <td>2018-12-27</td>\n",
       "      <td>8.52</td>\n",
       "    </tr>\n",
       "    <tr>\n",
       "      <td>1</td>\n",
       "      <td>1000_145</td>\n",
       "      <td>1000</td>\n",
       "      <td>2018-12-27</td>\n",
       "      <td>13.66</td>\n",
       "    </tr>\n",
       "    <tr>\n",
       "      <td>2</td>\n",
       "      <td>1000_247</td>\n",
       "      <td>1000</td>\n",
       "      <td>2018-12-27</td>\n",
       "      <td>14.48</td>\n",
       "    </tr>\n",
       "    <tr>\n",
       "      <td>3</td>\n",
       "      <td>1000_309</td>\n",
       "      <td>1000</td>\n",
       "      <td>2018-12-28</td>\n",
       "      <td>5.76</td>\n",
       "    </tr>\n",
       "    <tr>\n",
       "      <td>4</td>\n",
       "      <td>1000_380</td>\n",
       "      <td>1000</td>\n",
       "      <td>2018-12-30</td>\n",
       "      <td>4.22</td>\n",
       "    </tr>\n",
       "  </tbody>\n",
       "</table>\n",
       "</div>"
      ],
      "text/plain": [
       "         id  user_id   call_date  duration\n",
       "0   1000_93     1000  2018-12-27      8.52\n",
       "1  1000_145     1000  2018-12-27     13.66\n",
       "2  1000_247     1000  2018-12-27     14.48\n",
       "3  1000_309     1000  2018-12-28      5.76\n",
       "4  1000_380     1000  2018-12-30      4.22"
      ]
     },
     "metadata": {},
     "output_type": "display_data"
    }
   ],
   "source": [
    "display(df_calls.head())"
   ]
  },
  {
   "cell_type": "code",
   "execution_count": 30,
   "metadata": {},
   "outputs": [
    {
     "name": "stdout",
     "output_type": "stream",
     "text": [
      "<class 'pandas.core.frame.DataFrame'>\n",
      "RangeIndex: 137735 entries, 0 to 137734\n",
      "Data columns (total 4 columns):\n",
      "id           137735 non-null object\n",
      "user_id      137735 non-null int64\n",
      "call_date    137735 non-null object\n",
      "duration     137735 non-null float64\n",
      "dtypes: float64(1), int64(1), object(2)\n",
      "memory usage: 4.2+ MB\n"
     ]
    }
   ],
   "source": [
    "df_calls.info()"
   ]
  },
  {
   "cell_type": "markdown",
   "metadata": {},
   "source": [
    "the data looks o.k. except of call_date that is again a object insted of date"
   ]
  },
  {
   "cell_type": "code",
   "execution_count": 31,
   "metadata": {},
   "outputs": [
    {
     "data": {
      "text/html": [
       "<div>\n",
       "<style scoped>\n",
       "    .dataframe tbody tr th:only-of-type {\n",
       "        vertical-align: middle;\n",
       "    }\n",
       "\n",
       "    .dataframe tbody tr th {\n",
       "        vertical-align: top;\n",
       "    }\n",
       "\n",
       "    .dataframe thead th {\n",
       "        text-align: right;\n",
       "    }\n",
       "</style>\n",
       "<table border=\"1\" class=\"dataframe\">\n",
       "  <thead>\n",
       "    <tr style=\"text-align: right;\">\n",
       "      <th></th>\n",
       "      <th>user_id</th>\n",
       "      <th>duration</th>\n",
       "    </tr>\n",
       "  </thead>\n",
       "  <tbody>\n",
       "    <tr>\n",
       "      <td>count</td>\n",
       "      <td>137735.000000</td>\n",
       "      <td>137735.000000</td>\n",
       "    </tr>\n",
       "    <tr>\n",
       "      <td>mean</td>\n",
       "      <td>1247.658046</td>\n",
       "      <td>6.745927</td>\n",
       "    </tr>\n",
       "    <tr>\n",
       "      <td>std</td>\n",
       "      <td>139.416268</td>\n",
       "      <td>5.839241</td>\n",
       "    </tr>\n",
       "    <tr>\n",
       "      <td>min</td>\n",
       "      <td>1000.000000</td>\n",
       "      <td>0.000000</td>\n",
       "    </tr>\n",
       "    <tr>\n",
       "      <td>25%</td>\n",
       "      <td>1128.000000</td>\n",
       "      <td>1.290000</td>\n",
       "    </tr>\n",
       "    <tr>\n",
       "      <td>50%</td>\n",
       "      <td>1247.000000</td>\n",
       "      <td>5.980000</td>\n",
       "    </tr>\n",
       "    <tr>\n",
       "      <td>75%</td>\n",
       "      <td>1365.000000</td>\n",
       "      <td>10.690000</td>\n",
       "    </tr>\n",
       "    <tr>\n",
       "      <td>max</td>\n",
       "      <td>1499.000000</td>\n",
       "      <td>37.600000</td>\n",
       "    </tr>\n",
       "  </tbody>\n",
       "</table>\n",
       "</div>"
      ],
      "text/plain": [
       "             user_id       duration\n",
       "count  137735.000000  137735.000000\n",
       "mean     1247.658046       6.745927\n",
       "std       139.416268       5.839241\n",
       "min      1000.000000       0.000000\n",
       "25%      1128.000000       1.290000\n",
       "50%      1247.000000       5.980000\n",
       "75%      1365.000000      10.690000\n",
       "max      1499.000000      37.600000"
      ]
     },
     "execution_count": 31,
     "metadata": {},
     "output_type": "execute_result"
    }
   ],
   "source": [
    "df_calls.describe()"
   ]
  },
  {
   "cell_type": "code",
   "execution_count": 32,
   "metadata": {},
   "outputs": [],
   "source": [
    "df_calls['call_date'] = pd.to_datetime(df_calls['call_date'], format='%Y-%m-%d')"
   ]
  },
  {
   "cell_type": "code",
   "execution_count": 33,
   "metadata": {},
   "outputs": [
    {
     "name": "stdout",
     "output_type": "stream",
     "text": [
      "<class 'pandas.core.frame.DataFrame'>\n",
      "RangeIndex: 137735 entries, 0 to 137734\n",
      "Data columns (total 4 columns):\n",
      "id           137735 non-null object\n",
      "user_id      137735 non-null int64\n",
      "call_date    137735 non-null datetime64[ns]\n",
      "duration     137735 non-null float64\n",
      "dtypes: datetime64[ns](1), float64(1), int64(1), object(1)\n",
      "memory usage: 4.2+ MB\n"
     ]
    }
   ],
   "source": [
    "df_calls.info()"
   ]
  },
  {
   "cell_type": "markdown",
   "metadata": {},
   "source": [
    "and we change the date to date type"
   ]
  },
  {
   "cell_type": "code",
   "execution_count": 34,
   "metadata": {},
   "outputs": [
    {
     "data": {
      "text/plain": [
       "id           0\n",
       "user_id      0\n",
       "call_date    0\n",
       "duration     0\n",
       "dtype: int64"
      ]
     },
     "execution_count": 34,
     "metadata": {},
     "output_type": "execute_result"
    }
   ],
   "source": [
    "df_calls.isnull().sum()"
   ]
  },
  {
   "cell_type": "markdown",
   "metadata": {},
   "source": [
    "the user_id type is int and its a number but we can also approach it as an object because it is an user identity. for now i decide to keep it as int."
   ]
  },
  {
   "cell_type": "code",
   "execution_count": 35,
   "metadata": {},
   "outputs": [
    {
     "data": {
      "text/plain": [
       "0.00     26834\n",
       "8.37       102\n",
       "4.02       102\n",
       "3.91       101\n",
       "7.61       100\n",
       "         ...  \n",
       "25.53        1\n",
       "29.34        1\n",
       "26.05        1\n",
       "36.24        1\n",
       "27.16        1\n",
       "Name: duration, Length: 2802, dtype: int64"
      ]
     },
     "execution_count": 35,
     "metadata": {},
     "output_type": "execute_result"
    }
   ],
   "source": [
    "df_calls['duration'].value_counts()"
   ]
  },
  {
   "cell_type": "code",
   "execution_count": 36,
   "metadata": {},
   "outputs": [
    {
     "data": {
      "text/plain": [
       "0.00     19.482339\n",
       "8.37      0.074055\n",
       "4.02      0.074055\n",
       "3.91      0.073329\n",
       "7.61      0.072603\n",
       "           ...    \n",
       "25.53     0.000726\n",
       "29.34     0.000726\n",
       "26.05     0.000726\n",
       "36.24     0.000726\n",
       "27.16     0.000726\n",
       "Name: duration, Length: 2802, dtype: float64"
      ]
     },
     "execution_count": 36,
     "metadata": {},
     "output_type": "execute_result"
    }
   ],
   "source": [
    "df_calls['duration'].value_counts() / df_calls.shape[0]* 100"
   ]
  },
  {
   "cell_type": "markdown",
   "metadata": {},
   "source": [
    "we see that there are about 20% of 0 seconds. that may be a arithmetic problem but it's a lot of rows and it may be importent data. in describe of project it was mantioned that it could be miss-calls"
   ]
  },
  {
   "cell_type": "code",
   "execution_count": 37,
   "metadata": {},
   "outputs": [
    {
     "data": {
      "text/plain": [
       "Timestamp('2018-01-15 00:00:00')"
      ]
     },
     "execution_count": 37,
     "metadata": {},
     "output_type": "execute_result"
    }
   ],
   "source": [
    "df_calls['call_date'].min()"
   ]
  },
  {
   "cell_type": "code",
   "execution_count": 38,
   "metadata": {},
   "outputs": [
    {
     "data": {
      "text/plain": [
       "Timestamp('2018-12-31 00:00:00')"
      ]
     },
     "execution_count": 38,
     "metadata": {},
     "output_type": "execute_result"
    }
   ],
   "source": [
    "df_calls['call_date'].max()"
   ]
  },
  {
   "cell_type": "markdown",
   "metadata": {},
   "source": [
    "like in the users table we check the dates that they are not over a year"
   ]
  },
  {
   "cell_type": "code",
   "execution_count": 39,
   "metadata": {},
   "outputs": [],
   "source": [
    "df_calls['month']= df_calls['call_date'].dt.month"
   ]
  },
  {
   "cell_type": "code",
   "execution_count": 40,
   "metadata": {},
   "outputs": [],
   "source": [
    "def duration_to_min_charge(cell):\n",
    "    x=cell\n",
    "    return math.ceil(x)\n",
    "\n",
    "df_calls['min_charge']=df_calls['duration'].apply(duration_to_min_charge)"
   ]
  },
  {
   "cell_type": "code",
   "execution_count": 41,
   "metadata": {},
   "outputs": [
    {
     "data": {
      "text/html": [
       "<div>\n",
       "<style scoped>\n",
       "    .dataframe tbody tr th:only-of-type {\n",
       "        vertical-align: middle;\n",
       "    }\n",
       "\n",
       "    .dataframe tbody tr th {\n",
       "        vertical-align: top;\n",
       "    }\n",
       "\n",
       "    .dataframe thead th {\n",
       "        text-align: right;\n",
       "    }\n",
       "</style>\n",
       "<table border=\"1\" class=\"dataframe\">\n",
       "  <thead>\n",
       "    <tr style=\"text-align: right;\">\n",
       "      <th></th>\n",
       "      <th>id</th>\n",
       "      <th>user_id</th>\n",
       "      <th>call_date</th>\n",
       "      <th>duration</th>\n",
       "      <th>month</th>\n",
       "      <th>min_charge</th>\n",
       "    </tr>\n",
       "  </thead>\n",
       "  <tbody>\n",
       "    <tr>\n",
       "      <td>0</td>\n",
       "      <td>1000_93</td>\n",
       "      <td>1000</td>\n",
       "      <td>2018-12-27</td>\n",
       "      <td>8.52</td>\n",
       "      <td>12</td>\n",
       "      <td>9</td>\n",
       "    </tr>\n",
       "    <tr>\n",
       "      <td>1</td>\n",
       "      <td>1000_145</td>\n",
       "      <td>1000</td>\n",
       "      <td>2018-12-27</td>\n",
       "      <td>13.66</td>\n",
       "      <td>12</td>\n",
       "      <td>14</td>\n",
       "    </tr>\n",
       "    <tr>\n",
       "      <td>2</td>\n",
       "      <td>1000_247</td>\n",
       "      <td>1000</td>\n",
       "      <td>2018-12-27</td>\n",
       "      <td>14.48</td>\n",
       "      <td>12</td>\n",
       "      <td>15</td>\n",
       "    </tr>\n",
       "    <tr>\n",
       "      <td>3</td>\n",
       "      <td>1000_309</td>\n",
       "      <td>1000</td>\n",
       "      <td>2018-12-28</td>\n",
       "      <td>5.76</td>\n",
       "      <td>12</td>\n",
       "      <td>6</td>\n",
       "    </tr>\n",
       "    <tr>\n",
       "      <td>4</td>\n",
       "      <td>1000_380</td>\n",
       "      <td>1000</td>\n",
       "      <td>2018-12-30</td>\n",
       "      <td>4.22</td>\n",
       "      <td>12</td>\n",
       "      <td>5</td>\n",
       "    </tr>\n",
       "  </tbody>\n",
       "</table>\n",
       "</div>"
      ],
      "text/plain": [
       "         id  user_id  call_date  duration  month  min_charge\n",
       "0   1000_93     1000 2018-12-27      8.52     12           9\n",
       "1  1000_145     1000 2018-12-27     13.66     12          14\n",
       "2  1000_247     1000 2018-12-27     14.48     12          15\n",
       "3  1000_309     1000 2018-12-28      5.76     12           6\n",
       "4  1000_380     1000 2018-12-30      4.22     12           5"
      ]
     },
     "metadata": {},
     "output_type": "display_data"
    }
   ],
   "source": [
    "display(df_calls.head())"
   ]
  },
  {
   "cell_type": "markdown",
   "metadata": {},
   "source": [
    "we added a column for the month"
   ]
  },
  {
   "cell_type": "markdown",
   "metadata": {},
   "source": [
    "##table 4 - messages"
   ]
  },
  {
   "cell_type": "code",
   "execution_count": 42,
   "metadata": {},
   "outputs": [
    {
     "name": "stdout",
     "output_type": "stream",
     "text": [
      "<class 'pandas.core.frame.DataFrame'>\n",
      "RangeIndex: 76051 entries, 0 to 76050\n",
      "Data columns (total 3 columns):\n",
      "id              76051 non-null object\n",
      "user_id         76051 non-null int64\n",
      "message_date    76051 non-null object\n",
      "dtypes: int64(1), object(2)\n",
      "memory usage: 1.7+ MB\n"
     ]
    }
   ],
   "source": [
    "df_messages.info()"
   ]
  },
  {
   "cell_type": "markdown",
   "metadata": {},
   "source": [
    "we see that the data is pretty o.k. except of the object/date issue"
   ]
  },
  {
   "cell_type": "code",
   "execution_count": 43,
   "metadata": {},
   "outputs": [
    {
     "data": {
      "text/html": [
       "<div>\n",
       "<style scoped>\n",
       "    .dataframe tbody tr th:only-of-type {\n",
       "        vertical-align: middle;\n",
       "    }\n",
       "\n",
       "    .dataframe tbody tr th {\n",
       "        vertical-align: top;\n",
       "    }\n",
       "\n",
       "    .dataframe thead th {\n",
       "        text-align: right;\n",
       "    }\n",
       "</style>\n",
       "<table border=\"1\" class=\"dataframe\">\n",
       "  <thead>\n",
       "    <tr style=\"text-align: right;\">\n",
       "      <th></th>\n",
       "      <th>user_id</th>\n",
       "    </tr>\n",
       "  </thead>\n",
       "  <tbody>\n",
       "    <tr>\n",
       "      <td>count</td>\n",
       "      <td>76051.000000</td>\n",
       "    </tr>\n",
       "    <tr>\n",
       "      <td>mean</td>\n",
       "      <td>1245.972768</td>\n",
       "    </tr>\n",
       "    <tr>\n",
       "      <td>std</td>\n",
       "      <td>139.843635</td>\n",
       "    </tr>\n",
       "    <tr>\n",
       "      <td>min</td>\n",
       "      <td>1000.000000</td>\n",
       "    </tr>\n",
       "    <tr>\n",
       "      <td>25%</td>\n",
       "      <td>1123.000000</td>\n",
       "    </tr>\n",
       "    <tr>\n",
       "      <td>50%</td>\n",
       "      <td>1251.000000</td>\n",
       "    </tr>\n",
       "    <tr>\n",
       "      <td>75%</td>\n",
       "      <td>1362.000000</td>\n",
       "    </tr>\n",
       "    <tr>\n",
       "      <td>max</td>\n",
       "      <td>1497.000000</td>\n",
       "    </tr>\n",
       "  </tbody>\n",
       "</table>\n",
       "</div>"
      ],
      "text/plain": [
       "            user_id\n",
       "count  76051.000000\n",
       "mean    1245.972768\n",
       "std      139.843635\n",
       "min     1000.000000\n",
       "25%     1123.000000\n",
       "50%     1251.000000\n",
       "75%     1362.000000\n",
       "max     1497.000000"
      ]
     },
     "execution_count": 43,
     "metadata": {},
     "output_type": "execute_result"
    }
   ],
   "source": [
    "df_messages.describe()"
   ]
  },
  {
   "cell_type": "code",
   "execution_count": 44,
   "metadata": {},
   "outputs": [
    {
     "data": {
      "text/html": [
       "<div>\n",
       "<style scoped>\n",
       "    .dataframe tbody tr th:only-of-type {\n",
       "        vertical-align: middle;\n",
       "    }\n",
       "\n",
       "    .dataframe tbody tr th {\n",
       "        vertical-align: top;\n",
       "    }\n",
       "\n",
       "    .dataframe thead th {\n",
       "        text-align: right;\n",
       "    }\n",
       "</style>\n",
       "<table border=\"1\" class=\"dataframe\">\n",
       "  <thead>\n",
       "    <tr style=\"text-align: right;\">\n",
       "      <th></th>\n",
       "      <th>id</th>\n",
       "      <th>user_id</th>\n",
       "      <th>message_date</th>\n",
       "    </tr>\n",
       "  </thead>\n",
       "  <tbody>\n",
       "    <tr>\n",
       "      <td>0</td>\n",
       "      <td>1000_125</td>\n",
       "      <td>1000</td>\n",
       "      <td>2018-12-27</td>\n",
       "    </tr>\n",
       "    <tr>\n",
       "      <td>1</td>\n",
       "      <td>1000_160</td>\n",
       "      <td>1000</td>\n",
       "      <td>2018-12-31</td>\n",
       "    </tr>\n",
       "    <tr>\n",
       "      <td>2</td>\n",
       "      <td>1000_223</td>\n",
       "      <td>1000</td>\n",
       "      <td>2018-12-31</td>\n",
       "    </tr>\n",
       "    <tr>\n",
       "      <td>3</td>\n",
       "      <td>1000_251</td>\n",
       "      <td>1000</td>\n",
       "      <td>2018-12-27</td>\n",
       "    </tr>\n",
       "    <tr>\n",
       "      <td>4</td>\n",
       "      <td>1000_255</td>\n",
       "      <td>1000</td>\n",
       "      <td>2018-12-26</td>\n",
       "    </tr>\n",
       "  </tbody>\n",
       "</table>\n",
       "</div>"
      ],
      "text/plain": [
       "         id  user_id message_date\n",
       "0  1000_125     1000   2018-12-27\n",
       "1  1000_160     1000   2018-12-31\n",
       "2  1000_223     1000   2018-12-31\n",
       "3  1000_251     1000   2018-12-27\n",
       "4  1000_255     1000   2018-12-26"
      ]
     },
     "metadata": {},
     "output_type": "display_data"
    }
   ],
   "source": [
    "display(df_messages.head())"
   ]
  },
  {
   "cell_type": "code",
   "execution_count": 45,
   "metadata": {},
   "outputs": [
    {
     "name": "stdout",
     "output_type": "stream",
     "text": [
      "         id  user_id message_date\n",
      "0  1000_125     1000   2018-12-27\n",
      "1  1000_160     1000   2018-12-31\n",
      "2  1000_223     1000   2018-12-31\n",
      "3  1000_251     1000   2018-12-27\n",
      "4  1000_255     1000   2018-12-26\n"
     ]
    }
   ],
   "source": [
    "print(df_messages.head())"
   ]
  },
  {
   "cell_type": "code",
   "execution_count": 46,
   "metadata": {},
   "outputs": [
    {
     "data": {
      "text/plain": [
       "id              0\n",
       "user_id         0\n",
       "message_date    0\n",
       "dtype: int64"
      ]
     },
     "execution_count": 46,
     "metadata": {},
     "output_type": "execute_result"
    }
   ],
   "source": [
    "df_messages.isnull().sum()"
   ]
  },
  {
   "cell_type": "markdown",
   "metadata": {},
   "source": [
    "the data looks fine and fulled up"
   ]
  },
  {
   "cell_type": "code",
   "execution_count": 47,
   "metadata": {},
   "outputs": [],
   "source": [
    "df_messages['message_date'] = pd.to_datetime(df_messages['message_date'], format='%Y-%m-%d')"
   ]
  },
  {
   "cell_type": "code",
   "execution_count": 48,
   "metadata": {},
   "outputs": [
    {
     "name": "stdout",
     "output_type": "stream",
     "text": [
      "<class 'pandas.core.frame.DataFrame'>\n",
      "RangeIndex: 76051 entries, 0 to 76050\n",
      "Data columns (total 3 columns):\n",
      "id              76051 non-null object\n",
      "user_id         76051 non-null int64\n",
      "message_date    76051 non-null datetime64[ns]\n",
      "dtypes: datetime64[ns](1), int64(1), object(1)\n",
      "memory usage: 1.7+ MB\n"
     ]
    }
   ],
   "source": [
    "df_messages.info()"
   ]
  },
  {
   "cell_type": "markdown",
   "metadata": {},
   "source": [
    "changing datatype to date"
   ]
  },
  {
   "cell_type": "code",
   "execution_count": 49,
   "metadata": {},
   "outputs": [
    {
     "data": {
      "text/plain": [
       "Timestamp('2018-01-15 00:00:00')"
      ]
     },
     "execution_count": 49,
     "metadata": {},
     "output_type": "execute_result"
    }
   ],
   "source": [
    "df_messages['message_date'].min()"
   ]
  },
  {
   "cell_type": "code",
   "execution_count": 50,
   "metadata": {},
   "outputs": [
    {
     "data": {
      "text/plain": [
       "Timestamp('2018-12-31 00:00:00')"
      ]
     },
     "execution_count": 50,
     "metadata": {},
     "output_type": "execute_result"
    }
   ],
   "source": [
    "df_messages['message_date'].max()"
   ]
  },
  {
   "cell_type": "markdown",
   "metadata": {},
   "source": [
    "like in the above tables we check the dates that they are not over a year"
   ]
  },
  {
   "cell_type": "code",
   "execution_count": 51,
   "metadata": {},
   "outputs": [],
   "source": [
    "df_messages['month'] = df_messages['message_date'].dt.month"
   ]
  },
  {
   "cell_type": "code",
   "execution_count": 52,
   "metadata": {},
   "outputs": [
    {
     "data": {
      "text/html": [
       "<div>\n",
       "<style scoped>\n",
       "    .dataframe tbody tr th:only-of-type {\n",
       "        vertical-align: middle;\n",
       "    }\n",
       "\n",
       "    .dataframe tbody tr th {\n",
       "        vertical-align: top;\n",
       "    }\n",
       "\n",
       "    .dataframe thead th {\n",
       "        text-align: right;\n",
       "    }\n",
       "</style>\n",
       "<table border=\"1\" class=\"dataframe\">\n",
       "  <thead>\n",
       "    <tr style=\"text-align: right;\">\n",
       "      <th></th>\n",
       "      <th>id</th>\n",
       "      <th>user_id</th>\n",
       "      <th>message_date</th>\n",
       "      <th>month</th>\n",
       "    </tr>\n",
       "  </thead>\n",
       "  <tbody>\n",
       "    <tr>\n",
       "      <td>0</td>\n",
       "      <td>1000_125</td>\n",
       "      <td>1000</td>\n",
       "      <td>2018-12-27</td>\n",
       "      <td>12</td>\n",
       "    </tr>\n",
       "    <tr>\n",
       "      <td>1</td>\n",
       "      <td>1000_160</td>\n",
       "      <td>1000</td>\n",
       "      <td>2018-12-31</td>\n",
       "      <td>12</td>\n",
       "    </tr>\n",
       "    <tr>\n",
       "      <td>2</td>\n",
       "      <td>1000_223</td>\n",
       "      <td>1000</td>\n",
       "      <td>2018-12-31</td>\n",
       "      <td>12</td>\n",
       "    </tr>\n",
       "    <tr>\n",
       "      <td>3</td>\n",
       "      <td>1000_251</td>\n",
       "      <td>1000</td>\n",
       "      <td>2018-12-27</td>\n",
       "      <td>12</td>\n",
       "    </tr>\n",
       "    <tr>\n",
       "      <td>4</td>\n",
       "      <td>1000_255</td>\n",
       "      <td>1000</td>\n",
       "      <td>2018-12-26</td>\n",
       "      <td>12</td>\n",
       "    </tr>\n",
       "  </tbody>\n",
       "</table>\n",
       "</div>"
      ],
      "text/plain": [
       "         id  user_id message_date  month\n",
       "0  1000_125     1000   2018-12-27     12\n",
       "1  1000_160     1000   2018-12-31     12\n",
       "2  1000_223     1000   2018-12-31     12\n",
       "3  1000_251     1000   2018-12-27     12\n",
       "4  1000_255     1000   2018-12-26     12"
      ]
     },
     "metadata": {},
     "output_type": "display_data"
    }
   ],
   "source": [
    "display(df_messages.head())"
   ]
  },
  {
   "cell_type": "markdown",
   "metadata": {},
   "source": [
    "the table looks set to work with the added month column"
   ]
  },
  {
   "cell_type": "markdown",
   "metadata": {},
   "source": [
    "##table 5- internet"
   ]
  },
  {
   "cell_type": "code",
   "execution_count": 53,
   "metadata": {},
   "outputs": [
    {
     "name": "stdout",
     "output_type": "stream",
     "text": [
      "<class 'pandas.core.frame.DataFrame'>\n",
      "RangeIndex: 104825 entries, 0 to 104824\n",
      "Data columns (total 4 columns):\n",
      "id              104825 non-null object\n",
      "user_id         104825 non-null int64\n",
      "session_date    104825 non-null object\n",
      "mb_used         104825 non-null float64\n",
      "dtypes: float64(1), int64(1), object(2)\n",
      "memory usage: 3.2+ MB\n"
     ]
    }
   ],
   "source": [
    "df_internet.info()"
   ]
  },
  {
   "cell_type": "markdown",
   "metadata": {},
   "source": [
    "also here the table looks fine except from dates that become objects"
   ]
  },
  {
   "cell_type": "code",
   "execution_count": 54,
   "metadata": {},
   "outputs": [
    {
     "data": {
      "text/html": [
       "<div>\n",
       "<style scoped>\n",
       "    .dataframe tbody tr th:only-of-type {\n",
       "        vertical-align: middle;\n",
       "    }\n",
       "\n",
       "    .dataframe tbody tr th {\n",
       "        vertical-align: top;\n",
       "    }\n",
       "\n",
       "    .dataframe thead th {\n",
       "        text-align: right;\n",
       "    }\n",
       "</style>\n",
       "<table border=\"1\" class=\"dataframe\">\n",
       "  <thead>\n",
       "    <tr style=\"text-align: right;\">\n",
       "      <th></th>\n",
       "      <th>user_id</th>\n",
       "      <th>mb_used</th>\n",
       "    </tr>\n",
       "  </thead>\n",
       "  <tbody>\n",
       "    <tr>\n",
       "      <td>count</td>\n",
       "      <td>104825.000000</td>\n",
       "      <td>104825.000000</td>\n",
       "    </tr>\n",
       "    <tr>\n",
       "      <td>mean</td>\n",
       "      <td>1242.496361</td>\n",
       "      <td>366.713701</td>\n",
       "    </tr>\n",
       "    <tr>\n",
       "      <td>std</td>\n",
       "      <td>142.053913</td>\n",
       "      <td>277.170542</td>\n",
       "    </tr>\n",
       "    <tr>\n",
       "      <td>min</td>\n",
       "      <td>1000.000000</td>\n",
       "      <td>0.000000</td>\n",
       "    </tr>\n",
       "    <tr>\n",
       "      <td>25%</td>\n",
       "      <td>1122.000000</td>\n",
       "      <td>136.080000</td>\n",
       "    </tr>\n",
       "    <tr>\n",
       "      <td>50%</td>\n",
       "      <td>1236.000000</td>\n",
       "      <td>343.980000</td>\n",
       "    </tr>\n",
       "    <tr>\n",
       "      <td>75%</td>\n",
       "      <td>1367.000000</td>\n",
       "      <td>554.610000</td>\n",
       "    </tr>\n",
       "    <tr>\n",
       "      <td>max</td>\n",
       "      <td>1499.000000</td>\n",
       "      <td>1693.470000</td>\n",
       "    </tr>\n",
       "  </tbody>\n",
       "</table>\n",
       "</div>"
      ],
      "text/plain": [
       "             user_id        mb_used\n",
       "count  104825.000000  104825.000000\n",
       "mean     1242.496361     366.713701\n",
       "std       142.053913     277.170542\n",
       "min      1000.000000       0.000000\n",
       "25%      1122.000000     136.080000\n",
       "50%      1236.000000     343.980000\n",
       "75%      1367.000000     554.610000\n",
       "max      1499.000000    1693.470000"
      ]
     },
     "execution_count": 54,
     "metadata": {},
     "output_type": "execute_result"
    }
   ],
   "source": [
    "df_internet.describe()"
   ]
  },
  {
   "cell_type": "code",
   "execution_count": 55,
   "metadata": {},
   "outputs": [
    {
     "data": {
      "text/plain": [
       "0         False\n",
       "1         False\n",
       "2         False\n",
       "3         False\n",
       "4         False\n",
       "          ...  \n",
       "104820    False\n",
       "104821    False\n",
       "104822    False\n",
       "104823    False\n",
       "104824    False\n",
       "Length: 104825, dtype: bool"
      ]
     },
     "execution_count": 55,
     "metadata": {},
     "output_type": "execute_result"
    }
   ],
   "source": [
    "df_internet.duplicated()"
   ]
  },
  {
   "cell_type": "code",
   "execution_count": 56,
   "metadata": {},
   "outputs": [
    {
     "data": {
      "text/plain": [
       "id              0\n",
       "user_id         0\n",
       "session_date    0\n",
       "mb_used         0\n",
       "dtype: int64"
      ]
     },
     "execution_count": 56,
     "metadata": {},
     "output_type": "execute_result"
    }
   ],
   "source": [
    "df_internet.isnull().sum()"
   ]
  },
  {
   "cell_type": "code",
   "execution_count": 57,
   "metadata": {},
   "outputs": [
    {
     "name": "stdout",
     "output_type": "stream",
     "text": [
      "         id  user_id session_date  mb_used\n",
      "0   1000_13     1000   2018-12-29    89.86\n",
      "1  1000_204     1000   2018-12-31     0.00\n",
      "2  1000_379     1000   2018-12-28   660.40\n",
      "3  1000_413     1000   2018-12-26   270.99\n",
      "4  1000_442     1000   2018-12-27   880.22\n"
     ]
    }
   ],
   "source": [
    "print(df_internet.head())"
   ]
  },
  {
   "cell_type": "code",
   "execution_count": 58,
   "metadata": {},
   "outputs": [
    {
     "data": {
      "text/html": [
       "<div>\n",
       "<style scoped>\n",
       "    .dataframe tbody tr th:only-of-type {\n",
       "        vertical-align: middle;\n",
       "    }\n",
       "\n",
       "    .dataframe tbody tr th {\n",
       "        vertical-align: top;\n",
       "    }\n",
       "\n",
       "    .dataframe thead th {\n",
       "        text-align: right;\n",
       "    }\n",
       "</style>\n",
       "<table border=\"1\" class=\"dataframe\">\n",
       "  <thead>\n",
       "    <tr style=\"text-align: right;\">\n",
       "      <th></th>\n",
       "      <th>id</th>\n",
       "      <th>user_id</th>\n",
       "      <th>session_date</th>\n",
       "      <th>mb_used</th>\n",
       "    </tr>\n",
       "  </thead>\n",
       "  <tbody>\n",
       "    <tr>\n",
       "      <td>0</td>\n",
       "      <td>1000_13</td>\n",
       "      <td>1000</td>\n",
       "      <td>2018-12-29</td>\n",
       "      <td>89.86</td>\n",
       "    </tr>\n",
       "    <tr>\n",
       "      <td>1</td>\n",
       "      <td>1000_204</td>\n",
       "      <td>1000</td>\n",
       "      <td>2018-12-31</td>\n",
       "      <td>0.00</td>\n",
       "    </tr>\n",
       "    <tr>\n",
       "      <td>2</td>\n",
       "      <td>1000_379</td>\n",
       "      <td>1000</td>\n",
       "      <td>2018-12-28</td>\n",
       "      <td>660.40</td>\n",
       "    </tr>\n",
       "    <tr>\n",
       "      <td>3</td>\n",
       "      <td>1000_413</td>\n",
       "      <td>1000</td>\n",
       "      <td>2018-12-26</td>\n",
       "      <td>270.99</td>\n",
       "    </tr>\n",
       "    <tr>\n",
       "      <td>4</td>\n",
       "      <td>1000_442</td>\n",
       "      <td>1000</td>\n",
       "      <td>2018-12-27</td>\n",
       "      <td>880.22</td>\n",
       "    </tr>\n",
       "  </tbody>\n",
       "</table>\n",
       "</div>"
      ],
      "text/plain": [
       "         id  user_id session_date  mb_used\n",
       "0   1000_13     1000   2018-12-29    89.86\n",
       "1  1000_204     1000   2018-12-31     0.00\n",
       "2  1000_379     1000   2018-12-28   660.40\n",
       "3  1000_413     1000   2018-12-26   270.99\n",
       "4  1000_442     1000   2018-12-27   880.22"
      ]
     },
     "metadata": {},
     "output_type": "display_data"
    }
   ],
   "source": [
    "display(df_internet.head())"
   ]
  },
  {
   "cell_type": "markdown",
   "metadata": {},
   "source": [
    "the table looks clean and o.k."
   ]
  },
  {
   "cell_type": "code",
   "execution_count": 59,
   "metadata": {},
   "outputs": [],
   "source": [
    "df_internet['session_date'] = pd.to_datetime(df_internet['session_date'], format='%Y-%m-%d')"
   ]
  },
  {
   "cell_type": "code",
   "execution_count": 60,
   "metadata": {},
   "outputs": [
    {
     "name": "stdout",
     "output_type": "stream",
     "text": [
      "<class 'pandas.core.frame.DataFrame'>\n",
      "RangeIndex: 104825 entries, 0 to 104824\n",
      "Data columns (total 4 columns):\n",
      "id              104825 non-null object\n",
      "user_id         104825 non-null int64\n",
      "session_date    104825 non-null datetime64[ns]\n",
      "mb_used         104825 non-null float64\n",
      "dtypes: datetime64[ns](1), float64(1), int64(1), object(1)\n",
      "memory usage: 3.2+ MB\n"
     ]
    }
   ],
   "source": [
    "df_internet.info()"
   ]
  },
  {
   "cell_type": "markdown",
   "metadata": {},
   "source": [
    "and now it looks better after we fixed datatype to date"
   ]
  },
  {
   "cell_type": "code",
   "execution_count": 61,
   "metadata": {},
   "outputs": [
    {
     "data": {
      "text/plain": [
       "0.00      13747\n",
       "414.46        8\n",
       "435.77        8\n",
       "417.46        7\n",
       "313.79        7\n",
       "          ...  \n",
       "638.12        1\n",
       "217.39        1\n",
       "683.90        1\n",
       "243.97        1\n",
       "563.11        1\n",
       "Name: mb_used, Length: 57624, dtype: int64"
      ]
     },
     "execution_count": 61,
     "metadata": {},
     "output_type": "execute_result"
    }
   ],
   "source": [
    "df_internet['mb_used'].value_counts()"
   ]
  },
  {
   "cell_type": "code",
   "execution_count": 62,
   "metadata": {},
   "outputs": [
    {
     "data": {
      "text/plain": [
       "0.00      13.114238\n",
       "414.46     0.007632\n",
       "435.77     0.007632\n",
       "417.46     0.006678\n",
       "313.79     0.006678\n",
       "            ...    \n",
       "638.12     0.000954\n",
       "217.39     0.000954\n",
       "683.90     0.000954\n",
       "243.97     0.000954\n",
       "563.11     0.000954\n",
       "Name: mb_used, Length: 57624, dtype: float64"
      ]
     },
     "execution_count": 62,
     "metadata": {},
     "output_type": "execute_result"
    }
   ],
   "source": [
    "df_internet['mb_used'].value_counts() / df_internet.shape[0]*100"
   ]
  },
  {
   "cell_type": "markdown",
   "metadata": {},
   "source": [
    "we see a lot of 0 but that can mean that a user didnt use his internet program. for now i decide not to change the values"
   ]
  },
  {
   "cell_type": "markdown",
   "metadata": {},
   "source": [
    "now all tables look fixed and usefull. now lets get started trying joining them to one."
   ]
  },
  {
   "cell_type": "code",
   "execution_count": 63,
   "metadata": {},
   "outputs": [
    {
     "data": {
      "text/plain": [
       "Timestamp('2018-01-15 00:00:00')"
      ]
     },
     "execution_count": 63,
     "metadata": {},
     "output_type": "execute_result"
    }
   ],
   "source": [
    "df_internet['session_date'].min()"
   ]
  },
  {
   "cell_type": "code",
   "execution_count": 64,
   "metadata": {},
   "outputs": [
    {
     "data": {
      "text/plain": [
       "Timestamp('2018-12-31 00:00:00')"
      ]
     },
     "execution_count": 64,
     "metadata": {},
     "output_type": "execute_result"
    }
   ],
   "source": [
    "df_internet['session_date'].max()"
   ]
  },
  {
   "cell_type": "markdown",
   "metadata": {},
   "source": [
    "and again just checking we are in one year"
   ]
  },
  {
   "cell_type": "code",
   "execution_count": 65,
   "metadata": {},
   "outputs": [],
   "source": [
    "df_internet['month']= df_internet['session_date'].dt.month"
   ]
  },
  {
   "cell_type": "code",
   "execution_count": 66,
   "metadata": {},
   "outputs": [
    {
     "data": {
      "text/html": [
       "<div>\n",
       "<style scoped>\n",
       "    .dataframe tbody tr th:only-of-type {\n",
       "        vertical-align: middle;\n",
       "    }\n",
       "\n",
       "    .dataframe tbody tr th {\n",
       "        vertical-align: top;\n",
       "    }\n",
       "\n",
       "    .dataframe thead th {\n",
       "        text-align: right;\n",
       "    }\n",
       "</style>\n",
       "<table border=\"1\" class=\"dataframe\">\n",
       "  <thead>\n",
       "    <tr style=\"text-align: right;\">\n",
       "      <th></th>\n",
       "      <th>id</th>\n",
       "      <th>user_id</th>\n",
       "      <th>session_date</th>\n",
       "      <th>mb_used</th>\n",
       "      <th>month</th>\n",
       "    </tr>\n",
       "  </thead>\n",
       "  <tbody>\n",
       "    <tr>\n",
       "      <td>0</td>\n",
       "      <td>1000_13</td>\n",
       "      <td>1000</td>\n",
       "      <td>2018-12-29</td>\n",
       "      <td>89.86</td>\n",
       "      <td>12</td>\n",
       "    </tr>\n",
       "    <tr>\n",
       "      <td>1</td>\n",
       "      <td>1000_204</td>\n",
       "      <td>1000</td>\n",
       "      <td>2018-12-31</td>\n",
       "      <td>0.00</td>\n",
       "      <td>12</td>\n",
       "    </tr>\n",
       "    <tr>\n",
       "      <td>2</td>\n",
       "      <td>1000_379</td>\n",
       "      <td>1000</td>\n",
       "      <td>2018-12-28</td>\n",
       "      <td>660.40</td>\n",
       "      <td>12</td>\n",
       "    </tr>\n",
       "    <tr>\n",
       "      <td>3</td>\n",
       "      <td>1000_413</td>\n",
       "      <td>1000</td>\n",
       "      <td>2018-12-26</td>\n",
       "      <td>270.99</td>\n",
       "      <td>12</td>\n",
       "    </tr>\n",
       "    <tr>\n",
       "      <td>4</td>\n",
       "      <td>1000_442</td>\n",
       "      <td>1000</td>\n",
       "      <td>2018-12-27</td>\n",
       "      <td>880.22</td>\n",
       "      <td>12</td>\n",
       "    </tr>\n",
       "  </tbody>\n",
       "</table>\n",
       "</div>"
      ],
      "text/plain": [
       "         id  user_id session_date  mb_used  month\n",
       "0   1000_13     1000   2018-12-29    89.86     12\n",
       "1  1000_204     1000   2018-12-31     0.00     12\n",
       "2  1000_379     1000   2018-12-28   660.40     12\n",
       "3  1000_413     1000   2018-12-26   270.99     12\n",
       "4  1000_442     1000   2018-12-27   880.22     12"
      ]
     },
     "metadata": {},
     "output_type": "display_data"
    }
   ],
   "source": [
    "display(df_internet.head())"
   ]
  },
  {
   "cell_type": "code",
   "execution_count": 67,
   "metadata": {
    "scrolled": true
   },
   "outputs": [
    {
     "data": {
      "text/html": [
       "<div>\n",
       "<style scoped>\n",
       "    .dataframe tbody tr th:only-of-type {\n",
       "        vertical-align: middle;\n",
       "    }\n",
       "\n",
       "    .dataframe tbody tr th {\n",
       "        vertical-align: top;\n",
       "    }\n",
       "\n",
       "    .dataframe thead th {\n",
       "        text-align: right;\n",
       "    }\n",
       "</style>\n",
       "<table border=\"1\" class=\"dataframe\">\n",
       "  <thead>\n",
       "    <tr style=\"text-align: right;\">\n",
       "      <th></th>\n",
       "      <th>id</th>\n",
       "      <th>user_id</th>\n",
       "      <th>call_date</th>\n",
       "      <th>duration</th>\n",
       "      <th>month</th>\n",
       "      <th>min_charge</th>\n",
       "    </tr>\n",
       "  </thead>\n",
       "  <tbody>\n",
       "    <tr>\n",
       "      <td>0</td>\n",
       "      <td>1000_93</td>\n",
       "      <td>1000</td>\n",
       "      <td>2018-12-27</td>\n",
       "      <td>8.52</td>\n",
       "      <td>12</td>\n",
       "      <td>9</td>\n",
       "    </tr>\n",
       "    <tr>\n",
       "      <td>1</td>\n",
       "      <td>1000_145</td>\n",
       "      <td>1000</td>\n",
       "      <td>2018-12-27</td>\n",
       "      <td>13.66</td>\n",
       "      <td>12</td>\n",
       "      <td>14</td>\n",
       "    </tr>\n",
       "    <tr>\n",
       "      <td>2</td>\n",
       "      <td>1000_247</td>\n",
       "      <td>1000</td>\n",
       "      <td>2018-12-27</td>\n",
       "      <td>14.48</td>\n",
       "      <td>12</td>\n",
       "      <td>15</td>\n",
       "    </tr>\n",
       "    <tr>\n",
       "      <td>3</td>\n",
       "      <td>1000_309</td>\n",
       "      <td>1000</td>\n",
       "      <td>2018-12-28</td>\n",
       "      <td>5.76</td>\n",
       "      <td>12</td>\n",
       "      <td>6</td>\n",
       "    </tr>\n",
       "    <tr>\n",
       "      <td>4</td>\n",
       "      <td>1000_380</td>\n",
       "      <td>1000</td>\n",
       "      <td>2018-12-30</td>\n",
       "      <td>4.22</td>\n",
       "      <td>12</td>\n",
       "      <td>5</td>\n",
       "    </tr>\n",
       "  </tbody>\n",
       "</table>\n",
       "</div>"
      ],
      "text/plain": [
       "         id  user_id  call_date  duration  month  min_charge\n",
       "0   1000_93     1000 2018-12-27      8.52     12           9\n",
       "1  1000_145     1000 2018-12-27     13.66     12          14\n",
       "2  1000_247     1000 2018-12-27     14.48     12          15\n",
       "3  1000_309     1000 2018-12-28      5.76     12           6\n",
       "4  1000_380     1000 2018-12-30      4.22     12           5"
      ]
     },
     "metadata": {},
     "output_type": "display_data"
    }
   ],
   "source": [
    "display(df_calls.head())"
   ]
  },
  {
   "cell_type": "markdown",
   "metadata": {},
   "source": [
    "we added a month column"
   ]
  },
  {
   "cell_type": "markdown",
   "metadata": {},
   "source": [
    "now we are stating to join  all are tables to on data source that it will be a lot easyer to analyze"
   ]
  },
  {
   "cell_type": "code",
   "execution_count": 68,
   "metadata": {},
   "outputs": [],
   "source": [
    "total_calls = df_calls.pivot_table(index=['user_id', 'month'], values='min_charge', aggfunc='sum')"
   ]
  },
  {
   "cell_type": "code",
   "execution_count": 69,
   "metadata": {},
   "outputs": [
    {
     "data": {
      "text/html": [
       "<div>\n",
       "<style scoped>\n",
       "    .dataframe tbody tr th:only-of-type {\n",
       "        vertical-align: middle;\n",
       "    }\n",
       "\n",
       "    .dataframe tbody tr th {\n",
       "        vertical-align: top;\n",
       "    }\n",
       "\n",
       "    .dataframe thead th {\n",
       "        text-align: right;\n",
       "    }\n",
       "</style>\n",
       "<table border=\"1\" class=\"dataframe\">\n",
       "  <thead>\n",
       "    <tr style=\"text-align: right;\">\n",
       "      <th></th>\n",
       "      <th></th>\n",
       "      <th>min_charge</th>\n",
       "    </tr>\n",
       "    <tr>\n",
       "      <th>user_id</th>\n",
       "      <th>month</th>\n",
       "      <th></th>\n",
       "    </tr>\n",
       "  </thead>\n",
       "  <tbody>\n",
       "    <tr>\n",
       "      <td>1000</td>\n",
       "      <td>12</td>\n",
       "      <td>124</td>\n",
       "    </tr>\n",
       "    <tr>\n",
       "      <td rowspan=\"4\" valign=\"top\">1001</td>\n",
       "      <td>8</td>\n",
       "      <td>182</td>\n",
       "    </tr>\n",
       "    <tr>\n",
       "      <td>9</td>\n",
       "      <td>315</td>\n",
       "    </tr>\n",
       "    <tr>\n",
       "      <td>10</td>\n",
       "      <td>393</td>\n",
       "    </tr>\n",
       "    <tr>\n",
       "      <td>11</td>\n",
       "      <td>426</td>\n",
       "    </tr>\n",
       "  </tbody>\n",
       "</table>\n",
       "</div>"
      ],
      "text/plain": [
       "               min_charge\n",
       "user_id month            \n",
       "1000    12            124\n",
       "1001    8             182\n",
       "        9             315\n",
       "        10            393\n",
       "        11            426"
      ]
     },
     "execution_count": 69,
     "metadata": {},
     "output_type": "execute_result"
    }
   ],
   "source": [
    "total_calls.head()"
   ]
  },
  {
   "cell_type": "markdown",
   "metadata": {},
   "source": [
    "we made a table we all the monthly minutes are sumed up"
   ]
  },
  {
   "cell_type": "code",
   "execution_count": 70,
   "metadata": {},
   "outputs": [
    {
     "data": {
      "text/html": [
       "<div>\n",
       "<style scoped>\n",
       "    .dataframe tbody tr th:only-of-type {\n",
       "        vertical-align: middle;\n",
       "    }\n",
       "\n",
       "    .dataframe tbody tr th {\n",
       "        vertical-align: top;\n",
       "    }\n",
       "\n",
       "    .dataframe thead th {\n",
       "        text-align: right;\n",
       "    }\n",
       "</style>\n",
       "<table border=\"1\" class=\"dataframe\">\n",
       "  <thead>\n",
       "    <tr style=\"text-align: right;\">\n",
       "      <th></th>\n",
       "      <th>id</th>\n",
       "      <th>user_id</th>\n",
       "      <th>message_date</th>\n",
       "      <th>month</th>\n",
       "    </tr>\n",
       "  </thead>\n",
       "  <tbody>\n",
       "    <tr>\n",
       "      <td>0</td>\n",
       "      <td>1000_125</td>\n",
       "      <td>1000</td>\n",
       "      <td>2018-12-27</td>\n",
       "      <td>12</td>\n",
       "    </tr>\n",
       "    <tr>\n",
       "      <td>1</td>\n",
       "      <td>1000_160</td>\n",
       "      <td>1000</td>\n",
       "      <td>2018-12-31</td>\n",
       "      <td>12</td>\n",
       "    </tr>\n",
       "    <tr>\n",
       "      <td>2</td>\n",
       "      <td>1000_223</td>\n",
       "      <td>1000</td>\n",
       "      <td>2018-12-31</td>\n",
       "      <td>12</td>\n",
       "    </tr>\n",
       "    <tr>\n",
       "      <td>3</td>\n",
       "      <td>1000_251</td>\n",
       "      <td>1000</td>\n",
       "      <td>2018-12-27</td>\n",
       "      <td>12</td>\n",
       "    </tr>\n",
       "    <tr>\n",
       "      <td>4</td>\n",
       "      <td>1000_255</td>\n",
       "      <td>1000</td>\n",
       "      <td>2018-12-26</td>\n",
       "      <td>12</td>\n",
       "    </tr>\n",
       "  </tbody>\n",
       "</table>\n",
       "</div>"
      ],
      "text/plain": [
       "         id  user_id message_date  month\n",
       "0  1000_125     1000   2018-12-27     12\n",
       "1  1000_160     1000   2018-12-31     12\n",
       "2  1000_223     1000   2018-12-31     12\n",
       "3  1000_251     1000   2018-12-27     12\n",
       "4  1000_255     1000   2018-12-26     12"
      ]
     },
     "metadata": {},
     "output_type": "display_data"
    }
   ],
   "source": [
    "display(df_messages.head())"
   ]
  },
  {
   "cell_type": "code",
   "execution_count": 71,
   "metadata": {},
   "outputs": [],
   "source": [
    "total_msg =  df_messages.pivot_table(index=['user_id', 'month'], values='id', aggfunc='count')"
   ]
  },
  {
   "cell_type": "code",
   "execution_count": 72,
   "metadata": {},
   "outputs": [],
   "source": [
    "total_msg.rename(columns = {'id':'num_msg'}, inplace = True)"
   ]
  },
  {
   "cell_type": "code",
   "execution_count": 73,
   "metadata": {},
   "outputs": [
    {
     "data": {
      "text/html": [
       "<div>\n",
       "<style scoped>\n",
       "    .dataframe tbody tr th:only-of-type {\n",
       "        vertical-align: middle;\n",
       "    }\n",
       "\n",
       "    .dataframe tbody tr th {\n",
       "        vertical-align: top;\n",
       "    }\n",
       "\n",
       "    .dataframe thead th {\n",
       "        text-align: right;\n",
       "    }\n",
       "</style>\n",
       "<table border=\"1\" class=\"dataframe\">\n",
       "  <thead>\n",
       "    <tr style=\"text-align: right;\">\n",
       "      <th></th>\n",
       "      <th></th>\n",
       "      <th>num_msg</th>\n",
       "    </tr>\n",
       "    <tr>\n",
       "      <th>user_id</th>\n",
       "      <th>month</th>\n",
       "      <th></th>\n",
       "    </tr>\n",
       "  </thead>\n",
       "  <tbody>\n",
       "    <tr>\n",
       "      <td>1000</td>\n",
       "      <td>12</td>\n",
       "      <td>11</td>\n",
       "    </tr>\n",
       "    <tr>\n",
       "      <td rowspan=\"4\" valign=\"top\">1001</td>\n",
       "      <td>8</td>\n",
       "      <td>30</td>\n",
       "    </tr>\n",
       "    <tr>\n",
       "      <td>9</td>\n",
       "      <td>44</td>\n",
       "    </tr>\n",
       "    <tr>\n",
       "      <td>10</td>\n",
       "      <td>53</td>\n",
       "    </tr>\n",
       "    <tr>\n",
       "      <td>11</td>\n",
       "      <td>36</td>\n",
       "    </tr>\n",
       "  </tbody>\n",
       "</table>\n",
       "</div>"
      ],
      "text/plain": [
       "               num_msg\n",
       "user_id month         \n",
       "1000    12          11\n",
       "1001    8           30\n",
       "        9           44\n",
       "        10          53\n",
       "        11          36"
      ]
     },
     "metadata": {},
     "output_type": "display_data"
    }
   ],
   "source": [
    "display(total_msg.head())"
   ]
  },
  {
   "cell_type": "code",
   "execution_count": 74,
   "metadata": {},
   "outputs": [
    {
     "data": {
      "text/html": [
       "<div>\n",
       "<style scoped>\n",
       "    .dataframe tbody tr th:only-of-type {\n",
       "        vertical-align: middle;\n",
       "    }\n",
       "\n",
       "    .dataframe tbody tr th {\n",
       "        vertical-align: top;\n",
       "    }\n",
       "\n",
       "    .dataframe thead th {\n",
       "        text-align: right;\n",
       "    }\n",
       "</style>\n",
       "<table border=\"1\" class=\"dataframe\">\n",
       "  <thead>\n",
       "    <tr style=\"text-align: right;\">\n",
       "      <th></th>\n",
       "      <th>id</th>\n",
       "      <th>user_id</th>\n",
       "      <th>session_date</th>\n",
       "      <th>mb_used</th>\n",
       "      <th>month</th>\n",
       "    </tr>\n",
       "  </thead>\n",
       "  <tbody>\n",
       "    <tr>\n",
       "      <td>0</td>\n",
       "      <td>1000_13</td>\n",
       "      <td>1000</td>\n",
       "      <td>2018-12-29</td>\n",
       "      <td>89.86</td>\n",
       "      <td>12</td>\n",
       "    </tr>\n",
       "    <tr>\n",
       "      <td>1</td>\n",
       "      <td>1000_204</td>\n",
       "      <td>1000</td>\n",
       "      <td>2018-12-31</td>\n",
       "      <td>0.00</td>\n",
       "      <td>12</td>\n",
       "    </tr>\n",
       "    <tr>\n",
       "      <td>2</td>\n",
       "      <td>1000_379</td>\n",
       "      <td>1000</td>\n",
       "      <td>2018-12-28</td>\n",
       "      <td>660.40</td>\n",
       "      <td>12</td>\n",
       "    </tr>\n",
       "    <tr>\n",
       "      <td>3</td>\n",
       "      <td>1000_413</td>\n",
       "      <td>1000</td>\n",
       "      <td>2018-12-26</td>\n",
       "      <td>270.99</td>\n",
       "      <td>12</td>\n",
       "    </tr>\n",
       "    <tr>\n",
       "      <td>4</td>\n",
       "      <td>1000_442</td>\n",
       "      <td>1000</td>\n",
       "      <td>2018-12-27</td>\n",
       "      <td>880.22</td>\n",
       "      <td>12</td>\n",
       "    </tr>\n",
       "  </tbody>\n",
       "</table>\n",
       "</div>"
      ],
      "text/plain": [
       "         id  user_id session_date  mb_used  month\n",
       "0   1000_13     1000   2018-12-29    89.86     12\n",
       "1  1000_204     1000   2018-12-31     0.00     12\n",
       "2  1000_379     1000   2018-12-28   660.40     12\n",
       "3  1000_413     1000   2018-12-26   270.99     12\n",
       "4  1000_442     1000   2018-12-27   880.22     12"
      ]
     },
     "metadata": {},
     "output_type": "display_data"
    }
   ],
   "source": [
    "display(df_internet.head())"
   ]
  },
  {
   "cell_type": "markdown",
   "metadata": {},
   "source": [
    "we made a table with the number of all messages per user per month"
   ]
  },
  {
   "cell_type": "code",
   "execution_count": 75,
   "metadata": {},
   "outputs": [],
   "source": [
    "total_internet = df_internet.groupby(['user_id', 'month'])['mb_used'].sum()"
   ]
  },
  {
   "cell_type": "code",
   "execution_count": 76,
   "metadata": {},
   "outputs": [
    {
     "data": {
      "text/plain": [
       "user_id  month\n",
       "1000     12        1901.47\n",
       "1001     8         6919.15\n",
       "         9        13314.82\n",
       "         10       22330.49\n",
       "         11       18504.30\n",
       "Name: mb_used, dtype: float64"
      ]
     },
     "metadata": {},
     "output_type": "display_data"
    }
   ],
   "source": [
    "display(total_internet.head())"
   ]
  },
  {
   "cell_type": "code",
   "execution_count": 77,
   "metadata": {},
   "outputs": [],
   "source": [
    "total_info = total_calls.merge(total_msg, on=['user_id','month'], how='outer').fillna(0)"
   ]
  },
  {
   "cell_type": "code",
   "execution_count": 78,
   "metadata": {},
   "outputs": [],
   "source": [
    "total_info1 = total_info.merge(total_internet, on=['user_id','month'], how='outer').fillna(0)"
   ]
  },
  {
   "cell_type": "code",
   "execution_count": 79,
   "metadata": {},
   "outputs": [
    {
     "data": {
      "text/html": [
       "<div>\n",
       "<style scoped>\n",
       "    .dataframe tbody tr th:only-of-type {\n",
       "        vertical-align: middle;\n",
       "    }\n",
       "\n",
       "    .dataframe tbody tr th {\n",
       "        vertical-align: top;\n",
       "    }\n",
       "\n",
       "    .dataframe thead th {\n",
       "        text-align: right;\n",
       "    }\n",
       "</style>\n",
       "<table border=\"1\" class=\"dataframe\">\n",
       "  <thead>\n",
       "    <tr style=\"text-align: right;\">\n",
       "      <th></th>\n",
       "      <th></th>\n",
       "      <th>min_charge</th>\n",
       "      <th>num_msg</th>\n",
       "      <th>mb_used</th>\n",
       "    </tr>\n",
       "    <tr>\n",
       "      <th>user_id</th>\n",
       "      <th>month</th>\n",
       "      <th></th>\n",
       "      <th></th>\n",
       "      <th></th>\n",
       "    </tr>\n",
       "  </thead>\n",
       "  <tbody>\n",
       "    <tr>\n",
       "      <td>1000</td>\n",
       "      <td>12</td>\n",
       "      <td>124.0</td>\n",
       "      <td>11.0</td>\n",
       "      <td>1901.47</td>\n",
       "    </tr>\n",
       "    <tr>\n",
       "      <td rowspan=\"4\" valign=\"top\">1001</td>\n",
       "      <td>8</td>\n",
       "      <td>182.0</td>\n",
       "      <td>30.0</td>\n",
       "      <td>6919.15</td>\n",
       "    </tr>\n",
       "    <tr>\n",
       "      <td>9</td>\n",
       "      <td>315.0</td>\n",
       "      <td>44.0</td>\n",
       "      <td>13314.82</td>\n",
       "    </tr>\n",
       "    <tr>\n",
       "      <td>10</td>\n",
       "      <td>393.0</td>\n",
       "      <td>53.0</td>\n",
       "      <td>22330.49</td>\n",
       "    </tr>\n",
       "    <tr>\n",
       "      <td>11</td>\n",
       "      <td>426.0</td>\n",
       "      <td>36.0</td>\n",
       "      <td>18504.30</td>\n",
       "    </tr>\n",
       "  </tbody>\n",
       "</table>\n",
       "</div>"
      ],
      "text/plain": [
       "               min_charge  num_msg   mb_used\n",
       "user_id month                               \n",
       "1000    12          124.0     11.0   1901.47\n",
       "1001    8           182.0     30.0   6919.15\n",
       "        9           315.0     44.0  13314.82\n",
       "        10          393.0     53.0  22330.49\n",
       "        11          426.0     36.0  18504.30"
      ]
     },
     "metadata": {},
     "output_type": "display_data"
    }
   ],
   "source": [
    "display(total_info1.head())"
   ]
  },
  {
   "cell_type": "markdown",
   "metadata": {},
   "source": [
    "we made a table with all the mb used for every user per month"
   ]
  },
  {
   "cell_type": "code",
   "execution_count": 80,
   "metadata": {},
   "outputs": [
    {
     "name": "stdout",
     "output_type": "stream",
     "text": [
      "2293\n"
     ]
    }
   ],
   "source": [
    "print(len(total_info1))"
   ]
  },
  {
   "cell_type": "code",
   "execution_count": 81,
   "metadata": {},
   "outputs": [
    {
     "name": "stdout",
     "output_type": "stream",
     "text": [
      "<class 'pandas.core.frame.DataFrame'>\n",
      "MultiIndex: 2293 entries, (1000, 12) to (1311, 6)\n",
      "Data columns (total 3 columns):\n",
      "min_charge    2293 non-null float64\n",
      "num_msg       2293 non-null float64\n",
      "mb_used       2293 non-null float64\n",
      "dtypes: float64(3)\n",
      "memory usage: 64.5 KB\n"
     ]
    }
   ],
   "source": [
    "total_info1.info()"
   ]
  },
  {
   "cell_type": "code",
   "execution_count": 82,
   "metadata": {},
   "outputs": [],
   "source": [
    "df_to_merge = [total_calls, total_msg, total_internet]\n",
    "total = reduce(lambda left,right: pd.merge(left,right,on=['user_id', 'month'], how='outer'), df_to_merge )"
   ]
  },
  {
   "cell_type": "code",
   "execution_count": 83,
   "metadata": {},
   "outputs": [
    {
     "data": {
      "text/html": [
       "<div>\n",
       "<style scoped>\n",
       "    .dataframe tbody tr th:only-of-type {\n",
       "        vertical-align: middle;\n",
       "    }\n",
       "\n",
       "    .dataframe tbody tr th {\n",
       "        vertical-align: top;\n",
       "    }\n",
       "\n",
       "    .dataframe thead th {\n",
       "        text-align: right;\n",
       "    }\n",
       "</style>\n",
       "<table border=\"1\" class=\"dataframe\">\n",
       "  <thead>\n",
       "    <tr style=\"text-align: right;\">\n",
       "      <th></th>\n",
       "      <th></th>\n",
       "      <th>min_charge</th>\n",
       "      <th>num_msg</th>\n",
       "      <th>mb_used</th>\n",
       "    </tr>\n",
       "    <tr>\n",
       "      <th>user_id</th>\n",
       "      <th>month</th>\n",
       "      <th></th>\n",
       "      <th></th>\n",
       "      <th></th>\n",
       "    </tr>\n",
       "  </thead>\n",
       "  <tbody>\n",
       "    <tr>\n",
       "      <td>1000</td>\n",
       "      <td>12</td>\n",
       "      <td>124.0</td>\n",
       "      <td>11.0</td>\n",
       "      <td>1901.47</td>\n",
       "    </tr>\n",
       "    <tr>\n",
       "      <td rowspan=\"4\" valign=\"top\">1001</td>\n",
       "      <td>8</td>\n",
       "      <td>182.0</td>\n",
       "      <td>30.0</td>\n",
       "      <td>6919.15</td>\n",
       "    </tr>\n",
       "    <tr>\n",
       "      <td>9</td>\n",
       "      <td>315.0</td>\n",
       "      <td>44.0</td>\n",
       "      <td>13314.82</td>\n",
       "    </tr>\n",
       "    <tr>\n",
       "      <td>10</td>\n",
       "      <td>393.0</td>\n",
       "      <td>53.0</td>\n",
       "      <td>22330.49</td>\n",
       "    </tr>\n",
       "    <tr>\n",
       "      <td>11</td>\n",
       "      <td>426.0</td>\n",
       "      <td>36.0</td>\n",
       "      <td>18504.30</td>\n",
       "    </tr>\n",
       "  </tbody>\n",
       "</table>\n",
       "</div>"
      ],
      "text/plain": [
       "               min_charge  num_msg   mb_used\n",
       "user_id month                               \n",
       "1000    12          124.0     11.0   1901.47\n",
       "1001    8           182.0     30.0   6919.15\n",
       "        9           315.0     44.0  13314.82\n",
       "        10          393.0     53.0  22330.49\n",
       "        11          426.0     36.0  18504.30"
      ]
     },
     "execution_count": 83,
     "metadata": {},
     "output_type": "execute_result"
    }
   ],
   "source": [
    "total.head()"
   ]
  },
  {
   "cell_type": "markdown",
   "metadata": {},
   "source": [
    "and checking that it works"
   ]
  },
  {
   "cell_type": "markdown",
   "metadata": {},
   "source": [
    "now we will create a dataframe with all monthly charges oer user"
   ]
  },
  {
   "cell_type": "code",
   "execution_count": 84,
   "metadata": {},
   "outputs": [],
   "source": [
    "\n",
    "list_user_id= df_users['user_id'].to_list()\n",
    "rows_ind_month=[]\n",
    "for x in list_user_id:\n",
    "    for i in range(12):\n",
    "        rows_ind_month.append([x,i+1])\n",
    "\n",
    "charge_to_month=pd.DataFrame(rows_ind_month, columns=['user_id', 'month'])\n",
    "charge_to_month=pd.merge(charge_to_month,df_users[['user_id','reg_date']],on='user_id', how='left')\n",
    "charge_to_month['valid_m']=charge_to_month['month']>=charge_to_month['reg_date'].dt.month \n",
    "charge_to_month=charge_to_month.query('valid_m==True')"
   ]
  },
  {
   "cell_type": "code",
   "execution_count": 85,
   "metadata": {},
   "outputs": [
    {
     "data": {
      "text/html": [
       "<div>\n",
       "<style scoped>\n",
       "    .dataframe tbody tr th:only-of-type {\n",
       "        vertical-align: middle;\n",
       "    }\n",
       "\n",
       "    .dataframe tbody tr th {\n",
       "        vertical-align: top;\n",
       "    }\n",
       "\n",
       "    .dataframe thead th {\n",
       "        text-align: right;\n",
       "    }\n",
       "</style>\n",
       "<table border=\"1\" class=\"dataframe\">\n",
       "  <thead>\n",
       "    <tr style=\"text-align: right;\">\n",
       "      <th></th>\n",
       "      <th>user_id</th>\n",
       "      <th>month</th>\n",
       "      <th>reg_date</th>\n",
       "      <th>valid_m</th>\n",
       "    </tr>\n",
       "  </thead>\n",
       "  <tbody>\n",
       "    <tr>\n",
       "      <td>11</td>\n",
       "      <td>1000</td>\n",
       "      <td>12</td>\n",
       "      <td>2018-12-24</td>\n",
       "      <td>True</td>\n",
       "    </tr>\n",
       "    <tr>\n",
       "      <td>19</td>\n",
       "      <td>1001</td>\n",
       "      <td>8</td>\n",
       "      <td>2018-08-13</td>\n",
       "      <td>True</td>\n",
       "    </tr>\n",
       "    <tr>\n",
       "      <td>20</td>\n",
       "      <td>1001</td>\n",
       "      <td>9</td>\n",
       "      <td>2018-08-13</td>\n",
       "      <td>True</td>\n",
       "    </tr>\n",
       "    <tr>\n",
       "      <td>21</td>\n",
       "      <td>1001</td>\n",
       "      <td>10</td>\n",
       "      <td>2018-08-13</td>\n",
       "      <td>True</td>\n",
       "    </tr>\n",
       "    <tr>\n",
       "      <td>22</td>\n",
       "      <td>1001</td>\n",
       "      <td>11</td>\n",
       "      <td>2018-08-13</td>\n",
       "      <td>True</td>\n",
       "    </tr>\n",
       "  </tbody>\n",
       "</table>\n",
       "</div>"
      ],
      "text/plain": [
       "    user_id  month   reg_date  valid_m\n",
       "11     1000     12 2018-12-24     True\n",
       "19     1001      8 2018-08-13     True\n",
       "20     1001      9 2018-08-13     True\n",
       "21     1001     10 2018-08-13     True\n",
       "22     1001     11 2018-08-13     True"
      ]
     },
     "execution_count": 85,
     "metadata": {},
     "output_type": "execute_result"
    }
   ],
   "source": [
    "charge_to_month.head()"
   ]
  },
  {
   "cell_type": "code",
   "execution_count": 86,
   "metadata": {},
   "outputs": [],
   "source": [
    "charge_to_month = charge_to_month[['user_id', 'month']]"
   ]
  },
  {
   "cell_type": "code",
   "execution_count": 87,
   "metadata": {},
   "outputs": [
    {
     "data": {
      "text/html": [
       "<div>\n",
       "<style scoped>\n",
       "    .dataframe tbody tr th:only-of-type {\n",
       "        vertical-align: middle;\n",
       "    }\n",
       "\n",
       "    .dataframe tbody tr th {\n",
       "        vertical-align: top;\n",
       "    }\n",
       "\n",
       "    .dataframe thead th {\n",
       "        text-align: right;\n",
       "    }\n",
       "</style>\n",
       "<table border=\"1\" class=\"dataframe\">\n",
       "  <thead>\n",
       "    <tr style=\"text-align: right;\">\n",
       "      <th></th>\n",
       "      <th>user_id</th>\n",
       "      <th>month</th>\n",
       "    </tr>\n",
       "  </thead>\n",
       "  <tbody>\n",
       "    <tr>\n",
       "      <td>11</td>\n",
       "      <td>1000</td>\n",
       "      <td>12</td>\n",
       "    </tr>\n",
       "    <tr>\n",
       "      <td>19</td>\n",
       "      <td>1001</td>\n",
       "      <td>8</td>\n",
       "    </tr>\n",
       "    <tr>\n",
       "      <td>20</td>\n",
       "      <td>1001</td>\n",
       "      <td>9</td>\n",
       "    </tr>\n",
       "    <tr>\n",
       "      <td>21</td>\n",
       "      <td>1001</td>\n",
       "      <td>10</td>\n",
       "    </tr>\n",
       "    <tr>\n",
       "      <td>22</td>\n",
       "      <td>1001</td>\n",
       "      <td>11</td>\n",
       "    </tr>\n",
       "  </tbody>\n",
       "</table>\n",
       "</div>"
      ],
      "text/plain": [
       "    user_id  month\n",
       "11     1000     12\n",
       "19     1001      8\n",
       "20     1001      9\n",
       "21     1001     10\n",
       "22     1001     11"
      ]
     },
     "execution_count": 87,
     "metadata": {},
     "output_type": "execute_result"
    }
   ],
   "source": [
    "charge_to_month.head()"
   ]
  },
  {
   "cell_type": "raw",
   "metadata": {},
   "source": [
    "and now merging step by step our dataframes"
   ]
  },
  {
   "cell_type": "code",
   "execution_count": 88,
   "metadata": {},
   "outputs": [],
   "source": [
    "charge_to_month = pd.merge(charge_to_month, df_users[['user_id', 'city', 'plan']], on='user_id', how='left')"
   ]
  },
  {
   "cell_type": "code",
   "execution_count": 89,
   "metadata": {},
   "outputs": [
    {
     "data": {
      "text/html": [
       "<div>\n",
       "<style scoped>\n",
       "    .dataframe tbody tr th:only-of-type {\n",
       "        vertical-align: middle;\n",
       "    }\n",
       "\n",
       "    .dataframe tbody tr th {\n",
       "        vertical-align: top;\n",
       "    }\n",
       "\n",
       "    .dataframe thead th {\n",
       "        text-align: right;\n",
       "    }\n",
       "</style>\n",
       "<table border=\"1\" class=\"dataframe\">\n",
       "  <thead>\n",
       "    <tr style=\"text-align: right;\">\n",
       "      <th></th>\n",
       "      <th>user_id</th>\n",
       "      <th>month</th>\n",
       "      <th>city</th>\n",
       "      <th>plan</th>\n",
       "    </tr>\n",
       "  </thead>\n",
       "  <tbody>\n",
       "    <tr>\n",
       "      <td>0</td>\n",
       "      <td>1000</td>\n",
       "      <td>12</td>\n",
       "      <td>atlanta-sandy springs-roswell, ga msa</td>\n",
       "      <td>ultimate</td>\n",
       "    </tr>\n",
       "    <tr>\n",
       "      <td>1</td>\n",
       "      <td>1001</td>\n",
       "      <td>8</td>\n",
       "      <td>seattle-tacoma-bellevue, wa msa</td>\n",
       "      <td>surf</td>\n",
       "    </tr>\n",
       "    <tr>\n",
       "      <td>2</td>\n",
       "      <td>1001</td>\n",
       "      <td>9</td>\n",
       "      <td>seattle-tacoma-bellevue, wa msa</td>\n",
       "      <td>surf</td>\n",
       "    </tr>\n",
       "    <tr>\n",
       "      <td>3</td>\n",
       "      <td>1001</td>\n",
       "      <td>10</td>\n",
       "      <td>seattle-tacoma-bellevue, wa msa</td>\n",
       "      <td>surf</td>\n",
       "    </tr>\n",
       "    <tr>\n",
       "      <td>4</td>\n",
       "      <td>1001</td>\n",
       "      <td>11</td>\n",
       "      <td>seattle-tacoma-bellevue, wa msa</td>\n",
       "      <td>surf</td>\n",
       "    </tr>\n",
       "  </tbody>\n",
       "</table>\n",
       "</div>"
      ],
      "text/plain": [
       "   user_id  month                                   city      plan\n",
       "0     1000     12  atlanta-sandy springs-roswell, ga msa  ultimate\n",
       "1     1001      8        seattle-tacoma-bellevue, wa msa      surf\n",
       "2     1001      9        seattle-tacoma-bellevue, wa msa      surf\n",
       "3     1001     10        seattle-tacoma-bellevue, wa msa      surf\n",
       "4     1001     11        seattle-tacoma-bellevue, wa msa      surf"
      ]
     },
     "execution_count": 89,
     "metadata": {},
     "output_type": "execute_result"
    }
   ],
   "source": [
    "charge_to_month.head()"
   ]
  },
  {
   "cell_type": "code",
   "execution_count": 90,
   "metadata": {},
   "outputs": [],
   "source": [
    "charge_to_month = pd.merge(charge_to_month, total, on=['user_id', 'month'], how='left')"
   ]
  },
  {
   "cell_type": "code",
   "execution_count": 91,
   "metadata": {},
   "outputs": [
    {
     "data": {
      "text/html": [
       "<div>\n",
       "<style scoped>\n",
       "    .dataframe tbody tr th:only-of-type {\n",
       "        vertical-align: middle;\n",
       "    }\n",
       "\n",
       "    .dataframe tbody tr th {\n",
       "        vertical-align: top;\n",
       "    }\n",
       "\n",
       "    .dataframe thead th {\n",
       "        text-align: right;\n",
       "    }\n",
       "</style>\n",
       "<table border=\"1\" class=\"dataframe\">\n",
       "  <thead>\n",
       "    <tr style=\"text-align: right;\">\n",
       "      <th></th>\n",
       "      <th>user_id</th>\n",
       "      <th>month</th>\n",
       "      <th>city</th>\n",
       "      <th>plan</th>\n",
       "      <th>min_charge</th>\n",
       "      <th>num_msg</th>\n",
       "      <th>mb_used</th>\n",
       "    </tr>\n",
       "  </thead>\n",
       "  <tbody>\n",
       "    <tr>\n",
       "      <td>0</td>\n",
       "      <td>1000</td>\n",
       "      <td>12</td>\n",
       "      <td>atlanta-sandy springs-roswell, ga msa</td>\n",
       "      <td>ultimate</td>\n",
       "      <td>124.0</td>\n",
       "      <td>11.0</td>\n",
       "      <td>1901.47</td>\n",
       "    </tr>\n",
       "    <tr>\n",
       "      <td>1</td>\n",
       "      <td>1001</td>\n",
       "      <td>8</td>\n",
       "      <td>seattle-tacoma-bellevue, wa msa</td>\n",
       "      <td>surf</td>\n",
       "      <td>182.0</td>\n",
       "      <td>30.0</td>\n",
       "      <td>6919.15</td>\n",
       "    </tr>\n",
       "    <tr>\n",
       "      <td>2</td>\n",
       "      <td>1001</td>\n",
       "      <td>9</td>\n",
       "      <td>seattle-tacoma-bellevue, wa msa</td>\n",
       "      <td>surf</td>\n",
       "      <td>315.0</td>\n",
       "      <td>44.0</td>\n",
       "      <td>13314.82</td>\n",
       "    </tr>\n",
       "    <tr>\n",
       "      <td>3</td>\n",
       "      <td>1001</td>\n",
       "      <td>10</td>\n",
       "      <td>seattle-tacoma-bellevue, wa msa</td>\n",
       "      <td>surf</td>\n",
       "      <td>393.0</td>\n",
       "      <td>53.0</td>\n",
       "      <td>22330.49</td>\n",
       "    </tr>\n",
       "    <tr>\n",
       "      <td>4</td>\n",
       "      <td>1001</td>\n",
       "      <td>11</td>\n",
       "      <td>seattle-tacoma-bellevue, wa msa</td>\n",
       "      <td>surf</td>\n",
       "      <td>426.0</td>\n",
       "      <td>36.0</td>\n",
       "      <td>18504.30</td>\n",
       "    </tr>\n",
       "  </tbody>\n",
       "</table>\n",
       "</div>"
      ],
      "text/plain": [
       "   user_id  month                                   city      plan  \\\n",
       "0     1000     12  atlanta-sandy springs-roswell, ga msa  ultimate   \n",
       "1     1001      8        seattle-tacoma-bellevue, wa msa      surf   \n",
       "2     1001      9        seattle-tacoma-bellevue, wa msa      surf   \n",
       "3     1001     10        seattle-tacoma-bellevue, wa msa      surf   \n",
       "4     1001     11        seattle-tacoma-bellevue, wa msa      surf   \n",
       "\n",
       "   min_charge  num_msg   mb_used  \n",
       "0       124.0     11.0   1901.47  \n",
       "1       182.0     30.0   6919.15  \n",
       "2       315.0     44.0  13314.82  \n",
       "3       393.0     53.0  22330.49  \n",
       "4       426.0     36.0  18504.30  "
      ]
     },
     "execution_count": 91,
     "metadata": {},
     "output_type": "execute_result"
    }
   ],
   "source": [
    "charge_to_month.head()"
   ]
  },
  {
   "cell_type": "code",
   "execution_count": 92,
   "metadata": {},
   "outputs": [],
   "source": [
    "df_plans.rename(columns = {'plan_name':'plan'}, inplace = True)"
   ]
  },
  {
   "cell_type": "code",
   "execution_count": 93,
   "metadata": {},
   "outputs": [
    {
     "data": {
      "text/html": [
       "<div>\n",
       "<style scoped>\n",
       "    .dataframe tbody tr th:only-of-type {\n",
       "        vertical-align: middle;\n",
       "    }\n",
       "\n",
       "    .dataframe tbody tr th {\n",
       "        vertical-align: top;\n",
       "    }\n",
       "\n",
       "    .dataframe thead th {\n",
       "        text-align: right;\n",
       "    }\n",
       "</style>\n",
       "<table border=\"1\" class=\"dataframe\">\n",
       "  <thead>\n",
       "    <tr style=\"text-align: right;\">\n",
       "      <th></th>\n",
       "      <th>messages_included</th>\n",
       "      <th>mb_per_month_included</th>\n",
       "      <th>minutes_included</th>\n",
       "      <th>usd_monthly_pay</th>\n",
       "      <th>usd_per_gb</th>\n",
       "      <th>usd_per_message</th>\n",
       "      <th>usd_per_minute</th>\n",
       "      <th>plan</th>\n",
       "    </tr>\n",
       "  </thead>\n",
       "  <tbody>\n",
       "    <tr>\n",
       "      <td>0</td>\n",
       "      <td>50</td>\n",
       "      <td>15360</td>\n",
       "      <td>500</td>\n",
       "      <td>20</td>\n",
       "      <td>10</td>\n",
       "      <td>0.03</td>\n",
       "      <td>0.03</td>\n",
       "      <td>surf</td>\n",
       "    </tr>\n",
       "    <tr>\n",
       "      <td>1</td>\n",
       "      <td>1000</td>\n",
       "      <td>30720</td>\n",
       "      <td>3000</td>\n",
       "      <td>70</td>\n",
       "      <td>7</td>\n",
       "      <td>0.01</td>\n",
       "      <td>0.01</td>\n",
       "      <td>ultimate</td>\n",
       "    </tr>\n",
       "  </tbody>\n",
       "</table>\n",
       "</div>"
      ],
      "text/plain": [
       "   messages_included  mb_per_month_included  minutes_included  \\\n",
       "0                 50                  15360               500   \n",
       "1               1000                  30720              3000   \n",
       "\n",
       "   usd_monthly_pay  usd_per_gb  usd_per_message  usd_per_minute      plan  \n",
       "0               20          10             0.03            0.03      surf  \n",
       "1               70           7             0.01            0.01  ultimate  "
      ]
     },
     "execution_count": 93,
     "metadata": {},
     "output_type": "execute_result"
    }
   ],
   "source": [
    "df_plans.head()"
   ]
  },
  {
   "cell_type": "code",
   "execution_count": 94,
   "metadata": {},
   "outputs": [],
   "source": [
    "charge_to_month = pd.merge(charge_to_month, df_plans, on=['plan'], how='left')"
   ]
  },
  {
   "cell_type": "code",
   "execution_count": 95,
   "metadata": {},
   "outputs": [
    {
     "data": {
      "text/html": [
       "<div>\n",
       "<style scoped>\n",
       "    .dataframe tbody tr th:only-of-type {\n",
       "        vertical-align: middle;\n",
       "    }\n",
       "\n",
       "    .dataframe tbody tr th {\n",
       "        vertical-align: top;\n",
       "    }\n",
       "\n",
       "    .dataframe thead th {\n",
       "        text-align: right;\n",
       "    }\n",
       "</style>\n",
       "<table border=\"1\" class=\"dataframe\">\n",
       "  <thead>\n",
       "    <tr style=\"text-align: right;\">\n",
       "      <th></th>\n",
       "      <th>user_id</th>\n",
       "      <th>month</th>\n",
       "      <th>city</th>\n",
       "      <th>plan</th>\n",
       "      <th>min_charge</th>\n",
       "      <th>num_msg</th>\n",
       "      <th>mb_used</th>\n",
       "      <th>messages_included</th>\n",
       "      <th>mb_per_month_included</th>\n",
       "      <th>minutes_included</th>\n",
       "      <th>usd_monthly_pay</th>\n",
       "      <th>usd_per_gb</th>\n",
       "      <th>usd_per_message</th>\n",
       "      <th>usd_per_minute</th>\n",
       "    </tr>\n",
       "  </thead>\n",
       "  <tbody>\n",
       "    <tr>\n",
       "      <td>0</td>\n",
       "      <td>1000</td>\n",
       "      <td>12</td>\n",
       "      <td>atlanta-sandy springs-roswell, ga msa</td>\n",
       "      <td>ultimate</td>\n",
       "      <td>124.0</td>\n",
       "      <td>11.0</td>\n",
       "      <td>1901.47</td>\n",
       "      <td>1000</td>\n",
       "      <td>30720</td>\n",
       "      <td>3000</td>\n",
       "      <td>70</td>\n",
       "      <td>7</td>\n",
       "      <td>0.01</td>\n",
       "      <td>0.01</td>\n",
       "    </tr>\n",
       "    <tr>\n",
       "      <td>1</td>\n",
       "      <td>1001</td>\n",
       "      <td>8</td>\n",
       "      <td>seattle-tacoma-bellevue, wa msa</td>\n",
       "      <td>surf</td>\n",
       "      <td>182.0</td>\n",
       "      <td>30.0</td>\n",
       "      <td>6919.15</td>\n",
       "      <td>50</td>\n",
       "      <td>15360</td>\n",
       "      <td>500</td>\n",
       "      <td>20</td>\n",
       "      <td>10</td>\n",
       "      <td>0.03</td>\n",
       "      <td>0.03</td>\n",
       "    </tr>\n",
       "    <tr>\n",
       "      <td>2</td>\n",
       "      <td>1001</td>\n",
       "      <td>9</td>\n",
       "      <td>seattle-tacoma-bellevue, wa msa</td>\n",
       "      <td>surf</td>\n",
       "      <td>315.0</td>\n",
       "      <td>44.0</td>\n",
       "      <td>13314.82</td>\n",
       "      <td>50</td>\n",
       "      <td>15360</td>\n",
       "      <td>500</td>\n",
       "      <td>20</td>\n",
       "      <td>10</td>\n",
       "      <td>0.03</td>\n",
       "      <td>0.03</td>\n",
       "    </tr>\n",
       "    <tr>\n",
       "      <td>3</td>\n",
       "      <td>1001</td>\n",
       "      <td>10</td>\n",
       "      <td>seattle-tacoma-bellevue, wa msa</td>\n",
       "      <td>surf</td>\n",
       "      <td>393.0</td>\n",
       "      <td>53.0</td>\n",
       "      <td>22330.49</td>\n",
       "      <td>50</td>\n",
       "      <td>15360</td>\n",
       "      <td>500</td>\n",
       "      <td>20</td>\n",
       "      <td>10</td>\n",
       "      <td>0.03</td>\n",
       "      <td>0.03</td>\n",
       "    </tr>\n",
       "    <tr>\n",
       "      <td>4</td>\n",
       "      <td>1001</td>\n",
       "      <td>11</td>\n",
       "      <td>seattle-tacoma-bellevue, wa msa</td>\n",
       "      <td>surf</td>\n",
       "      <td>426.0</td>\n",
       "      <td>36.0</td>\n",
       "      <td>18504.30</td>\n",
       "      <td>50</td>\n",
       "      <td>15360</td>\n",
       "      <td>500</td>\n",
       "      <td>20</td>\n",
       "      <td>10</td>\n",
       "      <td>0.03</td>\n",
       "      <td>0.03</td>\n",
       "    </tr>\n",
       "  </tbody>\n",
       "</table>\n",
       "</div>"
      ],
      "text/plain": [
       "   user_id  month                                   city      plan  \\\n",
       "0     1000     12  atlanta-sandy springs-roswell, ga msa  ultimate   \n",
       "1     1001      8        seattle-tacoma-bellevue, wa msa      surf   \n",
       "2     1001      9        seattle-tacoma-bellevue, wa msa      surf   \n",
       "3     1001     10        seattle-tacoma-bellevue, wa msa      surf   \n",
       "4     1001     11        seattle-tacoma-bellevue, wa msa      surf   \n",
       "\n",
       "   min_charge  num_msg   mb_used  messages_included  mb_per_month_included  \\\n",
       "0       124.0     11.0   1901.47               1000                  30720   \n",
       "1       182.0     30.0   6919.15                 50                  15360   \n",
       "2       315.0     44.0  13314.82                 50                  15360   \n",
       "3       393.0     53.0  22330.49                 50                  15360   \n",
       "4       426.0     36.0  18504.30                 50                  15360   \n",
       "\n",
       "   minutes_included  usd_monthly_pay  usd_per_gb  usd_per_message  \\\n",
       "0              3000               70           7             0.01   \n",
       "1               500               20          10             0.03   \n",
       "2               500               20          10             0.03   \n",
       "3               500               20          10             0.03   \n",
       "4               500               20          10             0.03   \n",
       "\n",
       "   usd_per_minute  \n",
       "0            0.01  \n",
       "1            0.03  \n",
       "2            0.03  \n",
       "3            0.03  \n",
       "4            0.03  "
      ]
     },
     "execution_count": 95,
     "metadata": {},
     "output_type": "execute_result"
    }
   ],
   "source": [
    "charge_to_month.head()"
   ]
  },
  {
   "cell_type": "markdown",
   "metadata": {},
   "source": [
    "now we are adding a very important column of the totoal payment a user pay by is plan and over using"
   ]
  },
  {
   "cell_type": "code",
   "execution_count": 96,
   "metadata": {},
   "outputs": [],
   "source": [
    "def user_month_chrage(row):\n",
    "    min_u=row['min_charge']\n",
    "    mes_u=row['num_msg']\n",
    "    mb_u=row['mb_used']\n",
    "    \n",
    "    min_limit = row['minutes_included']\n",
    "    message_limit = row['messages_included']\n",
    "    mb_limit = row['mb_per_month_included']\n",
    "    monthly_rate = row['usd_monthly_pay']\n",
    "    over_min_rate =  row['usd_per_minute']\n",
    "    over_message_rate = row['usd_per_message']\n",
    "    over_gb_rate = row['usd_per_gb']\n",
    "    \n",
    "    if min_u<=min_limit:\n",
    "        over_min=0\n",
    "    else:\n",
    "        over_min=min_u-min_limit\n",
    "    if mes_u<=message_limit:\n",
    "        over_message=0\n",
    "    else:\n",
    "        over_message=mes_u-message_limit\n",
    "    if mb_u<=mb_limit:\n",
    "        over_mb=0\n",
    "    else:\n",
    "        over_mb= mb_u-mb_limit\n",
    "    over_gb= np.ceil(over_mb/1024)\n",
    "    total_charge= monthly_rate+over_min*over_min_rate+over_message*over_message_rate+over_gb*over_gb_rate\n",
    "    return total_charge"
   ]
  },
  {
   "cell_type": "code",
   "execution_count": 98,
   "metadata": {},
   "outputs": [
    {
     "data": {
      "text/html": [
       "<div>\n",
       "<style scoped>\n",
       "    .dataframe tbody tr th:only-of-type {\n",
       "        vertical-align: middle;\n",
       "    }\n",
       "\n",
       "    .dataframe tbody tr th {\n",
       "        vertical-align: top;\n",
       "    }\n",
       "\n",
       "    .dataframe thead th {\n",
       "        text-align: right;\n",
       "    }\n",
       "</style>\n",
       "<table border=\"1\" class=\"dataframe\">\n",
       "  <thead>\n",
       "    <tr style=\"text-align: right;\">\n",
       "      <th></th>\n",
       "      <th>user_id</th>\n",
       "      <th>month</th>\n",
       "      <th>city</th>\n",
       "      <th>plan</th>\n",
       "      <th>min_charge</th>\n",
       "      <th>num_msg</th>\n",
       "      <th>mb_used</th>\n",
       "      <th>messages_included</th>\n",
       "      <th>mb_per_month_included</th>\n",
       "      <th>minutes_included</th>\n",
       "      <th>usd_monthly_pay</th>\n",
       "      <th>usd_per_gb</th>\n",
       "      <th>usd_per_message</th>\n",
       "      <th>usd_per_minute</th>\n",
       "      <th>total_pay</th>\n",
       "    </tr>\n",
       "  </thead>\n",
       "  <tbody>\n",
       "    <tr>\n",
       "      <td>0</td>\n",
       "      <td>1000</td>\n",
       "      <td>12</td>\n",
       "      <td>atlanta-sandy springs-roswell, ga msa</td>\n",
       "      <td>ultimate</td>\n",
       "      <td>124.0</td>\n",
       "      <td>11.0</td>\n",
       "      <td>1901.47</td>\n",
       "      <td>1000</td>\n",
       "      <td>30720</td>\n",
       "      <td>3000</td>\n",
       "      <td>70</td>\n",
       "      <td>7</td>\n",
       "      <td>0.01</td>\n",
       "      <td>0.01</td>\n",
       "      <td>70.00</td>\n",
       "    </tr>\n",
       "    <tr>\n",
       "      <td>1</td>\n",
       "      <td>1001</td>\n",
       "      <td>8</td>\n",
       "      <td>seattle-tacoma-bellevue, wa msa</td>\n",
       "      <td>surf</td>\n",
       "      <td>182.0</td>\n",
       "      <td>30.0</td>\n",
       "      <td>6919.15</td>\n",
       "      <td>50</td>\n",
       "      <td>15360</td>\n",
       "      <td>500</td>\n",
       "      <td>20</td>\n",
       "      <td>10</td>\n",
       "      <td>0.03</td>\n",
       "      <td>0.03</td>\n",
       "      <td>20.00</td>\n",
       "    </tr>\n",
       "    <tr>\n",
       "      <td>2</td>\n",
       "      <td>1001</td>\n",
       "      <td>9</td>\n",
       "      <td>seattle-tacoma-bellevue, wa msa</td>\n",
       "      <td>surf</td>\n",
       "      <td>315.0</td>\n",
       "      <td>44.0</td>\n",
       "      <td>13314.82</td>\n",
       "      <td>50</td>\n",
       "      <td>15360</td>\n",
       "      <td>500</td>\n",
       "      <td>20</td>\n",
       "      <td>10</td>\n",
       "      <td>0.03</td>\n",
       "      <td>0.03</td>\n",
       "      <td>20.00</td>\n",
       "    </tr>\n",
       "    <tr>\n",
       "      <td>3</td>\n",
       "      <td>1001</td>\n",
       "      <td>10</td>\n",
       "      <td>seattle-tacoma-bellevue, wa msa</td>\n",
       "      <td>surf</td>\n",
       "      <td>393.0</td>\n",
       "      <td>53.0</td>\n",
       "      <td>22330.49</td>\n",
       "      <td>50</td>\n",
       "      <td>15360</td>\n",
       "      <td>500</td>\n",
       "      <td>20</td>\n",
       "      <td>10</td>\n",
       "      <td>0.03</td>\n",
       "      <td>0.03</td>\n",
       "      <td>90.09</td>\n",
       "    </tr>\n",
       "    <tr>\n",
       "      <td>4</td>\n",
       "      <td>1001</td>\n",
       "      <td>11</td>\n",
       "      <td>seattle-tacoma-bellevue, wa msa</td>\n",
       "      <td>surf</td>\n",
       "      <td>426.0</td>\n",
       "      <td>36.0</td>\n",
       "      <td>18504.30</td>\n",
       "      <td>50</td>\n",
       "      <td>15360</td>\n",
       "      <td>500</td>\n",
       "      <td>20</td>\n",
       "      <td>10</td>\n",
       "      <td>0.03</td>\n",
       "      <td>0.03</td>\n",
       "      <td>60.00</td>\n",
       "    </tr>\n",
       "  </tbody>\n",
       "</table>\n",
       "</div>"
      ],
      "text/plain": [
       "   user_id  month                                   city      plan  \\\n",
       "0     1000     12  atlanta-sandy springs-roswell, ga msa  ultimate   \n",
       "1     1001      8        seattle-tacoma-bellevue, wa msa      surf   \n",
       "2     1001      9        seattle-tacoma-bellevue, wa msa      surf   \n",
       "3     1001     10        seattle-tacoma-bellevue, wa msa      surf   \n",
       "4     1001     11        seattle-tacoma-bellevue, wa msa      surf   \n",
       "\n",
       "   min_charge  num_msg   mb_used  messages_included  mb_per_month_included  \\\n",
       "0       124.0     11.0   1901.47               1000                  30720   \n",
       "1       182.0     30.0   6919.15                 50                  15360   \n",
       "2       315.0     44.0  13314.82                 50                  15360   \n",
       "3       393.0     53.0  22330.49                 50                  15360   \n",
       "4       426.0     36.0  18504.30                 50                  15360   \n",
       "\n",
       "   minutes_included  usd_monthly_pay  usd_per_gb  usd_per_message  \\\n",
       "0              3000               70           7             0.01   \n",
       "1               500               20          10             0.03   \n",
       "2               500               20          10             0.03   \n",
       "3               500               20          10             0.03   \n",
       "4               500               20          10             0.03   \n",
       "\n",
       "   usd_per_minute  total_pay  \n",
       "0            0.01      70.00  \n",
       "1            0.03      20.00  \n",
       "2            0.03      20.00  \n",
       "3            0.03      90.09  \n",
       "4            0.03      60.00  "
      ]
     },
     "execution_count": 98,
     "metadata": {},
     "output_type": "execute_result"
    }
   ],
   "source": [
    "charge_to_month.head()"
   ]
  },
  {
   "cell_type": "markdown",
   "metadata": {},
   "source": [
    "we are adding another column of how mouch the phone company gets extra over the plans"
   ]
  },
  {
   "cell_type": "code",
   "execution_count": 99,
   "metadata": {
    "scrolled": true
   },
   "outputs": [
    {
     "data": {
      "text/html": [
       "<div>\n",
       "<style scoped>\n",
       "    .dataframe tbody tr th:only-of-type {\n",
       "        vertical-align: middle;\n",
       "    }\n",
       "\n",
       "    .dataframe tbody tr th {\n",
       "        vertical-align: top;\n",
       "    }\n",
       "\n",
       "    .dataframe thead th {\n",
       "        text-align: right;\n",
       "    }\n",
       "</style>\n",
       "<table border=\"1\" class=\"dataframe\">\n",
       "  <thead>\n",
       "    <tr style=\"text-align: right;\">\n",
       "      <th></th>\n",
       "      <th>user_id</th>\n",
       "      <th>month</th>\n",
       "      <th>city</th>\n",
       "      <th>plan</th>\n",
       "      <th>min_charge</th>\n",
       "      <th>num_msg</th>\n",
       "      <th>mb_used</th>\n",
       "      <th>messages_included</th>\n",
       "      <th>mb_per_month_included</th>\n",
       "      <th>minutes_included</th>\n",
       "      <th>usd_monthly_pay</th>\n",
       "      <th>usd_per_gb</th>\n",
       "      <th>usd_per_message</th>\n",
       "      <th>usd_per_minute</th>\n",
       "      <th>total_pay</th>\n",
       "      <th>ravenue</th>\n",
       "    </tr>\n",
       "  </thead>\n",
       "  <tbody>\n",
       "    <tr>\n",
       "      <td>0</td>\n",
       "      <td>1000</td>\n",
       "      <td>12</td>\n",
       "      <td>atlanta-sandy springs-roswell, ga msa</td>\n",
       "      <td>ultimate</td>\n",
       "      <td>124.0</td>\n",
       "      <td>11.0</td>\n",
       "      <td>1901.47</td>\n",
       "      <td>1000</td>\n",
       "      <td>30720</td>\n",
       "      <td>3000</td>\n",
       "      <td>70</td>\n",
       "      <td>7</td>\n",
       "      <td>0.01</td>\n",
       "      <td>0.01</td>\n",
       "      <td>70.00</td>\n",
       "      <td>0.00</td>\n",
       "    </tr>\n",
       "    <tr>\n",
       "      <td>1</td>\n",
       "      <td>1001</td>\n",
       "      <td>8</td>\n",
       "      <td>seattle-tacoma-bellevue, wa msa</td>\n",
       "      <td>surf</td>\n",
       "      <td>182.0</td>\n",
       "      <td>30.0</td>\n",
       "      <td>6919.15</td>\n",
       "      <td>50</td>\n",
       "      <td>15360</td>\n",
       "      <td>500</td>\n",
       "      <td>20</td>\n",
       "      <td>10</td>\n",
       "      <td>0.03</td>\n",
       "      <td>0.03</td>\n",
       "      <td>20.00</td>\n",
       "      <td>0.00</td>\n",
       "    </tr>\n",
       "    <tr>\n",
       "      <td>2</td>\n",
       "      <td>1001</td>\n",
       "      <td>9</td>\n",
       "      <td>seattle-tacoma-bellevue, wa msa</td>\n",
       "      <td>surf</td>\n",
       "      <td>315.0</td>\n",
       "      <td>44.0</td>\n",
       "      <td>13314.82</td>\n",
       "      <td>50</td>\n",
       "      <td>15360</td>\n",
       "      <td>500</td>\n",
       "      <td>20</td>\n",
       "      <td>10</td>\n",
       "      <td>0.03</td>\n",
       "      <td>0.03</td>\n",
       "      <td>20.00</td>\n",
       "      <td>0.00</td>\n",
       "    </tr>\n",
       "    <tr>\n",
       "      <td>3</td>\n",
       "      <td>1001</td>\n",
       "      <td>10</td>\n",
       "      <td>seattle-tacoma-bellevue, wa msa</td>\n",
       "      <td>surf</td>\n",
       "      <td>393.0</td>\n",
       "      <td>53.0</td>\n",
       "      <td>22330.49</td>\n",
       "      <td>50</td>\n",
       "      <td>15360</td>\n",
       "      <td>500</td>\n",
       "      <td>20</td>\n",
       "      <td>10</td>\n",
       "      <td>0.03</td>\n",
       "      <td>0.03</td>\n",
       "      <td>90.09</td>\n",
       "      <td>70.09</td>\n",
       "    </tr>\n",
       "    <tr>\n",
       "      <td>4</td>\n",
       "      <td>1001</td>\n",
       "      <td>11</td>\n",
       "      <td>seattle-tacoma-bellevue, wa msa</td>\n",
       "      <td>surf</td>\n",
       "      <td>426.0</td>\n",
       "      <td>36.0</td>\n",
       "      <td>18504.30</td>\n",
       "      <td>50</td>\n",
       "      <td>15360</td>\n",
       "      <td>500</td>\n",
       "      <td>20</td>\n",
       "      <td>10</td>\n",
       "      <td>0.03</td>\n",
       "      <td>0.03</td>\n",
       "      <td>60.00</td>\n",
       "      <td>40.00</td>\n",
       "    </tr>\n",
       "  </tbody>\n",
       "</table>\n",
       "</div>"
      ],
      "text/plain": [
       "   user_id  month                                   city      plan  \\\n",
       "0     1000     12  atlanta-sandy springs-roswell, ga msa  ultimate   \n",
       "1     1001      8        seattle-tacoma-bellevue, wa msa      surf   \n",
       "2     1001      9        seattle-tacoma-bellevue, wa msa      surf   \n",
       "3     1001     10        seattle-tacoma-bellevue, wa msa      surf   \n",
       "4     1001     11        seattle-tacoma-bellevue, wa msa      surf   \n",
       "\n",
       "   min_charge  num_msg   mb_used  messages_included  mb_per_month_included  \\\n",
       "0       124.0     11.0   1901.47               1000                  30720   \n",
       "1       182.0     30.0   6919.15                 50                  15360   \n",
       "2       315.0     44.0  13314.82                 50                  15360   \n",
       "3       393.0     53.0  22330.49                 50                  15360   \n",
       "4       426.0     36.0  18504.30                 50                  15360   \n",
       "\n",
       "   minutes_included  usd_monthly_pay  usd_per_gb  usd_per_message  \\\n",
       "0              3000               70           7             0.01   \n",
       "1               500               20          10             0.03   \n",
       "2               500               20          10             0.03   \n",
       "3               500               20          10             0.03   \n",
       "4               500               20          10             0.03   \n",
       "\n",
       "   usd_per_minute  total_pay  ravenue  \n",
       "0            0.01      70.00     0.00  \n",
       "1            0.03      20.00     0.00  \n",
       "2            0.03      20.00     0.00  \n",
       "3            0.03      90.09    70.09  \n",
       "4            0.03      60.00    40.00  "
      ]
     },
     "execution_count": 99,
     "metadata": {},
     "output_type": "execute_result"
    }
   ],
   "source": [
    "charge_to_month['ravenue'] = charge_to_month['total_pay'] - charge_to_month['usd_monthly_pay']\n",
    "charge_to_month.head()"
   ]
  },
  {
   "cell_type": "markdown",
   "metadata": {},
   "source": [
    "#step 3 - analyzing the data"
   ]
  },
  {
   "cell_type": "code",
   "execution_count": 100,
   "metadata": {},
   "outputs": [
    {
     "data": {
      "text/html": [
       "<div>\n",
       "<style scoped>\n",
       "    .dataframe tbody tr th:only-of-type {\n",
       "        vertical-align: middle;\n",
       "    }\n",
       "\n",
       "    .dataframe tbody tr th {\n",
       "        vertical-align: top;\n",
       "    }\n",
       "\n",
       "    .dataframe thead th {\n",
       "        text-align: right;\n",
       "    }\n",
       "</style>\n",
       "<table border=\"1\" class=\"dataframe\">\n",
       "  <thead>\n",
       "    <tr style=\"text-align: right;\">\n",
       "      <th></th>\n",
       "      <th>user_id</th>\n",
       "      <th>month</th>\n",
       "      <th>min_charge</th>\n",
       "      <th>num_msg</th>\n",
       "      <th>mb_used</th>\n",
       "      <th>messages_included</th>\n",
       "      <th>mb_per_month_included</th>\n",
       "      <th>minutes_included</th>\n",
       "      <th>usd_monthly_pay</th>\n",
       "      <th>usd_per_gb</th>\n",
       "      <th>usd_per_message</th>\n",
       "      <th>usd_per_minute</th>\n",
       "      <th>total_pay</th>\n",
       "      <th>ravenue</th>\n",
       "    </tr>\n",
       "  </thead>\n",
       "  <tbody>\n",
       "    <tr>\n",
       "      <td>count</td>\n",
       "      <td>3355.000000</td>\n",
       "      <td>3355.000000</td>\n",
       "      <td>2258.000000</td>\n",
       "      <td>1806.000000</td>\n",
       "      <td>2277.000000</td>\n",
       "      <td>3355.000000</td>\n",
       "      <td>3355.000000</td>\n",
       "      <td>3355.000000</td>\n",
       "      <td>3355.000000</td>\n",
       "      <td>3355.000000</td>\n",
       "      <td>3355.000000</td>\n",
       "      <td>3355.000000</td>\n",
       "      <td>1759.000000</td>\n",
       "      <td>1759.000000</td>\n",
       "    </tr>\n",
       "    <tr>\n",
       "      <td>mean</td>\n",
       "      <td>1250.669747</td>\n",
       "      <td>8.265872</td>\n",
       "      <td>435.937555</td>\n",
       "      <td>42.110188</td>\n",
       "      <td>16882.197501</td>\n",
       "      <td>358.077496</td>\n",
       "      <td>20341.126677</td>\n",
       "      <td>1310.730253</td>\n",
       "      <td>36.214605</td>\n",
       "      <td>9.027124</td>\n",
       "      <td>0.023514</td>\n",
       "      <td>0.023514</td>\n",
       "      <td>64.310796</td>\n",
       "      <td>27.852581</td>\n",
       "    </tr>\n",
       "    <tr>\n",
       "      <td>std</td>\n",
       "      <td>143.314240</td>\n",
       "      <td>2.944672</td>\n",
       "      <td>231.972343</td>\n",
       "      <td>33.122931</td>\n",
       "      <td>7869.784848</td>\n",
       "      <td>444.770548</td>\n",
       "      <td>7191.237499</td>\n",
       "      <td>1170.448812</td>\n",
       "      <td>23.408976</td>\n",
       "      <td>1.404539</td>\n",
       "      <td>0.009364</td>\n",
       "      <td>0.009364</td>\n",
       "      <td>44.692362</td>\n",
       "      <td>47.836418</td>\n",
       "    </tr>\n",
       "    <tr>\n",
       "      <td>min</td>\n",
       "      <td>1000.000000</td>\n",
       "      <td>1.000000</td>\n",
       "      <td>0.000000</td>\n",
       "      <td>1.000000</td>\n",
       "      <td>92.310000</td>\n",
       "      <td>50.000000</td>\n",
       "      <td>15360.000000</td>\n",
       "      <td>500.000000</td>\n",
       "      <td>20.000000</td>\n",
       "      <td>7.000000</td>\n",
       "      <td>0.010000</td>\n",
       "      <td>0.010000</td>\n",
       "      <td>20.000000</td>\n",
       "      <td>0.000000</td>\n",
       "    </tr>\n",
       "    <tr>\n",
       "      <td>25%</td>\n",
       "      <td>1125.500000</td>\n",
       "      <td>6.000000</td>\n",
       "      <td>275.000000</td>\n",
       "      <td>17.000000</td>\n",
       "      <td>12347.720000</td>\n",
       "      <td>50.000000</td>\n",
       "      <td>15360.000000</td>\n",
       "      <td>500.000000</td>\n",
       "      <td>20.000000</td>\n",
       "      <td>7.000000</td>\n",
       "      <td>0.010000</td>\n",
       "      <td>0.010000</td>\n",
       "      <td>25.595000</td>\n",
       "      <td>0.000000</td>\n",
       "    </tr>\n",
       "    <tr>\n",
       "      <td>50%</td>\n",
       "      <td>1249.000000</td>\n",
       "      <td>9.000000</td>\n",
       "      <td>429.000000</td>\n",
       "      <td>34.000000</td>\n",
       "      <td>16873.740000</td>\n",
       "      <td>50.000000</td>\n",
       "      <td>15360.000000</td>\n",
       "      <td>500.000000</td>\n",
       "      <td>20.000000</td>\n",
       "      <td>10.000000</td>\n",
       "      <td>0.030000</td>\n",
       "      <td>0.030000</td>\n",
       "      <td>70.000000</td>\n",
       "      <td>0.600000</td>\n",
       "    </tr>\n",
       "    <tr>\n",
       "      <td>75%</td>\n",
       "      <td>1376.000000</td>\n",
       "      <td>11.000000</td>\n",
       "      <td>574.750000</td>\n",
       "      <td>59.000000</td>\n",
       "      <td>21041.520000</td>\n",
       "      <td>1000.000000</td>\n",
       "      <td>30720.000000</td>\n",
       "      <td>3000.000000</td>\n",
       "      <td>70.000000</td>\n",
       "      <td>10.000000</td>\n",
       "      <td>0.030000</td>\n",
       "      <td>0.030000</td>\n",
       "      <td>70.000000</td>\n",
       "      <td>40.000000</td>\n",
       "    </tr>\n",
       "    <tr>\n",
       "      <td>max</td>\n",
       "      <td>1499.000000</td>\n",
       "      <td>12.000000</td>\n",
       "      <td>1510.000000</td>\n",
       "      <td>266.000000</td>\n",
       "      <td>70931.590000</td>\n",
       "      <td>1000.000000</td>\n",
       "      <td>30720.000000</td>\n",
       "      <td>3000.000000</td>\n",
       "      <td>70.000000</td>\n",
       "      <td>10.000000</td>\n",
       "      <td>0.030000</td>\n",
       "      <td>0.030000</td>\n",
       "      <td>590.370000</td>\n",
       "      <td>570.370000</td>\n",
       "    </tr>\n",
       "  </tbody>\n",
       "</table>\n",
       "</div>"
      ],
      "text/plain": [
       "           user_id        month   min_charge      num_msg       mb_used  \\\n",
       "count  3355.000000  3355.000000  2258.000000  1806.000000   2277.000000   \n",
       "mean   1250.669747     8.265872   435.937555    42.110188  16882.197501   \n",
       "std     143.314240     2.944672   231.972343    33.122931   7869.784848   \n",
       "min    1000.000000     1.000000     0.000000     1.000000     92.310000   \n",
       "25%    1125.500000     6.000000   275.000000    17.000000  12347.720000   \n",
       "50%    1249.000000     9.000000   429.000000    34.000000  16873.740000   \n",
       "75%    1376.000000    11.000000   574.750000    59.000000  21041.520000   \n",
       "max    1499.000000    12.000000  1510.000000   266.000000  70931.590000   \n",
       "\n",
       "       messages_included  mb_per_month_included  minutes_included  \\\n",
       "count        3355.000000            3355.000000       3355.000000   \n",
       "mean          358.077496           20341.126677       1310.730253   \n",
       "std           444.770548            7191.237499       1170.448812   \n",
       "min            50.000000           15360.000000        500.000000   \n",
       "25%            50.000000           15360.000000        500.000000   \n",
       "50%            50.000000           15360.000000        500.000000   \n",
       "75%          1000.000000           30720.000000       3000.000000   \n",
       "max          1000.000000           30720.000000       3000.000000   \n",
       "\n",
       "       usd_monthly_pay   usd_per_gb  usd_per_message  usd_per_minute  \\\n",
       "count      3355.000000  3355.000000      3355.000000     3355.000000   \n",
       "mean         36.214605     9.027124         0.023514        0.023514   \n",
       "std          23.408976     1.404539         0.009364        0.009364   \n",
       "min          20.000000     7.000000         0.010000        0.010000   \n",
       "25%          20.000000     7.000000         0.010000        0.010000   \n",
       "50%          20.000000    10.000000         0.030000        0.030000   \n",
       "75%          70.000000    10.000000         0.030000        0.030000   \n",
       "max          70.000000    10.000000         0.030000        0.030000   \n",
       "\n",
       "         total_pay      ravenue  \n",
       "count  1759.000000  1759.000000  \n",
       "mean     64.310796    27.852581  \n",
       "std      44.692362    47.836418  \n",
       "min      20.000000     0.000000  \n",
       "25%      25.595000     0.000000  \n",
       "50%      70.000000     0.600000  \n",
       "75%      70.000000    40.000000  \n",
       "max     590.370000   570.370000  "
      ]
     },
     "execution_count": 100,
     "metadata": {},
     "output_type": "execute_result"
    }
   ],
   "source": [
    "charge_to_month.describe()"
   ]
  },
  {
   "cell_type": "markdown",
   "metadata": {},
   "source": [
    "here we can see the mean and std for the over all data, we see that the mean of calls is higer then as given in plans and the internet is high but the messages mean is low the the surf (lower and smaller) plan. we can also see that the std is not really close to the mean but reaces far out"
   ]
  },
  {
   "cell_type": "code",
   "execution_count": 157,
   "metadata": {},
   "outputs": [
    {
     "data": {
      "image/png": "[encoded data removed]",
      "text/plain": [
       "<Figure size 432x288 with 1 Axes>"
      ]
     },
     "metadata": {
      "needs_background": "light"
     },
     "output_type": "display_data"
    }
   ],
   "source": [
    "charge_to_month['min_charge'].hist(bins=50).set_title('charged minutes per month')\n",
    "plt.xlabel('\\nMinutes\\n', fontsize = 20)\n",
    "plt.ylabel('\\nUsers\\n', fontsize = 20)\n",
    "plt.show()"
   ]
  },
  {
   "cell_type": "markdown",
   "metadata": {},
   "source": [
    "from looking at the hist we can see that even with both plans the main calls use is in between 200-600 that is around the lower plans(surf) limit (500)"
   ]
  },
  {
   "cell_type": "code",
   "execution_count": 156,
   "metadata": {},
   "outputs": [
    {
     "data": {
      "image/png": "[encoded data removed]",
      "text/plain": [
       "<Figure size 432x288 with 1 Axes>"
      ]
     },
     "metadata": {
      "needs_background": "light"
     },
     "output_type": "display_data"
    }
   ],
   "source": [
    "charge_to_month['num_msg'].hist(bins=50).set_title('number of msg')\n",
    "plt.xlabel('Messages', fontsize = 20)\n",
    "plt.ylabel('Users', fontsize = 20)\n",
    "plt.show()"
   ]
  },
  {
   "cell_type": "markdown",
   "metadata": {},
   "source": [
    "text messages is so out, we see that must users dont get to 45 msg in a month. i wonder how much whatsapp's they get"
   ]
  },
  {
   "cell_type": "code",
   "execution_count": 158,
   "metadata": {},
   "outputs": [
    {
     "data": {
      "image/png": "[encoded data removed]",
      "text/plain": [
       "<Figure size 432x288 with 1 Axes>"
      ]
     },
     "metadata": {
      "needs_background": "light"
     },
     "output_type": "display_data"
    }
   ],
   "source": [
    "charge_to_month['mb_used'].hist(bins=50, label=\"internet use\").set_title('internet use per month')\n",
    "plt.xlabel('\\nMbused\\n', fontsize = 20)\n",
    "plt.ylabel('\\nUsers\\n', fontsize = 20)\n",
    "plt.show()"
   ]
  },
  {
   "cell_type": "markdown",
   "metadata": {},
   "source": [
    "users use there internet on there phone but it looks like in plans limits"
   ]
  },
  {
   "cell_type": "markdown",
   "metadata": {},
   "source": [
    "we are going to create 2 slices of the data by plans"
   ]
  },
  {
   "cell_type": "code",
   "execution_count": 104,
   "metadata": {},
   "outputs": [],
   "source": [
    "ctm_ultimate = charge_to_month.query('plan==\"ultimate\"')\n",
    "ctm_surf = charge_to_month.query('plan==\"surf\"')"
   ]
  },
  {
   "cell_type": "code",
   "execution_count": 105,
   "metadata": {},
   "outputs": [
    {
     "name": "stderr",
     "output_type": "stream",
     "text": [
      "/opt/conda/lib/python3.7/site-packages/ipykernel_launcher.py:1: SettingWithCopyWarning: \n",
      "A value is trying to be set on a copy of a slice from a DataFrame.\n",
      "Try using .loc[row_indexer,col_indexer] = value instead\n",
      "\n",
      "See the caveats in the documentation: http://pandas.pydata.org/pandas-docs/stable/user_guide/indexing.html#returning-a-view-versus-a-copy\n",
      "  \"\"\"Entry point for launching an IPython kernel.\n",
      "/opt/conda/lib/python3.7/site-packages/ipykernel_launcher.py:2: SettingWithCopyWarning: \n",
      "A value is trying to be set on a copy of a slice from a DataFrame.\n",
      "Try using .loc[row_indexer,col_indexer] = value instead\n",
      "\n",
      "See the caveats in the documentation: http://pandas.pydata.org/pandas-docs/stable/user_guide/indexing.html#returning-a-view-versus-a-copy\n",
      "  \n"
     ]
    }
   ],
   "source": [
    "ctm_ultimate['ravenue'] = ctm_ultimate['ravenue'].fillna(0)\n",
    "ctm_surf['ravenue']=ctm_surf['ravenue'].fillna(0)"
   ]
  },
  {
   "cell_type": "code",
   "execution_count": 124,
   "metadata": {},
   "outputs": [
    {
     "name": "stderr",
     "output_type": "stream",
     "text": [
      "/opt/conda/lib/python3.7/site-packages/ipykernel_launcher.py:1: SettingWithCopyWarning: \n",
      "A value is trying to be set on a copy of a slice from a DataFrame.\n",
      "Try using .loc[row_indexer,col_indexer] = value instead\n",
      "\n",
      "See the caveats in the documentation: http://pandas.pydata.org/pandas-docs/stable/user_guide/indexing.html#returning-a-view-versus-a-copy\n",
      "  \"\"\"Entry point for launching an IPython kernel.\n",
      "/opt/conda/lib/python3.7/site-packages/ipykernel_launcher.py:2: SettingWithCopyWarning: \n",
      "A value is trying to be set on a copy of a slice from a DataFrame.\n",
      "Try using .loc[row_indexer,col_indexer] = value instead\n",
      "\n",
      "See the caveats in the documentation: http://pandas.pydata.org/pandas-docs/stable/user_guide/indexing.html#returning-a-view-versus-a-copy\n",
      "  \n"
     ]
    }
   ],
   "source": [
    "ctm_ultimate['total_pay'] = ctm_ultimate['total_pay'].fillna(0)\n",
    "ctm_surf['total_pay']=ctm_surf['total_pay'].fillna(0)"
   ]
  },
  {
   "cell_type": "code",
   "execution_count": 160,
   "metadata": {
    "scrolled": false
   },
   "outputs": [
    {
     "name": "stdout",
     "output_type": "stream",
     "text": [
      "---mb_used---\n",
      "(count     2277.000000\n",
      "mean     16882.197501\n",
      "std       7869.784848\n",
      "min         92.310000\n",
      "25%      12347.720000\n",
      "50%      16873.740000\n",
      "75%      21041.520000\n",
      "max      70931.590000\n",
      "Name: mb_used, dtype: float64, 2)\n"
     ]
    },
    {
     "data": {
      "image/png": "[encoded data removed]",
      "text/plain": [
       "<Figure size 432x288 with 1 Axes>"
      ]
     },
     "metadata": {
      "needs_background": "light"
     },
     "output_type": "display_data"
    },
    {
     "data": {
      "image/png": "[encoded data removed]",
      "text/plain": [
       "<Figure size 432x288 with 1 Axes>"
      ]
     },
     "metadata": {
      "needs_background": "light"
     },
     "output_type": "display_data"
    },
    {
     "name": "stdout",
     "output_type": "stream",
     "text": [
      "---num_msg---\n",
      "(count    1806.000000\n",
      "mean       42.110188\n",
      "std        33.122931\n",
      "min         1.000000\n",
      "25%        17.000000\n",
      "50%        34.000000\n",
      "75%        59.000000\n",
      "max       266.000000\n",
      "Name: num_msg, dtype: float64, 2)\n"
     ]
    },
    {
     "data": {
      "image/png": "[encoded data removed]",
      "text/plain": [
       "<Figure size 432x288 with 1 Axes>"
      ]
     },
     "metadata": {
      "needs_background": "light"
     },
     "output_type": "display_data"
    },
    {
     "data": {
      "image/png": "[encoded data removed]",
      "text/plain": [
       "<Figure size 432x288 with 1 Axes>"
      ]
     },
     "metadata": {
      "needs_background": "light"
     },
     "output_type": "display_data"
    },
    {
     "name": "stdout",
     "output_type": "stream",
     "text": [
      "---min_charge---\n",
      "(count    2258.000000\n",
      "mean      435.937555\n",
      "std       231.972343\n",
      "min         0.000000\n",
      "25%       275.000000\n",
      "50%       429.000000\n",
      "75%       574.750000\n",
      "max      1510.000000\n",
      "Name: min_charge, dtype: float64, 2)\n"
     ]
    },
    {
     "data": {
      "image/png": "[encoded data removed]",
      "text/plain": [
       "<Figure size 432x288 with 1 Axes>"
      ]
     },
     "metadata": {
      "needs_background": "light"
     },
     "output_type": "display_data"
    },
    {
     "data": {
      "image/png": "[encoded data removed]",
      "text/plain": [
       "<Figure size 432x288 with 1 Axes>"
      ]
     },
     "metadata": {
      "needs_background": "light"
     },
     "output_type": "display_data"
    },
    {
     "name": "stdout",
     "output_type": "stream",
     "text": [
      "---total_pay---\n",
      "(count    1759.000000\n",
      "mean       64.310796\n",
      "std        44.692362\n",
      "min        20.000000\n",
      "25%        25.595000\n",
      "50%        70.000000\n",
      "75%        70.000000\n",
      "max       590.370000\n",
      "Name: total_pay, dtype: float64, 2)\n"
     ]
    },
    {
     "data": {
      "image/png": "[encoded data removed]",
      "text/plain": [
       "<Figure size 432x288 with 1 Axes>"
      ]
     },
     "metadata": {
      "needs_background": "light"
     },
     "output_type": "display_data"
    },
    {
     "data": {
      "image/png": "[encoded data removed]",
      "text/plain": [
       "<Figure size 432x288 with 1 Axes>"
      ]
     },
     "metadata": {
      "needs_background": "light"
     },
     "output_type": "display_data"
    }
   ],
   "source": [
    "studdy_par= ['mb_used', 'num_msg', 'min_charge', 'total_pay']\n",
    "for cor in studdy_par:\n",
    "    print('---{}---'.format(cor))\n",
    "    print((charge_to_month[cor].describe(), 2))\n",
    "    charge_to_month.hist(cor)\n",
    "    plt.xlabel(cor, fontsize = 20)\n",
    "    plt.ylabel('Users', fontsize = 20)\n",
    "    plt.show()\n",
    "    charge_to_month.boxplot(cor)\n",
    "    plt.show()"
   ]
  },
  {
   "cell_type": "markdown",
   "metadata": {},
   "source": [
    "this was an all users data hist and boxplos, now let see it by plans"
   ]
  },
  {
   "cell_type": "code",
   "execution_count": 159,
   "metadata": {
    "scrolled": false
   },
   "outputs": [
    {
     "name": "stdout",
     "output_type": "stream",
     "text": [
      "---mb_used---\n",
      "(count      719.000000\n",
      "mean     17238.642253\n",
      "std       7831.018323\n",
      "min        233.170000\n",
      "25%      12671.130000\n",
      "50%      16863.450000\n",
      "75%      21025.155000\n",
      "max      46595.330000\n",
      "Name: mb_used, dtype: float64, 2)\n"
     ]
    },
    {
     "data": {
      "image/png": "[encoded data removed]",
      "text/plain": [
       "<Figure size 432x288 with 1 Axes>"
      ]
     },
     "metadata": {
      "needs_background": "light"
     },
     "output_type": "display_data"
    },
    {
     "data": {
      "image/png": "[encoded data removed]",
      "text/plain": [
       "<Figure size 432x288 with 1 Axes>"
      ]
     },
     "metadata": {
      "needs_background": "light"
     },
     "output_type": "display_data"
    },
    {
     "name": "stdout",
     "output_type": "stream",
     "text": [
      "---num_msg---\n",
      "(count    584.000000\n",
      "mean      46.296233\n",
      "std       32.942118\n",
      "min        1.000000\n",
      "25%       21.000000\n",
      "50%       41.000000\n",
      "75%       66.000000\n",
      "max      166.000000\n",
      "Name: num_msg, dtype: float64, 2)\n"
     ]
    },
    {
     "data": {
      "image/png": "[encoded data removed]",
      "text/plain": [
       "<Figure size 432x288 with 1 Axes>"
      ]
     },
     "metadata": {
      "needs_background": "light"
     },
     "output_type": "display_data"
    },
    {
     "data": {
      "image/png": "[encoded data removed]",
      "text/plain": [
       "<Figure size 432x288 with 1 Axes>"
      ]
     },
     "metadata": {
      "needs_background": "light"
     },
     "output_type": "display_data"
    },
    {
     "name": "stdout",
     "output_type": "stream",
     "text": [
      "---min_charge---\n",
      "(count     713.000000\n",
      "mean      434.676017\n",
      "std       237.852123\n",
      "min         0.000000\n",
      "25%       263.000000\n",
      "50%       425.000000\n",
      "75%       566.000000\n",
      "max      1369.000000\n",
      "Name: min_charge, dtype: float64, 2)\n"
     ]
    },
    {
     "data": {
      "image/png": "[encoded data removed]",
      "text/plain": [
       "<Figure size 432x288 with 1 Axes>"
      ]
     },
     "metadata": {
      "needs_background": "light"
     },
     "output_type": "display_data"
    },
    {
     "data": {
      "image/png": "[encoded data removed]",
      "text/plain": [
       "<Figure size 432x288 with 1 Axes>"
      ]
     },
     "metadata": {
      "needs_background": "light"
     },
     "output_type": "display_data"
    },
    {
     "name": "stdout",
     "output_type": "stream",
     "text": [
      "---total_pay---\n",
      "(count    1088.000000\n",
      "mean       38.448529\n",
      "std        36.952755\n",
      "min         0.000000\n",
      "25%         0.000000\n",
      "50%        70.000000\n",
      "75%        70.000000\n",
      "max       182.000000\n",
      "Name: total_pay, dtype: float64, 2)\n"
     ]
    },
    {
     "data": {
      "image/png": "[encoded data removed]",
      "text/plain": [
       "<Figure size 432x288 with 1 Axes>"
      ]
     },
     "metadata": {
      "needs_background": "light"
     },
     "output_type": "display_data"
    },
    {
     "data": {
      "image/png": "[encoded data removed]",
      "text/plain": [
       "<Figure size 432x288 with 1 Axes>"
      ]
     },
     "metadata": {
      "needs_background": "light"
     },
     "output_type": "display_data"
    }
   ],
   "source": [
    "studdy_par= ['mb_used', 'num_msg', 'min_charge', 'total_pay']\n",
    "for cor in studdy_par:\n",
    "    print('---{}---'.format(cor))\n",
    "    print((ctm_ultimate[cor].describe(), 2))\n",
    "    ctm_ultimate.hist(cor)\n",
    "    plt.xlabel(cor, fontsize = 20)\n",
    "    plt.ylabel('Users', fontsize = 20)\n",
    "    plt.show()\n",
    "    ctm_ultimate.boxplot(cor)\n",
    "    plt.show()"
   ]
  },
  {
   "cell_type": "markdown",
   "metadata": {},
   "source": [
    "here we saw the ultimate plan distrbution. inn the internet use we see that the mean is very low, almost half of the plans size(30000). most of the users don't use half of the plan and the pik is in the middle of the mb size to plan. also in the message data we see that pepole stoped useing text messages adג communicate by other ways and platforms so we can see that the number of messages us preaty low. the pick of the calls is around 500 calls that goes with the surf plan. in total pay we see a few users that pay a very big amount of money but most users dont over there plan limit and stay in it. "
   ]
  },
  {
   "cell_type": "code",
   "execution_count": 161,
   "metadata": {
    "scrolled": false
   },
   "outputs": [
    {
     "name": "stdout",
     "output_type": "stream",
     "text": [
      "---mb_used---\n",
      "(count     1558.000000\n",
      "mean     16717.702137\n",
      "std       7884.682983\n",
      "min         92.310000\n",
      "25%      12187.955000\n",
      "50%      16923.830000\n",
      "75%      21039.860000\n",
      "max      70931.590000\n",
      "Name: mb_used, dtype: float64, 2)\n"
     ]
    },
    {
     "data": {
      "image/png": "[encoded data removed]",
      "text/plain": [
       "<Figure size 432x288 with 1 Axes>"
      ]
     },
     "metadata": {
      "needs_background": "light"
     },
     "output_type": "display_data"
    },
    {
     "data": {
      "image/png": "[encoded data removed]",
      "text/plain": [
       "<Figure size 432x288 with 1 Axes>"
      ]
     },
     "metadata": {
      "needs_background": "light"
     },
     "output_type": "display_data"
    },
    {
     "name": "stdout",
     "output_type": "stream",
     "text": [
      "---num_msg---\n",
      "(count    1222.000000\n",
      "mean       40.109656\n",
      "std        33.035500\n",
      "min         1.000000\n",
      "25%        16.000000\n",
      "50%        32.000000\n",
      "75%        54.000000\n",
      "max       266.000000\n",
      "Name: num_msg, dtype: float64, 2)\n"
     ]
    },
    {
     "data": {
      "image/png": "[encoded data removed]",
      "text/plain": [
       "<Figure size 432x288 with 1 Axes>"
      ]
     },
     "metadata": {
      "needs_background": "light"
     },
     "output_type": "display_data"
    },
    {
     "data": {
      "image/png": "[encoded data removed]",
      "text/plain": [
       "<Figure size 432x288 with 1 Axes>"
      ]
     },
     "metadata": {
      "needs_background": "light"
     },
     "output_type": "display_data"
    },
    {
     "name": "stdout",
     "output_type": "stream",
     "text": [
      "---min_charge---\n",
      "(count    1545.000000\n",
      "mean      436.519741\n",
      "std       229.283805\n",
      "min         0.000000\n",
      "25%       279.000000\n",
      "50%       430.000000\n",
      "75%       579.000000\n",
      "max      1510.000000\n",
      "Name: min_charge, dtype: float64, 2)\n"
     ]
    },
    {
     "data": {
      "image/png": "[encoded data removed]",
      "text/plain": [
       "<Figure size 432x288 with 1 Axes>"
      ]
     },
     "metadata": {
      "needs_background": "light"
     },
     "output_type": "display_data"
    },
    {
     "data": {
      "image/png": "[encoded data removed]",
      "text/plain": [
       "<Figure size 432x288 with 1 Axes>"
      ]
     },
     "metadata": {
      "needs_background": "light"
     },
     "output_type": "display_data"
    },
    {
     "name": "stdout",
     "output_type": "stream",
     "text": [
      "---total_pay---\n",
      "(count    2267.000000\n",
      "mean       31.447150\n",
      "std        49.050468\n",
      "min         0.000000\n",
      "25%         0.000000\n",
      "50%        20.000000\n",
      "75%        43.570000\n",
      "max       590.370000\n",
      "Name: total_pay, dtype: float64, 2)\n"
     ]
    },
    {
     "data": {
      "image/png": "[encoded data removed]",
      "text/plain": [
       "<Figure size 432x288 with 1 Axes>"
      ]
     },
     "metadata": {
      "needs_background": "light"
     },
     "output_type": "display_data"
    },
    {
     "data": {
      "image/png": "[encoded data removed]",
      "text/plain": [
       "<Figure size 432x288 with 1 Axes>"
      ]
     },
     "metadata": {
      "needs_background": "light"
     },
     "output_type": "display_data"
    }
   ],
   "source": [
    "studdy_par= ['mb_used', 'num_msg', 'min_charge', 'total_pay']\n",
    "for cor in studdy_par:\n",
    "    print('---{}---'.format(cor))\n",
    "    print((ctm_surf[cor].describe(), 2))\n",
    "    ctm_surf.hist(cor)\n",
    "    plt.xlabel(cor, fontsize = 20)\n",
    "    plt.ylabel('Users', fontsize = 20)\n",
    "    plt.show()\n",
    "    ctm_surf.boxplot(cor)\n",
    "    plt.show()"
   ]
  },
  {
   "cell_type": "markdown",
   "metadata": {},
   "source": [
    " after we look at the surf plan distribution we can say about it the following:\n",
    " the users on internet use it a lot more than there are limited in there plan. the mean of mb is bigger than the limit is. on the message data we see that it is not sow high like in the ultimate plan but we still see that not a few users go over there limit. 50% of users call over there limit call plan and one of them got it 3 times more than the plan(1510/500). in total pay we see that a plan that cost 20$ users pay 2 or 3 times more(the middle of users (50%) pay 40 and the top 25% pay 80$ and goes up to 590$) a month that is so mouch more then the basic plan and means that there is a lot of money there."
   ]
  },
  {
   "cell_type": "code",
   "execution_count": 109,
   "metadata": {},
   "outputs": [
    {
     "data": {
      "image/png": "[encoded data removed]",
      "text/plain": [
       "<Figure size 432x288 with 1 Axes>"
      ]
     },
     "metadata": {
      "needs_background": "light"
     },
     "output_type": "display_data"
    }
   ],
   "source": [
    "ctm_ultimate['ravenue'].hist()\n",
    "plt.show()"
   ]
  },
  {
   "cell_type": "code",
   "execution_count": 110,
   "metadata": {},
   "outputs": [
    {
     "data": {
      "image/png": "[encoded data removed]",
      "text/plain": [
       "<Figure size 432x288 with 1 Axes>"
      ]
     },
     "metadata": {
      "needs_background": "light"
     },
     "output_type": "display_data"
    }
   ],
   "source": [
    "ctm_surf['ravenue'].hist()\n",
    "plt.show()"
   ]
  },
  {
   "cell_type": "markdown",
   "metadata": {},
   "source": [
    "from comparing the amount of money that the company gets over the pay for the basic plan we see that in the ultimate plan they dont get mouch maybe 10 dollars more for a month user not every month and on the other side we see that almost all the surf plan users pay twice of the basic payment and most of them pay a lot more. "
   ]
  },
  {
   "cell_type": "markdown",
   "metadata": {},
   "source": [
    "#step 4 - checking the hypotheses"
   ]
  },
  {
   "cell_type": "markdown",
   "metadata": {},
   "source": [
    "# hypothesis 1- same ravenue"
   ]
  },
  {
   "cell_type": "markdown",
   "metadata": {},
   "source": [
    "now lets check our 2 hypotheses. the first one is that there is a diffrence in the ravenue between the 2 plans. \n",
    "H0= there is no diffrence of ravenue between the 2 plans\n",
    "H1= there is a diffrence between them\n",
    "our alpha will be 0.03 because even if it is small its a diffrence we can feel\n",
    "\n",
    "the criterion we use for checking the hypothesis is the incoming money over the plans basic payment(i called it ravenue), in other words the profit of the company because at the end of our studdy we need to talk busines and profit is what means "
   ]
  },
  {
   "cell_type": "code",
   "execution_count": 111,
   "metadata": {},
   "outputs": [
    {
     "name": "stdout",
     "output_type": "stream",
     "text": [
      "p-value:  1.5318366755108466e-48\n",
      "We reject the null hypothesis\n"
     ]
    }
   ],
   "source": [
    "alpha = 0.03 \n",
    "\n",
    "results = st.ttest_ind(ctm_surf['ravenue'], ctm_ultimate['ravenue'])\n",
    "\n",
    "print('p-value: ', results.pvalue)\n",
    "\n",
    "if results.pvalue < alpha:\n",
    "    print(\"We reject the null hypothesis\")\n",
    "else:\n",
    "    print(\"We can't reject the null hypothesis\")"
   ]
  },
  {
   "cell_type": "code",
   "execution_count": 125,
   "metadata": {},
   "outputs": [
    {
     "name": "stdout",
     "output_type": "stream",
     "text": [
      "p-value:  3.0714120740830146e-05\n",
      "We reject the null hypothesis\n"
     ]
    }
   ],
   "source": [
    "alpha = 0.03 \n",
    "\n",
    "results = st.ttest_ind(ctm_surf['total_pay'], ctm_ultimate['total_pay'])\n",
    "\n",
    "print('p-value: ', results.pvalue)\n",
    "\n",
    "if results.pvalue < alpha:\n",
    "    print(\"We reject the null hypothesis\")\n",
    "else:\n",
    "    print(\"We can't reject the null hypothesis\")"
   ]
  },
  {
   "cell_type": "markdown",
   "metadata": {},
   "source": [
    "from the calculation of statics we see that the null hypthesis is very small so we reject the hypothesis that the ultimate and surf plans are the same and that meets up with the observing of data above that there is a diffrence between the plans"
   ]
  },
  {
   "cell_type": "markdown",
   "metadata": {},
   "source": [
    "# hypothesis 2-NY area"
   ]
  },
  {
   "cell_type": "markdown",
   "metadata": {},
   "source": [
    "now lets check our second hypothes. we think that there is a diffrence on the ravenue on the NY-NJ area to all other states\n",
    "H0= there is no diffrence between the NY-NJ area to all other areas\n",
    "H1= there is a diffrence between the NY-NJ area to all others\n",
    "our alpha will be 0.1 because 10% is a diffrence that is not an incident but a real diffrence \n",
    "\n",
    "the criterion we use for checking the hypothesis is the incoming money over the plans basic payment(i called it ravenue), in other words the profit of the company because at the end of our studdy we need to talk busines and profit is what means "
   ]
  },
  {
   "cell_type": "code",
   "execution_count": 113,
   "metadata": {},
   "outputs": [],
   "source": [
    "charge_to_month_ny=charge_to_month.query('city == \"new york-newark-jersey city, ny-nj-pa msa\"')\n",
    "ctm_other = charge_to_month.query('city != \"new york-newark-jersey city, ny-nj-pa msa\"')"
   ]
  },
  {
   "cell_type": "code",
   "execution_count": 114,
   "metadata": {},
   "outputs": [
    {
     "name": "stdout",
     "output_type": "stream",
     "text": [
      "<class 'pandas.core.frame.DataFrame'>\n",
      "Int64Index: 552 entries, 83 to 3346\n",
      "Data columns (total 16 columns):\n",
      "user_id                  552 non-null int64\n",
      "month                    552 non-null int64\n",
      "city                     552 non-null object\n",
      "plan                     552 non-null object\n",
      "min_charge               371 non-null float64\n",
      "num_msg                  285 non-null float64\n",
      "mb_used                  376 non-null float64\n",
      "messages_included        552 non-null int64\n",
      "mb_per_month_included    552 non-null int64\n",
      "minutes_included         552 non-null int64\n",
      "usd_monthly_pay          552 non-null int64\n",
      "usd_per_gb               552 non-null int64\n",
      "usd_per_message          552 non-null float64\n",
      "usd_per_minute           552 non-null float64\n",
      "total_pay                279 non-null float64\n",
      "ravenue                  279 non-null float64\n",
      "dtypes: float64(7), int64(7), object(2)\n",
      "memory usage: 73.3+ KB\n"
     ]
    }
   ],
   "source": [
    "charge_to_month_ny.info()"
   ]
  },
  {
   "cell_type": "code",
   "execution_count": 115,
   "metadata": {},
   "outputs": [
    {
     "data": {
      "text/plain": [
       "user_id                    0\n",
       "month                      0\n",
       "city                       0\n",
       "plan                       0\n",
       "min_charge               181\n",
       "num_msg                  267\n",
       "mb_used                  176\n",
       "messages_included          0\n",
       "mb_per_month_included      0\n",
       "minutes_included           0\n",
       "usd_monthly_pay            0\n",
       "usd_per_gb                 0\n",
       "usd_per_message            0\n",
       "usd_per_minute             0\n",
       "total_pay                273\n",
       "ravenue                  273\n",
       "dtype: int64"
      ]
     },
     "execution_count": 115,
     "metadata": {},
     "output_type": "execute_result"
    }
   ],
   "source": [
    "charge_to_month_ny.isnull().sum()"
   ]
  },
  {
   "cell_type": "code",
   "execution_count": 116,
   "metadata": {},
   "outputs": [
    {
     "name": "stderr",
     "output_type": "stream",
     "text": [
      "/opt/conda/lib/python3.7/site-packages/ipykernel_launcher.py:1: SettingWithCopyWarning: \n",
      "A value is trying to be set on a copy of a slice from a DataFrame.\n",
      "Try using .loc[row_indexer,col_indexer] = value instead\n",
      "\n",
      "See the caveats in the documentation: http://pandas.pydata.org/pandas-docs/stable/user_guide/indexing.html#returning-a-view-versus-a-copy\n",
      "  \"\"\"Entry point for launching an IPython kernel.\n"
     ]
    }
   ],
   "source": [
    "charge_to_month_ny['ravenue']=charge_to_month_ny['ravenue'].fillna(0.1)"
   ]
  },
  {
   "cell_type": "code",
   "execution_count": 117,
   "metadata": {},
   "outputs": [
    {
     "data": {
      "text/plain": [
       "1323"
      ]
     },
     "execution_count": 117,
     "metadata": {},
     "output_type": "execute_result"
    }
   ],
   "source": [
    "ctm_other['ravenue'].isnull().sum()"
   ]
  },
  {
   "cell_type": "code",
   "execution_count": 145,
   "metadata": {},
   "outputs": [
    {
     "name": "stderr",
     "output_type": "stream",
     "text": [
      "/opt/conda/lib/python3.7/site-packages/ipykernel_launcher.py:1: SettingWithCopyWarning: \n",
      "A value is trying to be set on a copy of a slice from a DataFrame.\n",
      "Try using .loc[row_indexer,col_indexer] = value instead\n",
      "\n",
      "See the caveats in the documentation: http://pandas.pydata.org/pandas-docs/stable/user_guide/indexing.html#returning-a-view-versus-a-copy\n",
      "  \"\"\"Entry point for launching an IPython kernel.\n"
     ]
    }
   ],
   "source": [
    "ctm_other['ravenue']=ctm_other['ravenue'].dropna()"
   ]
  },
  {
   "cell_type": "code",
   "execution_count": 146,
   "metadata": {},
   "outputs": [
    {
     "name": "stdout",
     "output_type": "stream",
     "text": [
      "<class 'pandas.core.frame.DataFrame'>\n",
      "Int64Index: 2803 entries, 0 to 3354\n",
      "Data columns (total 16 columns):\n",
      "user_id                  2803 non-null int64\n",
      "month                    2803 non-null int64\n",
      "city                     2803 non-null object\n",
      "plan                     2803 non-null object\n",
      "min_charge               1887 non-null float64\n",
      "num_msg                  1521 non-null float64\n",
      "mb_used                  1901 non-null float64\n",
      "messages_included        2803 non-null int64\n",
      "mb_per_month_included    2803 non-null int64\n",
      "minutes_included         2803 non-null int64\n",
      "usd_monthly_pay          2803 non-null int64\n",
      "usd_per_gb               2803 non-null int64\n",
      "usd_per_message          2803 non-null float64\n",
      "usd_per_minute           2803 non-null float64\n",
      "total_pay                1480 non-null float64\n",
      "ravenue                  2803 non-null float64\n",
      "dtypes: float64(7), int64(7), object(2)\n",
      "memory usage: 372.3+ KB\n"
     ]
    }
   ],
   "source": [
    "ctm_other.info()"
   ]
  },
  {
   "cell_type": "markdown",
   "metadata": {},
   "source": [
    "we had Nan's in the df we made for NY and others so we droped  them up for the caculation "
   ]
  },
  {
   "cell_type": "code",
   "execution_count": 147,
   "metadata": {},
   "outputs": [
    {
     "name": "stdout",
     "output_type": "stream",
     "text": [
      "p-value:  0.5312127215893525\n",
      "We can't reject the null hypothesis\n"
     ]
    }
   ],
   "source": [
    "alpha = 0.1 \n",
    "\n",
    "results = st.ttest_ind(ctm_other['ravenue'], charge_to_month_ny['ravenue'])\n",
    "\n",
    "print('p-value: ', results.pvalue)\n",
    "\n",
    "if results.pvalue < alpha:\n",
    "    print(\"We reject the null hypothesis\")\n",
    "else:\n",
    "    print(\"We can't reject the null hypothesis\")"
   ]
  },
  {
   "cell_type": "markdown",
   "metadata": {},
   "source": [
    "from the answer we got we see that there is not a big diffrence between the NY-NJ area to all other area in the USA so we dont need to focus only there but pay the same attention to all of the US."
   ]
  },
  {
   "cell_type": "markdown",
   "metadata": {},
   "source": [
    "#step 5- overall conclusion "
   ]
  },
  {
   "cell_type": "markdown",
   "metadata": {},
   "source": [
    "so what did we do here?\n",
    "##step 1##\n",
    "first thing we imported our liberis and tools to work with and imported our data sets\n",
    "\n",
    "##step 2##\n",
    "we read our data sets and found a few issues. we changed dates that where in object type to date and time type.\n",
    "we saw Nans and decided to cange then in to dates\n",
    "we added columns of month and made new df with monthly sums of calls, messages and mb\n",
    "after we had our clean df we merged them together and added the pay per month and profit columns\n",
    "\n",
    "##step 3##\n",
    "we analyzed the data and visualized it. we found the mean and std and studdyed the distribution of it.\n",
    "we learned the behavior of users and the diffrences between the 2 plans\n",
    "\n",
    "##step 4##\n",
    "we cheked our 2 hypothesis and found out statistical answer\n"
   ]
  },
  {
   "cell_type": "markdown",
   "metadata": {},
   "source": [
    "#conclusion "
   ]
  },
  {
   "cell_type": "markdown",
   "metadata": {},
   "source": [
    "after studdying our dataset this is what we found out:\n",
    "we knew that there where 2 plans, one was a basic and small plan with a small amount of calls, messages and internet size. the second plan was for more bigger users that had a biiger offer of internet, calls and messages. from studdying it we see that users in the ultimate plan almost dont get over there limit so they pay more for basic plan but it is not a growing income. in the second plan ('surf') users maybe come because it is cheaper but there use is a lot more and most of them use a lot over there limites. \n",
    "so if we need to push a plan it is more profited to push the surf plan because it is a trap that brings the company more money.\n",
    "this conclusion is to all of the u.s. and not only for one area as we checked withw the ny region."
   ]
  },
  {
   "cell_type": "code",
   "execution_count": null,
   "metadata": {},
   "outputs": [],
   "source": []
  }
 ],
 "metadata": {
  "ExecuteTimeLog": [
   {
    "duration": 707,
    "start_time": "2022-02-13T23:11:38.104Z"
   },
   {
    "duration": 298,
    "start_time": "2022-02-13T23:11:39.898Z"
   },
   {
    "duration": 14,
    "start_time": "2022-02-13T23:12:25.419Z"
   },
   {
    "duration": 9,
    "start_time": "2022-02-13T23:14:07.918Z"
   },
   {
    "duration": 8,
    "start_time": "2022-02-13T23:14:28.840Z"
   },
   {
    "duration": 10,
    "start_time": "2022-02-13T23:14:37.022Z"
   },
   {
    "duration": 11,
    "start_time": "2022-02-13T23:15:26.726Z"
   },
   {
    "duration": 331,
    "start_time": "2022-02-14T16:03:18.468Z"
   },
   {
    "duration": 829,
    "start_time": "2022-02-14T16:03:24.119Z"
   },
   {
    "duration": 301,
    "start_time": "2022-02-14T16:03:24.950Z"
   },
   {
    "duration": 14,
    "start_time": "2022-02-14T16:03:25.254Z"
   },
   {
    "duration": 12,
    "start_time": "2022-02-14T16:03:25.270Z"
   },
   {
    "duration": 28,
    "start_time": "2022-02-14T16:03:25.283Z"
   },
   {
    "duration": 14,
    "start_time": "2022-02-14T16:03:25.313Z"
   },
   {
    "duration": 17,
    "start_time": "2022-02-14T16:03:25.329Z"
   },
   {
    "duration": 12,
    "start_time": "2022-02-14T16:03:25.349Z"
   },
   {
    "duration": 30,
    "start_time": "2022-02-14T16:04:44.705Z"
   },
   {
    "duration": 16,
    "start_time": "2022-02-14T16:06:39.897Z"
   },
   {
    "duration": 8,
    "start_time": "2022-02-14T16:09:31.299Z"
   },
   {
    "duration": 16,
    "start_time": "2022-02-14T16:12:15.589Z"
   },
   {
    "duration": 19,
    "start_time": "2022-02-14T16:13:28.703Z"
   },
   {
    "duration": 7,
    "start_time": "2022-02-14T16:13:49.072Z"
   },
   {
    "duration": 304,
    "start_time": "2022-02-14T16:20:10.862Z"
   },
   {
    "duration": 9,
    "start_time": "2022-02-14T16:22:53.984Z"
   },
   {
    "duration": 1142,
    "start_time": "2022-02-14T16:31:16.148Z"
   },
   {
    "duration": 8,
    "start_time": "2022-02-14T16:31:42.665Z"
   },
   {
    "duration": 81,
    "start_time": "2022-02-14T16:35:44.509Z"
   },
   {
    "duration": 10,
    "start_time": "2022-02-14T16:35:54.057Z"
   },
   {
    "duration": 9,
    "start_time": "2022-02-14T16:37:16.809Z"
   },
   {
    "duration": 9,
    "start_time": "2022-02-14T16:37:42.809Z"
   },
   {
    "duration": 246,
    "start_time": "2022-02-14T16:40:48.558Z"
   },
   {
    "duration": 9,
    "start_time": "2022-02-14T16:41:15.063Z"
   },
   {
    "duration": 11,
    "start_time": "2022-02-14T16:48:06.355Z"
   },
   {
    "duration": 8,
    "start_time": "2022-02-14T16:49:44.750Z"
   },
   {
    "duration": 9,
    "start_time": "2022-02-14T16:50:56.179Z"
   },
   {
    "duration": 14,
    "start_time": "2022-02-14T16:51:30.380Z"
   },
   {
    "duration": 8,
    "start_time": "2022-02-14T16:52:37.776Z"
   },
   {
    "duration": 7,
    "start_time": "2022-02-14T16:53:21.550Z"
   },
   {
    "duration": 5,
    "start_time": "2022-02-14T16:54:45.227Z"
   },
   {
    "duration": 5,
    "start_time": "2022-02-14T16:54:49.575Z"
   },
   {
    "duration": 8,
    "start_time": "2022-02-14T16:54:51.359Z"
   },
   {
    "duration": 6,
    "start_time": "2022-02-14T17:07:11.257Z"
   },
   {
    "duration": 17,
    "start_time": "2022-02-14T17:17:37.216Z"
   },
   {
    "duration": 10,
    "start_time": "2022-02-14T17:18:41.765Z"
   },
   {
    "duration": 29,
    "start_time": "2022-02-14T17:23:32.421Z"
   },
   {
    "duration": 6373,
    "start_time": "2022-02-14T17:27:18.548Z"
   },
   {
    "duration": 20,
    "start_time": "2022-02-14T17:27:53.742Z"
   },
   {
    "duration": 18,
    "start_time": "2022-02-14T17:28:15.234Z"
   },
   {
    "duration": 16,
    "start_time": "2022-02-14T17:28:47.229Z"
   },
   {
    "duration": 246,
    "start_time": "2022-02-14T17:34:21.748Z"
   },
   {
    "duration": 7,
    "start_time": "2022-02-14T17:34:29.943Z"
   },
   {
    "duration": 6,
    "start_time": "2022-02-14T17:36:50.503Z"
   },
   {
    "duration": 13,
    "start_time": "2022-02-14T18:00:44.752Z"
   },
   {
    "duration": 13,
    "start_time": "2022-02-14T18:02:18.272Z"
   },
   {
    "duration": 7,
    "start_time": "2022-02-14T18:03:13.938Z"
   },
   {
    "duration": 6,
    "start_time": "2022-02-14T18:04:56.563Z"
   },
   {
    "duration": 283,
    "start_time": "2022-02-14T18:06:19.310Z"
   },
   {
    "duration": 12,
    "start_time": "2022-02-14T18:06:29.895Z"
   },
   {
    "duration": 14,
    "start_time": "2022-02-14T18:08:56.768Z"
   },
   {
    "duration": 9,
    "start_time": "2022-02-14T18:09:22.883Z"
   },
   {
    "duration": 7,
    "start_time": "2022-02-14T18:13:26.207Z"
   },
   {
    "duration": 15,
    "start_time": "2022-02-14T18:13:38.028Z"
   },
   {
    "duration": 8,
    "start_time": "2022-02-14T18:13:53.217Z"
   },
   {
    "duration": 16,
    "start_time": "2022-02-14T18:22:40.766Z"
   },
   {
    "duration": 23,
    "start_time": "2022-02-14T18:23:12.625Z"
   },
   {
    "duration": 59,
    "start_time": "2022-02-14T18:28:00.760Z"
   },
   {
    "duration": 14,
    "start_time": "2022-02-14T18:28:36.080Z"
   },
   {
    "duration": 7,
    "start_time": "2022-02-14T18:30:07.647Z"
   },
   {
    "duration": 8,
    "start_time": "2022-02-14T18:30:53.783Z"
   },
   {
    "duration": 18,
    "start_time": "2022-02-14T18:32:24.486Z"
   },
   {
    "duration": 12,
    "start_time": "2022-02-14T18:32:40.635Z"
   },
   {
    "duration": 14,
    "start_time": "2022-02-14T18:33:59.127Z"
   },
   {
    "duration": 13,
    "start_time": "2022-02-14T18:34:16.308Z"
   },
   {
    "duration": 18,
    "start_time": "2022-02-14T18:34:39.305Z"
   },
   {
    "duration": 687,
    "start_time": "2022-02-14T21:23:08.653Z"
   },
   {
    "duration": 298,
    "start_time": "2022-02-14T21:23:09.343Z"
   },
   {
    "duration": 15,
    "start_time": "2022-02-14T21:23:09.644Z"
   },
   {
    "duration": 11,
    "start_time": "2022-02-14T21:23:09.661Z"
   },
   {
    "duration": 35,
    "start_time": "2022-02-14T21:23:09.674Z"
   },
   {
    "duration": 13,
    "start_time": "2022-02-14T21:23:09.711Z"
   },
   {
    "duration": 21,
    "start_time": "2022-02-14T21:23:09.726Z"
   },
   {
    "duration": 12,
    "start_time": "2022-02-14T21:23:09.750Z"
   },
   {
    "duration": 32,
    "start_time": "2022-02-14T21:23:09.765Z"
   },
   {
    "duration": 16,
    "start_time": "2022-02-14T21:23:09.799Z"
   },
   {
    "duration": 7,
    "start_time": "2022-02-14T21:23:09.817Z"
   },
   {
    "duration": 20,
    "start_time": "2022-02-14T21:23:09.826Z"
   },
   {
    "duration": 6,
    "start_time": "2022-02-14T21:23:09.849Z"
   },
   {
    "duration": 12,
    "start_time": "2022-02-14T21:23:09.857Z"
   },
   {
    "duration": 36,
    "start_time": "2022-02-14T21:23:09.871Z"
   },
   {
    "duration": 15,
    "start_time": "2022-02-14T21:23:09.909Z"
   },
   {
    "duration": 16,
    "start_time": "2022-02-14T21:23:09.926Z"
   },
   {
    "duration": 19,
    "start_time": "2022-02-14T21:23:09.944Z"
   },
   {
    "duration": 12,
    "start_time": "2022-02-14T21:23:09.965Z"
   },
   {
    "duration": 17,
    "start_time": "2022-02-14T21:23:09.979Z"
   },
   {
    "duration": 21,
    "start_time": "2022-02-14T21:23:09.999Z"
   },
   {
    "duration": 28,
    "start_time": "2022-02-14T21:23:10.022Z"
   },
   {
    "duration": 27,
    "start_time": "2022-02-14T21:23:10.055Z"
   },
   {
    "duration": 28,
    "start_time": "2022-02-14T21:23:10.085Z"
   },
   {
    "duration": 19,
    "start_time": "2022-02-14T21:23:10.116Z"
   },
   {
    "duration": 18,
    "start_time": "2022-02-14T21:23:10.137Z"
   },
   {
    "duration": 22,
    "start_time": "2022-02-14T21:23:10.157Z"
   },
   {
    "duration": 33,
    "start_time": "2022-02-14T21:23:10.181Z"
   },
   {
    "duration": 9,
    "start_time": "2022-02-14T21:23:10.216Z"
   },
   {
    "duration": 19,
    "start_time": "2022-02-14T21:23:10.227Z"
   },
   {
    "duration": 19,
    "start_time": "2022-02-14T21:23:10.248Z"
   },
   {
    "duration": 9,
    "start_time": "2022-02-14T21:23:10.269Z"
   },
   {
    "duration": 30,
    "start_time": "2022-02-14T21:23:10.280Z"
   },
   {
    "duration": 18,
    "start_time": "2022-02-14T21:23:10.312Z"
   },
   {
    "duration": 21,
    "start_time": "2022-02-14T21:23:10.332Z"
   },
   {
    "duration": 11,
    "start_time": "2022-02-14T21:23:10.355Z"
   },
   {
    "duration": 18,
    "start_time": "2022-02-14T21:23:10.368Z"
   },
   {
    "duration": 44,
    "start_time": "2022-02-14T21:23:10.388Z"
   },
   {
    "duration": 59,
    "start_time": "2022-02-14T21:23:10.434Z"
   },
   {
    "duration": 24,
    "start_time": "2022-02-14T21:23:10.495Z"
   },
   {
    "duration": 6,
    "start_time": "2022-02-14T21:23:10.521Z"
   },
   {
    "duration": 23,
    "start_time": "2022-02-14T21:23:10.529Z"
   },
   {
    "duration": 28,
    "start_time": "2022-02-14T21:23:10.554Z"
   },
   {
    "duration": 29,
    "start_time": "2022-02-14T21:23:10.584Z"
   },
   {
    "duration": 19,
    "start_time": "2022-02-14T21:23:10.615Z"
   },
   {
    "duration": 3,
    "start_time": "2022-02-14T21:24:30.517Z"
   },
   {
    "duration": 306,
    "start_time": "2022-02-14T21:24:30.523Z"
   },
   {
    "duration": 12,
    "start_time": "2022-02-14T21:24:30.831Z"
   },
   {
    "duration": 22,
    "start_time": "2022-02-14T21:24:30.845Z"
   },
   {
    "duration": 33,
    "start_time": "2022-02-14T21:24:30.869Z"
   },
   {
    "duration": 20,
    "start_time": "2022-02-14T21:24:30.904Z"
   },
   {
    "duration": 14,
    "start_time": "2022-02-14T21:24:30.926Z"
   },
   {
    "duration": 12,
    "start_time": "2022-02-14T21:24:30.943Z"
   },
   {
    "duration": 66,
    "start_time": "2022-02-14T21:24:30.958Z"
   },
   {
    "duration": 11,
    "start_time": "2022-02-14T21:24:31.026Z"
   },
   {
    "duration": 42,
    "start_time": "2022-02-14T21:24:31.040Z"
   },
   {
    "duration": 29,
    "start_time": "2022-02-14T21:24:31.084Z"
   },
   {
    "duration": 9,
    "start_time": "2022-02-14T21:24:31.115Z"
   },
   {
    "duration": 20,
    "start_time": "2022-02-14T21:24:31.126Z"
   },
   {
    "duration": 13,
    "start_time": "2022-02-14T21:24:31.148Z"
   },
   {
    "duration": 30,
    "start_time": "2022-02-14T21:24:31.163Z"
   },
   {
    "duration": 17,
    "start_time": "2022-02-14T21:24:31.195Z"
   },
   {
    "duration": 32,
    "start_time": "2022-02-14T21:24:31.214Z"
   },
   {
    "duration": 23,
    "start_time": "2022-02-14T21:24:31.248Z"
   },
   {
    "duration": 15,
    "start_time": "2022-02-14T21:24:31.273Z"
   },
   {
    "duration": 14,
    "start_time": "2022-02-14T21:24:31.290Z"
   },
   {
    "duration": 17,
    "start_time": "2022-02-14T21:24:31.307Z"
   },
   {
    "duration": 26,
    "start_time": "2022-02-14T21:24:31.328Z"
   },
   {
    "duration": 33,
    "start_time": "2022-02-14T21:24:31.357Z"
   },
   {
    "duration": 28,
    "start_time": "2022-02-14T21:24:31.392Z"
   },
   {
    "duration": 47,
    "start_time": "2022-02-14T21:24:31.422Z"
   },
   {
    "duration": 56,
    "start_time": "2022-02-14T21:24:31.471Z"
   },
   {
    "duration": 8,
    "start_time": "2022-02-14T21:24:31.529Z"
   },
   {
    "duration": 7,
    "start_time": "2022-02-14T21:24:31.539Z"
   },
   {
    "duration": 30,
    "start_time": "2022-02-14T21:24:31.547Z"
   },
   {
    "duration": 18,
    "start_time": "2022-02-14T21:24:31.579Z"
   },
   {
    "duration": 15,
    "start_time": "2022-02-14T21:24:31.599Z"
   },
   {
    "duration": 24,
    "start_time": "2022-02-14T21:24:31.616Z"
   },
   {
    "duration": 26,
    "start_time": "2022-02-14T21:24:31.642Z"
   },
   {
    "duration": 30,
    "start_time": "2022-02-14T21:24:31.670Z"
   },
   {
    "duration": 22,
    "start_time": "2022-02-14T21:24:31.702Z"
   },
   {
    "duration": 23,
    "start_time": "2022-02-14T21:24:31.726Z"
   },
   {
    "duration": 23,
    "start_time": "2022-02-14T21:24:31.751Z"
   },
   {
    "duration": 63,
    "start_time": "2022-02-14T21:24:31.776Z"
   },
   {
    "duration": 15,
    "start_time": "2022-02-14T21:24:31.841Z"
   },
   {
    "duration": 28,
    "start_time": "2022-02-14T21:24:31.858Z"
   },
   {
    "duration": 25,
    "start_time": "2022-02-14T21:24:31.888Z"
   },
   {
    "duration": 29,
    "start_time": "2022-02-14T21:24:31.915Z"
   },
   {
    "duration": 16,
    "start_time": "2022-02-14T21:24:31.946Z"
   },
   {
    "duration": 24,
    "start_time": "2022-02-14T21:24:31.964Z"
   },
   {
    "duration": 964,
    "start_time": "2022-02-15T16:23:06.752Z"
   },
   {
    "duration": 330,
    "start_time": "2022-02-15T16:23:07.719Z"
   },
   {
    "duration": 21,
    "start_time": "2022-02-15T16:23:08.053Z"
   },
   {
    "duration": 14,
    "start_time": "2022-02-15T16:23:08.078Z"
   },
   {
    "duration": 14,
    "start_time": "2022-02-15T16:23:08.095Z"
   },
   {
    "duration": 14,
    "start_time": "2022-02-15T16:23:08.148Z"
   },
   {
    "duration": 16,
    "start_time": "2022-02-15T16:23:08.164Z"
   },
   {
    "duration": 11,
    "start_time": "2022-02-15T16:23:08.183Z"
   },
   {
    "duration": 73,
    "start_time": "2022-02-15T16:23:08.197Z"
   },
   {
    "duration": 13,
    "start_time": "2022-02-15T16:23:08.272Z"
   },
   {
    "duration": 14,
    "start_time": "2022-02-15T16:23:08.288Z"
   },
   {
    "duration": 49,
    "start_time": "2022-02-15T16:23:08.305Z"
   },
   {
    "duration": 7,
    "start_time": "2022-02-15T16:23:08.356Z"
   },
   {
    "duration": 11,
    "start_time": "2022-02-15T16:23:08.365Z"
   },
   {
    "duration": 8,
    "start_time": "2022-02-15T16:23:08.379Z"
   },
   {
    "duration": 14,
    "start_time": "2022-02-15T16:23:08.389Z"
   },
   {
    "duration": 60,
    "start_time": "2022-02-15T16:23:08.405Z"
   },
   {
    "duration": 11,
    "start_time": "2022-02-15T16:23:08.468Z"
   },
   {
    "duration": 9,
    "start_time": "2022-02-15T16:23:08.481Z"
   },
   {
    "duration": 11,
    "start_time": "2022-02-15T16:23:08.493Z"
   },
   {
    "duration": 45,
    "start_time": "2022-02-15T16:23:08.507Z"
   },
   {
    "duration": 12,
    "start_time": "2022-02-15T16:23:08.555Z"
   },
   {
    "duration": 24,
    "start_time": "2022-02-15T16:23:08.574Z"
   },
   {
    "duration": 66,
    "start_time": "2022-02-15T16:23:08.602Z"
   },
   {
    "duration": 24,
    "start_time": "2022-02-15T16:23:08.671Z"
   },
   {
    "duration": 21,
    "start_time": "2022-02-15T16:23:08.697Z"
   },
   {
    "duration": 45,
    "start_time": "2022-02-15T16:23:08.720Z"
   },
   {
    "duration": 9,
    "start_time": "2022-02-15T16:23:08.767Z"
   },
   {
    "duration": 6,
    "start_time": "2022-02-15T16:23:08.778Z"
   },
   {
    "duration": 17,
    "start_time": "2022-02-15T16:23:08.786Z"
   },
   {
    "duration": 55,
    "start_time": "2022-02-15T16:23:08.806Z"
   },
   {
    "duration": 10,
    "start_time": "2022-02-15T16:23:08.864Z"
   },
   {
    "duration": 14,
    "start_time": "2022-02-15T16:23:08.876Z"
   },
   {
    "duration": 15,
    "start_time": "2022-02-15T16:23:08.892Z"
   },
   {
    "duration": 55,
    "start_time": "2022-02-15T16:23:08.910Z"
   },
   {
    "duration": 12,
    "start_time": "2022-02-15T16:23:08.967Z"
   },
   {
    "duration": 17,
    "start_time": "2022-02-15T16:23:08.981Z"
   },
   {
    "duration": 54,
    "start_time": "2022-02-15T16:23:09.000Z"
   },
   {
    "duration": 66,
    "start_time": "2022-02-15T16:23:09.057Z"
   },
   {
    "duration": 37,
    "start_time": "2022-02-15T16:23:09.126Z"
   },
   {
    "duration": 10,
    "start_time": "2022-02-15T16:23:09.166Z"
   },
   {
    "duration": 14,
    "start_time": "2022-02-15T16:23:09.179Z"
   },
   {
    "duration": 65,
    "start_time": "2022-02-15T16:23:09.196Z"
   },
   {
    "duration": 13,
    "start_time": "2022-02-15T16:23:09.264Z"
   },
   {
    "duration": 17,
    "start_time": "2022-02-15T16:23:09.280Z"
   },
   {
    "duration": 12,
    "start_time": "2022-02-15T16:24:54.745Z"
   },
   {
    "duration": 12,
    "start_time": "2022-02-15T16:26:43.005Z"
   },
   {
    "duration": 28,
    "start_time": "2022-02-15T16:28:22.953Z"
   },
   {
    "duration": 4,
    "start_time": "2022-02-15T16:28:27.923Z"
   },
   {
    "duration": 329,
    "start_time": "2022-02-15T16:28:27.930Z"
   },
   {
    "duration": 14,
    "start_time": "2022-02-15T16:28:28.261Z"
   },
   {
    "duration": 11,
    "start_time": "2022-02-15T16:28:28.278Z"
   },
   {
    "duration": 9,
    "start_time": "2022-02-15T16:28:28.292Z"
   },
   {
    "duration": 47,
    "start_time": "2022-02-15T16:28:28.303Z"
   },
   {
    "duration": 13,
    "start_time": "2022-02-15T16:28:28.352Z"
   },
   {
    "duration": 8,
    "start_time": "2022-02-15T16:28:28.370Z"
   },
   {
    "duration": 73,
    "start_time": "2022-02-15T16:28:28.381Z"
   },
   {
    "duration": 15,
    "start_time": "2022-02-15T16:28:28.457Z"
   },
   {
    "duration": 12,
    "start_time": "2022-02-15T16:28:28.475Z"
   },
   {
    "duration": 31,
    "start_time": "2022-02-15T16:28:28.489Z"
   },
   {
    "duration": 30,
    "start_time": "2022-02-15T16:28:28.522Z"
   },
   {
    "duration": 11,
    "start_time": "2022-02-15T16:28:28.554Z"
   },
   {
    "duration": 13,
    "start_time": "2022-02-15T16:28:28.567Z"
   },
   {
    "duration": 13,
    "start_time": "2022-02-15T16:28:28.582Z"
   },
   {
    "duration": 28,
    "start_time": "2022-02-15T16:28:28.597Z"
   },
   {
    "duration": 5,
    "start_time": "2022-02-15T16:28:28.649Z"
   },
   {
    "duration": 12,
    "start_time": "2022-02-15T16:28:28.657Z"
   },
   {
    "duration": 16,
    "start_time": "2022-02-15T16:28:28.671Z"
   },
   {
    "duration": 21,
    "start_time": "2022-02-15T16:28:28.689Z"
   },
   {
    "duration": 17,
    "start_time": "2022-02-15T16:28:28.712Z"
   },
   {
    "duration": 21,
    "start_time": "2022-02-15T16:28:28.750Z"
   },
   {
    "duration": 30,
    "start_time": "2022-02-15T16:28:28.775Z"
   },
   {
    "duration": 60,
    "start_time": "2022-02-15T16:28:28.808Z"
   },
   {
    "duration": 17,
    "start_time": "2022-02-15T16:28:28.871Z"
   },
   {
    "duration": 16,
    "start_time": "2022-02-15T16:28:28.891Z"
   },
   {
    "duration": 48,
    "start_time": "2022-02-15T16:28:28.910Z"
   },
   {
    "duration": 7,
    "start_time": "2022-02-15T16:28:28.961Z"
   },
   {
    "duration": 12,
    "start_time": "2022-02-15T16:28:28.971Z"
   },
   {
    "duration": 15,
    "start_time": "2022-02-15T16:28:28.986Z"
   },
   {
    "duration": 52,
    "start_time": "2022-02-15T16:28:29.003Z"
   },
   {
    "duration": 9,
    "start_time": "2022-02-15T16:28:29.058Z"
   },
   {
    "duration": 9,
    "start_time": "2022-02-15T16:28:29.069Z"
   },
   {
    "duration": 15,
    "start_time": "2022-02-15T16:28:29.081Z"
   },
   {
    "duration": 55,
    "start_time": "2022-02-15T16:28:29.098Z"
   },
   {
    "duration": 13,
    "start_time": "2022-02-15T16:28:29.155Z"
   },
   {
    "duration": 17,
    "start_time": "2022-02-15T16:28:29.170Z"
   },
   {
    "duration": 59,
    "start_time": "2022-02-15T16:28:29.190Z"
   },
   {
    "duration": 55,
    "start_time": "2022-02-15T16:28:29.252Z"
   },
   {
    "duration": 16,
    "start_time": "2022-02-15T16:28:29.309Z"
   },
   {
    "duration": 7,
    "start_time": "2022-02-15T16:28:29.349Z"
   },
   {
    "duration": 23,
    "start_time": "2022-02-15T16:28:29.358Z"
   },
   {
    "duration": 26,
    "start_time": "2022-02-15T16:28:29.383Z"
   },
   {
    "duration": 14,
    "start_time": "2022-02-15T16:28:29.411Z"
   },
   {
    "duration": 18,
    "start_time": "2022-02-15T16:28:29.448Z"
   },
   {
    "duration": 13,
    "start_time": "2022-02-15T16:35:48.638Z"
   },
   {
    "duration": 435,
    "start_time": "2022-02-15T16:36:09.828Z"
   },
   {
    "duration": 101,
    "start_time": "2022-02-15T16:36:22.023Z"
   },
   {
    "duration": 12,
    "start_time": "2022-02-15T16:36:52.454Z"
   },
   {
    "duration": 20,
    "start_time": "2022-02-15T16:37:02.483Z"
   },
   {
    "duration": 20,
    "start_time": "2022-02-15T17:30:58.920Z"
   },
   {
    "duration": 106,
    "start_time": "2022-02-15T17:37:17.706Z"
   },
   {
    "duration": 300,
    "start_time": "2022-02-15T17:39:59.160Z"
   },
   {
    "duration": 120,
    "start_time": "2022-02-15T17:40:36.142Z"
   },
   {
    "duration": 72,
    "start_time": "2022-02-15T17:40:45.473Z"
   },
   {
    "duration": 282,
    "start_time": "2022-02-15T17:40:52.265Z"
   },
   {
    "duration": 345,
    "start_time": "2022-02-15T17:44:08.448Z"
   },
   {
    "duration": 314,
    "start_time": "2022-02-15T17:44:23.197Z"
   },
   {
    "duration": 864,
    "start_time": "2022-02-15T17:44:33.858Z"
   },
   {
    "duration": 355,
    "start_time": "2022-02-15T17:44:34.725Z"
   },
   {
    "duration": 20,
    "start_time": "2022-02-15T17:44:35.083Z"
   },
   {
    "duration": 14,
    "start_time": "2022-02-15T17:44:35.107Z"
   },
   {
    "duration": 12,
    "start_time": "2022-02-15T17:44:35.149Z"
   },
   {
    "duration": 15,
    "start_time": "2022-02-15T17:44:35.164Z"
   },
   {
    "duration": 16,
    "start_time": "2022-02-15T17:44:35.182Z"
   },
   {
    "duration": 48,
    "start_time": "2022-02-15T17:44:35.201Z"
   },
   {
    "duration": 47,
    "start_time": "2022-02-15T17:44:35.253Z"
   },
   {
    "duration": 18,
    "start_time": "2022-02-15T17:44:35.303Z"
   },
   {
    "duration": 10,
    "start_time": "2022-02-15T17:44:35.350Z"
   },
   {
    "duration": 29,
    "start_time": "2022-02-15T17:44:35.363Z"
   },
   {
    "duration": 8,
    "start_time": "2022-02-15T17:44:35.395Z"
   },
   {
    "duration": 49,
    "start_time": "2022-02-15T17:44:35.405Z"
   },
   {
    "duration": 9,
    "start_time": "2022-02-15T17:44:35.456Z"
   },
   {
    "duration": 21,
    "start_time": "2022-02-15T17:44:35.467Z"
   },
   {
    "duration": 24,
    "start_time": "2022-02-15T17:44:35.490Z"
   },
   {
    "duration": 32,
    "start_time": "2022-02-15T17:44:35.516Z"
   },
   {
    "duration": 7,
    "start_time": "2022-02-15T17:44:35.551Z"
   },
   {
    "duration": 13,
    "start_time": "2022-02-15T17:44:35.560Z"
   },
   {
    "duration": 10,
    "start_time": "2022-02-15T17:44:35.576Z"
   },
   {
    "duration": 15,
    "start_time": "2022-02-15T17:44:35.589Z"
   },
   {
    "duration": 60,
    "start_time": "2022-02-15T17:44:35.609Z"
   },
   {
    "duration": 29,
    "start_time": "2022-02-15T17:44:35.672Z"
   },
   {
    "duration": 53,
    "start_time": "2022-02-15T17:44:35.704Z"
   },
   {
    "duration": 15,
    "start_time": "2022-02-15T17:44:35.759Z"
   },
   {
    "duration": 16,
    "start_time": "2022-02-15T17:44:35.777Z"
   },
   {
    "duration": 15,
    "start_time": "2022-02-15T17:44:35.796Z"
   },
   {
    "duration": 50,
    "start_time": "2022-02-15T17:44:35.814Z"
   },
   {
    "duration": 14,
    "start_time": "2022-02-15T17:44:35.867Z"
   },
   {
    "duration": 19,
    "start_time": "2022-02-15T17:44:35.883Z"
   },
   {
    "duration": 11,
    "start_time": "2022-02-15T17:44:35.905Z"
   },
   {
    "duration": 8,
    "start_time": "2022-02-15T17:44:35.948Z"
   },
   {
    "duration": 28,
    "start_time": "2022-02-15T17:44:35.958Z"
   },
   {
    "duration": 18,
    "start_time": "2022-02-15T17:44:35.989Z"
   },
   {
    "duration": 12,
    "start_time": "2022-02-15T17:44:36.010Z"
   },
   {
    "duration": 19,
    "start_time": "2022-02-15T17:44:36.048Z"
   },
   {
    "duration": 28,
    "start_time": "2022-02-15T17:44:36.069Z"
   },
   {
    "duration": 92,
    "start_time": "2022-02-15T17:44:36.100Z"
   },
   {
    "duration": 17,
    "start_time": "2022-02-15T17:44:36.194Z"
   },
   {
    "duration": 13,
    "start_time": "2022-02-15T17:44:36.214Z"
   },
   {
    "duration": 11,
    "start_time": "2022-02-15T17:44:36.249Z"
   },
   {
    "duration": 22,
    "start_time": "2022-02-15T17:44:36.263Z"
   },
   {
    "duration": 15,
    "start_time": "2022-02-15T17:44:36.287Z"
   },
   {
    "duration": 52,
    "start_time": "2022-02-15T17:44:36.305Z"
   },
   {
    "duration": 18,
    "start_time": "2022-02-15T17:44:36.359Z"
   },
   {
    "duration": 102,
    "start_time": "2022-02-15T17:44:36.379Z"
   },
   {
    "duration": 926,
    "start_time": "2022-02-15T17:45:15.330Z"
   },
   {
    "duration": 327,
    "start_time": "2022-02-15T17:45:16.259Z"
   },
   {
    "duration": 19,
    "start_time": "2022-02-15T17:45:16.589Z"
   },
   {
    "duration": 13,
    "start_time": "2022-02-15T17:45:16.611Z"
   },
   {
    "duration": 10,
    "start_time": "2022-02-15T17:45:16.648Z"
   },
   {
    "duration": 15,
    "start_time": "2022-02-15T17:45:16.661Z"
   },
   {
    "duration": 13,
    "start_time": "2022-02-15T17:45:16.678Z"
   },
   {
    "duration": 22,
    "start_time": "2022-02-15T17:45:16.693Z"
   },
   {
    "duration": 45,
    "start_time": "2022-02-15T17:45:16.748Z"
   },
   {
    "duration": 15,
    "start_time": "2022-02-15T17:45:16.796Z"
   },
   {
    "duration": 41,
    "start_time": "2022-02-15T17:45:16.813Z"
   },
   {
    "duration": 21,
    "start_time": "2022-02-15T17:45:16.857Z"
   },
   {
    "duration": 17,
    "start_time": "2022-02-15T17:45:16.880Z"
   },
   {
    "duration": 12,
    "start_time": "2022-02-15T17:45:16.899Z"
   },
   {
    "duration": 40,
    "start_time": "2022-02-15T17:45:16.914Z"
   },
   {
    "duration": 22,
    "start_time": "2022-02-15T17:45:16.957Z"
   },
   {
    "duration": 20,
    "start_time": "2022-02-15T17:45:16.982Z"
   },
   {
    "duration": 12,
    "start_time": "2022-02-15T17:45:17.005Z"
   },
   {
    "duration": 10,
    "start_time": "2022-02-15T17:45:17.019Z"
   },
   {
    "duration": 10,
    "start_time": "2022-02-15T17:45:17.048Z"
   },
   {
    "duration": 13,
    "start_time": "2022-02-15T17:45:17.061Z"
   },
   {
    "duration": 13,
    "start_time": "2022-02-15T17:45:17.076Z"
   },
   {
    "duration": 25,
    "start_time": "2022-02-15T17:45:17.091Z"
   },
   {
    "duration": 61,
    "start_time": "2022-02-15T17:45:17.118Z"
   },
   {
    "duration": 31,
    "start_time": "2022-02-15T17:45:17.181Z"
   },
   {
    "duration": 41,
    "start_time": "2022-02-15T17:45:17.215Z"
   },
   {
    "duration": 15,
    "start_time": "2022-02-15T17:45:17.262Z"
   },
   {
    "duration": 16,
    "start_time": "2022-02-15T17:45:17.280Z"
   },
   {
    "duration": 53,
    "start_time": "2022-02-15T17:45:17.298Z"
   },
   {
    "duration": 17,
    "start_time": "2022-02-15T17:45:17.354Z"
   },
   {
    "duration": 19,
    "start_time": "2022-02-15T17:45:17.374Z"
   },
   {
    "duration": 11,
    "start_time": "2022-02-15T17:45:17.396Z"
   },
   {
    "duration": 9,
    "start_time": "2022-02-15T17:45:17.449Z"
   },
   {
    "duration": 20,
    "start_time": "2022-02-15T17:45:17.460Z"
   },
   {
    "duration": 17,
    "start_time": "2022-02-15T17:45:17.483Z"
   },
   {
    "duration": 48,
    "start_time": "2022-02-15T17:45:17.503Z"
   },
   {
    "duration": 16,
    "start_time": "2022-02-15T17:45:17.554Z"
   },
   {
    "duration": 28,
    "start_time": "2022-02-15T17:45:17.573Z"
   },
   {
    "duration": 103,
    "start_time": "2022-02-15T17:45:17.603Z"
   },
   {
    "duration": 20,
    "start_time": "2022-02-15T17:45:17.709Z"
   },
   {
    "duration": 8,
    "start_time": "2022-02-15T17:45:17.750Z"
   },
   {
    "duration": 15,
    "start_time": "2022-02-15T17:45:17.761Z"
   },
   {
    "duration": 27,
    "start_time": "2022-02-15T17:45:17.779Z"
   },
   {
    "duration": 49,
    "start_time": "2022-02-15T17:45:17.809Z"
   },
   {
    "duration": 19,
    "start_time": "2022-02-15T17:45:17.861Z"
   },
   {
    "duration": 20,
    "start_time": "2022-02-15T17:45:17.883Z"
   },
   {
    "duration": 121,
    "start_time": "2022-02-15T17:45:17.906Z"
   },
   {
    "duration": 340,
    "start_time": "2022-02-15T17:45:38.746Z"
   },
   {
    "duration": 858,
    "start_time": "2022-02-15T17:46:03.434Z"
   },
   {
    "duration": 343,
    "start_time": "2022-02-15T17:46:06.533Z"
   },
   {
    "duration": 19,
    "start_time": "2022-02-15T17:46:09.794Z"
   },
   {
    "duration": 12,
    "start_time": "2022-02-15T17:46:11.549Z"
   },
   {
    "duration": 10,
    "start_time": "2022-02-15T17:46:13.040Z"
   },
   {
    "duration": 12,
    "start_time": "2022-02-15T17:46:14.379Z"
   },
   {
    "duration": 15,
    "start_time": "2022-02-15T17:46:15.632Z"
   },
   {
    "duration": 11,
    "start_time": "2022-02-15T17:46:20.734Z"
   },
   {
    "duration": 45,
    "start_time": "2022-02-15T17:46:22.046Z"
   },
   {
    "duration": 15,
    "start_time": "2022-02-15T17:46:23.478Z"
   },
   {
    "duration": 9,
    "start_time": "2022-02-15T17:46:27.935Z"
   },
   {
    "duration": 23,
    "start_time": "2022-02-15T17:46:31.514Z"
   },
   {
    "duration": 8,
    "start_time": "2022-02-15T17:46:33.012Z"
   },
   {
    "duration": 13,
    "start_time": "2022-02-15T17:46:36.444Z"
   },
   {
    "duration": 9,
    "start_time": "2022-02-15T17:46:37.008Z"
   },
   {
    "duration": 10,
    "start_time": "2022-02-15T17:46:37.188Z"
   },
   {
    "duration": 20,
    "start_time": "2022-02-15T17:46:37.539Z"
   },
   {
    "duration": 6,
    "start_time": "2022-02-15T17:46:37.699Z"
   },
   {
    "duration": 7,
    "start_time": "2022-02-15T17:46:37.918Z"
   },
   {
    "duration": 9,
    "start_time": "2022-02-15T17:46:40.721Z"
   },
   {
    "duration": 9,
    "start_time": "2022-02-15T17:46:43.145Z"
   },
   {
    "duration": 11,
    "start_time": "2022-02-15T17:46:46.707Z"
   },
   {
    "duration": 23,
    "start_time": "2022-02-15T17:46:47.707Z"
   },
   {
    "duration": 32,
    "start_time": "2022-02-15T17:46:49.512Z"
   },
   {
    "duration": 31,
    "start_time": "2022-02-15T17:46:51.828Z"
   },
   {
    "duration": 18,
    "start_time": "2022-02-15T17:46:54.560Z"
   },
   {
    "duration": 18,
    "start_time": "2022-02-15T17:46:57.021Z"
   },
   {
    "duration": 16,
    "start_time": "2022-02-15T17:46:59.098Z"
   },
   {
    "duration": 33,
    "start_time": "2022-02-15T17:47:00.116Z"
   },
   {
    "duration": 18,
    "start_time": "2022-02-15T17:47:02.836Z"
   },
   {
    "duration": 18,
    "start_time": "2022-02-15T17:47:04.733Z"
   },
   {
    "duration": 11,
    "start_time": "2022-02-15T17:47:05.274Z"
   },
   {
    "duration": 8,
    "start_time": "2022-02-15T17:47:06.403Z"
   },
   {
    "duration": 14,
    "start_time": "2022-02-15T17:48:18.873Z"
   },
   {
    "duration": 17,
    "start_time": "2022-02-15T17:48:20.288Z"
   },
   {
    "duration": 12,
    "start_time": "2022-02-15T17:48:21.321Z"
   },
   {
    "duration": 18,
    "start_time": "2022-02-15T17:48:25.364Z"
   },
   {
    "duration": 31,
    "start_time": "2022-02-15T17:48:27.239Z"
   },
   {
    "duration": 65,
    "start_time": "2022-02-15T17:48:28.192Z"
   },
   {
    "duration": 20,
    "start_time": "2022-02-15T17:48:29.190Z"
   },
   {
    "duration": 9,
    "start_time": "2022-02-15T17:48:30.303Z"
   },
   {
    "duration": 12,
    "start_time": "2022-02-15T17:48:31.182Z"
   },
   {
    "duration": 24,
    "start_time": "2022-02-15T17:48:32.142Z"
   },
   {
    "duration": 38,
    "start_time": "2022-02-15T17:48:33.149Z"
   },
   {
    "duration": 20,
    "start_time": "2022-02-15T17:48:34.174Z"
   },
   {
    "duration": 21,
    "start_time": "2022-02-15T17:48:35.090Z"
   },
   {
    "duration": 82,
    "start_time": "2022-02-15T17:48:39.979Z"
   },
   {
    "duration": 954,
    "start_time": "2022-02-15T18:02:40.267Z"
   },
   {
    "duration": 495,
    "start_time": "2022-02-15T18:02:41.224Z"
   },
   {
    "duration": 35,
    "start_time": "2022-02-15T18:02:41.723Z"
   },
   {
    "duration": 15,
    "start_time": "2022-02-15T18:02:41.762Z"
   },
   {
    "duration": 12,
    "start_time": "2022-02-15T18:02:41.780Z"
   },
   {
    "duration": 13,
    "start_time": "2022-02-15T18:02:41.794Z"
   },
   {
    "duration": 47,
    "start_time": "2022-02-15T18:02:41.809Z"
   },
   {
    "duration": 11,
    "start_time": "2022-02-15T18:02:41.860Z"
   },
   {
    "duration": 74,
    "start_time": "2022-02-15T18:02:41.874Z"
   },
   {
    "duration": 20,
    "start_time": "2022-02-15T18:02:41.952Z"
   },
   {
    "duration": 12,
    "start_time": "2022-02-15T18:02:41.975Z"
   },
   {
    "duration": 28,
    "start_time": "2022-02-15T18:02:41.990Z"
   },
   {
    "duration": 9,
    "start_time": "2022-02-15T18:02:42.050Z"
   },
   {
    "duration": 24,
    "start_time": "2022-02-15T18:02:42.062Z"
   },
   {
    "duration": 12,
    "start_time": "2022-02-15T18:02:42.089Z"
   },
   {
    "duration": 43,
    "start_time": "2022-02-15T18:02:42.105Z"
   },
   {
    "duration": 28,
    "start_time": "2022-02-15T18:02:42.152Z"
   },
   {
    "duration": 8,
    "start_time": "2022-02-15T18:02:42.183Z"
   },
   {
    "duration": 15,
    "start_time": "2022-02-15T18:02:42.194Z"
   },
   {
    "duration": 36,
    "start_time": "2022-02-15T18:02:42.213Z"
   },
   {
    "duration": 9,
    "start_time": "2022-02-15T18:02:42.251Z"
   },
   {
    "duration": 14,
    "start_time": "2022-02-15T18:02:42.262Z"
   },
   {
    "duration": 27,
    "start_time": "2022-02-15T18:02:42.284Z"
   },
   {
    "duration": 65,
    "start_time": "2022-02-15T18:02:42.314Z"
   },
   {
    "duration": 29,
    "start_time": "2022-02-15T18:02:42.384Z"
   },
   {
    "duration": 36,
    "start_time": "2022-02-15T18:02:42.416Z"
   },
   {
    "duration": 15,
    "start_time": "2022-02-15T18:02:42.454Z"
   },
   {
    "duration": 17,
    "start_time": "2022-02-15T18:02:42.472Z"
   },
   {
    "duration": 20,
    "start_time": "2022-02-15T18:02:42.491Z"
   },
   {
    "duration": 15,
    "start_time": "2022-02-15T18:02:42.550Z"
   },
   {
    "duration": 26,
    "start_time": "2022-02-15T18:02:42.568Z"
   },
   {
    "duration": 10,
    "start_time": "2022-02-15T18:02:42.597Z"
   },
   {
    "duration": 9,
    "start_time": "2022-02-15T18:02:42.610Z"
   },
   {
    "duration": 43,
    "start_time": "2022-02-15T18:02:42.621Z"
   },
   {
    "duration": 19,
    "start_time": "2022-02-15T18:02:42.667Z"
   },
   {
    "duration": 13,
    "start_time": "2022-02-15T18:02:42.689Z"
   },
   {
    "duration": 58,
    "start_time": "2022-02-15T18:02:42.705Z"
   },
   {
    "duration": 32,
    "start_time": "2022-02-15T18:02:42.766Z"
   },
   {
    "duration": 102,
    "start_time": "2022-02-15T18:02:42.800Z"
   },
   {
    "duration": 16,
    "start_time": "2022-02-15T18:02:42.905Z"
   },
   {
    "duration": 29,
    "start_time": "2022-02-15T18:02:42.924Z"
   },
   {
    "duration": 17,
    "start_time": "2022-02-15T18:02:42.955Z"
   },
   {
    "duration": 37,
    "start_time": "2022-02-15T18:02:42.975Z"
   },
   {
    "duration": 46,
    "start_time": "2022-02-15T18:02:43.016Z"
   },
   {
    "duration": 18,
    "start_time": "2022-02-15T18:02:43.065Z"
   },
   {
    "duration": 21,
    "start_time": "2022-02-15T18:02:43.086Z"
   },
   {
    "duration": 116,
    "start_time": "2022-02-15T18:02:43.109Z"
   },
   {
    "duration": 358,
    "start_time": "2022-02-15T18:03:50.638Z"
   },
   {
    "duration": 885,
    "start_time": "2022-02-15T18:04:09.324Z"
   },
   {
    "duration": 368,
    "start_time": "2022-02-15T18:04:10.211Z"
   },
   {
    "duration": 21,
    "start_time": "2022-02-15T18:04:10.582Z"
   },
   {
    "duration": 11,
    "start_time": "2022-02-15T18:04:10.606Z"
   },
   {
    "duration": 38,
    "start_time": "2022-02-15T18:04:10.620Z"
   },
   {
    "duration": 15,
    "start_time": "2022-02-15T18:04:10.660Z"
   },
   {
    "duration": 12,
    "start_time": "2022-02-15T18:04:10.678Z"
   },
   {
    "duration": 11,
    "start_time": "2022-02-15T18:04:10.692Z"
   },
   {
    "duration": 46,
    "start_time": "2022-02-15T18:04:10.751Z"
   },
   {
    "duration": 15,
    "start_time": "2022-02-15T18:04:10.800Z"
   },
   {
    "duration": 14,
    "start_time": "2022-02-15T18:04:10.849Z"
   },
   {
    "duration": 23,
    "start_time": "2022-02-15T18:04:10.866Z"
   },
   {
    "duration": 7,
    "start_time": "2022-02-15T18:04:10.891Z"
   },
   {
    "duration": 16,
    "start_time": "2022-02-15T18:04:10.900Z"
   },
   {
    "duration": 38,
    "start_time": "2022-02-15T18:04:10.918Z"
   },
   {
    "duration": 13,
    "start_time": "2022-02-15T18:04:10.959Z"
   },
   {
    "duration": 25,
    "start_time": "2022-02-15T18:04:10.974Z"
   },
   {
    "duration": 10,
    "start_time": "2022-02-15T18:04:11.001Z"
   },
   {
    "duration": 47,
    "start_time": "2022-02-15T18:04:11.013Z"
   },
   {
    "duration": 11,
    "start_time": "2022-02-15T18:04:11.063Z"
   },
   {
    "duration": 8,
    "start_time": "2022-02-15T18:04:11.076Z"
   },
   {
    "duration": 13,
    "start_time": "2022-02-15T18:04:11.086Z"
   },
   {
    "duration": 62,
    "start_time": "2022-02-15T18:04:11.102Z"
   },
   {
    "duration": 30,
    "start_time": "2022-02-15T18:04:11.167Z"
   },
   {
    "duration": 57,
    "start_time": "2022-02-15T18:04:11.199Z"
   },
   {
    "duration": 17,
    "start_time": "2022-02-15T18:04:11.259Z"
   },
   {
    "duration": 16,
    "start_time": "2022-02-15T18:04:11.281Z"
   },
   {
    "duration": 52,
    "start_time": "2022-02-15T18:04:11.300Z"
   },
   {
    "duration": 21,
    "start_time": "2022-02-15T18:04:11.354Z"
   },
   {
    "duration": 15,
    "start_time": "2022-02-15T18:04:11.377Z"
   },
   {
    "duration": 18,
    "start_time": "2022-02-15T18:04:11.395Z"
   },
   {
    "duration": 39,
    "start_time": "2022-02-15T18:04:11.415Z"
   },
   {
    "duration": 9,
    "start_time": "2022-02-15T18:04:11.457Z"
   },
   {
    "duration": 17,
    "start_time": "2022-02-15T18:04:11.468Z"
   },
   {
    "duration": 18,
    "start_time": "2022-02-15T18:04:11.488Z"
   },
   {
    "duration": 13,
    "start_time": "2022-02-15T18:04:11.549Z"
   },
   {
    "duration": 19,
    "start_time": "2022-02-15T18:04:11.564Z"
   },
   {
    "duration": 28,
    "start_time": "2022-02-15T18:04:11.586Z"
   },
   {
    "duration": 67,
    "start_time": "2022-02-15T18:04:11.649Z"
   },
   {
    "duration": 36,
    "start_time": "2022-02-15T18:04:11.718Z"
   },
   {
    "duration": 8,
    "start_time": "2022-02-15T18:04:11.756Z"
   },
   {
    "duration": 14,
    "start_time": "2022-02-15T18:04:11.767Z"
   },
   {
    "duration": 26,
    "start_time": "2022-02-15T18:04:11.784Z"
   },
   {
    "duration": 53,
    "start_time": "2022-02-15T18:04:11.813Z"
   },
   {
    "duration": 23,
    "start_time": "2022-02-15T18:04:11.869Z"
   },
   {
    "duration": 53,
    "start_time": "2022-02-15T18:04:11.896Z"
   },
   {
    "duration": 115,
    "start_time": "2022-02-15T18:04:11.952Z"
   },
   {
    "duration": 22,
    "start_time": "2022-02-15T18:04:23.776Z"
   },
   {
    "duration": 89,
    "start_time": "2022-02-15T18:05:08.777Z"
   },
   {
    "duration": 362,
    "start_time": "2022-02-15T18:19:23.576Z"
   },
   {
    "duration": 865,
    "start_time": "2022-02-15T18:19:30.893Z"
   },
   {
    "duration": 383,
    "start_time": "2022-02-15T18:19:31.761Z"
   },
   {
    "duration": 21,
    "start_time": "2022-02-15T18:19:32.146Z"
   },
   {
    "duration": 12,
    "start_time": "2022-02-15T18:19:32.170Z"
   },
   {
    "duration": 16,
    "start_time": "2022-02-15T18:19:32.185Z"
   },
   {
    "duration": 52,
    "start_time": "2022-02-15T18:19:32.204Z"
   },
   {
    "duration": 23,
    "start_time": "2022-02-15T18:19:32.259Z"
   },
   {
    "duration": 11,
    "start_time": "2022-02-15T18:19:32.288Z"
   },
   {
    "duration": 71,
    "start_time": "2022-02-15T18:19:32.304Z"
   },
   {
    "duration": 17,
    "start_time": "2022-02-15T18:19:32.378Z"
   },
   {
    "duration": 13,
    "start_time": "2022-02-15T18:19:32.398Z"
   },
   {
    "duration": 62,
    "start_time": "2022-02-15T18:19:32.415Z"
   },
   {
    "duration": 9,
    "start_time": "2022-02-15T18:19:32.480Z"
   },
   {
    "duration": 17,
    "start_time": "2022-02-15T18:19:32.492Z"
   },
   {
    "duration": 39,
    "start_time": "2022-02-15T18:19:32.511Z"
   },
   {
    "duration": 20,
    "start_time": "2022-02-15T18:19:32.553Z"
   },
   {
    "duration": 22,
    "start_time": "2022-02-15T18:19:32.576Z"
   },
   {
    "duration": 11,
    "start_time": "2022-02-15T18:19:32.600Z"
   },
   {
    "duration": 34,
    "start_time": "2022-02-15T18:19:32.614Z"
   },
   {
    "duration": 14,
    "start_time": "2022-02-15T18:19:32.652Z"
   },
   {
    "duration": 12,
    "start_time": "2022-02-15T18:19:32.669Z"
   },
   {
    "duration": 13,
    "start_time": "2022-02-15T18:19:32.683Z"
   },
   {
    "duration": 62,
    "start_time": "2022-02-15T18:19:32.701Z"
   },
   {
    "duration": 31,
    "start_time": "2022-02-15T18:19:32.766Z"
   },
   {
    "duration": 53,
    "start_time": "2022-02-15T18:19:32.800Z"
   },
   {
    "duration": 15,
    "start_time": "2022-02-15T18:19:32.855Z"
   },
   {
    "duration": 35,
    "start_time": "2022-02-15T18:19:32.872Z"
   },
   {
    "duration": 16,
    "start_time": "2022-02-15T18:19:32.912Z"
   },
   {
    "duration": 30,
    "start_time": "2022-02-15T18:19:32.930Z"
   },
   {
    "duration": 14,
    "start_time": "2022-02-15T18:19:32.962Z"
   },
   {
    "duration": 21,
    "start_time": "2022-02-15T18:19:32.979Z"
   },
   {
    "duration": 10,
    "start_time": "2022-02-15T18:19:33.003Z"
   },
   {
    "duration": 8,
    "start_time": "2022-02-15T18:19:33.048Z"
   },
   {
    "duration": 20,
    "start_time": "2022-02-15T18:19:33.059Z"
   },
   {
    "duration": 22,
    "start_time": "2022-02-15T18:19:33.082Z"
   },
   {
    "duration": 20,
    "start_time": "2022-02-15T18:19:33.107Z"
   },
   {
    "duration": 20,
    "start_time": "2022-02-15T18:19:33.149Z"
   },
   {
    "duration": 26,
    "start_time": "2022-02-15T18:19:33.172Z"
   },
   {
    "duration": 95,
    "start_time": "2022-02-15T18:19:33.201Z"
   },
   {
    "duration": 17,
    "start_time": "2022-02-15T18:19:33.298Z"
   },
   {
    "duration": 8,
    "start_time": "2022-02-15T18:19:33.317Z"
   },
   {
    "duration": 11,
    "start_time": "2022-02-15T18:19:33.349Z"
   },
   {
    "duration": 21,
    "start_time": "2022-02-15T18:19:33.363Z"
   },
   {
    "duration": 14,
    "start_time": "2022-02-15T18:19:33.387Z"
   },
   {
    "duration": 55,
    "start_time": "2022-02-15T18:19:33.404Z"
   },
   {
    "duration": 19,
    "start_time": "2022-02-15T18:19:33.461Z"
   },
   {
    "duration": 103,
    "start_time": "2022-02-15T18:19:33.483Z"
   },
   {
    "duration": 21,
    "start_time": "2022-02-15T18:19:33.589Z"
   },
   {
    "duration": 97,
    "start_time": "2022-02-15T18:19:33.613Z"
   },
   {
    "duration": 1094,
    "start_time": "2022-02-15T19:00:19.984Z"
   },
   {
    "duration": 368,
    "start_time": "2022-02-15T19:00:21.081Z"
   },
   {
    "duration": 24,
    "start_time": "2022-02-15T19:00:21.453Z"
   },
   {
    "duration": 14,
    "start_time": "2022-02-15T19:00:21.480Z"
   },
   {
    "duration": 14,
    "start_time": "2022-02-15T19:00:21.497Z"
   },
   {
    "duration": 13,
    "start_time": "2022-02-15T19:00:21.548Z"
   },
   {
    "duration": 15,
    "start_time": "2022-02-15T19:00:21.564Z"
   },
   {
    "duration": 15,
    "start_time": "2022-02-15T19:00:21.583Z"
   },
   {
    "duration": 77,
    "start_time": "2022-02-15T19:00:21.602Z"
   },
   {
    "duration": 15,
    "start_time": "2022-02-15T19:00:21.682Z"
   },
   {
    "duration": 12,
    "start_time": "2022-02-15T19:00:21.699Z"
   },
   {
    "duration": 48,
    "start_time": "2022-02-15T19:00:21.714Z"
   },
   {
    "duration": 11,
    "start_time": "2022-02-15T19:00:21.765Z"
   },
   {
    "duration": 18,
    "start_time": "2022-02-15T19:00:21.779Z"
   },
   {
    "duration": 14,
    "start_time": "2022-02-15T19:00:21.800Z"
   },
   {
    "duration": 44,
    "start_time": "2022-02-15T19:00:21.816Z"
   },
   {
    "duration": 27,
    "start_time": "2022-02-15T19:00:21.863Z"
   },
   {
    "duration": 8,
    "start_time": "2022-02-15T19:00:21.893Z"
   },
   {
    "duration": 45,
    "start_time": "2022-02-15T19:00:21.904Z"
   },
   {
    "duration": 25,
    "start_time": "2022-02-15T19:00:21.952Z"
   },
   {
    "duration": 21,
    "start_time": "2022-02-15T19:00:21.980Z"
   },
   {
    "duration": 34,
    "start_time": "2022-02-15T19:00:22.004Z"
   },
   {
    "duration": 22,
    "start_time": "2022-02-15T19:00:22.045Z"
   },
   {
    "duration": 33,
    "start_time": "2022-02-15T19:00:22.071Z"
   },
   {
    "duration": 58,
    "start_time": "2022-02-15T19:00:22.107Z"
   },
   {
    "duration": 20,
    "start_time": "2022-02-15T19:00:22.167Z"
   },
   {
    "duration": 16,
    "start_time": "2022-02-15T19:00:22.190Z"
   },
   {
    "duration": 49,
    "start_time": "2022-02-15T19:00:22.209Z"
   },
   {
    "duration": 22,
    "start_time": "2022-02-15T19:00:22.261Z"
   },
   {
    "duration": 17,
    "start_time": "2022-02-15T19:00:22.286Z"
   },
   {
    "duration": 57,
    "start_time": "2022-02-15T19:00:22.306Z"
   },
   {
    "duration": 10,
    "start_time": "2022-02-15T19:00:22.366Z"
   },
   {
    "duration": 9,
    "start_time": "2022-02-15T19:00:22.380Z"
   },
   {
    "duration": 57,
    "start_time": "2022-02-15T19:00:22.393Z"
   },
   {
    "duration": 20,
    "start_time": "2022-02-15T19:00:22.453Z"
   },
   {
    "duration": 14,
    "start_time": "2022-02-15T19:00:22.476Z"
   },
   {
    "duration": 57,
    "start_time": "2022-02-15T19:00:22.493Z"
   },
   {
    "duration": 29,
    "start_time": "2022-02-15T19:00:22.553Z"
   },
   {
    "duration": 96,
    "start_time": "2022-02-15T19:00:22.584Z"
   },
   {
    "duration": 20,
    "start_time": "2022-02-15T19:00:22.682Z"
   },
   {
    "duration": 8,
    "start_time": "2022-02-15T19:00:22.704Z"
   },
   {
    "duration": 38,
    "start_time": "2022-02-15T19:00:22.715Z"
   },
   {
    "duration": 32,
    "start_time": "2022-02-15T19:00:22.756Z"
   },
   {
    "duration": 15,
    "start_time": "2022-02-15T19:00:22.791Z"
   },
   {
    "duration": 56,
    "start_time": "2022-02-15T19:00:22.809Z"
   },
   {
    "duration": 22,
    "start_time": "2022-02-15T19:00:22.868Z"
   },
   {
    "duration": 111,
    "start_time": "2022-02-15T19:00:22.892Z"
   },
   {
    "duration": 20,
    "start_time": "2022-02-15T19:00:23.006Z"
   },
   {
    "duration": 89,
    "start_time": "2022-02-15T19:00:23.028Z"
   },
   {
    "duration": 893,
    "start_time": "2022-02-15T19:19:13.498Z"
   },
   {
    "duration": 349,
    "start_time": "2022-02-15T19:19:14.394Z"
   },
   {
    "duration": 20,
    "start_time": "2022-02-15T19:19:14.746Z"
   },
   {
    "duration": 13,
    "start_time": "2022-02-15T19:19:14.768Z"
   },
   {
    "duration": 17,
    "start_time": "2022-02-15T19:19:14.784Z"
   },
   {
    "duration": 13,
    "start_time": "2022-02-15T19:19:14.803Z"
   },
   {
    "duration": 12,
    "start_time": "2022-02-15T19:19:14.849Z"
   },
   {
    "duration": 15,
    "start_time": "2022-02-15T19:19:14.864Z"
   },
   {
    "duration": 67,
    "start_time": "2022-02-15T19:19:14.882Z"
   },
   {
    "duration": 19,
    "start_time": "2022-02-15T19:19:14.951Z"
   },
   {
    "duration": 8,
    "start_time": "2022-02-15T19:19:14.973Z"
   },
   {
    "duration": 27,
    "start_time": "2022-02-15T19:19:14.984Z"
   },
   {
    "duration": 38,
    "start_time": "2022-02-15T19:19:15.014Z"
   },
   {
    "duration": 10,
    "start_time": "2022-02-15T19:19:15.055Z"
   },
   {
    "duration": 10,
    "start_time": "2022-02-15T19:19:15.068Z"
   },
   {
    "duration": 26,
    "start_time": "2022-02-15T19:19:15.081Z"
   },
   {
    "duration": 40,
    "start_time": "2022-02-15T19:19:15.109Z"
   },
   {
    "duration": 6,
    "start_time": "2022-02-15T19:19:15.151Z"
   },
   {
    "duration": 14,
    "start_time": "2022-02-15T19:19:15.159Z"
   },
   {
    "duration": 13,
    "start_time": "2022-02-15T19:19:15.175Z"
   },
   {
    "duration": 18,
    "start_time": "2022-02-15T19:19:15.191Z"
   },
   {
    "duration": 37,
    "start_time": "2022-02-15T19:19:15.211Z"
   },
   {
    "duration": 22,
    "start_time": "2022-02-15T19:19:15.253Z"
   },
   {
    "duration": 31,
    "start_time": "2022-02-15T19:19:15.278Z"
   },
   {
    "duration": 64,
    "start_time": "2022-02-15T19:19:15.311Z"
   },
   {
    "duration": 16,
    "start_time": "2022-02-15T19:19:15.378Z"
   },
   {
    "duration": 20,
    "start_time": "2022-02-15T19:19:15.397Z"
   },
   {
    "duration": 43,
    "start_time": "2022-02-15T19:19:15.420Z"
   },
   {
    "duration": 24,
    "start_time": "2022-02-15T19:19:15.466Z"
   },
   {
    "duration": 21,
    "start_time": "2022-02-15T19:19:15.493Z"
   },
   {
    "duration": 55,
    "start_time": "2022-02-15T19:19:15.518Z"
   },
   {
    "duration": 14,
    "start_time": "2022-02-15T19:19:15.576Z"
   },
   {
    "duration": 14,
    "start_time": "2022-02-15T19:19:15.596Z"
   },
   {
    "duration": 45,
    "start_time": "2022-02-15T19:19:15.613Z"
   },
   {
    "duration": 28,
    "start_time": "2022-02-15T19:19:15.661Z"
   },
   {
    "duration": 18,
    "start_time": "2022-02-15T19:19:15.692Z"
   },
   {
    "duration": 56,
    "start_time": "2022-02-15T19:19:15.713Z"
   },
   {
    "duration": 42,
    "start_time": "2022-02-15T19:19:15.772Z"
   },
   {
    "duration": 100,
    "start_time": "2022-02-15T19:19:15.817Z"
   },
   {
    "duration": 41,
    "start_time": "2022-02-15T19:19:15.920Z"
   },
   {
    "duration": 9,
    "start_time": "2022-02-15T19:19:15.964Z"
   },
   {
    "duration": 21,
    "start_time": "2022-02-15T19:19:15.975Z"
   },
   {
    "duration": 22,
    "start_time": "2022-02-15T19:19:15.999Z"
   },
   {
    "duration": 15,
    "start_time": "2022-02-15T19:19:16.047Z"
   },
   {
    "duration": 18,
    "start_time": "2022-02-15T19:19:16.065Z"
   },
   {
    "duration": 19,
    "start_time": "2022-02-15T19:19:16.085Z"
   },
   {
    "duration": 118,
    "start_time": "2022-02-15T19:19:16.106Z"
   },
   {
    "duration": 35,
    "start_time": "2022-02-15T19:19:16.227Z"
   },
   {
    "duration": 96,
    "start_time": "2022-02-15T19:19:16.266Z"
   },
   {
    "duration": 341,
    "start_time": "2022-02-15T19:48:22.996Z"
   },
   {
    "duration": 920,
    "start_time": "2022-02-15T19:48:35.953Z"
   },
   {
    "duration": 378,
    "start_time": "2022-02-15T19:48:36.875Z"
   },
   {
    "duration": 20,
    "start_time": "2022-02-15T19:48:37.256Z"
   },
   {
    "duration": 15,
    "start_time": "2022-02-15T19:48:37.280Z"
   },
   {
    "duration": 11,
    "start_time": "2022-02-15T19:48:37.298Z"
   },
   {
    "duration": 46,
    "start_time": "2022-02-15T19:48:37.311Z"
   },
   {
    "duration": 13,
    "start_time": "2022-02-15T19:48:37.360Z"
   },
   {
    "duration": 14,
    "start_time": "2022-02-15T19:48:37.377Z"
   },
   {
    "duration": 80,
    "start_time": "2022-02-15T19:48:37.394Z"
   },
   {
    "duration": 16,
    "start_time": "2022-02-15T19:48:37.477Z"
   },
   {
    "duration": 14,
    "start_time": "2022-02-15T19:48:37.496Z"
   },
   {
    "duration": 51,
    "start_time": "2022-02-15T19:48:37.513Z"
   },
   {
    "duration": 9,
    "start_time": "2022-02-15T19:48:37.567Z"
   },
   {
    "duration": 12,
    "start_time": "2022-02-15T19:48:37.578Z"
   },
   {
    "duration": 18,
    "start_time": "2022-02-15T19:48:37.593Z"
   },
   {
    "duration": 36,
    "start_time": "2022-02-15T19:48:37.614Z"
   },
   {
    "duration": 23,
    "start_time": "2022-02-15T19:48:37.652Z"
   },
   {
    "duration": 10,
    "start_time": "2022-02-15T19:48:37.677Z"
   },
   {
    "duration": 9,
    "start_time": "2022-02-15T19:48:37.690Z"
   },
   {
    "duration": 15,
    "start_time": "2022-02-15T19:48:37.701Z"
   },
   {
    "duration": 33,
    "start_time": "2022-02-15T19:48:37.718Z"
   },
   {
    "duration": 12,
    "start_time": "2022-02-15T19:48:37.754Z"
   },
   {
    "duration": 20,
    "start_time": "2022-02-15T19:48:37.771Z"
   },
   {
    "duration": 67,
    "start_time": "2022-02-15T19:48:37.794Z"
   },
   {
    "duration": 27,
    "start_time": "2022-02-15T19:48:37.864Z"
   },
   {
    "duration": 15,
    "start_time": "2022-02-15T19:48:37.894Z"
   },
   {
    "duration": 38,
    "start_time": "2022-02-15T19:48:37.911Z"
   },
   {
    "duration": 14,
    "start_time": "2022-02-15T19:48:37.952Z"
   },
   {
    "duration": 20,
    "start_time": "2022-02-15T19:48:37.968Z"
   },
   {
    "duration": 13,
    "start_time": "2022-02-15T19:48:37.990Z"
   },
   {
    "duration": 58,
    "start_time": "2022-02-15T19:48:38.005Z"
   },
   {
    "duration": 9,
    "start_time": "2022-02-15T19:48:38.066Z"
   },
   {
    "duration": 11,
    "start_time": "2022-02-15T19:48:38.077Z"
   },
   {
    "duration": 29,
    "start_time": "2022-02-15T19:48:38.091Z"
   },
   {
    "duration": 32,
    "start_time": "2022-02-15T19:48:38.123Z"
   },
   {
    "duration": 12,
    "start_time": "2022-02-15T19:48:38.157Z"
   },
   {
    "duration": 23,
    "start_time": "2022-02-15T19:48:38.172Z"
   },
   {
    "duration": 52,
    "start_time": "2022-02-15T19:48:38.197Z"
   },
   {
    "duration": 62,
    "start_time": "2022-02-15T19:48:38.251Z"
   },
   {
    "duration": 37,
    "start_time": "2022-02-15T19:48:38.315Z"
   },
   {
    "duration": 7,
    "start_time": "2022-02-15T19:48:38.354Z"
   },
   {
    "duration": 17,
    "start_time": "2022-02-15T19:48:38.363Z"
   },
   {
    "duration": 36,
    "start_time": "2022-02-15T19:48:38.382Z"
   },
   {
    "duration": 39,
    "start_time": "2022-02-15T19:48:38.421Z"
   },
   {
    "duration": 19,
    "start_time": "2022-02-15T19:48:38.462Z"
   },
   {
    "duration": 19,
    "start_time": "2022-02-15T19:48:38.484Z"
   },
   {
    "duration": 15,
    "start_time": "2022-02-15T19:48:57.594Z"
   },
   {
    "duration": 23,
    "start_time": "2022-02-15T20:15:11.274Z"
   },
   {
    "duration": 4,
    "start_time": "2022-02-15T20:17:37.275Z"
   },
   {
    "duration": 109,
    "start_time": "2022-02-15T20:19:05.500Z"
   },
   {
    "duration": 14,
    "start_time": "2022-02-15T20:19:38.223Z"
   },
   {
    "duration": 13,
    "start_time": "2022-02-15T20:23:40.734Z"
   },
   {
    "duration": 15,
    "start_time": "2022-02-15T20:26:57.644Z"
   },
   {
    "duration": 10,
    "start_time": "2022-02-15T20:31:36.072Z"
   },
   {
    "duration": 350,
    "start_time": "2022-02-15T20:32:13.738Z"
   },
   {
    "duration": 14,
    "start_time": "2022-02-15T20:32:59.097Z"
   },
   {
    "duration": 4,
    "start_time": "2022-02-15T20:33:49.640Z"
   },
   {
    "duration": 366,
    "start_time": "2022-02-15T20:33:49.647Z"
   },
   {
    "duration": 14,
    "start_time": "2022-02-15T20:33:50.016Z"
   },
   {
    "duration": 23,
    "start_time": "2022-02-15T20:33:50.032Z"
   },
   {
    "duration": 15,
    "start_time": "2022-02-15T20:33:50.057Z"
   },
   {
    "duration": 17,
    "start_time": "2022-02-15T20:33:50.075Z"
   },
   {
    "duration": 16,
    "start_time": "2022-02-15T20:33:50.094Z"
   },
   {
    "duration": 37,
    "start_time": "2022-02-15T20:33:50.113Z"
   },
   {
    "duration": 43,
    "start_time": "2022-02-15T20:33:50.155Z"
   },
   {
    "duration": 14,
    "start_time": "2022-02-15T20:33:50.201Z"
   },
   {
    "duration": 9,
    "start_time": "2022-02-15T20:33:50.248Z"
   },
   {
    "duration": 25,
    "start_time": "2022-02-15T20:33:50.260Z"
   },
   {
    "duration": 8,
    "start_time": "2022-02-15T20:33:50.288Z"
   },
   {
    "duration": 11,
    "start_time": "2022-02-15T20:33:50.298Z"
   },
   {
    "duration": 41,
    "start_time": "2022-02-15T20:33:50.312Z"
   },
   {
    "duration": 19,
    "start_time": "2022-02-15T20:33:50.355Z"
   },
   {
    "duration": 20,
    "start_time": "2022-02-15T20:33:50.377Z"
   },
   {
    "duration": 7,
    "start_time": "2022-02-15T20:33:50.400Z"
   },
   {
    "duration": 11,
    "start_time": "2022-02-15T20:33:50.409Z"
   },
   {
    "duration": 36,
    "start_time": "2022-02-15T20:33:50.422Z"
   },
   {
    "duration": 18,
    "start_time": "2022-02-15T20:33:50.460Z"
   },
   {
    "duration": 20,
    "start_time": "2022-02-15T20:33:50.480Z"
   },
   {
    "duration": 30,
    "start_time": "2022-02-15T20:33:50.503Z"
   },
   {
    "duration": 48,
    "start_time": "2022-02-15T20:33:50.536Z"
   },
   {
    "duration": 26,
    "start_time": "2022-02-15T20:33:50.587Z"
   },
   {
    "duration": 35,
    "start_time": "2022-02-15T20:33:50.616Z"
   },
   {
    "duration": 17,
    "start_time": "2022-02-15T20:33:50.656Z"
   },
   {
    "duration": 15,
    "start_time": "2022-02-15T20:33:50.676Z"
   },
   {
    "duration": 12,
    "start_time": "2022-02-15T20:33:50.693Z"
   },
   {
    "duration": 58,
    "start_time": "2022-02-15T20:33:50.707Z"
   },
   {
    "duration": 102,
    "start_time": "2022-02-15T20:33:50.768Z"
   },
   {
    "duration": 13,
    "start_time": "2022-02-15T20:33:50.872Z"
   },
   {
    "duration": 19,
    "start_time": "2022-02-15T20:33:50.887Z"
   },
   {
    "duration": 20,
    "start_time": "2022-02-15T20:33:50.908Z"
   },
   {
    "duration": 10,
    "start_time": "2022-02-15T20:33:50.949Z"
   },
   {
    "duration": 11,
    "start_time": "2022-02-15T20:33:50.962Z"
   },
   {
    "duration": 23,
    "start_time": "2022-02-15T20:33:50.975Z"
   },
   {
    "duration": 18,
    "start_time": "2022-02-15T20:33:51.000Z"
   },
   {
    "duration": 38,
    "start_time": "2022-02-15T20:33:51.021Z"
   },
   {
    "duration": 15,
    "start_time": "2022-02-15T20:33:51.062Z"
   },
   {
    "duration": 12,
    "start_time": "2022-02-15T20:33:51.080Z"
   },
   {
    "duration": 60,
    "start_time": "2022-02-15T20:33:51.094Z"
   },
   {
    "duration": 26,
    "start_time": "2022-02-15T20:33:51.157Z"
   },
   {
    "duration": 83,
    "start_time": "2022-02-15T20:33:51.186Z"
   },
   {
    "duration": 17,
    "start_time": "2022-02-15T20:33:51.272Z"
   },
   {
    "duration": 8,
    "start_time": "2022-02-15T20:33:51.292Z"
   },
   {
    "duration": 13,
    "start_time": "2022-02-15T20:33:51.302Z"
   },
   {
    "duration": 21,
    "start_time": "2022-02-15T20:33:51.350Z"
   },
   {
    "duration": 14,
    "start_time": "2022-02-15T20:33:51.374Z"
   },
   {
    "duration": 18,
    "start_time": "2022-02-15T20:33:51.391Z"
   },
   {
    "duration": 51,
    "start_time": "2022-02-15T20:33:51.411Z"
   },
   {
    "duration": 14,
    "start_time": "2022-02-15T20:33:51.465Z"
   },
   {
    "duration": 26,
    "start_time": "2022-02-15T20:41:07.521Z"
   },
   {
    "duration": 15,
    "start_time": "2022-02-15T20:41:42.533Z"
   },
   {
    "duration": 4,
    "start_time": "2022-02-15T20:57:37.339Z"
   },
   {
    "duration": 6,
    "start_time": "2022-02-15T20:58:11.560Z"
   },
   {
    "duration": 57,
    "start_time": "2022-02-15T21:05:48.151Z"
   },
   {
    "duration": 376,
    "start_time": "2022-02-15T21:06:06.744Z"
   },
   {
    "duration": 324,
    "start_time": "2022-02-15T21:07:03.983Z"
   },
   {
    "duration": 107,
    "start_time": "2022-02-15T21:09:22.102Z"
   },
   {
    "duration": 42,
    "start_time": "2022-02-15T21:09:46.538Z"
   },
   {
    "duration": 8,
    "start_time": "2022-02-15T21:10:24.867Z"
   },
   {
    "duration": 653,
    "start_time": "2022-02-16T16:19:18.427Z"
   },
   {
    "duration": 289,
    "start_time": "2022-02-16T16:19:19.082Z"
   },
   {
    "duration": 12,
    "start_time": "2022-02-16T16:19:19.374Z"
   },
   {
    "duration": 8,
    "start_time": "2022-02-16T16:19:19.388Z"
   },
   {
    "duration": 19,
    "start_time": "2022-02-16T16:19:19.398Z"
   },
   {
    "duration": 9,
    "start_time": "2022-02-16T16:19:19.419Z"
   },
   {
    "duration": 8,
    "start_time": "2022-02-16T16:19:19.430Z"
   },
   {
    "duration": 7,
    "start_time": "2022-02-16T16:19:19.442Z"
   },
   {
    "duration": 70,
    "start_time": "2022-02-16T16:19:19.451Z"
   },
   {
    "duration": 10,
    "start_time": "2022-02-16T16:19:19.522Z"
   },
   {
    "duration": 9,
    "start_time": "2022-02-16T16:19:19.533Z"
   },
   {
    "duration": 15,
    "start_time": "2022-02-16T16:19:19.544Z"
   },
   {
    "duration": 5,
    "start_time": "2022-02-16T16:19:19.561Z"
   },
   {
    "duration": 10,
    "start_time": "2022-02-16T16:19:19.568Z"
   },
   {
    "duration": 7,
    "start_time": "2022-02-16T16:19:19.613Z"
   },
   {
    "duration": 11,
    "start_time": "2022-02-16T16:19:19.622Z"
   },
   {
    "duration": 12,
    "start_time": "2022-02-16T16:19:19.635Z"
   },
   {
    "duration": 5,
    "start_time": "2022-02-16T16:19:19.649Z"
   },
   {
    "duration": 6,
    "start_time": "2022-02-16T16:19:19.656Z"
   },
   {
    "duration": 11,
    "start_time": "2022-02-16T16:19:19.664Z"
   },
   {
    "duration": 7,
    "start_time": "2022-02-16T16:19:19.676Z"
   },
   {
    "duration": 9,
    "start_time": "2022-02-16T16:19:19.713Z"
   },
   {
    "duration": 17,
    "start_time": "2022-02-16T16:19:19.726Z"
   },
   {
    "duration": 24,
    "start_time": "2022-02-16T16:19:19.745Z"
   },
   {
    "duration": 50,
    "start_time": "2022-02-16T16:19:19.770Z"
   },
   {
    "duration": 11,
    "start_time": "2022-02-16T16:19:19.822Z"
   },
   {
    "duration": 12,
    "start_time": "2022-02-16T16:19:19.835Z"
   },
   {
    "duration": 15,
    "start_time": "2022-02-16T16:19:19.848Z"
   },
   {
    "duration": 11,
    "start_time": "2022-02-16T16:19:19.864Z"
   },
   {
    "duration": 48,
    "start_time": "2022-02-16T16:19:19.876Z"
   },
   {
    "duration": 68,
    "start_time": "2022-02-16T16:19:19.925Z"
   },
   {
    "duration": 22,
    "start_time": "2022-02-16T16:19:19.995Z"
   },
   {
    "duration": 12,
    "start_time": "2022-02-16T16:19:20.019Z"
   },
   {
    "duration": 17,
    "start_time": "2022-02-16T16:19:20.033Z"
   },
   {
    "duration": 31,
    "start_time": "2022-02-16T16:19:20.051Z"
   },
   {
    "duration": 14,
    "start_time": "2022-02-16T16:19:20.084Z"
   },
   {
    "duration": 13,
    "start_time": "2022-02-16T16:19:20.100Z"
   },
   {
    "duration": 14,
    "start_time": "2022-02-16T16:19:20.114Z"
   },
   {
    "duration": 9,
    "start_time": "2022-02-16T16:19:20.129Z"
   },
   {
    "duration": 10,
    "start_time": "2022-02-16T16:19:20.140Z"
   },
   {
    "duration": 8,
    "start_time": "2022-02-16T16:19:20.152Z"
   },
   {
    "duration": 15,
    "start_time": "2022-02-16T16:19:20.161Z"
   },
   {
    "duration": 52,
    "start_time": "2022-02-16T16:19:20.177Z"
   },
   {
    "duration": 52,
    "start_time": "2022-02-16T16:19:20.231Z"
   },
   {
    "duration": 33,
    "start_time": "2022-02-16T16:19:20.285Z"
   },
   {
    "duration": 9,
    "start_time": "2022-02-16T16:19:20.319Z"
   },
   {
    "duration": 11,
    "start_time": "2022-02-16T16:19:20.329Z"
   },
   {
    "duration": 30,
    "start_time": "2022-02-16T16:19:20.342Z"
   },
   {
    "duration": 11,
    "start_time": "2022-02-16T16:19:20.374Z"
   },
   {
    "duration": 29,
    "start_time": "2022-02-16T16:19:20.386Z"
   },
   {
    "duration": 15,
    "start_time": "2022-02-16T16:19:20.417Z"
   },
   {
    "duration": 14,
    "start_time": "2022-02-16T16:19:20.433Z"
   },
   {
    "duration": 10,
    "start_time": "2022-02-16T16:19:20.449Z"
   },
   {
    "duration": 262,
    "start_time": "2022-02-16T16:19:20.461Z"
   },
   {
    "duration": -944,
    "start_time": "2022-02-16T16:19:21.669Z"
   },
   {
    "duration": -947,
    "start_time": "2022-02-16T16:19:21.674Z"
   },
   {
    "duration": 203,
    "start_time": "2022-02-16T16:20:18.254Z"
   },
   {
    "duration": 10,
    "start_time": "2022-02-16T16:20:26.901Z"
   },
   {
    "duration": 72,
    "start_time": "2022-02-16T16:23:40.873Z"
   },
   {
    "duration": 77,
    "start_time": "2022-02-16T16:25:13.952Z"
   },
   {
    "duration": 32,
    "start_time": "2022-02-16T16:25:38.309Z"
   },
   {
    "duration": 5,
    "start_time": "2022-02-16T16:26:11.189Z"
   },
   {
    "duration": 7,
    "start_time": "2022-02-16T16:26:46.795Z"
   },
   {
    "duration": 9,
    "start_time": "2022-02-16T16:29:18.896Z"
   },
   {
    "duration": 196,
    "start_time": "2022-02-16T16:33:32.295Z"
   },
   {
    "duration": 8,
    "start_time": "2022-02-16T16:34:16.189Z"
   },
   {
    "duration": 18,
    "start_time": "2022-02-16T16:34:52.134Z"
   },
   {
    "duration": 8,
    "start_time": "2022-02-16T16:34:53.494Z"
   },
   {
    "duration": 70,
    "start_time": "2022-02-16T16:50:23.937Z"
   },
   {
    "duration": 54,
    "start_time": "2022-02-16T16:50:50.724Z"
   },
   {
    "duration": 4,
    "start_time": "2022-02-16T16:51:27.468Z"
   },
   {
    "duration": 8,
    "start_time": "2022-02-16T16:51:31.052Z"
   },
   {
    "duration": 10,
    "start_time": "2022-02-16T16:52:19.998Z"
   },
   {
    "duration": 20,
    "start_time": "2022-02-16T16:54:40.535Z"
   },
   {
    "duration": 7,
    "start_time": "2022-02-16T16:55:03.921Z"
   },
   {
    "duration": 8,
    "start_time": "2022-02-16T17:14:29.336Z"
   },
   {
    "duration": 185,
    "start_time": "2022-02-16T17:15:09.000Z"
   },
   {
    "duration": 169,
    "start_time": "2022-02-16T17:15:18.384Z"
   },
   {
    "duration": 6,
    "start_time": "2022-02-16T17:15:32.632Z"
   },
   {
    "duration": 5,
    "start_time": "2022-02-16T17:16:07.816Z"
   },
   {
    "duration": 5,
    "start_time": "2022-02-16T17:16:31.574Z"
   },
   {
    "duration": 8,
    "start_time": "2022-02-16T17:16:46.458Z"
   },
   {
    "duration": 194,
    "start_time": "2022-02-16T17:26:13.552Z"
   },
   {
    "duration": 3,
    "start_time": "2022-02-16T17:26:32.338Z"
   },
   {
    "duration": 311,
    "start_time": "2022-02-16T17:26:32.343Z"
   },
   {
    "duration": 9,
    "start_time": "2022-02-16T17:26:32.657Z"
   },
   {
    "duration": 8,
    "start_time": "2022-02-16T17:26:32.669Z"
   },
   {
    "duration": 13,
    "start_time": "2022-02-16T17:26:32.679Z"
   },
   {
    "duration": 25,
    "start_time": "2022-02-16T17:26:32.694Z"
   },
   {
    "duration": 7,
    "start_time": "2022-02-16T17:26:32.722Z"
   },
   {
    "duration": 8,
    "start_time": "2022-02-16T17:26:32.731Z"
   },
   {
    "duration": 32,
    "start_time": "2022-02-16T17:26:32.740Z"
   },
   {
    "duration": 9,
    "start_time": "2022-02-16T17:26:32.773Z"
   },
   {
    "duration": 33,
    "start_time": "2022-02-16T17:26:32.784Z"
   },
   {
    "duration": 17,
    "start_time": "2022-02-16T17:26:32.819Z"
   },
   {
    "duration": 8,
    "start_time": "2022-02-16T17:26:32.838Z"
   },
   {
    "duration": 8,
    "start_time": "2022-02-16T17:26:32.847Z"
   },
   {
    "duration": 6,
    "start_time": "2022-02-16T17:26:32.857Z"
   },
   {
    "duration": 8,
    "start_time": "2022-02-16T17:26:32.864Z"
   },
   {
    "duration": 13,
    "start_time": "2022-02-16T17:26:32.913Z"
   },
   {
    "duration": 6,
    "start_time": "2022-02-16T17:26:32.929Z"
   },
   {
    "duration": 4,
    "start_time": "2022-02-16T17:26:32.940Z"
   },
   {
    "duration": 7,
    "start_time": "2022-02-16T17:26:32.947Z"
   },
   {
    "duration": 6,
    "start_time": "2022-02-16T17:26:32.955Z"
   },
   {
    "duration": 11,
    "start_time": "2022-02-16T17:26:32.963Z"
   },
   {
    "duration": 49,
    "start_time": "2022-02-16T17:26:32.976Z"
   },
   {
    "duration": 22,
    "start_time": "2022-02-16T17:26:33.026Z"
   },
   {
    "duration": 19,
    "start_time": "2022-02-16T17:26:33.050Z"
   },
   {
    "duration": 11,
    "start_time": "2022-02-16T17:26:33.070Z"
   },
   {
    "duration": 38,
    "start_time": "2022-02-16T17:26:33.083Z"
   },
   {
    "duration": 9,
    "start_time": "2022-02-16T17:26:33.122Z"
   },
   {
    "duration": 9,
    "start_time": "2022-02-16T17:26:33.133Z"
   },
   {
    "duration": 16,
    "start_time": "2022-02-16T17:26:33.143Z"
   },
   {
    "duration": 89,
    "start_time": "2022-02-16T17:26:33.161Z"
   },
   {
    "duration": 9,
    "start_time": "2022-02-16T17:26:33.252Z"
   },
   {
    "duration": 13,
    "start_time": "2022-02-16T17:26:33.263Z"
   },
   {
    "duration": 35,
    "start_time": "2022-02-16T17:26:33.278Z"
   },
   {
    "duration": 7,
    "start_time": "2022-02-16T17:26:33.314Z"
   },
   {
    "duration": 9,
    "start_time": "2022-02-16T17:26:33.323Z"
   },
   {
    "duration": 16,
    "start_time": "2022-02-16T17:26:33.333Z"
   },
   {
    "duration": 13,
    "start_time": "2022-02-16T17:26:33.351Z"
   },
   {
    "duration": 9,
    "start_time": "2022-02-16T17:26:33.366Z"
   },
   {
    "duration": 38,
    "start_time": "2022-02-16T17:26:33.377Z"
   },
   {
    "duration": 8,
    "start_time": "2022-02-16T17:26:33.416Z"
   },
   {
    "duration": 14,
    "start_time": "2022-02-16T17:26:33.425Z"
   },
   {
    "duration": 22,
    "start_time": "2022-02-16T17:26:33.441Z"
   },
   {
    "duration": 76,
    "start_time": "2022-02-16T17:26:33.465Z"
   },
   {
    "duration": 13,
    "start_time": "2022-02-16T17:26:33.543Z"
   },
   {
    "duration": 19,
    "start_time": "2022-02-16T17:26:33.557Z"
   },
   {
    "duration": 22,
    "start_time": "2022-02-16T17:26:33.577Z"
   },
   {
    "duration": 26,
    "start_time": "2022-02-16T17:26:33.601Z"
   },
   {
    "duration": 17,
    "start_time": "2022-02-16T17:26:33.628Z"
   },
   {
    "duration": 14,
    "start_time": "2022-02-16T17:26:33.647Z"
   },
   {
    "duration": 14,
    "start_time": "2022-02-16T17:26:33.662Z"
   },
   {
    "duration": 24,
    "start_time": "2022-02-16T17:26:33.678Z"
   },
   {
    "duration": 14,
    "start_time": "2022-02-16T17:26:33.704Z"
   },
   {
    "duration": 29,
    "start_time": "2022-02-16T17:26:33.720Z"
   },
   {
    "duration": 35,
    "start_time": "2022-02-16T17:26:33.753Z"
   },
   {
    "duration": 4,
    "start_time": "2022-02-16T17:26:33.790Z"
   },
   {
    "duration": 16,
    "start_time": "2022-02-16T17:26:33.796Z"
   },
   {
    "duration": 37,
    "start_time": "2022-02-16T17:26:33.814Z"
   },
   {
    "duration": 12,
    "start_time": "2022-02-16T17:26:33.853Z"
   },
   {
    "duration": 16,
    "start_time": "2022-02-16T17:26:33.866Z"
   },
   {
    "duration": 15,
    "start_time": "2022-02-16T17:26:33.884Z"
   },
   {
    "duration": 16,
    "start_time": "2022-02-16T17:26:33.900Z"
   },
   {
    "duration": 7,
    "start_time": "2022-02-16T17:26:33.918Z"
   },
   {
    "duration": 179,
    "start_time": "2022-02-16T17:26:33.926Z"
   },
   {
    "duration": 8,
    "start_time": "2022-02-16T17:27:41.873Z"
   },
   {
    "duration": 11,
    "start_time": "2022-02-16T17:28:42.590Z"
   },
   {
    "duration": 9,
    "start_time": "2022-02-16T17:29:08.782Z"
   },
   {
    "duration": 8,
    "start_time": "2022-02-16T17:30:43.153Z"
   },
   {
    "duration": 190,
    "start_time": "2022-02-16T18:24:58.023Z"
   },
   {
    "duration": 3,
    "start_time": "2022-02-16T18:25:03.029Z"
   },
   {
    "duration": 268,
    "start_time": "2022-02-16T18:25:03.036Z"
   },
   {
    "duration": 10,
    "start_time": "2022-02-16T18:25:03.306Z"
   },
   {
    "duration": 9,
    "start_time": "2022-02-16T18:25:03.318Z"
   },
   {
    "duration": 8,
    "start_time": "2022-02-16T18:25:03.329Z"
   },
   {
    "duration": 11,
    "start_time": "2022-02-16T18:25:03.338Z"
   },
   {
    "duration": 9,
    "start_time": "2022-02-16T18:25:03.351Z"
   },
   {
    "duration": 7,
    "start_time": "2022-02-16T18:25:03.361Z"
   },
   {
    "duration": 67,
    "start_time": "2022-02-16T18:25:03.371Z"
   },
   {
    "duration": 10,
    "start_time": "2022-02-16T18:25:03.440Z"
   },
   {
    "duration": 13,
    "start_time": "2022-02-16T18:25:03.452Z"
   },
   {
    "duration": 16,
    "start_time": "2022-02-16T18:25:03.467Z"
   },
   {
    "duration": 29,
    "start_time": "2022-02-16T18:25:03.485Z"
   },
   {
    "duration": 10,
    "start_time": "2022-02-16T18:25:03.516Z"
   },
   {
    "duration": 6,
    "start_time": "2022-02-16T18:25:03.527Z"
   },
   {
    "duration": 8,
    "start_time": "2022-02-16T18:25:03.535Z"
   },
   {
    "duration": 13,
    "start_time": "2022-02-16T18:25:03.546Z"
   },
   {
    "duration": 6,
    "start_time": "2022-02-16T18:25:03.561Z"
   },
   {
    "duration": 46,
    "start_time": "2022-02-16T18:25:03.569Z"
   },
   {
    "duration": 11,
    "start_time": "2022-02-16T18:25:03.617Z"
   },
   {
    "duration": 6,
    "start_time": "2022-02-16T18:25:03.630Z"
   },
   {
    "duration": 9,
    "start_time": "2022-02-16T18:25:03.638Z"
   },
   {
    "duration": 16,
    "start_time": "2022-02-16T18:25:03.648Z"
   },
   {
    "duration": 50,
    "start_time": "2022-02-16T18:25:03.666Z"
   },
   {
    "duration": 21,
    "start_time": "2022-02-16T18:25:03.718Z"
   },
   {
    "duration": 12,
    "start_time": "2022-02-16T18:25:03.741Z"
   },
   {
    "duration": 12,
    "start_time": "2022-02-16T18:25:03.755Z"
   },
   {
    "duration": 11,
    "start_time": "2022-02-16T18:25:03.768Z"
   },
   {
    "duration": 11,
    "start_time": "2022-02-16T18:25:03.814Z"
   },
   {
    "duration": 17,
    "start_time": "2022-02-16T18:25:03.827Z"
   },
   {
    "duration": 85,
    "start_time": "2022-02-16T18:25:03.846Z"
   },
   {
    "duration": 9,
    "start_time": "2022-02-16T18:25:03.933Z"
   },
   {
    "duration": 13,
    "start_time": "2022-02-16T18:25:03.944Z"
   },
   {
    "duration": 13,
    "start_time": "2022-02-16T18:25:03.958Z"
   },
   {
    "duration": 7,
    "start_time": "2022-02-16T18:25:03.972Z"
   },
   {
    "duration": 36,
    "start_time": "2022-02-16T18:25:03.980Z"
   },
   {
    "duration": 14,
    "start_time": "2022-02-16T18:25:04.018Z"
   },
   {
    "duration": 14,
    "start_time": "2022-02-16T18:25:04.034Z"
   },
   {
    "duration": 9,
    "start_time": "2022-02-16T18:25:04.050Z"
   },
   {
    "duration": 10,
    "start_time": "2022-02-16T18:25:04.061Z"
   },
   {
    "duration": 41,
    "start_time": "2022-02-16T18:25:04.072Z"
   },
   {
    "duration": 14,
    "start_time": "2022-02-16T18:25:04.115Z"
   },
   {
    "duration": 21,
    "start_time": "2022-02-16T18:25:04.131Z"
   },
   {
    "duration": 60,
    "start_time": "2022-02-16T18:25:04.154Z"
   },
   {
    "duration": 13,
    "start_time": "2022-02-16T18:25:04.215Z"
   },
   {
    "duration": 5,
    "start_time": "2022-02-16T18:25:04.230Z"
   },
   {
    "duration": 9,
    "start_time": "2022-02-16T18:25:04.237Z"
   },
   {
    "duration": 15,
    "start_time": "2022-02-16T18:25:04.248Z"
   },
   {
    "duration": 10,
    "start_time": "2022-02-16T18:25:04.265Z"
   },
   {
    "duration": 12,
    "start_time": "2022-02-16T18:25:04.313Z"
   },
   {
    "duration": 13,
    "start_time": "2022-02-16T18:25:04.329Z"
   },
   {
    "duration": 13,
    "start_time": "2022-02-16T18:25:04.344Z"
   },
   {
    "duration": 9,
    "start_time": "2022-02-16T18:25:04.359Z"
   },
   {
    "duration": 10,
    "start_time": "2022-02-16T18:25:04.370Z"
   },
   {
    "duration": 58,
    "start_time": "2022-02-16T18:25:04.381Z"
   },
   {
    "duration": 4,
    "start_time": "2022-02-16T18:25:04.441Z"
   },
   {
    "duration": 9,
    "start_time": "2022-02-16T18:25:04.447Z"
   },
   {
    "duration": 19,
    "start_time": "2022-02-16T18:25:04.458Z"
   },
   {
    "duration": 3,
    "start_time": "2022-02-16T18:25:04.479Z"
   },
   {
    "duration": 30,
    "start_time": "2022-02-16T18:25:04.484Z"
   },
   {
    "duration": 10,
    "start_time": "2022-02-16T18:25:04.516Z"
   },
   {
    "duration": 28,
    "start_time": "2022-02-16T18:25:04.528Z"
   },
   {
    "duration": 10,
    "start_time": "2022-02-16T18:25:04.558Z"
   },
   {
    "duration": 21,
    "start_time": "2022-02-16T18:25:04.570Z"
   },
   {
    "duration": 22,
    "start_time": "2022-02-16T18:25:04.593Z"
   },
   {
    "duration": 10,
    "start_time": "2022-02-16T18:25:04.617Z"
   },
   {
    "duration": 10,
    "start_time": "2022-02-16T18:25:04.628Z"
   },
   {
    "duration": 15,
    "start_time": "2022-02-16T18:49:58.869Z"
   },
   {
    "duration": 11,
    "start_time": "2022-02-16T18:50:01.998Z"
   },
   {
    "duration": 10,
    "start_time": "2022-02-16T18:50:07.936Z"
   },
   {
    "duration": 6,
    "start_time": "2022-02-16T18:50:28.097Z"
   },
   {
    "duration": 3,
    "start_time": "2022-02-16T18:52:26.692Z"
   },
   {
    "duration": 4896,
    "start_time": "2022-02-16T19:03:55.836Z"
   },
   {
    "duration": 12,
    "start_time": "2022-02-16T19:05:21.333Z"
   },
   {
    "duration": 4372,
    "start_time": "2022-02-16T19:06:07.938Z"
   },
   {
    "duration": 2287,
    "start_time": "2022-02-16T19:06:26.423Z"
   },
   {
    "duration": 193,
    "start_time": "2022-02-16T19:10:42.667Z"
   },
   {
    "duration": 175,
    "start_time": "2022-02-16T19:11:07.029Z"
   },
   {
    "duration": 200,
    "start_time": "2022-02-16T19:11:36.543Z"
   },
   {
    "duration": 193,
    "start_time": "2022-02-16T19:12:33.945Z"
   },
   {
    "duration": 197,
    "start_time": "2022-02-16T19:15:44.043Z"
   },
   {
    "duration": 185,
    "start_time": "2022-02-16T19:16:43.463Z"
   },
   {
    "duration": 10,
    "start_time": "2022-02-16T19:18:04.499Z"
   },
   {
    "duration": 14,
    "start_time": "2022-02-16T19:18:34.926Z"
   },
   {
    "duration": 10,
    "start_time": "2022-02-16T19:19:10.106Z"
   },
   {
    "duration": 15,
    "start_time": "2022-02-16T19:19:12.986Z"
   },
   {
    "duration": 5,
    "start_time": "2022-02-16T19:20:01.221Z"
   },
   {
    "duration": 4562,
    "start_time": "2022-02-16T19:36:12.912Z"
   },
   {
    "duration": 8,
    "start_time": "2022-02-16T19:36:30.423Z"
   },
   {
    "duration": 13,
    "start_time": "2022-02-16T19:37:14.437Z"
   },
   {
    "duration": 8,
    "start_time": "2022-02-16T19:37:26.019Z"
   },
   {
    "duration": 15,
    "start_time": "2022-02-16T19:49:37.997Z"
   },
   {
    "duration": 178,
    "start_time": "2022-02-16T19:51:52.631Z"
   },
   {
    "duration": 9,
    "start_time": "2022-02-16T19:52:03.523Z"
   },
   {
    "duration": 191,
    "start_time": "2022-02-16T19:52:51.841Z"
   },
   {
    "duration": 193,
    "start_time": "2022-02-16T19:53:18.390Z"
   },
   {
    "duration": 11,
    "start_time": "2022-02-16T19:53:26.299Z"
   },
   {
    "duration": 3,
    "start_time": "2022-02-16T19:53:32.254Z"
   },
   {
    "duration": 8,
    "start_time": "2022-02-16T19:53:57.288Z"
   },
   {
    "duration": 10,
    "start_time": "2022-02-16T20:31:01.279Z"
   },
   {
    "duration": 4,
    "start_time": "2022-02-16T20:31:04.393Z"
   },
   {
    "duration": 181,
    "start_time": "2022-02-16T20:35:13.541Z"
   },
   {
    "duration": 182,
    "start_time": "2022-02-16T20:36:17.240Z"
   },
   {
    "duration": 220,
    "start_time": "2022-02-16T20:55:25.233Z"
   },
   {
    "duration": 3,
    "start_time": "2022-02-16T20:55:31.579Z"
   },
   {
    "duration": 267,
    "start_time": "2022-02-16T20:55:31.583Z"
   },
   {
    "duration": 8,
    "start_time": "2022-02-16T20:55:31.853Z"
   },
   {
    "duration": 9,
    "start_time": "2022-02-16T20:55:31.863Z"
   },
   {
    "duration": 7,
    "start_time": "2022-02-16T20:55:31.873Z"
   },
   {
    "duration": 31,
    "start_time": "2022-02-16T20:55:31.882Z"
   },
   {
    "duration": 7,
    "start_time": "2022-02-16T20:55:31.916Z"
   },
   {
    "duration": 6,
    "start_time": "2022-02-16T20:55:31.926Z"
   },
   {
    "duration": 28,
    "start_time": "2022-02-16T20:55:31.934Z"
   },
   {
    "duration": 9,
    "start_time": "2022-02-16T20:55:31.964Z"
   },
   {
    "duration": 6,
    "start_time": "2022-02-16T20:55:32.012Z"
   },
   {
    "duration": 16,
    "start_time": "2022-02-16T20:55:32.020Z"
   },
   {
    "duration": 5,
    "start_time": "2022-02-16T20:55:32.038Z"
   },
   {
    "duration": 7,
    "start_time": "2022-02-16T20:55:32.044Z"
   },
   {
    "duration": 5,
    "start_time": "2022-02-16T20:55:32.052Z"
   },
   {
    "duration": 10,
    "start_time": "2022-02-16T20:55:32.058Z"
   },
   {
    "duration": 44,
    "start_time": "2022-02-16T20:55:32.070Z"
   },
   {
    "duration": 5,
    "start_time": "2022-02-16T20:55:32.116Z"
   },
   {
    "duration": 4,
    "start_time": "2022-02-16T20:55:32.124Z"
   },
   {
    "duration": 7,
    "start_time": "2022-02-16T20:55:32.130Z"
   },
   {
    "duration": 8,
    "start_time": "2022-02-16T20:55:32.138Z"
   },
   {
    "duration": 6,
    "start_time": "2022-02-16T20:55:32.147Z"
   },
   {
    "duration": 6,
    "start_time": "2022-02-16T20:55:32.155Z"
   },
   {
    "duration": 9,
    "start_time": "2022-02-16T20:55:32.162Z"
   },
   {
    "duration": 15,
    "start_time": "2022-02-16T20:55:32.212Z"
   },
   {
    "duration": 21,
    "start_time": "2022-02-16T20:55:32.229Z"
   },
   {
    "duration": 18,
    "start_time": "2022-02-16T20:55:32.252Z"
   },
   {
    "duration": 42,
    "start_time": "2022-02-16T20:55:32.271Z"
   },
   {
    "duration": 12,
    "start_time": "2022-02-16T20:55:32.314Z"
   },
   {
    "duration": 9,
    "start_time": "2022-02-16T20:55:32.327Z"
   },
   {
    "duration": 8,
    "start_time": "2022-02-16T20:55:32.338Z"
   },
   {
    "duration": 14,
    "start_time": "2022-02-16T20:55:32.348Z"
   },
   {
    "duration": 95,
    "start_time": "2022-02-16T20:55:32.364Z"
   },
   {
    "duration": 10,
    "start_time": "2022-02-16T20:55:32.460Z"
   },
   {
    "duration": 12,
    "start_time": "2022-02-16T20:55:32.472Z"
   },
   {
    "duration": 34,
    "start_time": "2022-02-16T20:55:32.486Z"
   },
   {
    "duration": 8,
    "start_time": "2022-02-16T20:55:32.522Z"
   },
   {
    "duration": 6,
    "start_time": "2022-02-16T20:55:32.532Z"
   },
   {
    "duration": 13,
    "start_time": "2022-02-16T20:55:32.539Z"
   },
   {
    "duration": 12,
    "start_time": "2022-02-16T20:55:32.553Z"
   },
   {
    "duration": 9,
    "start_time": "2022-02-16T20:55:32.566Z"
   },
   {
    "duration": 43,
    "start_time": "2022-02-16T20:55:32.577Z"
   },
   {
    "duration": 10,
    "start_time": "2022-02-16T20:55:32.621Z"
   },
   {
    "duration": 15,
    "start_time": "2022-02-16T20:55:32.633Z"
   },
   {
    "duration": 22,
    "start_time": "2022-02-16T20:55:32.650Z"
   },
   {
    "duration": 75,
    "start_time": "2022-02-16T20:55:32.673Z"
   },
   {
    "duration": 13,
    "start_time": "2022-02-16T20:55:32.749Z"
   },
   {
    "duration": 5,
    "start_time": "2022-02-16T20:55:32.764Z"
   },
   {
    "duration": 11,
    "start_time": "2022-02-16T20:55:32.771Z"
   },
   {
    "duration": 41,
    "start_time": "2022-02-16T20:55:32.783Z"
   },
   {
    "duration": 12,
    "start_time": "2022-02-16T20:55:32.825Z"
   },
   {
    "duration": 13,
    "start_time": "2022-02-16T20:55:32.838Z"
   },
   {
    "duration": 11,
    "start_time": "2022-02-16T20:55:32.853Z"
   },
   {
    "duration": 46,
    "start_time": "2022-02-16T20:55:32.866Z"
   },
   {
    "duration": 9,
    "start_time": "2022-02-16T20:55:32.916Z"
   },
   {
    "duration": 10,
    "start_time": "2022-02-16T20:55:32.927Z"
   },
   {
    "duration": 197,
    "start_time": "2022-02-16T20:55:32.938Z"
   },
   {
    "duration": -819,
    "start_time": "2022-02-16T20:55:33.956Z"
   },
   {
    "duration": -822,
    "start_time": "2022-02-16T20:55:33.961Z"
   },
   {
    "duration": -824,
    "start_time": "2022-02-16T20:55:33.964Z"
   },
   {
    "duration": -825,
    "start_time": "2022-02-16T20:55:33.966Z"
   },
   {
    "duration": -826,
    "start_time": "2022-02-16T20:55:33.968Z"
   },
   {
    "duration": -827,
    "start_time": "2022-02-16T20:55:33.970Z"
   },
   {
    "duration": -828,
    "start_time": "2022-02-16T20:55:33.972Z"
   },
   {
    "duration": -827,
    "start_time": "2022-02-16T20:55:33.973Z"
   },
   {
    "duration": -827,
    "start_time": "2022-02-16T20:55:33.974Z"
   },
   {
    "duration": -828,
    "start_time": "2022-02-16T20:55:33.976Z"
   },
   {
    "duration": -828,
    "start_time": "2022-02-16T20:55:33.977Z"
   },
   {
    "duration": -829,
    "start_time": "2022-02-16T20:55:33.979Z"
   },
   {
    "duration": -829,
    "start_time": "2022-02-16T20:55:33.980Z"
   },
   {
    "duration": -829,
    "start_time": "2022-02-16T20:55:33.981Z"
   },
   {
    "duration": -829,
    "start_time": "2022-02-16T20:55:33.983Z"
   },
   {
    "duration": -900,
    "start_time": "2022-02-16T20:55:34.055Z"
   },
   {
    "duration": 188,
    "start_time": "2022-02-16T20:59:14.241Z"
   },
   {
    "duration": 186,
    "start_time": "2022-02-16T20:59:35.647Z"
   },
   {
    "duration": 176,
    "start_time": "2022-02-16T20:59:55.416Z"
   },
   {
    "duration": 10,
    "start_time": "2022-02-16T21:08:24.633Z"
   },
   {
    "duration": 4,
    "start_time": "2022-02-16T21:08:27.178Z"
   },
   {
    "duration": 9,
    "start_time": "2022-02-16T21:08:34.078Z"
   },
   {
    "duration": 11,
    "start_time": "2022-02-16T21:08:37.208Z"
   },
   {
    "duration": 7,
    "start_time": "2022-02-16T21:08:37.845Z"
   },
   {
    "duration": 6,
    "start_time": "2022-02-16T21:08:38.028Z"
   },
   {
    "duration": 9,
    "start_time": "2022-02-16T21:08:38.190Z"
   },
   {
    "duration": 11,
    "start_time": "2022-02-16T21:08:38.363Z"
   },
   {
    "duration": 5,
    "start_time": "2022-02-16T21:08:38.497Z"
   },
   {
    "duration": 184,
    "start_time": "2022-02-16T21:08:38.675Z"
   },
   {
    "duration": -749,
    "start_time": "2022-02-16T21:08:39.610Z"
   },
   {
    "duration": 10,
    "start_time": "2022-02-16T21:08:39.008Z"
   },
   {
    "duration": 3,
    "start_time": "2022-02-16T21:08:39.174Z"
   },
   {
    "duration": 6,
    "start_time": "2022-02-16T21:08:39.392Z"
   },
   {
    "duration": 10,
    "start_time": "2022-02-16T21:08:40.479Z"
   },
   {
    "duration": 4,
    "start_time": "2022-02-16T21:08:40.658Z"
   },
   {
    "duration": 8,
    "start_time": "2022-02-16T21:08:40.840Z"
   },
   {
    "duration": 12,
    "start_time": "2022-02-16T21:09:54.132Z"
   },
   {
    "duration": 4,
    "start_time": "2022-02-16T21:10:31.786Z"
   },
   {
    "duration": 10,
    "start_time": "2022-02-16T21:24:51.950Z"
   },
   {
    "duration": 11,
    "start_time": "2022-02-16T21:27:10.589Z"
   },
   {
    "duration": 3,
    "start_time": "2022-02-16T21:28:37.169Z"
   },
   {
    "duration": 276,
    "start_time": "2022-02-16T21:28:37.174Z"
   },
   {
    "duration": 9,
    "start_time": "2022-02-16T21:28:37.453Z"
   },
   {
    "duration": 10,
    "start_time": "2022-02-16T21:28:37.464Z"
   },
   {
    "duration": 9,
    "start_time": "2022-02-16T21:28:37.476Z"
   },
   {
    "duration": 30,
    "start_time": "2022-02-16T21:28:37.486Z"
   },
   {
    "duration": 9,
    "start_time": "2022-02-16T21:28:37.518Z"
   },
   {
    "duration": 6,
    "start_time": "2022-02-16T21:28:37.529Z"
   },
   {
    "duration": 29,
    "start_time": "2022-02-16T21:28:37.536Z"
   },
   {
    "duration": 8,
    "start_time": "2022-02-16T21:28:37.567Z"
   },
   {
    "duration": 6,
    "start_time": "2022-02-16T21:28:37.577Z"
   },
   {
    "duration": 19,
    "start_time": "2022-02-16T21:28:37.612Z"
   },
   {
    "duration": 7,
    "start_time": "2022-02-16T21:28:37.633Z"
   },
   {
    "duration": 8,
    "start_time": "2022-02-16T21:28:37.641Z"
   },
   {
    "duration": 6,
    "start_time": "2022-02-16T21:28:37.651Z"
   },
   {
    "duration": 11,
    "start_time": "2022-02-16T21:28:37.659Z"
   },
   {
    "duration": 49,
    "start_time": "2022-02-16T21:28:37.672Z"
   },
   {
    "duration": 6,
    "start_time": "2022-02-16T21:28:37.722Z"
   },
   {
    "duration": 5,
    "start_time": "2022-02-16T21:28:37.731Z"
   },
   {
    "duration": 7,
    "start_time": "2022-02-16T21:28:37.739Z"
   },
   {
    "duration": 8,
    "start_time": "2022-02-16T21:28:37.747Z"
   },
   {
    "duration": 7,
    "start_time": "2022-02-16T21:28:37.757Z"
   },
   {
    "duration": 5,
    "start_time": "2022-02-16T21:28:37.766Z"
   },
   {
    "duration": 45,
    "start_time": "2022-02-16T21:28:37.772Z"
   },
   {
    "duration": 18,
    "start_time": "2022-02-16T21:28:37.819Z"
   },
   {
    "duration": 21,
    "start_time": "2022-02-16T21:28:37.839Z"
   },
   {
    "duration": 17,
    "start_time": "2022-02-16T21:28:37.861Z"
   },
   {
    "duration": 32,
    "start_time": "2022-02-16T21:28:37.880Z"
   },
   {
    "duration": 10,
    "start_time": "2022-02-16T21:28:37.914Z"
   },
   {
    "duration": 10,
    "start_time": "2022-02-16T21:28:37.926Z"
   },
   {
    "duration": 10,
    "start_time": "2022-02-16T21:28:37.937Z"
   },
   {
    "duration": 16,
    "start_time": "2022-02-16T21:28:37.949Z"
   },
   {
    "duration": 97,
    "start_time": "2022-02-16T21:28:37.967Z"
   },
   {
    "duration": 11,
    "start_time": "2022-02-16T21:28:38.066Z"
   },
   {
    "duration": 12,
    "start_time": "2022-02-16T21:28:38.079Z"
   },
   {
    "duration": 32,
    "start_time": "2022-02-16T21:28:38.092Z"
   },
   {
    "duration": 7,
    "start_time": "2022-02-16T21:28:38.126Z"
   },
   {
    "duration": 6,
    "start_time": "2022-02-16T21:28:38.135Z"
   },
   {
    "duration": 11,
    "start_time": "2022-02-16T21:28:38.142Z"
   },
   {
    "duration": 12,
    "start_time": "2022-02-16T21:28:38.154Z"
   },
   {
    "duration": 44,
    "start_time": "2022-02-16T21:28:38.168Z"
   },
   {
    "duration": 10,
    "start_time": "2022-02-16T21:28:38.214Z"
   },
   {
    "duration": 8,
    "start_time": "2022-02-16T21:28:38.225Z"
   },
   {
    "duration": 14,
    "start_time": "2022-02-16T21:28:38.234Z"
   },
   {
    "duration": 20,
    "start_time": "2022-02-16T21:28:38.249Z"
   },
   {
    "duration": 69,
    "start_time": "2022-02-16T21:28:38.271Z"
   },
   {
    "duration": 13,
    "start_time": "2022-02-16T21:28:38.342Z"
   },
   {
    "duration": 5,
    "start_time": "2022-02-16T21:28:38.357Z"
   },
   {
    "duration": 8,
    "start_time": "2022-02-16T21:28:38.364Z"
   },
   {
    "duration": 42,
    "start_time": "2022-02-16T21:28:38.373Z"
   },
   {
    "duration": 10,
    "start_time": "2022-02-16T21:28:38.417Z"
   },
   {
    "duration": 13,
    "start_time": "2022-02-16T21:28:38.428Z"
   },
   {
    "duration": 12,
    "start_time": "2022-02-16T21:28:38.443Z"
   },
   {
    "duration": 13,
    "start_time": "2022-02-16T21:28:38.457Z"
   },
   {
    "duration": 41,
    "start_time": "2022-02-16T21:28:38.474Z"
   },
   {
    "duration": 10,
    "start_time": "2022-02-16T21:28:38.517Z"
   },
   {
    "duration": 17,
    "start_time": "2022-02-16T21:28:38.528Z"
   },
   {
    "duration": 4,
    "start_time": "2022-02-16T21:28:38.547Z"
   },
   {
    "duration": 17,
    "start_time": "2022-02-16T21:28:38.552Z"
   },
   {
    "duration": 18,
    "start_time": "2022-02-16T21:28:38.571Z"
   },
   {
    "duration": 22,
    "start_time": "2022-02-16T21:28:38.591Z"
   },
   {
    "duration": 12,
    "start_time": "2022-02-16T21:28:38.614Z"
   },
   {
    "duration": 12,
    "start_time": "2022-02-16T21:28:38.627Z"
   },
   {
    "duration": 9,
    "start_time": "2022-02-16T21:28:38.641Z"
   },
   {
    "duration": 7,
    "start_time": "2022-02-16T21:28:38.652Z"
   },
   {
    "duration": 189,
    "start_time": "2022-02-16T21:28:38.660Z"
   },
   {
    "duration": -1605,
    "start_time": "2022-02-16T21:28:40.456Z"
   },
   {
    "duration": -1606,
    "start_time": "2022-02-16T21:28:40.458Z"
   },
   {
    "duration": -1607,
    "start_time": "2022-02-16T21:28:40.460Z"
   },
   {
    "duration": -1608,
    "start_time": "2022-02-16T21:28:40.462Z"
   },
   {
    "duration": -1609,
    "start_time": "2022-02-16T21:28:40.464Z"
   },
   {
    "duration": -1609,
    "start_time": "2022-02-16T21:28:40.465Z"
   },
   {
    "duration": -1629,
    "start_time": "2022-02-16T21:28:40.486Z"
   },
   {
    "duration": -1630,
    "start_time": "2022-02-16T21:28:40.488Z"
   },
   {
    "duration": 12,
    "start_time": "2022-02-16T21:29:21.043Z"
   },
   {
    "duration": 10,
    "start_time": "2022-02-16T21:29:23.583Z"
   },
   {
    "duration": 187,
    "start_time": "2022-02-16T21:33:29.049Z"
   },
   {
    "duration": 14,
    "start_time": "2022-02-16T21:35:53.674Z"
   },
   {
    "duration": 5,
    "start_time": "2022-02-16T21:35:58.118Z"
   },
   {
    "duration": 6,
    "start_time": "2022-02-16T21:36:19.567Z"
   },
   {
    "duration": 11,
    "start_time": "2022-02-16T21:38:07.370Z"
   },
   {
    "duration": 6,
    "start_time": "2022-02-16T21:38:21.874Z"
   },
   {
    "duration": 188,
    "start_time": "2022-02-16T21:42:21.979Z"
   },
   {
    "duration": 17,
    "start_time": "2022-02-16T21:42:39.276Z"
   },
   {
    "duration": 6,
    "start_time": "2022-02-16T21:42:43.245Z"
   },
   {
    "duration": 18,
    "start_time": "2022-02-16T21:44:22.348Z"
   },
   {
    "duration": 4,
    "start_time": "2022-02-16T21:44:24.369Z"
   },
   {
    "duration": 596,
    "start_time": "2022-02-16T21:50:47.465Z"
   },
   {
    "duration": 257,
    "start_time": "2022-02-16T21:50:48.063Z"
   },
   {
    "duration": 14,
    "start_time": "2022-02-16T21:50:48.322Z"
   },
   {
    "duration": 8,
    "start_time": "2022-02-16T21:50:48.338Z"
   },
   {
    "duration": 7,
    "start_time": "2022-02-16T21:50:48.347Z"
   },
   {
    "duration": 8,
    "start_time": "2022-02-16T21:50:48.356Z"
   },
   {
    "duration": 8,
    "start_time": "2022-02-16T21:50:48.366Z"
   },
   {
    "duration": 40,
    "start_time": "2022-02-16T21:50:48.376Z"
   },
   {
    "duration": 27,
    "start_time": "2022-02-16T21:50:48.418Z"
   },
   {
    "duration": 8,
    "start_time": "2022-02-16T21:50:48.446Z"
   },
   {
    "duration": 6,
    "start_time": "2022-02-16T21:50:48.456Z"
   },
   {
    "duration": 14,
    "start_time": "2022-02-16T21:50:48.463Z"
   },
   {
    "duration": 34,
    "start_time": "2022-02-16T21:50:48.479Z"
   },
   {
    "duration": 7,
    "start_time": "2022-02-16T21:50:48.514Z"
   },
   {
    "duration": 5,
    "start_time": "2022-02-16T21:50:48.523Z"
   },
   {
    "duration": 8,
    "start_time": "2022-02-16T21:50:48.530Z"
   },
   {
    "duration": 12,
    "start_time": "2022-02-16T21:50:48.539Z"
   },
   {
    "duration": 5,
    "start_time": "2022-02-16T21:50:48.552Z"
   },
   {
    "duration": 5,
    "start_time": "2022-02-16T21:50:48.558Z"
   },
   {
    "duration": 7,
    "start_time": "2022-02-16T21:50:48.565Z"
   },
   {
    "duration": 42,
    "start_time": "2022-02-16T21:50:48.573Z"
   },
   {
    "duration": 5,
    "start_time": "2022-02-16T21:50:48.617Z"
   },
   {
    "duration": 5,
    "start_time": "2022-02-16T21:50:48.626Z"
   },
   {
    "duration": 8,
    "start_time": "2022-02-16T21:50:48.633Z"
   },
   {
    "duration": 16,
    "start_time": "2022-02-16T21:50:48.642Z"
   },
   {
    "duration": 59,
    "start_time": "2022-02-16T21:50:48.659Z"
   },
   {
    "duration": 21,
    "start_time": "2022-02-16T21:50:48.719Z"
   },
   {
    "duration": 11,
    "start_time": "2022-02-16T21:50:48.741Z"
   },
   {
    "duration": 10,
    "start_time": "2022-02-16T21:50:48.754Z"
   },
   {
    "duration": 11,
    "start_time": "2022-02-16T21:50:48.766Z"
   },
   {
    "duration": 39,
    "start_time": "2022-02-16T21:50:48.778Z"
   },
   {
    "duration": 15,
    "start_time": "2022-02-16T21:50:48.818Z"
   },
   {
    "duration": 77,
    "start_time": "2022-02-16T21:50:48.835Z"
   },
   {
    "duration": 10,
    "start_time": "2022-02-16T21:50:48.914Z"
   },
   {
    "duration": 11,
    "start_time": "2022-02-16T21:50:48.925Z"
   },
   {
    "duration": 12,
    "start_time": "2022-02-16T21:50:48.938Z"
   },
   {
    "duration": 7,
    "start_time": "2022-02-16T21:50:48.951Z"
   },
   {
    "duration": 5,
    "start_time": "2022-02-16T21:50:48.959Z"
   },
   {
    "duration": 9,
    "start_time": "2022-02-16T21:50:48.966Z"
   },
   {
    "duration": 14,
    "start_time": "2022-02-16T21:50:49.012Z"
   },
   {
    "duration": 9,
    "start_time": "2022-02-16T21:50:49.027Z"
   },
   {
    "duration": 10,
    "start_time": "2022-02-16T21:50:49.037Z"
   },
   {
    "duration": 8,
    "start_time": "2022-02-16T21:50:49.049Z"
   },
   {
    "duration": 17,
    "start_time": "2022-02-16T21:50:49.059Z"
   },
   {
    "duration": 49,
    "start_time": "2022-02-16T21:50:49.077Z"
   },
   {
    "duration": 47,
    "start_time": "2022-02-16T21:50:49.127Z"
   },
   {
    "duration": 12,
    "start_time": "2022-02-16T21:50:49.176Z"
   },
   {
    "duration": 24,
    "start_time": "2022-02-16T21:50:49.189Z"
   },
   {
    "duration": 17,
    "start_time": "2022-02-16T21:50:49.215Z"
   },
   {
    "duration": 38,
    "start_time": "2022-02-16T21:50:49.234Z"
   },
   {
    "duration": 11,
    "start_time": "2022-02-16T21:50:49.274Z"
   },
   {
    "duration": 25,
    "start_time": "2022-02-16T21:50:49.286Z"
   },
   {
    "duration": 14,
    "start_time": "2022-02-16T21:50:49.313Z"
   },
   {
    "duration": 13,
    "start_time": "2022-02-16T21:50:49.329Z"
   },
   {
    "duration": 12,
    "start_time": "2022-02-16T21:50:49.343Z"
   },
   {
    "duration": 11,
    "start_time": "2022-02-16T21:50:49.357Z"
   },
   {
    "duration": 50,
    "start_time": "2022-02-16T21:50:49.370Z"
   },
   {
    "duration": 4,
    "start_time": "2022-02-16T21:50:49.422Z"
   },
   {
    "duration": 8,
    "start_time": "2022-02-16T21:50:49.428Z"
   },
   {
    "duration": 18,
    "start_time": "2022-02-16T21:50:49.438Z"
   },
   {
    "duration": 4,
    "start_time": "2022-02-16T21:50:49.457Z"
   },
   {
    "duration": 8,
    "start_time": "2022-02-16T21:50:49.462Z"
   },
   {
    "duration": 40,
    "start_time": "2022-02-16T21:50:49.472Z"
   },
   {
    "duration": 9,
    "start_time": "2022-02-16T21:50:49.514Z"
   },
   {
    "duration": 6,
    "start_time": "2022-02-16T21:50:49.524Z"
   },
   {
    "duration": 11,
    "start_time": "2022-02-16T21:50:49.531Z"
   },
   {
    "duration": 10,
    "start_time": "2022-02-16T21:50:49.543Z"
   },
   {
    "duration": 8,
    "start_time": "2022-02-16T21:50:49.557Z"
   },
   {
    "duration": 3,
    "start_time": "2022-02-16T21:50:49.567Z"
   },
   {
    "duration": 44,
    "start_time": "2022-02-16T21:50:49.571Z"
   },
   {
    "duration": 8,
    "start_time": "2022-02-16T21:50:49.616Z"
   },
   {
    "duration": 3,
    "start_time": "2022-02-16T21:50:49.626Z"
   },
   {
    "duration": 12,
    "start_time": "2022-02-16T21:50:49.631Z"
   },
   {
    "duration": 6,
    "start_time": "2022-02-16T21:50:49.645Z"
   },
   {
    "duration": 22,
    "start_time": "2022-02-16T22:05:40.568Z"
   },
   {
    "duration": 24,
    "start_time": "2022-02-16T22:06:11.073Z"
   },
   {
    "duration": 686,
    "start_time": "2022-02-19T17:05:46.441Z"
   },
   {
    "duration": 283,
    "start_time": "2022-02-19T17:05:47.129Z"
   },
   {
    "duration": 13,
    "start_time": "2022-02-19T17:05:47.414Z"
   },
   {
    "duration": 13,
    "start_time": "2022-02-19T17:05:47.428Z"
   },
   {
    "duration": 9,
    "start_time": "2022-02-19T17:05:47.442Z"
   },
   {
    "duration": 14,
    "start_time": "2022-02-19T17:05:47.452Z"
   },
   {
    "duration": 13,
    "start_time": "2022-02-19T17:05:47.469Z"
   },
   {
    "duration": 20,
    "start_time": "2022-02-19T17:05:47.485Z"
   },
   {
    "duration": 31,
    "start_time": "2022-02-19T17:05:47.519Z"
   },
   {
    "duration": 10,
    "start_time": "2022-02-19T17:05:47.552Z"
   },
   {
    "duration": 10,
    "start_time": "2022-02-19T17:05:47.564Z"
   },
   {
    "duration": 42,
    "start_time": "2022-02-19T17:05:47.576Z"
   },
   {
    "duration": 7,
    "start_time": "2022-02-19T17:05:47.621Z"
   },
   {
    "duration": 13,
    "start_time": "2022-02-19T17:05:47.630Z"
   },
   {
    "duration": 7,
    "start_time": "2022-02-19T17:05:47.644Z"
   },
   {
    "duration": 14,
    "start_time": "2022-02-19T17:05:47.653Z"
   },
   {
    "duration": 13,
    "start_time": "2022-02-19T17:05:47.669Z"
   },
   {
    "duration": 35,
    "start_time": "2022-02-19T17:05:47.684Z"
   },
   {
    "duration": 5,
    "start_time": "2022-02-19T17:05:47.721Z"
   },
   {
    "duration": 19,
    "start_time": "2022-02-19T17:05:47.728Z"
   },
   {
    "duration": 10,
    "start_time": "2022-02-19T17:05:47.750Z"
   },
   {
    "duration": 12,
    "start_time": "2022-02-19T17:05:47.762Z"
   },
   {
    "duration": 6,
    "start_time": "2022-02-19T17:05:47.779Z"
   },
   {
    "duration": 33,
    "start_time": "2022-02-19T17:05:47.788Z"
   },
   {
    "duration": 28,
    "start_time": "2022-02-19T17:05:47.823Z"
   },
   {
    "duration": 32,
    "start_time": "2022-02-19T17:05:47.853Z"
   },
   {
    "duration": 46,
    "start_time": "2022-02-19T17:05:47.888Z"
   },
   {
    "duration": 17,
    "start_time": "2022-02-19T17:05:47.937Z"
   },
   {
    "duration": 12,
    "start_time": "2022-02-19T17:05:47.956Z"
   },
   {
    "duration": 12,
    "start_time": "2022-02-19T17:05:47.970Z"
   },
   {
    "duration": 53,
    "start_time": "2022-02-19T17:05:47.983Z"
   },
   {
    "duration": 16,
    "start_time": "2022-02-19T17:05:48.037Z"
   },
   {
    "duration": 81,
    "start_time": "2022-02-19T17:05:48.055Z"
   },
   {
    "duration": 10,
    "start_time": "2022-02-19T17:05:48.138Z"
   },
   {
    "duration": 16,
    "start_time": "2022-02-19T17:05:48.150Z"
   },
   {
    "duration": 14,
    "start_time": "2022-02-19T17:05:48.168Z"
   },
   {
    "duration": 7,
    "start_time": "2022-02-19T17:05:48.184Z"
   },
   {
    "duration": 31,
    "start_time": "2022-02-19T17:05:48.192Z"
   },
   {
    "duration": 16,
    "start_time": "2022-02-19T17:05:48.225Z"
   },
   {
    "duration": 17,
    "start_time": "2022-02-19T17:05:48.243Z"
   },
   {
    "duration": 12,
    "start_time": "2022-02-19T17:05:48.262Z"
   },
   {
    "duration": 45,
    "start_time": "2022-02-19T17:05:48.276Z"
   },
   {
    "duration": 10,
    "start_time": "2022-02-19T17:05:48.323Z"
   },
   {
    "duration": 26,
    "start_time": "2022-02-19T17:05:48.336Z"
   },
   {
    "duration": 27,
    "start_time": "2022-02-19T17:05:48.364Z"
   },
   {
    "duration": 95,
    "start_time": "2022-02-19T17:05:48.393Z"
   },
   {
    "duration": 29,
    "start_time": "2022-02-19T17:05:48.490Z"
   },
   {
    "duration": 7,
    "start_time": "2022-02-19T17:05:48.521Z"
   },
   {
    "duration": 15,
    "start_time": "2022-02-19T17:05:48.530Z"
   },
   {
    "duration": 21,
    "start_time": "2022-02-19T17:05:48.547Z"
   },
   {
    "duration": 13,
    "start_time": "2022-02-19T17:05:48.570Z"
   },
   {
    "duration": 40,
    "start_time": "2022-02-19T17:05:48.586Z"
   },
   {
    "duration": 15,
    "start_time": "2022-02-19T17:05:48.628Z"
   },
   {
    "duration": 15,
    "start_time": "2022-02-19T17:05:48.645Z"
   },
   {
    "duration": 10,
    "start_time": "2022-02-19T17:05:48.662Z"
   },
   {
    "duration": 46,
    "start_time": "2022-02-19T17:05:48.674Z"
   },
   {
    "duration": 33,
    "start_time": "2022-02-19T17:05:48.722Z"
   },
   {
    "duration": 5,
    "start_time": "2022-02-19T17:05:48.757Z"
   },
   {
    "duration": 14,
    "start_time": "2022-02-19T17:05:48.763Z"
   },
   {
    "duration": 42,
    "start_time": "2022-02-19T17:05:48.779Z"
   },
   {
    "duration": 3,
    "start_time": "2022-02-19T17:05:48.823Z"
   },
   {
    "duration": 13,
    "start_time": "2022-02-19T17:05:48.828Z"
   },
   {
    "duration": 19,
    "start_time": "2022-02-19T17:05:48.843Z"
   },
   {
    "duration": 15,
    "start_time": "2022-02-19T17:05:48.864Z"
   },
   {
    "duration": 5,
    "start_time": "2022-02-19T17:05:48.881Z"
   },
   {
    "duration": 11,
    "start_time": "2022-02-19T17:05:48.888Z"
   },
   {
    "duration": 27,
    "start_time": "2022-02-19T17:05:48.902Z"
   },
   {
    "duration": 19,
    "start_time": "2022-02-19T17:05:48.936Z"
   },
   {
    "duration": 6,
    "start_time": "2022-02-19T17:05:48.957Z"
   },
   {
    "duration": 8,
    "start_time": "2022-02-19T17:05:48.965Z"
   },
   {
    "duration": 14,
    "start_time": "2022-02-19T17:05:48.975Z"
   },
   {
    "duration": 8,
    "start_time": "2022-02-19T17:05:48.991Z"
   },
   {
    "duration": 14,
    "start_time": "2022-02-19T17:05:49.019Z"
   },
   {
    "duration": 354,
    "start_time": "2022-02-19T17:05:49.035Z"
   },
   {
    "duration": -688,
    "start_time": "2022-02-19T17:05:50.079Z"
   },
   {
    "duration": 21,
    "start_time": "2022-02-19T17:06:08.965Z"
   },
   {
    "duration": 253,
    "start_time": "2022-02-19T17:09:39.673Z"
   },
   {
    "duration": 6843,
    "start_time": "2022-02-19T17:10:16.507Z"
   },
   {
    "duration": 6635,
    "start_time": "2022-02-19T17:11:06.358Z"
   },
   {
    "duration": 5,
    "start_time": "2022-02-19T17:21:10.598Z"
   },
   {
    "duration": 5,
    "start_time": "2022-02-19T17:21:30.527Z"
   },
   {
    "duration": 6,
    "start_time": "2022-02-19T17:23:22.852Z"
   },
   {
    "duration": 5,
    "start_time": "2022-02-19T17:23:24.429Z"
   },
   {
    "duration": 6,
    "start_time": "2022-02-19T17:24:21.515Z"
   },
   {
    "duration": 4,
    "start_time": "2022-02-19T17:24:35.662Z"
   },
   {
    "duration": 5,
    "start_time": "2022-02-19T17:25:55.885Z"
   },
   {
    "duration": 9,
    "start_time": "2022-02-19T17:26:19.001Z"
   },
   {
    "duration": 6,
    "start_time": "2022-02-19T17:26:45.867Z"
   },
   {
    "duration": 5,
    "start_time": "2022-02-19T17:27:05.360Z"
   },
   {
    "duration": 6881,
    "start_time": "2022-02-19T17:28:12.362Z"
   },
   {
    "duration": 705,
    "start_time": "2022-02-19T17:36:57.028Z"
   },
   {
    "duration": 257,
    "start_time": "2022-02-19T17:37:36.755Z"
   },
   {
    "duration": 3,
    "start_time": "2022-02-19T17:38:31.587Z"
   },
   {
    "duration": 17,
    "start_time": "2022-02-19T17:38:58.456Z"
   },
   {
    "duration": 9,
    "start_time": "2022-02-19T17:39:25.472Z"
   },
   {
    "duration": 258,
    "start_time": "2022-02-19T17:40:39.854Z"
   },
   {
    "duration": 271,
    "start_time": "2022-02-19T17:40:53.814Z"
   },
   {
    "duration": 454,
    "start_time": "2022-02-19T17:41:00.865Z"
   },
   {
    "duration": 17,
    "start_time": "2022-02-19T17:41:36.905Z"
   },
   {
    "duration": 10,
    "start_time": "2022-02-19T17:42:21.602Z"
   },
   {
    "duration": 4,
    "start_time": "2022-02-19T17:42:34.366Z"
   },
   {
    "duration": 11,
    "start_time": "2022-02-19T17:42:37.716Z"
   },
   {
    "duration": 14,
    "start_time": "2022-02-19T17:43:07.788Z"
   },
   {
    "duration": 22,
    "start_time": "2022-02-19T17:43:22.727Z"
   },
   {
    "duration": 12,
    "start_time": "2022-02-19T17:44:45.859Z"
   },
   {
    "duration": 6718,
    "start_time": "2022-02-19T17:45:55.546Z"
   },
   {
    "duration": 9,
    "start_time": "2022-02-19T17:51:28.643Z"
   },
   {
    "duration": 270,
    "start_time": "2022-02-19T18:00:10.702Z"
   },
   {
    "duration": 19,
    "start_time": "2022-02-19T18:01:03.410Z"
   },
   {
    "duration": 9,
    "start_time": "2022-02-19T18:02:17.793Z"
   },
   {
    "duration": 304,
    "start_time": "2022-02-19T18:14:25.455Z"
   },
   {
    "duration": 253,
    "start_time": "2022-02-19T18:17:14.345Z"
   },
   {
    "duration": 302,
    "start_time": "2022-02-19T18:17:24.942Z"
   },
   {
    "duration": 255,
    "start_time": "2022-02-19T18:17:41.984Z"
   },
   {
    "duration": 1489,
    "start_time": "2022-02-19T18:20:25.007Z"
   },
   {
    "duration": -628,
    "start_time": "2022-02-19T18:20:27.126Z"
   },
   {
    "duration": 882,
    "start_time": "2022-02-19T18:22:37.918Z"
   },
   {
    "duration": 269,
    "start_time": "2022-02-19T18:22:38.990Z"
   },
   {
    "duration": 17,
    "start_time": "2022-02-19T18:29:49.774Z"
   },
   {
    "duration": 244,
    "start_time": "2022-02-19T18:29:57.540Z"
   },
   {
    "duration": 9,
    "start_time": "2022-02-19T18:30:22.963Z"
   },
   {
    "duration": 1823,
    "start_time": "2022-02-19T18:31:34.691Z"
   },
   {
    "duration": 1853,
    "start_time": "2022-02-19T18:32:02.739Z"
   },
   {
    "duration": 3,
    "start_time": "2022-02-19T18:34:47.247Z"
   },
   {
    "duration": 271,
    "start_time": "2022-02-19T18:35:10.052Z"
   },
   {
    "duration": 3569,
    "start_time": "2022-02-19T18:35:31.851Z"
   },
   {
    "duration": 3753,
    "start_time": "2022-02-19T18:36:20.690Z"
   },
   {
    "duration": 264,
    "start_time": "2022-02-19T18:36:37.327Z"
   },
   {
    "duration": 3662,
    "start_time": "2022-02-19T18:37:00.387Z"
   },
   {
    "duration": 6,
    "start_time": "2022-02-19T18:38:01.996Z"
   },
   {
    "duration": 355,
    "start_time": "2022-02-19T18:40:42.759Z"
   },
   {
    "duration": 20,
    "start_time": "2022-02-19T18:41:27.464Z"
   },
   {
    "duration": 64,
    "start_time": "2022-02-19T18:43:39.074Z"
   },
   {
    "duration": 8,
    "start_time": "2022-02-19T18:43:40.360Z"
   },
   {
    "duration": 17,
    "start_time": "2022-02-19T18:43:54.804Z"
   },
   {
    "duration": 9,
    "start_time": "2022-02-19T18:43:56.435Z"
   },
   {
    "duration": 701,
    "start_time": "2022-02-19T18:44:10.915Z"
   },
   {
    "duration": 284,
    "start_time": "2022-02-19T18:44:11.618Z"
   },
   {
    "duration": 20,
    "start_time": "2022-02-19T18:44:11.905Z"
   },
   {
    "duration": 13,
    "start_time": "2022-02-19T18:44:11.927Z"
   },
   {
    "duration": 12,
    "start_time": "2022-02-19T18:44:11.942Z"
   },
   {
    "duration": 13,
    "start_time": "2022-02-19T18:44:11.956Z"
   },
   {
    "duration": 13,
    "start_time": "2022-02-19T18:44:11.971Z"
   },
   {
    "duration": 9,
    "start_time": "2022-02-19T18:44:11.987Z"
   },
   {
    "duration": 28,
    "start_time": "2022-02-19T18:44:12.019Z"
   },
   {
    "duration": 10,
    "start_time": "2022-02-19T18:44:12.048Z"
   },
   {
    "duration": 10,
    "start_time": "2022-02-19T18:44:12.060Z"
   },
   {
    "duration": 21,
    "start_time": "2022-02-19T18:44:12.072Z"
   },
   {
    "duration": 28,
    "start_time": "2022-02-19T18:44:12.095Z"
   },
   {
    "duration": 14,
    "start_time": "2022-02-19T18:44:12.124Z"
   },
   {
    "duration": 11,
    "start_time": "2022-02-19T18:44:12.140Z"
   },
   {
    "duration": 10,
    "start_time": "2022-02-19T18:44:12.153Z"
   },
   {
    "duration": 13,
    "start_time": "2022-02-19T18:44:12.165Z"
   },
   {
    "duration": 5,
    "start_time": "2022-02-19T18:44:12.180Z"
   },
   {
    "duration": 34,
    "start_time": "2022-02-19T18:44:12.186Z"
   },
   {
    "duration": 9,
    "start_time": "2022-02-19T18:44:12.222Z"
   },
   {
    "duration": 10,
    "start_time": "2022-02-19T18:44:12.232Z"
   },
   {
    "duration": 9,
    "start_time": "2022-02-19T18:44:12.244Z"
   },
   {
    "duration": 6,
    "start_time": "2022-02-19T18:44:12.258Z"
   },
   {
    "duration": 6,
    "start_time": "2022-02-19T18:44:12.266Z"
   },
   {
    "duration": 8,
    "start_time": "2022-02-19T18:44:12.274Z"
   },
   {
    "duration": 8,
    "start_time": "2022-02-19T18:44:12.284Z"
   },
   {
    "duration": 6,
    "start_time": "2022-02-19T18:44:12.319Z"
   },
   {
    "duration": 9,
    "start_time": "2022-02-19T18:44:12.327Z"
   },
   {
    "duration": 20,
    "start_time": "2022-02-19T18:44:12.339Z"
   },
   {
    "duration": 24,
    "start_time": "2022-02-19T18:44:12.361Z"
   },
   {
    "duration": 49,
    "start_time": "2022-02-19T18:44:12.387Z"
   },
   {
    "duration": 12,
    "start_time": "2022-02-19T18:44:12.438Z"
   },
   {
    "duration": 13,
    "start_time": "2022-02-19T18:44:12.452Z"
   },
   {
    "duration": 13,
    "start_time": "2022-02-19T18:44:12.466Z"
   },
   {
    "duration": 38,
    "start_time": "2022-02-19T18:44:12.481Z"
   },
   {
    "duration": 4,
    "start_time": "2022-02-19T18:44:12.521Z"
   },
   {
    "duration": 6,
    "start_time": "2022-02-19T18:44:12.526Z"
   },
   {
    "duration": 22,
    "start_time": "2022-02-19T18:44:12.534Z"
   },
   {
    "duration": 84,
    "start_time": "2022-02-19T18:44:12.557Z"
   },
   {
    "duration": 10,
    "start_time": "2022-02-19T18:44:12.643Z"
   },
   {
    "duration": 14,
    "start_time": "2022-02-19T18:44:12.654Z"
   },
   {
    "duration": 16,
    "start_time": "2022-02-19T18:44:12.670Z"
   },
   {
    "duration": 8,
    "start_time": "2022-02-19T18:44:12.688Z"
   },
   {
    "duration": 5,
    "start_time": "2022-02-19T18:44:12.719Z"
   },
   {
    "duration": 17,
    "start_time": "2022-02-19T18:44:12.726Z"
   },
   {
    "duration": 20,
    "start_time": "2022-02-19T18:44:12.745Z"
   },
   {
    "duration": 9,
    "start_time": "2022-02-19T18:44:12.767Z"
   },
   {
    "duration": 12,
    "start_time": "2022-02-19T18:44:12.778Z"
   },
   {
    "duration": 27,
    "start_time": "2022-02-19T18:44:12.792Z"
   },
   {
    "duration": 11,
    "start_time": "2022-02-19T18:44:12.821Z"
   },
   {
    "duration": 8,
    "start_time": "2022-02-19T18:44:12.834Z"
   },
   {
    "duration": 16,
    "start_time": "2022-02-19T18:44:12.844Z"
   },
   {
    "duration": 22,
    "start_time": "2022-02-19T18:44:12.862Z"
   },
   {
    "duration": 86,
    "start_time": "2022-02-19T18:44:12.886Z"
   },
   {
    "duration": 15,
    "start_time": "2022-02-19T18:44:12.974Z"
   },
   {
    "duration": 7,
    "start_time": "2022-02-19T18:44:12.991Z"
   },
   {
    "duration": 24,
    "start_time": "2022-02-19T18:44:13.000Z"
   },
   {
    "duration": 21,
    "start_time": "2022-02-19T18:44:13.026Z"
   },
   {
    "duration": 11,
    "start_time": "2022-02-19T18:44:13.049Z"
   },
   {
    "duration": 13,
    "start_time": "2022-02-19T18:44:13.062Z"
   },
   {
    "duration": 48,
    "start_time": "2022-02-19T18:44:13.077Z"
   },
   {
    "duration": 4,
    "start_time": "2022-02-19T18:44:13.127Z"
   },
   {
    "duration": 8,
    "start_time": "2022-02-19T18:44:13.133Z"
   },
   {
    "duration": 15,
    "start_time": "2022-02-19T18:44:13.143Z"
   },
   {
    "duration": 10,
    "start_time": "2022-02-19T18:44:13.160Z"
   },
   {
    "duration": 10,
    "start_time": "2022-02-19T18:44:13.172Z"
   },
   {
    "duration": 61,
    "start_time": "2022-02-19T18:44:13.184Z"
   },
   {
    "duration": 5,
    "start_time": "2022-02-19T18:44:13.251Z"
   },
   {
    "duration": 14,
    "start_time": "2022-02-19T18:44:13.259Z"
   },
   {
    "duration": 44,
    "start_time": "2022-02-19T18:44:13.274Z"
   },
   {
    "duration": 4,
    "start_time": "2022-02-19T18:44:13.320Z"
   },
   {
    "duration": 14,
    "start_time": "2022-02-19T18:44:13.326Z"
   },
   {
    "duration": 14,
    "start_time": "2022-02-19T18:44:13.342Z"
   },
   {
    "duration": 13,
    "start_time": "2022-02-19T18:44:13.358Z"
   },
   {
    "duration": 5,
    "start_time": "2022-02-19T18:44:13.373Z"
   },
   {
    "duration": 13,
    "start_time": "2022-02-19T18:44:13.380Z"
   },
   {
    "duration": 32,
    "start_time": "2022-02-19T18:44:13.394Z"
   },
   {
    "duration": 10,
    "start_time": "2022-02-19T18:44:13.428Z"
   },
   {
    "duration": 4,
    "start_time": "2022-02-19T18:44:13.440Z"
   },
   {
    "duration": 8,
    "start_time": "2022-02-19T18:44:13.447Z"
   },
   {
    "duration": 21,
    "start_time": "2022-02-19T18:44:13.457Z"
   },
   {
    "duration": 40,
    "start_time": "2022-02-19T18:44:13.480Z"
   },
   {
    "duration": 10,
    "start_time": "2022-02-19T18:44:13.521Z"
   },
   {
    "duration": 4,
    "start_time": "2022-02-19T18:44:13.533Z"
   },
   {
    "duration": 21,
    "start_time": "2022-02-19T18:44:13.539Z"
   },
   {
    "duration": 25,
    "start_time": "2022-02-19T18:44:13.562Z"
   },
   {
    "duration": 39,
    "start_time": "2022-02-19T18:44:13.589Z"
   },
   {
    "duration": 9,
    "start_time": "2022-02-19T18:44:13.630Z"
   },
   {
    "duration": 2463,
    "start_time": "2022-02-19T18:44:13.641Z"
   },
   {
    "duration": 725,
    "start_time": "2022-02-19T18:48:08.204Z"
   },
   {
    "duration": 281,
    "start_time": "2022-02-19T18:48:08.931Z"
   },
   {
    "duration": 12,
    "start_time": "2022-02-19T18:48:09.214Z"
   },
   {
    "duration": 7,
    "start_time": "2022-02-19T18:48:09.229Z"
   },
   {
    "duration": 8,
    "start_time": "2022-02-19T18:48:09.237Z"
   },
   {
    "duration": 13,
    "start_time": "2022-02-19T18:48:09.247Z"
   },
   {
    "duration": 16,
    "start_time": "2022-02-19T18:48:09.261Z"
   },
   {
    "duration": 9,
    "start_time": "2022-02-19T18:48:09.279Z"
   },
   {
    "duration": 49,
    "start_time": "2022-02-19T18:48:09.291Z"
   },
   {
    "duration": 10,
    "start_time": "2022-02-19T18:48:09.342Z"
   },
   {
    "duration": 8,
    "start_time": "2022-02-19T18:48:09.353Z"
   },
   {
    "duration": 16,
    "start_time": "2022-02-19T18:48:09.363Z"
   },
   {
    "duration": 7,
    "start_time": "2022-02-19T18:48:09.381Z"
   },
   {
    "duration": 31,
    "start_time": "2022-02-19T18:48:09.390Z"
   },
   {
    "duration": 7,
    "start_time": "2022-02-19T18:48:09.422Z"
   },
   {
    "duration": 10,
    "start_time": "2022-02-19T18:48:09.430Z"
   },
   {
    "duration": 14,
    "start_time": "2022-02-19T18:48:09.442Z"
   },
   {
    "duration": 7,
    "start_time": "2022-02-19T18:48:09.457Z"
   },
   {
    "duration": 7,
    "start_time": "2022-02-19T18:48:09.466Z"
   },
   {
    "duration": 10,
    "start_time": "2022-02-19T18:48:09.474Z"
   },
   {
    "duration": 36,
    "start_time": "2022-02-19T18:48:09.485Z"
   },
   {
    "duration": 7,
    "start_time": "2022-02-19T18:48:09.523Z"
   },
   {
    "duration": 9,
    "start_time": "2022-02-19T18:48:09.534Z"
   },
   {
    "duration": 5,
    "start_time": "2022-02-19T18:48:09.546Z"
   },
   {
    "duration": 9,
    "start_time": "2022-02-19T18:48:09.553Z"
   },
   {
    "duration": 11,
    "start_time": "2022-02-19T18:48:09.564Z"
   },
   {
    "duration": 8,
    "start_time": "2022-02-19T18:48:09.577Z"
   },
   {
    "duration": 14,
    "start_time": "2022-02-19T18:48:09.618Z"
   },
   {
    "duration": 18,
    "start_time": "2022-02-19T18:48:09.633Z"
   },
   {
    "duration": 23,
    "start_time": "2022-02-19T18:48:09.653Z"
   },
   {
    "duration": 42,
    "start_time": "2022-02-19T18:48:09.679Z"
   },
   {
    "duration": 14,
    "start_time": "2022-02-19T18:48:09.722Z"
   },
   {
    "duration": 15,
    "start_time": "2022-02-19T18:48:09.739Z"
   },
   {
    "duration": 13,
    "start_time": "2022-02-19T18:48:09.756Z"
   },
   {
    "duration": 17,
    "start_time": "2022-02-19T18:48:09.771Z"
   },
   {
    "duration": 30,
    "start_time": "2022-02-19T18:48:09.790Z"
   },
   {
    "duration": 4,
    "start_time": "2022-02-19T18:48:09.822Z"
   },
   {
    "duration": 23,
    "start_time": "2022-02-19T18:48:09.828Z"
   },
   {
    "duration": 81,
    "start_time": "2022-02-19T18:48:09.853Z"
   },
   {
    "duration": 9,
    "start_time": "2022-02-19T18:48:09.935Z"
   },
   {
    "duration": 17,
    "start_time": "2022-02-19T18:48:09.946Z"
   },
   {
    "duration": 13,
    "start_time": "2022-02-19T18:48:09.965Z"
   },
   {
    "duration": 7,
    "start_time": "2022-02-19T18:48:09.980Z"
   },
   {
    "duration": 32,
    "start_time": "2022-02-19T18:48:09.988Z"
   },
   {
    "duration": 21,
    "start_time": "2022-02-19T18:48:10.022Z"
   },
   {
    "duration": 16,
    "start_time": "2022-02-19T18:48:10.045Z"
   },
   {
    "duration": 10,
    "start_time": "2022-02-19T18:48:10.063Z"
   },
   {
    "duration": 5,
    "start_time": "2022-02-19T18:48:10.074Z"
   },
   {
    "duration": 6,
    "start_time": "2022-02-19T18:48:10.080Z"
   },
   {
    "duration": 40,
    "start_time": "2022-02-19T18:48:10.088Z"
   },
   {
    "duration": 9,
    "start_time": "2022-02-19T18:48:10.130Z"
   },
   {
    "duration": 18,
    "start_time": "2022-02-19T18:48:10.141Z"
   },
   {
    "duration": 22,
    "start_time": "2022-02-19T18:48:10.160Z"
   },
   {
    "duration": 78,
    "start_time": "2022-02-19T18:48:10.184Z"
   },
   {
    "duration": 13,
    "start_time": "2022-02-19T18:48:10.264Z"
   },
   {
    "duration": 7,
    "start_time": "2022-02-19T18:48:10.279Z"
   },
   {
    "duration": 35,
    "start_time": "2022-02-19T18:48:10.287Z"
   },
   {
    "duration": 19,
    "start_time": "2022-02-19T18:48:10.324Z"
   },
   {
    "duration": 11,
    "start_time": "2022-02-19T18:48:10.345Z"
   },
   {
    "duration": 14,
    "start_time": "2022-02-19T18:48:10.358Z"
   },
   {
    "duration": 15,
    "start_time": "2022-02-19T18:48:10.374Z"
   },
   {
    "duration": 5,
    "start_time": "2022-02-19T18:48:10.419Z"
   },
   {
    "duration": 15,
    "start_time": "2022-02-19T18:48:10.425Z"
   },
   {
    "duration": 22,
    "start_time": "2022-02-19T18:48:10.442Z"
   },
   {
    "duration": 9,
    "start_time": "2022-02-19T18:48:10.466Z"
   },
   {
    "duration": 12,
    "start_time": "2022-02-19T18:48:10.477Z"
   },
   {
    "duration": 48,
    "start_time": "2022-02-19T18:48:10.490Z"
   },
   {
    "duration": 5,
    "start_time": "2022-02-19T18:48:10.543Z"
   },
   {
    "duration": 13,
    "start_time": "2022-02-19T18:48:10.550Z"
   },
   {
    "duration": 27,
    "start_time": "2022-02-19T18:48:10.565Z"
   },
   {
    "duration": 4,
    "start_time": "2022-02-19T18:48:10.594Z"
   },
   {
    "duration": 24,
    "start_time": "2022-02-19T18:48:10.600Z"
   },
   {
    "duration": 11,
    "start_time": "2022-02-19T18:48:10.625Z"
   },
   {
    "duration": 15,
    "start_time": "2022-02-19T18:48:10.637Z"
   },
   {
    "duration": 6,
    "start_time": "2022-02-19T18:48:10.653Z"
   },
   {
    "duration": 13,
    "start_time": "2022-02-19T18:48:10.661Z"
   },
   {
    "duration": 47,
    "start_time": "2022-02-19T18:48:10.676Z"
   },
   {
    "duration": 9,
    "start_time": "2022-02-19T18:48:10.725Z"
   },
   {
    "duration": 6,
    "start_time": "2022-02-19T18:48:10.735Z"
   },
   {
    "duration": 8,
    "start_time": "2022-02-19T18:48:10.742Z"
   },
   {
    "duration": 21,
    "start_time": "2022-02-19T18:48:10.752Z"
   },
   {
    "duration": 9,
    "start_time": "2022-02-19T18:48:10.774Z"
   },
   {
    "duration": 34,
    "start_time": "2022-02-19T18:48:10.784Z"
   },
   {
    "duration": 3,
    "start_time": "2022-02-19T18:48:10.820Z"
   },
   {
    "duration": 15,
    "start_time": "2022-02-19T18:48:10.824Z"
   },
   {
    "duration": 23,
    "start_time": "2022-02-19T18:48:10.841Z"
   },
   {
    "duration": 18,
    "start_time": "2022-02-19T18:48:10.867Z"
   },
   {
    "duration": 35,
    "start_time": "2022-02-19T18:48:10.887Z"
   },
   {
    "duration": 2289,
    "start_time": "2022-02-19T18:48:10.924Z"
   },
   {
    "duration": 9,
    "start_time": "2022-02-19T18:49:16.064Z"
   },
   {
    "duration": 18,
    "start_time": "2022-02-19T18:49:46.923Z"
   },
   {
    "duration": 9,
    "start_time": "2022-02-19T18:49:49.748Z"
   },
   {
    "duration": 2225,
    "start_time": "2022-02-19T18:50:17.884Z"
   },
   {
    "duration": 4,
    "start_time": "2022-02-19T18:50:48.289Z"
   },
   {
    "duration": 3381,
    "start_time": "2022-02-19T18:51:23.533Z"
   },
   {
    "duration": 3740,
    "start_time": "2022-02-19T18:52:09.716Z"
   },
   {
    "duration": 747,
    "start_time": "2022-02-19T18:54:05.760Z"
   },
   {
    "duration": 362,
    "start_time": "2022-02-19T18:54:06.509Z"
   },
   {
    "duration": 13,
    "start_time": "2022-02-19T18:54:06.874Z"
   },
   {
    "duration": 9,
    "start_time": "2022-02-19T18:54:06.889Z"
   },
   {
    "duration": 20,
    "start_time": "2022-02-19T18:54:06.899Z"
   },
   {
    "duration": 12,
    "start_time": "2022-02-19T18:54:06.921Z"
   },
   {
    "duration": 9,
    "start_time": "2022-02-19T18:54:06.935Z"
   },
   {
    "duration": 8,
    "start_time": "2022-02-19T18:54:06.946Z"
   },
   {
    "duration": 26,
    "start_time": "2022-02-19T18:54:06.956Z"
   },
   {
    "duration": 35,
    "start_time": "2022-02-19T18:54:06.984Z"
   },
   {
    "duration": 8,
    "start_time": "2022-02-19T18:54:07.021Z"
   },
   {
    "duration": 17,
    "start_time": "2022-02-19T18:54:07.031Z"
   },
   {
    "duration": 5,
    "start_time": "2022-02-19T18:54:07.050Z"
   },
   {
    "duration": 11,
    "start_time": "2022-02-19T18:54:07.057Z"
   },
   {
    "duration": 8,
    "start_time": "2022-02-19T18:54:07.069Z"
   },
   {
    "duration": 8,
    "start_time": "2022-02-19T18:54:07.078Z"
   },
   {
    "duration": 43,
    "start_time": "2022-02-19T18:54:07.088Z"
   },
   {
    "duration": 9,
    "start_time": "2022-02-19T18:54:07.132Z"
   },
   {
    "duration": 10,
    "start_time": "2022-02-19T18:54:07.142Z"
   },
   {
    "duration": 12,
    "start_time": "2022-02-19T18:54:07.153Z"
   },
   {
    "duration": 6,
    "start_time": "2022-02-19T18:54:07.166Z"
   },
   {
    "duration": 7,
    "start_time": "2022-02-19T18:54:07.174Z"
   },
   {
    "duration": 3,
    "start_time": "2022-02-19T18:54:07.186Z"
   },
   {
    "duration": 4,
    "start_time": "2022-02-19T18:54:07.219Z"
   },
   {
    "duration": 8,
    "start_time": "2022-02-19T18:54:07.225Z"
   },
   {
    "duration": 10,
    "start_time": "2022-02-19T18:54:07.235Z"
   },
   {
    "duration": 8,
    "start_time": "2022-02-19T18:54:07.247Z"
   },
   {
    "duration": 10,
    "start_time": "2022-02-19T18:54:07.257Z"
   },
   {
    "duration": 17,
    "start_time": "2022-02-19T18:54:07.268Z"
   },
   {
    "duration": 45,
    "start_time": "2022-02-19T18:54:07.287Z"
   },
   {
    "duration": 22,
    "start_time": "2022-02-19T18:54:07.334Z"
   },
   {
    "duration": 13,
    "start_time": "2022-02-19T18:54:07.357Z"
   },
   {
    "duration": 11,
    "start_time": "2022-02-19T18:54:07.371Z"
   },
   {
    "duration": 42,
    "start_time": "2022-02-19T18:54:07.384Z"
   },
   {
    "duration": 13,
    "start_time": "2022-02-19T18:54:07.428Z"
   },
   {
    "duration": 4,
    "start_time": "2022-02-19T18:54:07.442Z"
   },
   {
    "duration": 6,
    "start_time": "2022-02-19T18:54:07.448Z"
   },
   {
    "duration": 18,
    "start_time": "2022-02-19T18:54:07.456Z"
   },
   {
    "duration": 101,
    "start_time": "2022-02-19T18:54:07.475Z"
   },
   {
    "duration": 10,
    "start_time": "2022-02-19T18:54:07.577Z"
   },
   {
    "duration": 29,
    "start_time": "2022-02-19T18:54:07.589Z"
   },
   {
    "duration": 14,
    "start_time": "2022-02-19T18:54:07.620Z"
   },
   {
    "duration": 8,
    "start_time": "2022-02-19T18:54:07.636Z"
   },
   {
    "duration": 7,
    "start_time": "2022-02-19T18:54:07.645Z"
   },
   {
    "duration": 13,
    "start_time": "2022-02-19T18:54:07.653Z"
   },
   {
    "duration": 16,
    "start_time": "2022-02-19T18:54:07.668Z"
   },
   {
    "duration": 40,
    "start_time": "2022-02-19T18:54:07.686Z"
   },
   {
    "duration": 5,
    "start_time": "2022-02-19T18:54:07.728Z"
   },
   {
    "duration": 6,
    "start_time": "2022-02-19T18:54:07.735Z"
   },
   {
    "duration": 12,
    "start_time": "2022-02-19T18:54:07.742Z"
   },
   {
    "duration": 8,
    "start_time": "2022-02-19T18:54:07.756Z"
   },
   {
    "duration": 14,
    "start_time": "2022-02-19T18:54:07.766Z"
   },
   {
    "duration": 55,
    "start_time": "2022-02-19T18:54:07.782Z"
   },
   {
    "duration": 52,
    "start_time": "2022-02-19T18:54:07.839Z"
   },
   {
    "duration": 31,
    "start_time": "2022-02-19T18:54:07.893Z"
   },
   {
    "duration": 6,
    "start_time": "2022-02-19T18:54:07.926Z"
   },
   {
    "duration": 9,
    "start_time": "2022-02-19T18:54:07.934Z"
   },
   {
    "duration": 24,
    "start_time": "2022-02-19T18:54:07.945Z"
   },
   {
    "duration": 13,
    "start_time": "2022-02-19T18:54:07.970Z"
   },
   {
    "duration": 43,
    "start_time": "2022-02-19T18:54:07.985Z"
   },
   {
    "duration": 13,
    "start_time": "2022-02-19T18:54:08.030Z"
   },
   {
    "duration": 4,
    "start_time": "2022-02-19T18:54:08.045Z"
   },
   {
    "duration": 5,
    "start_time": "2022-02-19T18:54:08.051Z"
   },
   {
    "duration": 16,
    "start_time": "2022-02-19T18:54:08.057Z"
   },
   {
    "duration": 9,
    "start_time": "2022-02-19T18:54:08.075Z"
   },
   {
    "duration": 9,
    "start_time": "2022-02-19T18:54:08.119Z"
   },
   {
    "duration": 33,
    "start_time": "2022-02-19T18:54:08.130Z"
   },
   {
    "duration": 4,
    "start_time": "2022-02-19T18:54:08.168Z"
   },
   {
    "duration": 11,
    "start_time": "2022-02-19T18:54:08.174Z"
   },
   {
    "duration": 44,
    "start_time": "2022-02-19T18:54:08.187Z"
   },
   {
    "duration": 3,
    "start_time": "2022-02-19T18:54:08.233Z"
   },
   {
    "duration": 9,
    "start_time": "2022-02-19T18:54:08.238Z"
   },
   {
    "duration": 11,
    "start_time": "2022-02-19T18:54:08.249Z"
   },
   {
    "duration": 14,
    "start_time": "2022-02-19T18:54:08.262Z"
   },
   {
    "duration": 6,
    "start_time": "2022-02-19T18:54:08.277Z"
   },
   {
    "duration": 38,
    "start_time": "2022-02-19T18:54:08.284Z"
   },
   {
    "duration": 10,
    "start_time": "2022-02-19T18:54:08.324Z"
   },
   {
    "duration": 8,
    "start_time": "2022-02-19T18:54:08.336Z"
   },
   {
    "duration": 12,
    "start_time": "2022-02-19T18:54:08.346Z"
   },
   {
    "duration": 9,
    "start_time": "2022-02-19T18:54:08.359Z"
   },
   {
    "duration": 20,
    "start_time": "2022-02-19T18:54:08.370Z"
   },
   {
    "duration": 27,
    "start_time": "2022-02-19T18:54:08.392Z"
   },
   {
    "duration": 10,
    "start_time": "2022-02-19T18:54:08.421Z"
   },
   {
    "duration": 5,
    "start_time": "2022-02-19T18:54:08.432Z"
   },
   {
    "duration": 17,
    "start_time": "2022-02-19T18:54:08.438Z"
   },
   {
    "duration": 19,
    "start_time": "2022-02-19T18:54:08.457Z"
   },
   {
    "duration": 50,
    "start_time": "2022-02-19T18:54:08.478Z"
   },
   {
    "duration": 8,
    "start_time": "2022-02-19T18:54:08.529Z"
   },
   {
    "duration": 95,
    "start_time": "2022-02-19T18:55:21.436Z"
   },
   {
    "duration": 4,
    "start_time": "2022-02-19T18:55:28.259Z"
   },
   {
    "duration": 9,
    "start_time": "2022-02-19T18:55:40.188Z"
   },
   {
    "duration": 9,
    "start_time": "2022-02-19T19:02:28.022Z"
   },
   {
    "duration": 10,
    "start_time": "2022-02-19T19:02:56.260Z"
   },
   {
    "duration": 408,
    "start_time": "2022-02-19T19:10:21.792Z"
   },
   {
    "duration": 309,
    "start_time": "2022-02-19T19:11:44.184Z"
   },
   {
    "duration": 26,
    "start_time": "2022-02-19T19:13:42.564Z"
   },
   {
    "duration": 6,
    "start_time": "2022-02-19T19:13:44.381Z"
   },
   {
    "duration": 745,
    "start_time": "2022-02-19T19:14:10.591Z"
   },
   {
    "duration": 286,
    "start_time": "2022-02-19T19:14:11.338Z"
   },
   {
    "duration": 13,
    "start_time": "2022-02-19T19:14:11.627Z"
   },
   {
    "duration": 9,
    "start_time": "2022-02-19T19:14:11.642Z"
   },
   {
    "duration": 10,
    "start_time": "2022-02-19T19:14:11.652Z"
   },
   {
    "duration": 22,
    "start_time": "2022-02-19T19:14:11.664Z"
   },
   {
    "duration": 9,
    "start_time": "2022-02-19T19:14:11.688Z"
   },
   {
    "duration": 23,
    "start_time": "2022-02-19T19:14:11.699Z"
   },
   {
    "duration": 28,
    "start_time": "2022-02-19T19:14:11.725Z"
   },
   {
    "duration": 9,
    "start_time": "2022-02-19T19:14:11.755Z"
   },
   {
    "duration": 8,
    "start_time": "2022-02-19T19:14:11.766Z"
   },
   {
    "duration": 44,
    "start_time": "2022-02-19T19:14:11.776Z"
   },
   {
    "duration": 5,
    "start_time": "2022-02-19T19:14:11.822Z"
   },
   {
    "duration": 11,
    "start_time": "2022-02-19T19:14:11.829Z"
   },
   {
    "duration": 6,
    "start_time": "2022-02-19T19:14:11.842Z"
   },
   {
    "duration": 8,
    "start_time": "2022-02-19T19:14:11.850Z"
   },
   {
    "duration": 13,
    "start_time": "2022-02-19T19:14:11.860Z"
   },
   {
    "duration": 6,
    "start_time": "2022-02-19T19:14:11.875Z"
   },
   {
    "duration": 39,
    "start_time": "2022-02-19T19:14:11.883Z"
   },
   {
    "duration": 10,
    "start_time": "2022-02-19T19:14:11.924Z"
   },
   {
    "duration": 5,
    "start_time": "2022-02-19T19:14:11.936Z"
   },
   {
    "duration": 6,
    "start_time": "2022-02-19T19:14:11.943Z"
   },
   {
    "duration": 4,
    "start_time": "2022-02-19T19:14:11.953Z"
   },
   {
    "duration": 12,
    "start_time": "2022-02-19T19:14:11.959Z"
   },
   {
    "duration": 10,
    "start_time": "2022-02-19T19:14:11.973Z"
   },
   {
    "duration": 34,
    "start_time": "2022-02-19T19:14:11.984Z"
   },
   {
    "duration": 7,
    "start_time": "2022-02-19T19:14:12.020Z"
   },
   {
    "duration": 15,
    "start_time": "2022-02-19T19:14:12.029Z"
   },
   {
    "duration": 33,
    "start_time": "2022-02-19T19:14:12.046Z"
   },
   {
    "duration": 24,
    "start_time": "2022-02-19T19:14:12.081Z"
   },
   {
    "duration": 29,
    "start_time": "2022-02-19T19:14:12.107Z"
   },
   {
    "duration": 12,
    "start_time": "2022-02-19T19:14:12.138Z"
   },
   {
    "duration": 12,
    "start_time": "2022-02-19T19:14:12.153Z"
   },
   {
    "duration": 14,
    "start_time": "2022-02-19T19:14:12.167Z"
   },
   {
    "duration": 50,
    "start_time": "2022-02-19T19:14:12.183Z"
   },
   {
    "duration": 5,
    "start_time": "2022-02-19T19:14:12.235Z"
   },
   {
    "duration": 6,
    "start_time": "2022-02-19T19:14:12.242Z"
   },
   {
    "duration": 23,
    "start_time": "2022-02-19T19:14:12.250Z"
   },
   {
    "duration": 87,
    "start_time": "2022-02-19T19:14:12.275Z"
   },
   {
    "duration": 9,
    "start_time": "2022-02-19T19:14:12.364Z"
   },
   {
    "duration": 13,
    "start_time": "2022-02-19T19:14:12.375Z"
   },
   {
    "duration": 34,
    "start_time": "2022-02-19T19:14:12.390Z"
   },
   {
    "duration": 8,
    "start_time": "2022-02-19T19:14:12.427Z"
   },
   {
    "duration": 8,
    "start_time": "2022-02-19T19:14:12.436Z"
   },
   {
    "duration": 23,
    "start_time": "2022-02-19T19:14:12.446Z"
   },
   {
    "duration": 14,
    "start_time": "2022-02-19T19:14:12.471Z"
   },
   {
    "duration": 32,
    "start_time": "2022-02-19T19:14:12.487Z"
   },
   {
    "duration": 5,
    "start_time": "2022-02-19T19:14:12.521Z"
   },
   {
    "duration": 5,
    "start_time": "2022-02-19T19:14:12.529Z"
   },
   {
    "duration": 18,
    "start_time": "2022-02-19T19:14:12.536Z"
   },
   {
    "duration": 8,
    "start_time": "2022-02-19T19:14:12.556Z"
   },
   {
    "duration": 17,
    "start_time": "2022-02-19T19:14:12.567Z"
   },
   {
    "duration": 24,
    "start_time": "2022-02-19T19:14:12.626Z"
   },
   {
    "duration": 67,
    "start_time": "2022-02-19T19:14:12.653Z"
   },
   {
    "duration": 14,
    "start_time": "2022-02-19T19:14:12.721Z"
   },
   {
    "duration": 5,
    "start_time": "2022-02-19T19:14:12.737Z"
   },
   {
    "duration": 15,
    "start_time": "2022-02-19T19:14:12.744Z"
   },
   {
    "duration": 21,
    "start_time": "2022-02-19T19:14:12.761Z"
   },
   {
    "duration": 35,
    "start_time": "2022-02-19T19:14:12.783Z"
   },
   {
    "duration": 13,
    "start_time": "2022-02-19T19:14:12.820Z"
   },
   {
    "duration": 15,
    "start_time": "2022-02-19T19:14:12.835Z"
   },
   {
    "duration": 5,
    "start_time": "2022-02-19T19:14:12.852Z"
   },
   {
    "duration": 5,
    "start_time": "2022-02-19T19:14:12.859Z"
   },
   {
    "duration": 20,
    "start_time": "2022-02-19T19:14:12.866Z"
   },
   {
    "duration": 39,
    "start_time": "2022-02-19T19:14:12.887Z"
   },
   {
    "duration": 9,
    "start_time": "2022-02-19T19:14:12.928Z"
   },
   {
    "duration": 32,
    "start_time": "2022-02-19T19:14:12.939Z"
   },
   {
    "duration": 4,
    "start_time": "2022-02-19T19:14:12.977Z"
   },
   {
    "duration": 37,
    "start_time": "2022-02-19T19:14:12.984Z"
   },
   {
    "duration": 28,
    "start_time": "2022-02-19T19:14:13.023Z"
   },
   {
    "duration": 4,
    "start_time": "2022-02-19T19:14:13.053Z"
   },
   {
    "duration": 9,
    "start_time": "2022-02-19T19:14:13.059Z"
   },
   {
    "duration": 12,
    "start_time": "2022-02-19T19:14:13.070Z"
   },
   {
    "duration": 10,
    "start_time": "2022-02-19T19:14:13.084Z"
   },
   {
    "duration": 7,
    "start_time": "2022-02-19T19:14:13.119Z"
   },
   {
    "duration": 16,
    "start_time": "2022-02-19T19:14:13.128Z"
   },
   {
    "duration": 11,
    "start_time": "2022-02-19T19:14:13.146Z"
   },
   {
    "duration": 9,
    "start_time": "2022-02-19T19:14:13.159Z"
   },
   {
    "duration": 6,
    "start_time": "2022-02-19T19:14:13.169Z"
   },
   {
    "duration": 10,
    "start_time": "2022-02-19T19:14:13.176Z"
   },
   {
    "duration": 46,
    "start_time": "2022-02-19T19:14:13.188Z"
   },
   {
    "duration": 10,
    "start_time": "2022-02-19T19:14:13.236Z"
   },
   {
    "duration": 11,
    "start_time": "2022-02-19T19:14:13.248Z"
   },
   {
    "duration": 3,
    "start_time": "2022-02-19T19:14:13.260Z"
   },
   {
    "duration": 17,
    "start_time": "2022-02-19T19:14:13.265Z"
   },
   {
    "duration": 51,
    "start_time": "2022-02-19T19:14:13.283Z"
   },
   {
    "duration": 17,
    "start_time": "2022-02-19T19:14:13.335Z"
   },
   {
    "duration": 9,
    "start_time": "2022-02-19T19:14:13.354Z"
   },
   {
    "duration": 6,
    "start_time": "2022-02-19T19:14:13.365Z"
   },
   {
    "duration": 9,
    "start_time": "2022-02-19T19:14:13.372Z"
   },
   {
    "duration": 7,
    "start_time": "2022-02-19T19:14:13.383Z"
   },
   {
    "duration": 34,
    "start_time": "2022-02-19T19:14:13.391Z"
   },
   {
    "duration": 343,
    "start_time": "2022-02-19T19:14:13.427Z"
   },
   {
    "duration": 8,
    "start_time": "2022-02-19T19:15:08.934Z"
   },
   {
    "duration": 266,
    "start_time": "2022-02-19T19:15:31.196Z"
   },
   {
    "duration": 8,
    "start_time": "2022-02-19T19:18:35.946Z"
   },
   {
    "duration": 10,
    "start_time": "2022-02-19T19:19:05.777Z"
   },
   {
    "duration": 261,
    "start_time": "2022-02-19T19:19:59.130Z"
   },
   {
    "duration": 9,
    "start_time": "2022-02-19T19:20:25.162Z"
   },
   {
    "duration": 10,
    "start_time": "2022-02-19T19:20:54.250Z"
   },
   {
    "duration": 15,
    "start_time": "2022-02-19T19:20:56.114Z"
   },
   {
    "duration": 11,
    "start_time": "2022-02-19T19:22:00.069Z"
   },
   {
    "duration": 16,
    "start_time": "2022-02-19T19:22:02.600Z"
   },
   {
    "duration": 689,
    "start_time": "2022-02-19T19:22:57.928Z"
   },
   {
    "duration": 282,
    "start_time": "2022-02-19T19:22:58.619Z"
   },
   {
    "duration": 16,
    "start_time": "2022-02-19T19:22:58.903Z"
   },
   {
    "duration": 10,
    "start_time": "2022-02-19T19:22:58.921Z"
   },
   {
    "duration": 9,
    "start_time": "2022-02-19T19:22:58.933Z"
   },
   {
    "duration": 10,
    "start_time": "2022-02-19T19:22:58.944Z"
   },
   {
    "duration": 9,
    "start_time": "2022-02-19T19:22:58.955Z"
   },
   {
    "duration": 8,
    "start_time": "2022-02-19T19:22:58.967Z"
   },
   {
    "duration": 54,
    "start_time": "2022-02-19T19:22:58.977Z"
   },
   {
    "duration": 9,
    "start_time": "2022-02-19T19:22:59.033Z"
   },
   {
    "duration": 14,
    "start_time": "2022-02-19T19:22:59.044Z"
   },
   {
    "duration": 17,
    "start_time": "2022-02-19T19:22:59.060Z"
   },
   {
    "duration": 12,
    "start_time": "2022-02-19T19:22:59.078Z"
   },
   {
    "duration": 28,
    "start_time": "2022-02-19T19:22:59.091Z"
   },
   {
    "duration": 7,
    "start_time": "2022-02-19T19:22:59.121Z"
   },
   {
    "duration": 11,
    "start_time": "2022-02-19T19:22:59.130Z"
   },
   {
    "duration": 13,
    "start_time": "2022-02-19T19:22:59.143Z"
   },
   {
    "duration": 8,
    "start_time": "2022-02-19T19:22:59.158Z"
   },
   {
    "duration": 8,
    "start_time": "2022-02-19T19:22:59.167Z"
   },
   {
    "duration": 11,
    "start_time": "2022-02-19T19:22:59.177Z"
   },
   {
    "duration": 31,
    "start_time": "2022-02-19T19:22:59.190Z"
   },
   {
    "duration": 7,
    "start_time": "2022-02-19T19:22:59.223Z"
   },
   {
    "duration": 9,
    "start_time": "2022-02-19T19:22:59.235Z"
   },
   {
    "duration": 5,
    "start_time": "2022-02-19T19:22:59.248Z"
   },
   {
    "duration": 9,
    "start_time": "2022-02-19T19:22:59.255Z"
   },
   {
    "duration": 8,
    "start_time": "2022-02-19T19:22:59.265Z"
   },
   {
    "duration": 6,
    "start_time": "2022-02-19T19:22:59.275Z"
   },
   {
    "duration": 39,
    "start_time": "2022-02-19T19:22:59.283Z"
   },
   {
    "duration": 16,
    "start_time": "2022-02-19T19:22:59.324Z"
   },
   {
    "duration": 22,
    "start_time": "2022-02-19T19:22:59.342Z"
   },
   {
    "duration": 21,
    "start_time": "2022-02-19T19:22:59.366Z"
   },
   {
    "duration": 37,
    "start_time": "2022-02-19T19:22:59.389Z"
   },
   {
    "duration": 13,
    "start_time": "2022-02-19T19:22:59.427Z"
   },
   {
    "duration": 12,
    "start_time": "2022-02-19T19:22:59.441Z"
   },
   {
    "duration": 14,
    "start_time": "2022-02-19T19:22:59.455Z"
   },
   {
    "duration": 4,
    "start_time": "2022-02-19T19:22:59.470Z"
   },
   {
    "duration": 5,
    "start_time": "2022-02-19T19:22:59.476Z"
   },
   {
    "duration": 51,
    "start_time": "2022-02-19T19:22:59.483Z"
   },
   {
    "duration": 84,
    "start_time": "2022-02-19T19:22:59.536Z"
   },
   {
    "duration": 11,
    "start_time": "2022-02-19T19:22:59.622Z"
   },
   {
    "duration": 14,
    "start_time": "2022-02-19T19:22:59.635Z"
   },
   {
    "duration": 13,
    "start_time": "2022-02-19T19:22:59.651Z"
   },
   {
    "duration": 11,
    "start_time": "2022-02-19T19:22:59.666Z"
   },
   {
    "duration": 7,
    "start_time": "2022-02-19T19:22:59.679Z"
   },
   {
    "duration": 37,
    "start_time": "2022-02-19T19:22:59.688Z"
   },
   {
    "duration": 15,
    "start_time": "2022-02-19T19:22:59.727Z"
   },
   {
    "duration": 9,
    "start_time": "2022-02-19T19:22:59.743Z"
   },
   {
    "duration": 5,
    "start_time": "2022-02-19T19:22:59.753Z"
   },
   {
    "duration": 7,
    "start_time": "2022-02-19T19:22:59.759Z"
   },
   {
    "duration": 13,
    "start_time": "2022-02-19T19:22:59.767Z"
   },
   {
    "duration": 39,
    "start_time": "2022-02-19T19:22:59.781Z"
   },
   {
    "duration": 14,
    "start_time": "2022-02-19T19:22:59.822Z"
   },
   {
    "duration": 21,
    "start_time": "2022-02-19T19:22:59.838Z"
   },
   {
    "duration": 75,
    "start_time": "2022-02-19T19:22:59.861Z"
   },
   {
    "duration": 14,
    "start_time": "2022-02-19T19:22:59.938Z"
   },
   {
    "duration": 6,
    "start_time": "2022-02-19T19:22:59.954Z"
   },
   {
    "duration": 9,
    "start_time": "2022-02-19T19:22:59.962Z"
   },
   {
    "duration": 46,
    "start_time": "2022-02-19T19:22:59.973Z"
   },
   {
    "duration": 12,
    "start_time": "2022-02-19T19:23:00.021Z"
   },
   {
    "duration": 17,
    "start_time": "2022-02-19T19:23:00.035Z"
   },
   {
    "duration": 17,
    "start_time": "2022-02-19T19:23:00.054Z"
   },
   {
    "duration": 4,
    "start_time": "2022-02-19T19:23:00.074Z"
   },
   {
    "duration": 39,
    "start_time": "2022-02-19T19:23:00.080Z"
   },
   {
    "duration": 15,
    "start_time": "2022-02-19T19:23:00.121Z"
   },
   {
    "duration": 10,
    "start_time": "2022-02-19T19:23:00.138Z"
   },
   {
    "duration": 13,
    "start_time": "2022-02-19T19:23:00.150Z"
   },
   {
    "duration": 55,
    "start_time": "2022-02-19T19:23:00.165Z"
   },
   {
    "duration": 8,
    "start_time": "2022-02-19T19:23:00.225Z"
   },
   {
    "duration": 18,
    "start_time": "2022-02-19T19:23:00.235Z"
   },
   {
    "duration": 24,
    "start_time": "2022-02-19T19:23:00.255Z"
   },
   {
    "duration": 5,
    "start_time": "2022-02-19T19:23:00.281Z"
   },
   {
    "duration": 18,
    "start_time": "2022-02-19T19:23:00.287Z"
   },
   {
    "duration": 14,
    "start_time": "2022-02-19T19:23:00.320Z"
   },
   {
    "duration": 15,
    "start_time": "2022-02-19T19:23:00.336Z"
   },
   {
    "duration": 6,
    "start_time": "2022-02-19T19:23:00.353Z"
   },
   {
    "duration": 14,
    "start_time": "2022-02-19T19:23:00.361Z"
   },
   {
    "duration": 13,
    "start_time": "2022-02-19T19:23:00.377Z"
   },
   {
    "duration": 32,
    "start_time": "2022-02-19T19:23:00.391Z"
   },
   {
    "duration": 5,
    "start_time": "2022-02-19T19:23:00.425Z"
   },
   {
    "duration": 19,
    "start_time": "2022-02-19T19:23:00.432Z"
   },
   {
    "duration": 24,
    "start_time": "2022-02-19T19:23:00.453Z"
   },
   {
    "duration": 9,
    "start_time": "2022-02-19T19:23:00.479Z"
   },
   {
    "duration": 19,
    "start_time": "2022-02-19T19:23:00.490Z"
   },
   {
    "duration": 3,
    "start_time": "2022-02-19T19:23:00.518Z"
   },
   {
    "duration": 22,
    "start_time": "2022-02-19T19:23:00.523Z"
   },
   {
    "duration": 19,
    "start_time": "2022-02-19T19:23:00.547Z"
   },
   {
    "duration": 18,
    "start_time": "2022-02-19T19:23:00.568Z"
   },
   {
    "duration": 31,
    "start_time": "2022-02-19T19:23:00.588Z"
   },
   {
    "duration": 4,
    "start_time": "2022-02-19T19:23:00.621Z"
   },
   {
    "duration": 22,
    "start_time": "2022-02-19T19:23:00.627Z"
   },
   {
    "duration": 8,
    "start_time": "2022-02-19T19:23:00.650Z"
   },
   {
    "duration": 9,
    "start_time": "2022-02-19T19:23:00.660Z"
   },
   {
    "duration": 11,
    "start_time": "2022-02-19T19:23:00.670Z"
   },
   {
    "duration": 10,
    "start_time": "2022-02-19T19:23:00.682Z"
   },
   {
    "duration": 331,
    "start_time": "2022-02-19T19:23:00.693Z"
   },
   {
    "duration": 289,
    "start_time": "2022-02-19T19:24:10.260Z"
   },
   {
    "duration": 10,
    "start_time": "2022-02-19T19:26:33.515Z"
   },
   {
    "duration": 269,
    "start_time": "2022-02-19T19:27:06.412Z"
   },
   {
    "duration": 276,
    "start_time": "2022-02-19T19:27:20.870Z"
   },
   {
    "duration": 275,
    "start_time": "2022-02-19T19:29:00.375Z"
   },
   {
    "duration": 6328,
    "start_time": "2022-02-19T19:29:11.118Z"
   },
   {
    "duration": 6620,
    "start_time": "2022-02-19T19:29:41.749Z"
   },
   {
    "duration": 5,
    "start_time": "2022-02-19T19:33:14.160Z"
   },
   {
    "duration": 9,
    "start_time": "2022-02-19T19:33:29.864Z"
   },
   {
    "duration": 7,
    "start_time": "2022-02-19T19:34:31.729Z"
   },
   {
    "duration": 15,
    "start_time": "2022-02-19T19:35:22.839Z"
   },
   {
    "duration": 6,
    "start_time": "2022-02-19T19:53:55.327Z"
   },
   {
    "duration": 15,
    "start_time": "2022-02-19T19:54:43.345Z"
   },
   {
    "duration": 264,
    "start_time": "2022-02-19T19:57:08.239Z"
   },
   {
    "duration": 6761,
    "start_time": "2022-02-19T20:05:39.247Z"
   },
   {
    "duration": 6865,
    "start_time": "2022-02-19T20:06:48.569Z"
   },
   {
    "duration": 5,
    "start_time": "2022-02-19T20:39:27.351Z"
   },
   {
    "duration": 6998,
    "start_time": "2022-02-19T20:39:28.740Z"
   },
   {
    "duration": 6610,
    "start_time": "2022-02-19T20:40:05.687Z"
   },
   {
    "duration": 6,
    "start_time": "2022-02-19T20:47:00.404Z"
   },
   {
    "duration": 7165,
    "start_time": "2022-02-19T20:47:15.666Z"
   },
   {
    "duration": 6785,
    "start_time": "2022-02-19T20:47:41.656Z"
   },
   {
    "duration": 263,
    "start_time": "2022-02-19T20:49:25.327Z"
   },
   {
    "duration": 3552,
    "start_time": "2022-02-19T20:50:14.203Z"
   },
   {
    "duration": 530,
    "start_time": "2022-02-19T21:03:07.479Z"
   },
   {
    "duration": 5,
    "start_time": "2022-02-19T21:03:34.411Z"
   },
   {
    "duration": 716,
    "start_time": "2022-02-19T21:03:36.175Z"
   },
   {
    "duration": 90,
    "start_time": "2022-02-19T21:11:02.363Z"
   },
   {
    "duration": 646,
    "start_time": "2022-02-19T21:11:03.780Z"
   },
   {
    "duration": 6,
    "start_time": "2022-02-19T21:12:36.622Z"
   },
   {
    "duration": 556,
    "start_time": "2022-02-19T21:12:45.782Z"
   },
   {
    "duration": 5,
    "start_time": "2022-02-19T21:13:43.940Z"
   },
   {
    "duration": 238,
    "start_time": "2022-02-19T21:13:45.336Z"
   },
   {
    "duration": 14,
    "start_time": "2022-02-19T21:14:32.807Z"
   },
   {
    "duration": 48,
    "start_time": "2022-02-19T21:20:16.261Z"
   },
   {
    "duration": 7516,
    "start_time": "2022-02-19T21:22:19.298Z"
   },
   {
    "duration": 45,
    "start_time": "2022-02-19T21:22:40.105Z"
   },
   {
    "duration": 6,
    "start_time": "2022-02-19T21:39:33.889Z"
   },
   {
    "duration": 3,
    "start_time": "2022-02-19T21:43:22.846Z"
   },
   {
    "duration": 4,
    "start_time": "2022-02-19T21:43:58.409Z"
   },
   {
    "duration": 4,
    "start_time": "2022-02-19T21:46:15.120Z"
   },
   {
    "duration": 1658,
    "start_time": "2022-02-19T21:49:41.621Z"
   },
   {
    "duration": 1686,
    "start_time": "2022-02-19T21:51:47.783Z"
   },
   {
    "duration": 6996,
    "start_time": "2022-02-19T21:53:36.597Z"
   },
   {
    "duration": 284,
    "start_time": "2022-02-19T22:30:30.673Z"
   },
   {
    "duration": 246,
    "start_time": "2022-02-19T22:30:47.574Z"
   },
   {
    "duration": 267,
    "start_time": "2022-02-19T22:32:16.601Z"
   },
   {
    "duration": 274,
    "start_time": "2022-02-19T22:32:43.990Z"
   },
   {
    "duration": 1528,
    "start_time": "2022-02-20T07:24:18.039Z"
   },
   {
    "duration": 6,
    "start_time": "2022-02-20T07:24:23.917Z"
   },
   {
    "duration": 393,
    "start_time": "2022-02-20T07:24:23.926Z"
   },
   {
    "duration": 19,
    "start_time": "2022-02-20T07:24:24.322Z"
   },
   {
    "duration": 25,
    "start_time": "2022-02-20T07:24:24.343Z"
   },
   {
    "duration": 38,
    "start_time": "2022-02-20T07:24:24.371Z"
   },
   {
    "duration": 17,
    "start_time": "2022-02-20T07:24:24.411Z"
   },
   {
    "duration": 38,
    "start_time": "2022-02-20T07:24:24.431Z"
   },
   {
    "duration": 14,
    "start_time": "2022-02-20T07:24:24.473Z"
   },
   {
    "duration": 53,
    "start_time": "2022-02-20T07:24:24.490Z"
   },
   {
    "duration": 25,
    "start_time": "2022-02-20T07:24:24.546Z"
   },
   {
    "duration": 21,
    "start_time": "2022-02-20T07:24:24.574Z"
   },
   {
    "duration": 52,
    "start_time": "2022-02-20T07:24:24.597Z"
   },
   {
    "duration": 34,
    "start_time": "2022-02-20T07:24:24.652Z"
   },
   {
    "duration": 30,
    "start_time": "2022-02-20T07:24:24.688Z"
   },
   {
    "duration": 13,
    "start_time": "2022-02-20T07:24:24.720Z"
   },
   {
    "duration": 35,
    "start_time": "2022-02-20T07:24:24.736Z"
   },
   {
    "duration": 41,
    "start_time": "2022-02-20T07:24:24.774Z"
   },
   {
    "duration": 17,
    "start_time": "2022-02-20T07:24:24.818Z"
   },
   {
    "duration": 25,
    "start_time": "2022-02-20T07:24:24.837Z"
   },
   {
    "duration": 21,
    "start_time": "2022-02-20T07:24:24.864Z"
   },
   {
    "duration": 31,
    "start_time": "2022-02-20T07:24:24.888Z"
   },
   {
    "duration": 33,
    "start_time": "2022-02-20T07:24:24.921Z"
   },
   {
    "duration": 26,
    "start_time": "2022-02-20T07:24:24.961Z"
   },
   {
    "duration": 17,
    "start_time": "2022-02-20T07:24:24.992Z"
   },
   {
    "duration": 17,
    "start_time": "2022-02-20T07:24:25.011Z"
   },
   {
    "duration": 21,
    "start_time": "2022-02-20T07:24:25.031Z"
   },
   {
    "duration": 10,
    "start_time": "2022-02-20T07:24:25.054Z"
   },
   {
    "duration": 14,
    "start_time": "2022-02-20T07:24:25.067Z"
   },
   {
    "duration": 48,
    "start_time": "2022-02-20T07:24:25.084Z"
   },
   {
    "duration": 36,
    "start_time": "2022-02-20T07:24:25.135Z"
   },
   {
    "duration": 28,
    "start_time": "2022-02-20T07:24:25.174Z"
   },
   {
    "duration": 18,
    "start_time": "2022-02-20T07:24:25.205Z"
   },
   {
    "duration": 42,
    "start_time": "2022-02-20T07:24:25.225Z"
   },
   {
    "duration": 16,
    "start_time": "2022-02-20T07:24:25.270Z"
   },
   {
    "duration": 19,
    "start_time": "2022-02-20T07:24:25.288Z"
   },
   {
    "duration": 11,
    "start_time": "2022-02-20T07:24:25.309Z"
   },
   {
    "duration": 39,
    "start_time": "2022-02-20T07:24:25.323Z"
   },
   {
    "duration": 30,
    "start_time": "2022-02-20T07:24:25.365Z"
   },
   {
    "duration": 112,
    "start_time": "2022-02-20T07:24:25.398Z"
   },
   {
    "duration": 14,
    "start_time": "2022-02-20T07:24:25.512Z"
   },
   {
    "duration": 33,
    "start_time": "2022-02-20T07:24:25.529Z"
   },
   {
    "duration": 21,
    "start_time": "2022-02-20T07:24:25.564Z"
   },
   {
    "duration": 19,
    "start_time": "2022-02-20T07:24:25.588Z"
   },
   {
    "duration": 12,
    "start_time": "2022-02-20T07:24:25.609Z"
   },
   {
    "duration": 46,
    "start_time": "2022-02-20T07:24:25.624Z"
   },
   {
    "duration": 25,
    "start_time": "2022-02-20T07:24:25.673Z"
   },
   {
    "duration": 17,
    "start_time": "2022-02-20T07:24:25.701Z"
   },
   {
    "duration": 11,
    "start_time": "2022-02-20T07:24:25.721Z"
   },
   {
    "duration": 11,
    "start_time": "2022-02-20T07:24:25.735Z"
   },
   {
    "duration": 20,
    "start_time": "2022-02-20T07:24:25.761Z"
   },
   {
    "duration": 11,
    "start_time": "2022-02-20T07:24:25.783Z"
   },
   {
    "duration": 29,
    "start_time": "2022-02-20T07:24:25.797Z"
   },
   {
    "duration": 48,
    "start_time": "2022-02-20T07:24:25.829Z"
   },
   {
    "duration": 58,
    "start_time": "2022-02-20T07:24:25.879Z"
   },
   {
    "duration": 32,
    "start_time": "2022-02-20T07:24:25.940Z"
   },
   {
    "duration": 20,
    "start_time": "2022-02-20T07:24:25.974Z"
   },
   {
    "duration": 20,
    "start_time": "2022-02-20T07:24:25.997Z"
   },
   {
    "duration": 33,
    "start_time": "2022-02-20T07:24:26.020Z"
   },
   {
    "duration": 17,
    "start_time": "2022-02-20T07:24:26.055Z"
   },
   {
    "duration": 25,
    "start_time": "2022-02-20T07:24:26.075Z"
   },
   {
    "duration": 19,
    "start_time": "2022-02-20T07:24:26.103Z"
   },
   {
    "duration": 38,
    "start_time": "2022-02-20T07:24:26.125Z"
   },
   {
    "duration": 19,
    "start_time": "2022-02-20T07:24:26.167Z"
   },
   {
    "duration": 19,
    "start_time": "2022-02-20T07:24:26.189Z"
   },
   {
    "duration": 14,
    "start_time": "2022-02-20T07:24:26.211Z"
   },
   {
    "duration": 43,
    "start_time": "2022-02-20T07:24:26.228Z"
   },
   {
    "duration": 36,
    "start_time": "2022-02-20T07:24:26.274Z"
   },
   {
    "duration": 10,
    "start_time": "2022-02-20T07:24:26.319Z"
   },
   {
    "duration": 12,
    "start_time": "2022-02-20T07:24:26.363Z"
   },
   {
    "duration": 44,
    "start_time": "2022-02-20T07:24:26.378Z"
   },
   {
    "duration": 6,
    "start_time": "2022-02-20T07:24:26.424Z"
   },
   {
    "duration": 35,
    "start_time": "2022-02-20T07:24:26.434Z"
   },
   {
    "duration": 39,
    "start_time": "2022-02-20T07:24:26.472Z"
   },
   {
    "duration": 34,
    "start_time": "2022-02-20T07:24:26.514Z"
   },
   {
    "duration": 8,
    "start_time": "2022-02-20T07:24:26.550Z"
   },
   {
    "duration": 27,
    "start_time": "2022-02-20T07:24:26.560Z"
   },
   {
    "duration": 20,
    "start_time": "2022-02-20T07:24:26.589Z"
   },
   {
    "duration": 14,
    "start_time": "2022-02-20T07:24:26.611Z"
   },
   {
    "duration": 30,
    "start_time": "2022-02-20T07:24:26.628Z"
   },
   {
    "duration": 24,
    "start_time": "2022-02-20T07:24:26.661Z"
   },
   {
    "duration": 48,
    "start_time": "2022-02-20T07:24:26.687Z"
   },
   {
    "duration": 16,
    "start_time": "2022-02-20T07:24:26.737Z"
   },
   {
    "duration": 51,
    "start_time": "2022-02-20T07:24:26.756Z"
   },
   {
    "duration": 15,
    "start_time": "2022-02-20T07:24:26.810Z"
   },
   {
    "duration": 14,
    "start_time": "2022-02-20T07:24:26.827Z"
   },
   {
    "duration": 46,
    "start_time": "2022-02-20T07:24:26.843Z"
   },
   {
    "duration": 17,
    "start_time": "2022-02-20T07:24:26.892Z"
   },
   {
    "duration": 13,
    "start_time": "2022-02-20T07:24:26.911Z"
   },
   {
    "duration": 14,
    "start_time": "2022-02-20T07:24:26.926Z"
   },
   {
    "duration": 44,
    "start_time": "2022-02-20T07:24:26.942Z"
   },
   {
    "duration": 6,
    "start_time": "2022-02-20T07:24:26.989Z"
   },
   {
    "duration": 35,
    "start_time": "2022-02-20T07:24:26.998Z"
   },
   {
    "duration": 31,
    "start_time": "2022-02-20T07:24:27.035Z"
   },
   {
    "duration": 26,
    "start_time": "2022-02-20T07:24:27.069Z"
   },
   {
    "duration": 9,
    "start_time": "2022-02-20T07:24:27.098Z"
   },
   {
    "duration": 401,
    "start_time": "2022-02-20T07:24:27.110Z"
   },
   {
    "duration": 21,
    "start_time": "2022-02-20T07:24:27.513Z"
   },
   {
    "duration": 86,
    "start_time": "2022-02-20T07:24:27.536Z"
   },
   {
    "duration": 7,
    "start_time": "2022-02-20T07:24:27.625Z"
   },
   {
    "duration": 26,
    "start_time": "2022-02-20T07:24:27.635Z"
   },
   {
    "duration": 451,
    "start_time": "2022-02-20T07:24:27.664Z"
   },
   {
    "duration": 445,
    "start_time": "2022-02-20T07:24:28.118Z"
   },
   {
    "duration": 428,
    "start_time": "2022-02-20T07:24:28.566Z"
   },
   {
    "duration": 2786,
    "start_time": "2022-02-20T07:24:28.997Z"
   },
   {
    "duration": 94,
    "start_time": "2022-02-20T07:29:41.023Z"
   },
   {
    "duration": 108,
    "start_time": "2022-02-20T07:29:49.194Z"
   },
   {
    "duration": 425,
    "start_time": "2022-02-20T07:30:07.970Z"
   },
   {
    "duration": 399,
    "start_time": "2022-02-20T07:36:05.227Z"
   },
   {
    "duration": 342,
    "start_time": "2022-02-20T07:39:09.273Z"
   },
   {
    "duration": 327,
    "start_time": "2022-02-20T07:40:19.194Z"
   },
   {
    "duration": 293,
    "start_time": "2022-02-20T07:45:05.141Z"
   },
   {
    "duration": 328,
    "start_time": "2022-02-20T07:45:15.089Z"
   },
   {
    "duration": 2445,
    "start_time": "2022-02-20T07:45:45.076Z"
   },
   {
    "duration": 331,
    "start_time": "2022-02-20T07:47:57.419Z"
   },
   {
    "duration": 8,
    "start_time": "2022-02-20T07:48:17.184Z"
   },
   {
    "duration": 11,
    "start_time": "2022-02-20T07:49:47.223Z"
   },
   {
    "duration": 1963,
    "start_time": "2022-02-20T07:51:46.735Z"
   },
   {
    "duration": 2162,
    "start_time": "2022-02-20T07:53:19.166Z"
   },
   {
    "duration": 6,
    "start_time": "2022-02-20T08:00:45.309Z"
   },
   {
    "duration": 316,
    "start_time": "2022-02-20T08:01:42.956Z"
   },
   {
    "duration": 32,
    "start_time": "2022-02-20T08:02:13.347Z"
   },
   {
    "duration": 25,
    "start_time": "2022-02-20T08:05:27.730Z"
   },
   {
    "duration": 302,
    "start_time": "2022-02-20T08:07:55.343Z"
   },
   {
    "duration": 1243,
    "start_time": "2022-02-20T08:08:17.554Z"
   },
   {
    "duration": 23697,
    "start_time": "2022-02-20T08:09:02.264Z"
   },
   {
    "duration": 54392,
    "start_time": "2022-02-20T08:09:28.125Z"
   },
   {
    "duration": 1446,
    "start_time": "2022-02-20T08:12:25.845Z"
   },
   {
    "duration": 1667,
    "start_time": "2022-02-20T08:12:47.279Z"
   },
   {
    "duration": 11812,
    "start_time": "2022-02-20T08:13:32.521Z"
   },
   {
    "duration": 324,
    "start_time": "2022-02-20T08:14:42.087Z"
   },
   {
    "duration": 301,
    "start_time": "2022-02-20T08:15:24.919Z"
   },
   {
    "duration": 310,
    "start_time": "2022-02-20T08:15:50.408Z"
   },
   {
    "duration": 2695,
    "start_time": "2022-02-20T08:16:56.305Z"
   },
   {
    "duration": 287,
    "start_time": "2022-02-20T08:17:15.811Z"
   },
   {
    "duration": 10423,
    "start_time": "2022-02-20T08:17:58.487Z"
   },
   {
    "duration": 12,
    "start_time": "2022-02-20T08:19:10.452Z"
   },
   {
    "duration": 2383,
    "start_time": "2022-02-20T08:19:13.324Z"
   },
   {
    "duration": 3084,
    "start_time": "2022-02-20T08:19:15.710Z"
   },
   {
    "duration": 2286,
    "start_time": "2022-02-20T08:19:18.798Z"
   },
   {
    "duration": 298,
    "start_time": "2022-02-20T08:19:21.087Z"
   },
   {
    "duration": 319,
    "start_time": "2022-02-20T08:19:21.387Z"
   },
   {
    "duration": 6,
    "start_time": "2022-02-20T08:25:21.592Z"
   },
   {
    "duration": 8,
    "start_time": "2022-02-20T08:27:59.210Z"
   },
   {
    "duration": 7,
    "start_time": "2022-02-20T08:28:43.823Z"
   },
   {
    "duration": 30,
    "start_time": "2022-02-20T08:29:18.469Z"
   },
   {
    "duration": 8,
    "start_time": "2022-02-20T08:32:49.079Z"
   },
   {
    "duration": 7,
    "start_time": "2022-02-20T08:33:43.579Z"
   },
   {
    "duration": 6,
    "start_time": "2022-02-20T08:34:29.478Z"
   },
   {
    "duration": 117,
    "start_time": "2022-02-20T08:43:41.038Z"
   },
   {
    "duration": 321,
    "start_time": "2022-02-20T08:43:50.531Z"
   },
   {
    "duration": 21,
    "start_time": "2022-02-20T08:56:33.150Z"
   },
   {
    "duration": 20,
    "start_time": "2022-02-20T08:56:55.804Z"
   },
   {
    "duration": 33,
    "start_time": "2022-02-20T08:57:47.251Z"
   },
   {
    "duration": 46,
    "start_time": "2022-02-20T08:58:35.917Z"
   },
   {
    "duration": 44,
    "start_time": "2022-02-20T08:59:02.251Z"
   },
   {
    "duration": 312,
    "start_time": "2022-02-20T08:59:47.348Z"
   },
   {
    "duration": 7,
    "start_time": "2022-02-20T09:01:12.218Z"
   },
   {
    "duration": 10,
    "start_time": "2022-02-20T09:02:08.758Z"
   },
   {
    "duration": 7,
    "start_time": "2022-02-20T09:04:03.461Z"
   },
   {
    "duration": 9,
    "start_time": "2022-02-20T09:05:00.266Z"
   },
   {
    "duration": 9,
    "start_time": "2022-02-20T09:05:23.398Z"
   },
   {
    "duration": 8,
    "start_time": "2022-02-20T09:07:20.956Z"
   },
   {
    "duration": 7,
    "start_time": "2022-02-20T09:08:39.815Z"
   },
   {
    "duration": 13,
    "start_time": "2022-02-20T09:09:41.064Z"
   },
   {
    "duration": 22,
    "start_time": "2022-02-20T09:10:25.346Z"
   },
   {
    "duration": 12,
    "start_time": "2022-02-20T09:10:41.310Z"
   },
   {
    "duration": 9,
    "start_time": "2022-02-20T09:11:28.540Z"
   },
   {
    "duration": 319,
    "start_time": "2022-02-20T09:16:11.806Z"
   },
   {
    "duration": 313,
    "start_time": "2022-02-20T16:36:46.486Z"
   },
   {
    "duration": 1203,
    "start_time": "2022-02-20T16:37:06.275Z"
   },
   {
    "duration": 359,
    "start_time": "2022-02-20T16:37:07.480Z"
   },
   {
    "duration": 13,
    "start_time": "2022-02-20T16:37:07.841Z"
   },
   {
    "duration": 14,
    "start_time": "2022-02-20T16:37:07.856Z"
   },
   {
    "duration": 9,
    "start_time": "2022-02-20T16:37:07.872Z"
   },
   {
    "duration": 12,
    "start_time": "2022-02-20T16:37:07.882Z"
   },
   {
    "duration": 13,
    "start_time": "2022-02-20T16:37:07.896Z"
   },
   {
    "duration": 10,
    "start_time": "2022-02-20T16:37:07.912Z"
   },
   {
    "duration": 50,
    "start_time": "2022-02-20T16:37:07.924Z"
   },
   {
    "duration": 11,
    "start_time": "2022-02-20T16:37:07.976Z"
   },
   {
    "duration": 15,
    "start_time": "2022-02-20T16:37:07.989Z"
   },
   {
    "duration": 23,
    "start_time": "2022-02-20T16:37:08.006Z"
   },
   {
    "duration": 12,
    "start_time": "2022-02-20T16:37:08.031Z"
   },
   {
    "duration": 27,
    "start_time": "2022-02-20T16:37:08.045Z"
   },
   {
    "duration": 6,
    "start_time": "2022-02-20T16:37:08.074Z"
   },
   {
    "duration": 9,
    "start_time": "2022-02-20T16:37:08.082Z"
   },
   {
    "duration": 14,
    "start_time": "2022-02-20T16:37:08.093Z"
   },
   {
    "duration": 6,
    "start_time": "2022-02-20T16:37:08.109Z"
   },
   {
    "duration": 8,
    "start_time": "2022-02-20T16:37:08.117Z"
   },
   {
    "duration": 9,
    "start_time": "2022-02-20T16:37:08.127Z"
   },
   {
    "duration": 34,
    "start_time": "2022-02-20T16:37:08.138Z"
   },
   {
    "duration": 5,
    "start_time": "2022-02-20T16:37:08.174Z"
   },
   {
    "duration": 15,
    "start_time": "2022-02-20T16:37:08.183Z"
   },
   {
    "duration": 6,
    "start_time": "2022-02-20T16:37:08.200Z"
   },
   {
    "duration": 8,
    "start_time": "2022-02-20T16:37:08.208Z"
   },
   {
    "duration": 7,
    "start_time": "2022-02-20T16:37:08.218Z"
   },
   {
    "duration": 8,
    "start_time": "2022-02-20T16:37:08.227Z"
   },
   {
    "duration": 34,
    "start_time": "2022-02-20T16:37:08.237Z"
   },
   {
    "duration": 24,
    "start_time": "2022-02-20T16:37:08.273Z"
   },
   {
    "duration": 26,
    "start_time": "2022-02-20T16:37:08.300Z"
   },
   {
    "duration": 48,
    "start_time": "2022-02-20T16:37:08.328Z"
   },
   {
    "duration": 12,
    "start_time": "2022-02-20T16:37:08.378Z"
   },
   {
    "duration": 12,
    "start_time": "2022-02-20T16:37:08.393Z"
   },
   {
    "duration": 12,
    "start_time": "2022-02-20T16:37:08.407Z"
   },
   {
    "duration": 13,
    "start_time": "2022-02-20T16:37:08.420Z"
   },
   {
    "duration": 38,
    "start_time": "2022-02-20T16:37:08.434Z"
   },
   {
    "duration": 6,
    "start_time": "2022-02-20T16:37:08.474Z"
   },
   {
    "duration": 20,
    "start_time": "2022-02-20T16:37:08.481Z"
   },
   {
    "duration": 90,
    "start_time": "2022-02-20T16:37:08.503Z"
   },
   {
    "duration": 13,
    "start_time": "2022-02-20T16:37:08.595Z"
   },
   {
    "duration": 12,
    "start_time": "2022-02-20T16:37:08.610Z"
   },
   {
    "duration": 17,
    "start_time": "2022-02-20T16:37:08.624Z"
   },
   {
    "duration": 34,
    "start_time": "2022-02-20T16:37:08.643Z"
   },
   {
    "duration": 7,
    "start_time": "2022-02-20T16:37:08.678Z"
   },
   {
    "duration": 14,
    "start_time": "2022-02-20T16:37:08.687Z"
   },
   {
    "duration": 15,
    "start_time": "2022-02-20T16:37:08.703Z"
   },
   {
    "duration": 10,
    "start_time": "2022-02-20T16:37:08.720Z"
   },
   {
    "duration": 38,
    "start_time": "2022-02-20T16:37:08.732Z"
   },
   {
    "duration": 5,
    "start_time": "2022-02-20T16:37:08.772Z"
   },
   {
    "duration": 13,
    "start_time": "2022-02-20T16:37:08.779Z"
   },
   {
    "duration": 9,
    "start_time": "2022-02-20T16:37:08.794Z"
   },
   {
    "duration": 21,
    "start_time": "2022-02-20T16:37:08.804Z"
   },
   {
    "duration": 57,
    "start_time": "2022-02-20T16:37:08.827Z"
   },
   {
    "duration": 55,
    "start_time": "2022-02-20T16:37:08.886Z"
   },
   {
    "duration": 28,
    "start_time": "2022-02-20T16:37:08.943Z"
   },
   {
    "duration": 5,
    "start_time": "2022-02-20T16:37:08.973Z"
   },
   {
    "duration": 11,
    "start_time": "2022-02-20T16:37:08.980Z"
   },
   {
    "duration": 21,
    "start_time": "2022-02-20T16:37:08.992Z"
   },
   {
    "duration": 11,
    "start_time": "2022-02-20T16:37:09.015Z"
   },
   {
    "duration": 52,
    "start_time": "2022-02-20T16:37:09.028Z"
   },
   {
    "duration": 15,
    "start_time": "2022-02-20T16:37:09.082Z"
   },
   {
    "duration": 4,
    "start_time": "2022-02-20T16:37:09.099Z"
   },
   {
    "duration": 5,
    "start_time": "2022-02-20T16:37:09.105Z"
   },
   {
    "duration": 16,
    "start_time": "2022-02-20T16:37:09.112Z"
   },
   {
    "duration": 40,
    "start_time": "2022-02-20T16:37:09.130Z"
   },
   {
    "duration": 12,
    "start_time": "2022-02-20T16:37:09.172Z"
   },
   {
    "duration": 34,
    "start_time": "2022-02-20T16:37:09.185Z"
   },
   {
    "duration": 8,
    "start_time": "2022-02-20T16:37:09.225Z"
   },
   {
    "duration": 39,
    "start_time": "2022-02-20T16:37:09.236Z"
   },
   {
    "duration": 21,
    "start_time": "2022-02-20T16:37:09.277Z"
   },
   {
    "duration": 3,
    "start_time": "2022-02-20T16:37:09.300Z"
   },
   {
    "duration": 15,
    "start_time": "2022-02-20T16:37:09.304Z"
   },
   {
    "duration": 14,
    "start_time": "2022-02-20T16:37:09.321Z"
   },
   {
    "duration": 36,
    "start_time": "2022-02-20T16:37:09.337Z"
   },
   {
    "duration": 6,
    "start_time": "2022-02-20T16:37:09.375Z"
   },
   {
    "duration": 15,
    "start_time": "2022-02-20T16:37:09.383Z"
   },
   {
    "duration": 12,
    "start_time": "2022-02-20T16:37:09.400Z"
   },
   {
    "duration": 10,
    "start_time": "2022-02-20T16:37:09.414Z"
   },
   {
    "duration": 5,
    "start_time": "2022-02-20T16:37:09.426Z"
   },
   {
    "duration": 37,
    "start_time": "2022-02-20T16:37:09.433Z"
   },
   {
    "duration": 18,
    "start_time": "2022-02-20T16:37:09.472Z"
   },
   {
    "duration": 11,
    "start_time": "2022-02-20T16:37:09.492Z"
   },
   {
    "duration": 21,
    "start_time": "2022-02-20T16:37:09.504Z"
   },
   {
    "duration": 8,
    "start_time": "2022-02-20T16:37:09.527Z"
   },
   {
    "duration": 4,
    "start_time": "2022-02-20T16:37:09.570Z"
   },
   {
    "duration": 10,
    "start_time": "2022-02-20T16:37:09.576Z"
   },
   {
    "duration": 9,
    "start_time": "2022-02-20T16:37:09.588Z"
   },
   {
    "duration": 8,
    "start_time": "2022-02-20T16:37:09.599Z"
   },
   {
    "duration": 9,
    "start_time": "2022-02-20T16:37:09.609Z"
   },
   {
    "duration": 29,
    "start_time": "2022-02-20T16:37:09.620Z"
   },
   {
    "duration": 18,
    "start_time": "2022-02-20T16:37:09.651Z"
   },
   {
    "duration": 17,
    "start_time": "2022-02-20T16:37:09.671Z"
   },
   {
    "duration": 27,
    "start_time": "2022-02-20T16:37:09.690Z"
   },
   {
    "duration": 14,
    "start_time": "2022-02-20T16:37:09.719Z"
   },
   {
    "duration": 6,
    "start_time": "2022-02-20T16:37:09.735Z"
   },
   {
    "duration": 259,
    "start_time": "2022-02-20T16:37:09.743Z"
   },
   {
    "duration": 17,
    "start_time": "2022-02-20T16:37:10.004Z"
   },
   {
    "duration": 27,
    "start_time": "2022-02-20T16:37:10.022Z"
   },
   {
    "duration": 68,
    "start_time": "2022-02-20T16:37:10.051Z"
   },
   {
    "duration": 321,
    "start_time": "2022-02-20T16:37:10.121Z"
   },
   {
    "duration": 312,
    "start_time": "2022-02-20T16:37:10.444Z"
   },
   {
    "duration": 311,
    "start_time": "2022-02-20T16:37:10.758Z"
   },
   {
    "duration": 10,
    "start_time": "2022-02-20T16:37:11.071Z"
   },
   {
    "duration": 7,
    "start_time": "2022-02-20T16:37:11.083Z"
   },
   {
    "duration": 1654,
    "start_time": "2022-02-20T16:37:11.092Z"
   },
   {
    "duration": 1585,
    "start_time": "2022-02-20T16:37:12.748Z"
   },
   {
    "duration": 1613,
    "start_time": "2022-02-20T16:37:14.335Z"
   },
   {
    "duration": 212,
    "start_time": "2022-02-20T16:37:15.949Z"
   },
   {
    "duration": 224,
    "start_time": "2022-02-20T16:37:16.163Z"
   },
   {
    "duration": 5,
    "start_time": "2022-02-20T16:37:16.389Z"
   },
   {
    "duration": 20,
    "start_time": "2022-02-20T16:37:16.396Z"
   },
   {
    "duration": 11,
    "start_time": "2022-02-20T16:37:16.418Z"
   },
   {
    "duration": 9,
    "start_time": "2022-02-20T16:37:16.431Z"
   },
   {
    "duration": 32,
    "start_time": "2022-02-20T16:37:16.442Z"
   },
   {
    "duration": 79,
    "start_time": "2022-02-20T16:37:16.476Z"
   },
   {
    "duration": 8,
    "start_time": "2022-02-20T16:38:20.687Z"
   },
   {
    "duration": 8,
    "start_time": "2022-02-20T16:38:27.089Z"
   },
   {
    "duration": 6,
    "start_time": "2022-02-20T16:38:46.911Z"
   },
   {
    "duration": 5,
    "start_time": "2022-02-20T16:38:52.723Z"
   },
   {
    "duration": 6,
    "start_time": "2022-02-20T16:39:23.936Z"
   },
   {
    "duration": 5,
    "start_time": "2022-02-20T16:39:48.055Z"
   },
   {
    "duration": 6,
    "start_time": "2022-02-20T16:41:12.604Z"
   },
   {
    "duration": 319,
    "start_time": "2022-02-20T16:43:15.999Z"
   },
   {
    "duration": 264,
    "start_time": "2022-02-20T16:43:54.757Z"
   },
   {
    "duration": 8,
    "start_time": "2022-02-20T16:44:42.667Z"
   },
   {
    "duration": 7,
    "start_time": "2022-02-20T16:45:44.349Z"
   },
   {
    "duration": 5,
    "start_time": "2022-02-20T16:45:52.056Z"
   },
   {
    "duration": 7,
    "start_time": "2022-02-20T16:51:42.469Z"
   },
   {
    "duration": 10,
    "start_time": "2022-02-20T16:52:10.569Z"
   },
   {
    "duration": 6,
    "start_time": "2022-02-20T16:55:08.385Z"
   },
   {
    "duration": 6,
    "start_time": "2022-02-20T16:55:21.127Z"
   },
   {
    "duration": 4,
    "start_time": "2022-02-20T16:56:57.817Z"
   },
   {
    "duration": 4,
    "start_time": "2022-02-20T16:57:04.990Z"
   },
   {
    "duration": 5,
    "start_time": "2022-02-20T16:57:07.282Z"
   },
   {
    "duration": 6,
    "start_time": "2022-02-20T16:57:14.405Z"
   },
   {
    "duration": 5,
    "start_time": "2022-02-20T17:43:46.903Z"
   },
   {
    "duration": 6,
    "start_time": "2022-02-20T17:44:11.037Z"
   },
   {
    "duration": 6,
    "start_time": "2022-02-20T18:11:34.763Z"
   },
   {
    "duration": 1516,
    "start_time": "2022-02-20T23:39:11.849Z"
   },
   {
    "duration": 1523,
    "start_time": "2022-02-20T23:39:13.367Z"
   },
   {
    "duration": 11,
    "start_time": "2022-02-20T23:39:14.892Z"
   },
   {
    "duration": 7,
    "start_time": "2022-02-20T23:39:14.905Z"
   },
   {
    "duration": 6,
    "start_time": "2022-02-20T23:39:14.913Z"
   },
   {
    "duration": 12,
    "start_time": "2022-02-20T23:39:14.920Z"
   },
   {
    "duration": 7,
    "start_time": "2022-02-20T23:39:14.934Z"
   },
   {
    "duration": 10,
    "start_time": "2022-02-20T23:39:14.942Z"
   },
   {
    "duration": 22,
    "start_time": "2022-02-20T23:39:14.954Z"
   },
   {
    "duration": 8,
    "start_time": "2022-02-20T23:39:14.977Z"
   },
   {
    "duration": 10,
    "start_time": "2022-02-20T23:39:14.987Z"
   },
   {
    "duration": 45,
    "start_time": "2022-02-20T23:39:14.998Z"
   },
   {
    "duration": 10,
    "start_time": "2022-02-20T23:39:15.045Z"
   },
   {
    "duration": 7,
    "start_time": "2022-02-20T23:39:15.057Z"
   },
   {
    "duration": 11,
    "start_time": "2022-02-20T23:39:15.065Z"
   },
   {
    "duration": 13,
    "start_time": "2022-02-20T23:39:15.078Z"
   },
   {
    "duration": 15,
    "start_time": "2022-02-20T23:39:15.092Z"
   },
   {
    "duration": 24,
    "start_time": "2022-02-20T23:39:15.108Z"
   },
   {
    "duration": 10,
    "start_time": "2022-02-20T23:39:15.133Z"
   },
   {
    "duration": 15,
    "start_time": "2022-02-20T23:39:15.145Z"
   },
   {
    "duration": 15,
    "start_time": "2022-02-20T23:39:15.161Z"
   },
   {
    "duration": 8,
    "start_time": "2022-02-20T23:39:15.177Z"
   },
   {
    "duration": 9,
    "start_time": "2022-02-20T23:39:15.187Z"
   },
   {
    "duration": 10,
    "start_time": "2022-02-20T23:39:15.198Z"
   },
   {
    "duration": 13,
    "start_time": "2022-02-20T23:39:15.210Z"
   },
   {
    "duration": 11,
    "start_time": "2022-02-20T23:39:15.225Z"
   },
   {
    "duration": 6,
    "start_time": "2022-02-20T23:39:15.241Z"
   },
   {
    "duration": 10,
    "start_time": "2022-02-20T23:39:15.250Z"
   },
   {
    "duration": 25,
    "start_time": "2022-02-20T23:39:15.261Z"
   },
   {
    "duration": 20,
    "start_time": "2022-02-20T23:39:15.288Z"
   },
   {
    "duration": 32,
    "start_time": "2022-02-20T23:39:15.309Z"
   },
   {
    "duration": 15,
    "start_time": "2022-02-20T23:39:15.342Z"
   },
   {
    "duration": 9,
    "start_time": "2022-02-20T23:39:15.359Z"
   },
   {
    "duration": 9,
    "start_time": "2022-02-20T23:39:15.369Z"
   },
   {
    "duration": 11,
    "start_time": "2022-02-20T23:39:15.380Z"
   },
   {
    "duration": 11,
    "start_time": "2022-02-20T23:39:15.392Z"
   },
   {
    "duration": 30,
    "start_time": "2022-02-20T23:39:15.404Z"
   },
   {
    "duration": 15,
    "start_time": "2022-02-20T23:39:15.436Z"
   },
   {
    "duration": 58,
    "start_time": "2022-02-20T23:39:15.453Z"
   },
   {
    "duration": 21,
    "start_time": "2022-02-20T23:39:15.512Z"
   },
   {
    "duration": 14,
    "start_time": "2022-02-20T23:39:15.534Z"
   },
   {
    "duration": 11,
    "start_time": "2022-02-20T23:39:15.549Z"
   },
   {
    "duration": 6,
    "start_time": "2022-02-20T23:39:15.561Z"
   },
   {
    "duration": 6,
    "start_time": "2022-02-20T23:39:15.568Z"
   },
   {
    "duration": 17,
    "start_time": "2022-02-20T23:39:15.576Z"
   },
   {
    "duration": 38,
    "start_time": "2022-02-20T23:39:15.594Z"
   },
   {
    "duration": 11,
    "start_time": "2022-02-20T23:39:15.633Z"
   },
   {
    "duration": 4,
    "start_time": "2022-02-20T23:39:15.645Z"
   },
   {
    "duration": 8,
    "start_time": "2022-02-20T23:39:15.650Z"
   },
   {
    "duration": 14,
    "start_time": "2022-02-20T23:39:15.660Z"
   },
   {
    "duration": 7,
    "start_time": "2022-02-20T23:39:15.675Z"
   },
   {
    "duration": 20,
    "start_time": "2022-02-20T23:39:15.684Z"
   },
   {
    "duration": 38,
    "start_time": "2022-02-20T23:39:15.705Z"
   },
   {
    "duration": 34,
    "start_time": "2022-02-20T23:39:15.745Z"
   },
   {
    "duration": 13,
    "start_time": "2022-02-20T23:39:15.780Z"
   },
   {
    "duration": 5,
    "start_time": "2022-02-20T23:39:15.794Z"
   },
   {
    "duration": 9,
    "start_time": "2022-02-20T23:39:15.800Z"
   },
   {
    "duration": 15,
    "start_time": "2022-02-20T23:39:15.832Z"
   },
   {
    "duration": 12,
    "start_time": "2022-02-20T23:39:15.848Z"
   },
   {
    "duration": 12,
    "start_time": "2022-02-20T23:39:15.862Z"
   },
   {
    "duration": 11,
    "start_time": "2022-02-20T23:39:15.876Z"
   },
   {
    "duration": 4,
    "start_time": "2022-02-20T23:39:15.889Z"
   },
   {
    "duration": 8,
    "start_time": "2022-02-20T23:39:15.894Z"
   },
   {
    "duration": 11,
    "start_time": "2022-02-20T23:39:15.932Z"
   },
   {
    "duration": 8,
    "start_time": "2022-02-20T23:39:15.945Z"
   },
   {
    "duration": 11,
    "start_time": "2022-02-20T23:39:15.954Z"
   },
   {
    "duration": 28,
    "start_time": "2022-02-20T23:39:15.966Z"
   },
   {
    "duration": 6,
    "start_time": "2022-02-20T23:39:15.996Z"
   },
   {
    "duration": 30,
    "start_time": "2022-02-20T23:39:16.003Z"
   },
   {
    "duration": 18,
    "start_time": "2022-02-20T23:39:16.034Z"
   },
   {
    "duration": 2,
    "start_time": "2022-02-20T23:39:16.054Z"
   },
   {
    "duration": 9,
    "start_time": "2022-02-20T23:39:16.058Z"
   },
   {
    "duration": 17,
    "start_time": "2022-02-20T23:39:16.069Z"
   },
   {
    "duration": 12,
    "start_time": "2022-02-20T23:39:16.087Z"
   },
   {
    "duration": 4,
    "start_time": "2022-02-20T23:39:16.101Z"
   },
   {
    "duration": 89,
    "start_time": "2022-02-20T23:39:16.106Z"
   },
   {
    "duration": 7,
    "start_time": "2022-02-20T23:39:16.197Z"
   },
   {
    "duration": 10,
    "start_time": "2022-02-20T23:39:16.206Z"
   },
   {
    "duration": 7,
    "start_time": "2022-02-20T23:39:16.217Z"
   },
   {
    "duration": 14,
    "start_time": "2022-02-20T23:39:16.225Z"
   },
   {
    "duration": 11,
    "start_time": "2022-02-20T23:39:16.244Z"
   },
   {
    "duration": 7,
    "start_time": "2022-02-20T23:39:16.257Z"
   },
   {
    "duration": 22,
    "start_time": "2022-02-20T23:39:16.266Z"
   },
   {
    "duration": 7,
    "start_time": "2022-02-20T23:39:16.289Z"
   },
   {
    "duration": 8,
    "start_time": "2022-02-20T23:39:16.297Z"
   },
   {
    "duration": 12,
    "start_time": "2022-02-20T23:39:16.306Z"
   },
   {
    "duration": 13,
    "start_time": "2022-02-20T23:39:16.319Z"
   },
   {
    "duration": 11,
    "start_time": "2022-02-20T23:39:16.333Z"
   },
   {
    "duration": 10,
    "start_time": "2022-02-20T23:39:16.346Z"
   },
   {
    "duration": 11,
    "start_time": "2022-02-20T23:39:16.358Z"
   },
   {
    "duration": 9,
    "start_time": "2022-02-20T23:39:16.371Z"
   },
   {
    "duration": 13,
    "start_time": "2022-02-20T23:39:16.381Z"
   },
   {
    "duration": 10,
    "start_time": "2022-02-20T23:39:16.396Z"
   },
   {
    "duration": 16,
    "start_time": "2022-02-20T23:39:16.407Z"
   },
   {
    "duration": 9,
    "start_time": "2022-02-20T23:39:16.424Z"
   },
   {
    "duration": 121,
    "start_time": "2022-02-20T23:39:16.434Z"
   },
   {
    "duration": 12,
    "start_time": "2022-02-20T23:39:16.557Z"
   },
   {
    "duration": 15,
    "start_time": "2022-02-20T23:39:16.570Z"
   },
   {
    "duration": 52,
    "start_time": "2022-02-20T23:39:16.586Z"
   },
   {
    "duration": 744,
    "start_time": "2022-02-20T23:39:16.640Z"
   },
   {
    "duration": 293,
    "start_time": "2022-02-20T23:39:17.386Z"
   },
   {
    "duration": 315,
    "start_time": "2022-02-20T23:39:17.680Z"
   },
   {
    "duration": 7,
    "start_time": "2022-02-20T23:39:17.997Z"
   },
   {
    "duration": 5,
    "start_time": "2022-02-20T23:39:18.006Z"
   },
   {
    "duration": 1625,
    "start_time": "2022-02-20T23:39:18.013Z"
   },
   {
    "duration": 1712,
    "start_time": "2022-02-20T23:39:19.640Z"
   },
   {
    "duration": 1811,
    "start_time": "2022-02-20T23:39:21.354Z"
   },
   {
    "duration": 278,
    "start_time": "2022-02-20T23:39:23.167Z"
   },
   {
    "duration": 228,
    "start_time": "2022-02-20T23:39:23.446Z"
   },
   {
    "duration": 5,
    "start_time": "2022-02-20T23:39:23.676Z"
   },
   {
    "duration": 8,
    "start_time": "2022-02-20T23:39:23.683Z"
   },
   {
    "duration": 11,
    "start_time": "2022-02-20T23:39:23.692Z"
   },
   {
    "duration": 30,
    "start_time": "2022-02-20T23:39:23.705Z"
   },
   {
    "duration": 4,
    "start_time": "2022-02-20T23:39:23.736Z"
   },
   {
    "duration": 6,
    "start_time": "2022-02-20T23:39:23.742Z"
   },
   {
    "duration": 3,
    "start_time": "2022-02-20T23:39:23.750Z"
   },
   {
    "duration": 11,
    "start_time": "2022-02-20T23:39:23.755Z"
   },
   {
    "duration": 8,
    "start_time": "2022-02-20T23:39:23.767Z"
   },
   {
    "duration": 19,
    "start_time": "2022-02-20T23:54:31.335Z"
   },
   {
    "duration": 19,
    "start_time": "2022-02-21T00:00:16.186Z"
   },
   {
    "duration": 626,
    "start_time": "2022-02-21T00:00:35.667Z"
   },
   {
    "duration": 8,
    "start_time": "2022-02-21T00:00:55.509Z"
   },
   {
    "duration": 525,
    "start_time": "2022-02-21T12:33:19.748Z"
   },
   {
    "duration": 1567,
    "start_time": "2022-02-21T12:33:29.541Z"
   },
   {
    "duration": 372,
    "start_time": "2022-02-21T12:33:31.111Z"
   },
   {
    "duration": 21,
    "start_time": "2022-02-21T12:33:31.487Z"
   },
   {
    "duration": 16,
    "start_time": "2022-02-21T12:33:31.512Z"
   },
   {
    "duration": 38,
    "start_time": "2022-02-21T12:33:31.531Z"
   },
   {
    "duration": 14,
    "start_time": "2022-02-21T12:33:31.571Z"
   },
   {
    "duration": 28,
    "start_time": "2022-02-21T12:33:31.588Z"
   },
   {
    "duration": 16,
    "start_time": "2022-02-21T12:33:31.621Z"
   },
   {
    "duration": 42,
    "start_time": "2022-02-21T12:33:31.661Z"
   },
   {
    "duration": 16,
    "start_time": "2022-02-21T12:33:31.705Z"
   },
   {
    "duration": 38,
    "start_time": "2022-02-21T12:33:31.724Z"
   },
   {
    "duration": 23,
    "start_time": "2022-02-21T12:33:31.765Z"
   },
   {
    "duration": 7,
    "start_time": "2022-02-21T12:33:31.791Z"
   },
   {
    "duration": 16,
    "start_time": "2022-02-21T12:33:31.801Z"
   },
   {
    "duration": 42,
    "start_time": "2022-02-21T12:33:31.819Z"
   },
   {
    "duration": 14,
    "start_time": "2022-02-21T12:33:31.864Z"
   },
   {
    "duration": 31,
    "start_time": "2022-02-21T12:33:31.881Z"
   },
   {
    "duration": 8,
    "start_time": "2022-02-21T12:33:31.915Z"
   },
   {
    "duration": 41,
    "start_time": "2022-02-21T12:33:31.925Z"
   },
   {
    "duration": 15,
    "start_time": "2022-02-21T12:33:31.969Z"
   },
   {
    "duration": 14,
    "start_time": "2022-02-21T12:33:31.987Z"
   },
   {
    "duration": 9,
    "start_time": "2022-02-21T12:33:32.003Z"
   },
   {
    "duration": 43,
    "start_time": "2022-02-21T12:33:32.018Z"
   },
   {
    "duration": 5,
    "start_time": "2022-02-21T12:33:32.065Z"
   },
   {
    "duration": 12,
    "start_time": "2022-02-21T12:33:32.072Z"
   },
   {
    "duration": 9,
    "start_time": "2022-02-21T12:33:32.087Z"
   },
   {
    "duration": 10,
    "start_time": "2022-02-21T12:33:32.099Z"
   },
   {
    "duration": 55,
    "start_time": "2022-02-21T12:33:32.112Z"
   },
   {
    "duration": 22,
    "start_time": "2022-02-21T12:33:32.169Z"
   },
   {
    "duration": 77,
    "start_time": "2022-02-21T12:33:32.194Z"
   },
   {
    "duration": 30,
    "start_time": "2022-02-21T12:33:32.274Z"
   },
   {
    "duration": 16,
    "start_time": "2022-02-21T12:33:32.306Z"
   },
   {
    "duration": 45,
    "start_time": "2022-02-21T12:33:32.325Z"
   },
   {
    "duration": 27,
    "start_time": "2022-02-21T12:33:32.372Z"
   },
   {
    "duration": 27,
    "start_time": "2022-02-21T12:33:32.402Z"
   },
   {
    "duration": 30,
    "start_time": "2022-02-21T12:33:32.432Z"
   },
   {
    "duration": 7,
    "start_time": "2022-02-21T12:33:32.465Z"
   },
   {
    "duration": 41,
    "start_time": "2022-02-21T12:33:32.475Z"
   },
   {
    "duration": 118,
    "start_time": "2022-02-21T12:33:32.520Z"
   },
   {
    "duration": 24,
    "start_time": "2022-02-21T12:33:32.640Z"
   },
   {
    "duration": 30,
    "start_time": "2022-02-21T12:33:32.667Z"
   },
   {
    "duration": 31,
    "start_time": "2022-02-21T12:33:32.701Z"
   },
   {
    "duration": 36,
    "start_time": "2022-02-21T12:33:32.734Z"
   },
   {
    "duration": 9,
    "start_time": "2022-02-21T12:33:32.772Z"
   },
   {
    "duration": 20,
    "start_time": "2022-02-21T12:33:32.784Z"
   },
   {
    "duration": 22,
    "start_time": "2022-02-21T12:33:32.806Z"
   },
   {
    "duration": 42,
    "start_time": "2022-02-21T12:33:32.831Z"
   },
   {
    "duration": 12,
    "start_time": "2022-02-21T12:33:32.875Z"
   },
   {
    "duration": 16,
    "start_time": "2022-02-21T12:33:32.890Z"
   },
   {
    "duration": 17,
    "start_time": "2022-02-21T12:33:32.909Z"
   },
   {
    "duration": 37,
    "start_time": "2022-02-21T12:33:32.929Z"
   },
   {
    "duration": 25,
    "start_time": "2022-02-21T12:33:32.968Z"
   },
   {
    "duration": 28,
    "start_time": "2022-02-21T12:33:32.996Z"
   },
   {
    "duration": 89,
    "start_time": "2022-02-21T12:33:33.027Z"
   },
   {
    "duration": 43,
    "start_time": "2022-02-21T12:33:33.119Z"
   },
   {
    "duration": 10,
    "start_time": "2022-02-21T12:33:33.165Z"
   },
   {
    "duration": 18,
    "start_time": "2022-02-21T12:33:33.177Z"
   },
   {
    "duration": 27,
    "start_time": "2022-02-21T12:33:33.198Z"
   },
   {
    "duration": 40,
    "start_time": "2022-02-21T12:33:33.227Z"
   },
   {
    "duration": 30,
    "start_time": "2022-02-21T12:33:33.269Z"
   },
   {
    "duration": 20,
    "start_time": "2022-02-21T12:33:33.302Z"
   },
   {
    "duration": 7,
    "start_time": "2022-02-21T12:33:33.325Z"
   },
   {
    "duration": 8,
    "start_time": "2022-02-21T12:33:33.364Z"
   },
   {
    "duration": 23,
    "start_time": "2022-02-21T12:33:33.374Z"
   },
   {
    "duration": 13,
    "start_time": "2022-02-21T12:33:33.399Z"
   },
   {
    "duration": 48,
    "start_time": "2022-02-21T12:33:33.415Z"
   },
   {
    "duration": 35,
    "start_time": "2022-02-21T12:33:33.466Z"
   },
   {
    "duration": 10,
    "start_time": "2022-02-21T12:33:33.511Z"
   },
   {
    "duration": 40,
    "start_time": "2022-02-21T12:33:33.525Z"
   },
   {
    "duration": 36,
    "start_time": "2022-02-21T12:33:33.568Z"
   },
   {
    "duration": 5,
    "start_time": "2022-02-21T12:33:33.606Z"
   },
   {
    "duration": 12,
    "start_time": "2022-02-21T12:33:33.613Z"
   },
   {
    "duration": 35,
    "start_time": "2022-02-21T12:33:33.628Z"
   },
   {
    "duration": 16,
    "start_time": "2022-02-21T12:33:33.667Z"
   },
   {
    "duration": 7,
    "start_time": "2022-02-21T12:33:33.685Z"
   },
   {
    "duration": 17,
    "start_time": "2022-02-21T12:33:33.695Z"
   },
   {
    "duration": 52,
    "start_time": "2022-02-21T12:33:33.714Z"
   },
   {
    "duration": 12,
    "start_time": "2022-02-21T12:33:33.769Z"
   },
   {
    "duration": 7,
    "start_time": "2022-02-21T12:33:33.783Z"
   },
   {
    "duration": 12,
    "start_time": "2022-02-21T12:33:33.793Z"
   },
   {
    "duration": 66,
    "start_time": "2022-02-21T12:33:33.808Z"
   },
   {
    "duration": 14,
    "start_time": "2022-02-21T12:33:33.877Z"
   },
   {
    "duration": 28,
    "start_time": "2022-02-21T12:33:33.894Z"
   },
   {
    "duration": 40,
    "start_time": "2022-02-21T12:33:33.924Z"
   },
   {
    "duration": 10,
    "start_time": "2022-02-21T12:33:33.967Z"
   },
   {
    "duration": 14,
    "start_time": "2022-02-21T12:33:33.980Z"
   },
   {
    "duration": 14,
    "start_time": "2022-02-21T12:33:33.997Z"
   },
   {
    "duration": 47,
    "start_time": "2022-02-21T12:33:34.014Z"
   },
   {
    "duration": 13,
    "start_time": "2022-02-21T12:33:34.065Z"
   },
   {
    "duration": 19,
    "start_time": "2022-02-21T12:33:34.081Z"
   },
   {
    "duration": 6,
    "start_time": "2022-02-21T12:33:34.103Z"
   },
   {
    "duration": 49,
    "start_time": "2022-02-21T12:33:34.111Z"
   },
   {
    "duration": 10,
    "start_time": "2022-02-21T12:33:34.163Z"
   },
   {
    "duration": 23,
    "start_time": "2022-02-21T12:33:34.175Z"
   },
   {
    "duration": 8,
    "start_time": "2022-02-21T12:33:34.200Z"
   },
   {
    "duration": 395,
    "start_time": "2022-02-21T12:33:34.211Z"
   },
   {
    "duration": 23,
    "start_time": "2022-02-21T12:33:34.609Z"
   },
   {
    "duration": 47,
    "start_time": "2022-02-21T12:33:34.634Z"
   },
   {
    "duration": 88,
    "start_time": "2022-02-21T12:33:34.683Z"
   },
   {
    "duration": 451,
    "start_time": "2022-02-21T12:33:34.774Z"
   },
   {
    "duration": 419,
    "start_time": "2022-02-21T12:33:35.228Z"
   },
   {
    "duration": 434,
    "start_time": "2022-02-21T12:33:35.649Z"
   },
   {
    "duration": 11,
    "start_time": "2022-02-21T12:33:36.086Z"
   },
   {
    "duration": 10,
    "start_time": "2022-02-21T12:33:36.099Z"
   },
   {
    "duration": 2259,
    "start_time": "2022-02-21T12:33:36.111Z"
   },
   {
    "duration": 2164,
    "start_time": "2022-02-21T12:33:38.373Z"
   },
   {
    "duration": 2151,
    "start_time": "2022-02-21T12:33:40.540Z"
   },
   {
    "duration": 309,
    "start_time": "2022-02-21T12:33:42.694Z"
   },
   {
    "duration": 347,
    "start_time": "2022-02-21T12:33:43.006Z"
   },
   {
    "duration": 11,
    "start_time": "2022-02-21T12:33:43.356Z"
   },
   {
    "duration": 8,
    "start_time": "2022-02-21T12:33:43.369Z"
   },
   {
    "duration": 16,
    "start_time": "2022-02-21T12:33:43.380Z"
   },
   {
    "duration": 19,
    "start_time": "2022-02-21T12:33:43.398Z"
   },
   {
    "duration": 15,
    "start_time": "2022-02-21T12:33:43.420Z"
   },
   {
    "duration": 101,
    "start_time": "2022-02-21T12:33:43.437Z"
   },
   {
    "duration": 24,
    "start_time": "2022-02-21T12:33:43.540Z"
   },
   {
    "duration": 9,
    "start_time": "2022-02-21T12:33:43.567Z"
   },
   {
    "duration": 11,
    "start_time": "2022-02-21T12:33:43.579Z"
   },
   {
    "duration": 7,
    "start_time": "2022-02-21T12:33:43.593Z"
   },
   {
    "duration": 94,
    "start_time": "2022-02-21T12:35:49.500Z"
   },
   {
    "duration": 6,
    "start_time": "2022-02-21T12:36:04.365Z"
   },
   {
    "duration": 8,
    "start_time": "2022-02-21T12:36:24.991Z"
   },
   {
    "duration": 8,
    "start_time": "2022-02-21T12:39:06.634Z"
   },
   {
    "duration": 7,
    "start_time": "2022-02-21T12:39:55.044Z"
   },
   {
    "duration": 850,
    "start_time": "2022-02-21T17:27:01.958Z"
   },
   {
    "duration": 472,
    "start_time": "2022-02-21T17:35:57.965Z"
   },
   {
    "duration": 456,
    "start_time": "2022-02-21T17:36:41.231Z"
   },
   {
    "duration": 430,
    "start_time": "2022-02-21T17:37:57.515Z"
   },
   {
    "duration": 457,
    "start_time": "2022-02-21T17:39:27.998Z"
   },
   {
    "duration": 448,
    "start_time": "2022-02-21T17:40:49.599Z"
   },
   {
    "duration": 119,
    "start_time": "2022-02-21T17:43:06.816Z"
   },
   {
    "duration": 2384,
    "start_time": "2022-02-21T17:43:24.154Z"
   },
   {
    "duration": 2345,
    "start_time": "2022-02-21T17:43:59.772Z"
   },
   {
    "duration": 2576,
    "start_time": "2022-02-21T17:44:30.989Z"
   },
   {
    "duration": 333,
    "start_time": "2022-02-21T17:49:26.397Z"
   },
   {
    "duration": 451,
    "start_time": "2022-02-21T17:49:54.018Z"
   },
   {
    "duration": 436,
    "start_time": "2022-02-21T17:50:47.645Z"
   },
   {
    "duration": 2425,
    "start_time": "2022-02-21T17:55:43.008Z"
   },
   {
    "duration": 438,
    "start_time": "2022-02-21T17:57:18.360Z"
   },
   {
    "duration": 443,
    "start_time": "2022-02-21T17:58:13.769Z"
   },
   {
    "duration": 445,
    "start_time": "2022-02-21T17:58:59.826Z"
   },
   {
    "duration": 723,
    "start_time": "2022-02-21T17:59:10.041Z"
   },
   {
    "duration": 405,
    "start_time": "2022-02-21T17:59:38.479Z"
   },
   {
    "duration": 6,
    "start_time": "2022-02-21T18:07:19.678Z"
   },
   {
    "duration": 11,
    "start_time": "2022-02-21T18:07:23.019Z"
   },
   {
    "duration": 8,
    "start_time": "2022-02-21T18:07:34.146Z"
   },
   {
    "duration": 555,
    "start_time": "2022-02-21T18:12:07.853Z"
   },
   {
    "duration": 711,
    "start_time": "2022-02-21T18:12:52.950Z"
   },
   {
    "duration": 991,
    "start_time": "2022-02-21T18:13:21.692Z"
   },
   {
    "duration": 742,
    "start_time": "2022-02-21T18:14:26.643Z"
   },
   {
    "duration": 2244,
    "start_time": "2022-02-21T18:19:53.966Z"
   },
   {
    "duration": 742,
    "start_time": "2022-02-21T18:25:27.306Z"
   },
   {
    "duration": 732,
    "start_time": "2022-02-21T18:38:06.300Z"
   },
   {
    "duration": 776,
    "start_time": "2022-02-21T18:38:48.534Z"
   },
   {
    "duration": 474,
    "start_time": "2022-02-21T18:40:46.761Z"
   },
   {
    "duration": 446,
    "start_time": "2022-02-21T18:44:46.528Z"
   },
   {
    "duration": 441,
    "start_time": "2022-02-21T18:45:36.351Z"
   },
   {
    "duration": 2620,
    "start_time": "2022-02-21T18:56:21.354Z"
   },
   {
    "duration": 2598,
    "start_time": "2022-02-21T18:59:29.463Z"
   },
   {
    "duration": 2533,
    "start_time": "2022-02-21T19:00:10.551Z"
   }
  ],
  "kernelspec": {
   "display_name": "Python 3 (ipykernel)",
   "language": "python",
   "name": "python3"
  },
  "language_info": {
   "codemirror_mode": {
    "name": "ipython",
    "version": 3
   },
   "file_extension": ".py",
   "mimetype": "text/x-python",
   "name": "python",
   "nbconvert_exporter": "python",
   "pygments_lexer": "ipython3",
   "version": "3.9.7"
  },
  "toc": {
   "base_numbering": 1,
   "nav_menu": {},
   "number_sections": true,
   "sideBar": true,
   "skip_h1_title": true,
   "title_cell": "Table of Contents",
   "title_sidebar": "Contents",
   "toc_cell": false,
   "toc_position": {},
   "toc_section_display": true,
   "toc_window_display": true
  }
 },
 "nbformat": 4,
 "nbformat_minor": 2
}
